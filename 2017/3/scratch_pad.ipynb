{
 "cells": [
  {
   "cell_type": "code",
   "execution_count": 1,
   "metadata": {},
   "outputs": [],
   "source": [
    "import os\n",
    "import sys\n",
    "sys.path.append(os.path.realpath('../..'))\n",
    "import aoc\n",
    "my_aoc = aoc.AdventOfCode(2017,3)"
   ]
  },
  {
   "cell_type": "code",
   "execution_count": 2,
   "metadata": {},
   "outputs": [
    {
     "name": "stdout",
     "output_type": "stream",
     "text": [
      "outer ring is 5 x 5\n",
      "(5,5 holds 9)\n",
      "5 * 4 - 4 = 16\n",
      "9 - 7 = 2\n",
      "2 // 25 = 0\n",
      "7 is on side 0 at position 2\n"
     ]
    }
   ],
   "source": [
    "counter = 1\n",
    "total = 1\n",
    "target =  277678\n",
    "target=7\n",
    "while total < target:\n",
    "    counter += 2\n",
    "    total +=  4 * counter - 4\n",
    "    counter += 2\n",
    "target_distance_from_total = total - target\n",
    "side = target_distance_from_total // (counter)\n",
    "position = target_distance_from_total % (counter)\n",
    "print(f\"outer ring is {counter} x {counter}\")\n",
    "print(f\"({counter},{counter} holds {total})\")\n",
    "print(f\"{counter} * 4 - 4 = {counter * 4 - 4}\")\n",
    "print(f\"{total} - {target} = {target_distance_from_total}\")\n",
    "print(f\"{target_distance_from_total} // {counter*counter} = {target_distance_from_total // (counter**2)}\")\n",
    "print(f\"{target} is on side {side} at position {position}\")\n",
    "\n",
    "\n"
   ]
  },
  {
   "cell_type": "code",
   "execution_count": 3,
   "metadata": {},
   "outputs": [
    {
     "data": {
      "text/plain": [
       "10"
      ]
     },
     "execution_count": 3,
     "metadata": {},
     "output_type": "execute_result"
    }
   ],
   "source": [
    "my_aoc.manhattan_distance((0,0),(5,5))"
   ]
  },
  {
   "cell_type": "code",
   "execution_count": 4,
   "metadata": {},
   "outputs": [
    {
     "data": {
      "text/plain": [
       "10"
      ]
     },
     "execution_count": 4,
     "metadata": {},
     "output_type": "execute_result"
    }
   ],
   "source": [
    "my_aoc.manhattan_distance(complex(0,0),complex(5,5))"
   ]
  },
  {
   "cell_type": "code",
   "execution_count": 5,
   "metadata": {},
   "outputs": [],
   "source": [
    "def get_target_coordinates(target):\n",
    "    X=0\n",
    "    Y=1\n",
    "    total = 1\n",
    "    prev = 1\n",
    "    n = 1\n",
    "    new = 0\n",
    "    while total < target:\n",
    "        prev = n\n",
    "        n += 2\n",
    "        new =  (n - 1) * 4\n",
    "        total += new\n",
    "    \n",
    "    corner = n // 2\n",
    "    diff = total - target\n",
    "    point = [corner, -1 * corner]\n",
    "    if diff < n:\n",
    "        side = 0\n",
    "        offset = diff\n",
    "        point[X] -= offset\n",
    "    elif diff < n + (n - 2):\n",
    "        side = 1\n",
    "        offset = diff - n\n",
    "        point[X] -= n - 1\n",
    "        point[Y] += offset + 1\n",
    "    elif diff < n * 2 + (n - 2):\n",
    "        offset = diff - (n + (n - 2))\n",
    "        side = 2\n",
    "        point[X] -= n - 1\n",
    "        point[X] += offset\n",
    "        point[Y] *= -1\n",
    "    else:\n",
    "        offset = diff - (n * 2 + (n - 2))\n",
    "        point[Y] += (n - 2) -offset\n",
    "        side = 3\n",
    "    \n",
    "    #print(f\"n {n}: target {target} is on side {side} at offset {offset} at {point}\")\n",
    "    return tuple(point)"
   ]
  },
  {
   "cell_type": "code",
   "execution_count": 6,
   "metadata": {},
   "outputs": [
    {
     "name": "stdout",
     "output_type": "stream",
     "text": [
      "target 277678 @ (212, -263) is 475 away from (0,0)\n"
     ]
    }
   ],
   "source": [
    "for target in range(1,26):\n",
    "    point = get_target_coordinates(target)\n",
    "    md = my_aoc.manhattan_distance(point,(0,0))\n",
    "    #print(f\"target {target} @ {point} is {md} away from (0,0)\")\n",
    "target=277678\n",
    "point = get_target_coordinates(target)\n",
    "md = my_aoc.manhattan_distance(point,(0,0))\n",
    "print(f\"target {target} @ {point} is {md} away from (0,0)\")"
   ]
  },
  {
   "cell_type": "code",
   "execution_count": 7,
   "metadata": {},
   "outputs": [],
   "source": [
    "def print_grid(data):\n",
    "    # Extract all x and y values\n",
    "    x_values = [key.real for key in data.keys()]\n",
    "    y_values = [key.imag for key in data.keys()]\n",
    "\n",
    "    # Determine the grid range\n",
    "    min_x, max_x = int(min(x_values)), int(max(x_values))\n",
    "    min_y, max_y = int(min(y_values)), int(max(y_values))\n",
    "\n",
    "    # Determine the width of each cell based on the longest value\n",
    "    max_value_length = max(len(str(value)) for value in data.values())\n",
    "    cell_width = max(max_value_length, len(str(max(data.values()))))\n",
    "\n",
    "    # Generate the grid\n",
    "    grid = []\n",
    "    for y in range(min_y, max_y + 1):\n",
    "        row = []\n",
    "        for x in range(min_x, max_x + 1):\n",
    "            value = data.get(complex(x, y), \"\")\n",
    "            row.append(f\"{value}\".rjust(cell_width))\n",
    "        grid.append(row)\n",
    "\n",
    "    # Print the grid\n",
    "    for row in grid[::-1]:  # Reverse the row order to start from the top-left corner\n",
    "        print(\" \".join(row))"
   ]
  },
  {
   "cell_type": "code",
   "execution_count": 20,
   "metadata": {},
   "outputs": [],
   "source": [
    "def traverse(target):\n",
    "    directions = {\n",
    "        \"up\": 4,\n",
    "        \"left\": 1,\n",
    "        \"right\": 6,\n",
    "        \"down\": 3\n",
    "    }\n",
    "    start = complex(0,0)\n",
    "    mem_map = {start: 1}\n",
    "    neighbors = my_aoc.get_neighbors(mem_map, start, type='infinite')\n",
    "    counter = 1\n",
    "    found = False\n",
    "    while not found:\n",
    "        counter += 2\n",
    "        current = neighbors[directions[\"right\"]]\n",
    "        neighbors = my_aoc.get_neighbors(mem_map, current, type='infinite')\n",
    "        mem_map[current] = 0\n",
    "        for neighbor in neighbors:\n",
    "            if neighbor in mem_map:\n",
    "                mem_map[current] +=  mem_map[neighbor]\n",
    "        if mem_map[current] > target:\n",
    "            print_grid(mem_map)\n",
    "            return mem_map[current]\n",
    "            found = True\n",
    "            break\n",
    "        dir = \"up\"\n",
    "        for dir in [\"up\", \"left\", \"down\", \"right\"]:\n",
    "            steps = 1\n",
    "            if dir == \"up\":\n",
    "                steps = 2\n",
    "            for _ in range(steps, counter):\n",
    "                current = neighbors[directions[dir]]\n",
    "                mem_map[current] = 0\n",
    "                neighbors = my_aoc.get_neighbors(mem_map, current, type='infinite')\n",
    "                for neighbor in neighbors:\n",
    "                    if neighbor in mem_map:\n",
    "                        mem_map[current] +=  mem_map[neighbor]\n",
    "                if mem_map[current] > target:\n",
    "                    print_grid(mem_map)\n",
    "                    return mem_map[current]\n",
    "                    found = True\n",
    "                    break\n",
    "            \n",
    "    \n",
    "    "
   ]
  },
  {
   "cell_type": "code",
   "execution_count": 26,
   "metadata": {},
   "outputs": [
    {
     "name": "stdout",
     "output_type": "stream",
     "text": [
      "                                   279138 266330 130654\n",
      "  6591   6444   6155   5733   5336   5022   2450 128204\n",
      " 13486    147    142    133    122     59   2391 123363\n",
      " 14267    304      5      4      2     57   2275 116247\n",
      " 15252    330     10      1      1     54   2105 109476\n",
      " 16295    351     11     23     25     26   1968 103128\n",
      " 17008    362    747    806    880    931    957  98098\n",
      " 17370  35487  37402  39835  42452  45220  47108  48065\n",
      "target 277678 value 279138 \n"
     ]
    }
   ],
   "source": [
    "target = 277678\n",
    "#target = 806\n",
    "value = traverse(target)\n",
    "print(f\"target {target} value {value} \")"
   ]
  },
  {
   "cell_type": "code",
   "execution_count": null,
   "metadata": {},
   "outputs": [],
   "source": [
    "my_aoc.manhattan_distance(point,complex(0,0))"
   ]
  },
  {
   "cell_type": "code",
   "execution_count": null,
   "metadata": {},
   "outputs": [],
   "source": []
  }
 ],
 "metadata": {
  "kernelspec": {
   "display_name": "Python 3 (ipykernel)",
   "language": "python",
   "name": "python3"
  },
  "language_info": {
   "codemirror_mode": {
    "name": "ipython",
    "version": 3
   },
   "file_extension": ".py",
   "mimetype": "text/x-python",
   "name": "python",
   "nbconvert_exporter": "python",
   "pygments_lexer": "ipython3",
   "version": "3.11.7"
  }
 },
 "nbformat": 4,
 "nbformat_minor": 4
}
