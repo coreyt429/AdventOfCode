{
 "cells": [
  {
   "cell_type": "code",
   "execution_count": 1,
   "metadata": {},
   "outputs": [],
   "source": [
    "import os\n",
    "import sys\n",
    "sys.path.append(os.path.realpath('../..'))\n",
    "import aoc\n",
    "my_aoc = aoc.AdventOfCode(2017,4)"
   ]
  },
  {
   "cell_type": "code",
   "execution_count": 6,
   "metadata": {},
   "outputs": [],
   "source": [
    "import re\n",
    "\n",
    "# define pattern for reuse\n",
    "pattern_words = re.compile(r'(\\w+)')\n",
    "\n",
    "\n",
    "def check_passphrase(passphrase, version=1):\n",
    "    \"\"\"\n",
    "    Function to check passphrases\n",
    "    Args:\n",
    "        passphrase:  string\n",
    "        version: integer\n",
    "    Returns:\n",
    "        boolean: True means valid\n",
    "    \"\"\"\n",
    "    # convert string to list\n",
    "    pp_list = pattern_words.findall(passphrase)\n",
    "    # walk list to check each word in the pass phrase\n",
    "    for passphrase in pp_list:\n",
    "        # if a the word appears more than once, then the passphrase is invalid\n",
    "        # for both versions 1 and 2.  aa is an anagram for aa.\n",
    "        if pp_list.count(passphrase) > 1:\n",
    "            return False\n",
    "        else:\n",
    "            # additional version 2 check\n",
    "            if version == 2:\n",
    "                # walk passphrases again\n",
    "                for passphrase2 in pp_list:\n",
    "                    # compare sorted passphrases\n",
    "                    if sorted(passphrase) == sorted(passphrase2):\n",
    "                        return False  \n",
    "    return True"
   ]
  },
  {
   "cell_type": "code",
   "execution_count": 8,
   "metadata": {},
   "outputs": [
    {
     "name": "stdout",
     "output_type": "stream",
     "text": [
      "aa bb cc dd ee: True\n",
      "aa bb cc dd aa: False\n",
      "aa bb cc dd aaa: True\n"
     ]
    }
   ],
   "source": [
    "passphrases = [\n",
    "    \"aa bb cc dd ee\",\n",
    "    \"aa bb cc dd aa\",\n",
    "    \"aa bb cc dd aaa\"\n",
    "]\n",
    "\n",
    "for passphrase in passphrases:\n",
    "    print(f\"{passphrase}: {check_passphrase(passphrase)}\")"
   ]
  },
  {
   "cell_type": "code",
   "execution_count": 14,
   "metadata": {},
   "outputs": [
    {
     "name": "stdout",
     "output_type": "stream",
     "text": [
      "True\n"
     ]
    }
   ],
   "source": [
    "my_string = 'test21'\n",
    "my_string2 = '21test'\n",
    "print(sorted(my_string) == sorted(my_string2))"
   ]
  },
  {
   "cell_type": "code",
   "execution_count": null,
   "metadata": {},
   "outputs": [],
   "source": []
  }
 ],
 "metadata": {
  "kernelspec": {
   "display_name": "Python 3 (ipykernel)",
   "language": "python",
   "name": "python3"
  },
  "language_info": {
   "codemirror_mode": {
    "name": "ipython",
    "version": 3
   },
   "file_extension": ".py",
   "mimetype": "text/x-python",
   "name": "python",
   "nbconvert_exporter": "python",
   "pygments_lexer": "ipython3",
   "version": "3.11.7"
  }
 },
 "nbformat": 4,
 "nbformat_minor": 4
}
