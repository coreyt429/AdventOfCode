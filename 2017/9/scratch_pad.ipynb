{
 "cells": [
  {
   "cell_type": "code",
   "execution_count": 1,
   "metadata": {},
   "outputs": [],
   "source": [
    "import os\n",
    "import sys\n",
    "sys.path.append(os.path.realpath('../..'))\n",
    "import aoc\n",
    "my_aoc = aoc.AdventOfCode(2017,9)"
   ]
  },
  {
   "cell_type": "code",
   "execution_count": 5,
   "metadata": {},
   "outputs": [],
   "source": [
    "input_text = \"\"\"\n",
    "{}\n",
    "{{{}}}\n",
    "{{},{}}\n",
    "{{{},{},{{}}}}\n",
    "{<a>,<a>,<a>,<a>}\n",
    "{{<ab>},{<ab>},{<ab>},{<ab>}}\n",
    "{{<!!>},{<!!>},{<!!>},{<!!>}}\n",
    "{{<a!>},{<a!>},{<a!>},{<ab>}}\n",
    "\"\"\"\n",
    "lines = input_text.rstrip().lstrip().split('\\n')"
   ]
  },
  {
   "cell_type": "code",
   "execution_count": 19,
   "metadata": {},
   "outputs": [
    {
     "name": "stdout",
     "output_type": "stream",
     "text": [
      "{} 1\n",
      "{{{}}} 6\n",
      "{{},{}} 5\n",
      "{{{},{},{{}}}} 16\n",
      "{,,,} 1\n",
      "{{},{},{},{}} 9\n",
      "{{},{},{},{}} 9\n",
      "{{}} 3\n"
     ]
    }
   ],
   "source": [
    "import re\n",
    "def prep_string(in_string):\n",
    "    out_string = re.sub(r'!.', '', in_string)\n",
    "    out_string = re.sub(r'<[^>]*>', '', out_string)\n",
    "    return out_string\n",
    "\n",
    "def score_string(in_string):\n",
    "    total = 0\n",
    "    points = 0\n",
    "    for char in in_string:\n",
    "        if char == '{':\n",
    "            points += 1\n",
    "        if char == '}':\n",
    "            total +=  points\n",
    "            points -= 1\n",
    "    return total\n",
    "    \n",
    "for line in lines:\n",
    "    new_string = prep_string(line)\n",
    "    print(new_string, score_string(new_string))\n",
    "    \n",
    "    "
   ]
  },
  {
   "cell_type": "code",
   "execution_count": null,
   "metadata": {},
   "outputs": [],
   "source": []
  },
  {
   "cell_type": "code",
   "execution_count": null,
   "metadata": {},
   "outputs": [],
   "source": []
  }
 ],
 "metadata": {
  "kernelspec": {
   "display_name": "Python 3 (ipykernel)",
   "language": "python",
   "name": "python3"
  },
  "language_info": {
   "codemirror_mode": {
    "name": "ipython",
    "version": 3
   },
   "file_extension": ".py",
   "mimetype": "text/x-python",
   "name": "python",
   "nbconvert_exporter": "python",
   "pygments_lexer": "ipython3",
   "version": "3.11.7"
  }
 },
 "nbformat": 4,
 "nbformat_minor": 4
}
