{
 "cells": [
  {
   "cell_type": "code",
   "execution_count": 1,
   "metadata": {},
   "outputs": [],
   "source": [
    "import os\n",
    "import sys\n",
    "sys.path.append(os.path.realpath('../..'))\n",
    "import aoc\n",
    "my_aoc = aoc.AdventOfCode(2017,11)"
   ]
  },
  {
   "cell_type": "code",
   "execution_count": 124,
   "metadata": {},
   "outputs": [],
   "source": [
    "\n",
    "class Hex():\n",
    "    \"\"\"\n",
    "    Class to represent a hex tile\n",
    "    \"\"\"\n",
    "    directions = {\n",
    "            \"n\": (0, 1, -1),\n",
    "            \"s\": (0, -1, 1),\n",
    "            \"ne\": (1, 0, -1),\n",
    "            \"nw\": (-1, 1, 0),\n",
    "            \"se\": (1, -1, 0),\n",
    "            \"sw\": (-1, 0, 1)\n",
    "        }\n",
    "    def __init__(self, parent, x, y, z):\n",
    "        \"\"\"\n",
    "        Init a hex tile:\n",
    "            Args:\n",
    "                self: Hex() object\n",
    "                parent: HexGrid() object\n",
    "                pos: tuple(float(X), float(Y)) coordinates 0.5 increments\n",
    "        \"\"\"\n",
    "        self.parent = parent\n",
    "        self.x = x\n",
    "        self.y = y\n",
    "        self.z = z\n",
    "        \n",
    "    def __str__(self):\n",
    "        \"\"\"\n",
    "        String\n",
    "        \"\"\"\n",
    "        return f\"Hex Tile ({self.x},{self.y},{self.z})\"\n",
    "\n",
    "    def step(self, direction):\n",
    "        dx, dy, dz = self.directions[direction]\n",
    "        return self.parent.get_neighbor(self.x + dx, self.y + dy, self.z + dz)\n",
    "\n",
    "class HexGrid():\n",
    "    def __init__(self):\n",
    "        self.tiles = {\n",
    "            (0,0,0): Hex(self, 0,0,0)\n",
    "        }\n",
    "        self.start = self.tiles[(0,0,0)]\n",
    "        self.current = self.tiles[(0,0,0)]\n",
    "\n",
    "    def get_neighbor(self, x ,y, z):\n",
    "        if (x, y, z) not in self.tiles:\n",
    "            self.tiles[(x, y, z)] = Hex(self, x, y, z)\n",
    "        self.current = self.tiles[(x, y, z)]\n",
    "\n",
    "    def distance(self):\n",
    "        x2_val = self.current.x\n",
    "        y2_val = self.current.y\n",
    "        z2_val = self.current.z\n",
    "        x1_val = self.start.x\n",
    "        y1_val = self.start.y\n",
    "        z1_val = self.start.z\n",
    "        \n",
    "        distance = 0.5*(abs(x2_val - x1_val) + abs(y2_val - y1_val) + abs(z2_val - z1_val))\n",
    "        return math.ceil(distance)\n"
   ]
  },
  {
   "cell_type": "code",
   "execution_count": 128,
   "metadata": {},
   "outputs": [
    {
     "name": "stdout",
     "output_type": "stream",
     "text": [
      "Hex Tile (0,0,0)\n",
      "Hex Tile (1,-1,0) 1\n",
      "Hex Tile (0,-1,1) 1\n",
      "Hex Tile (1,-2,1) 2\n",
      "Hex Tile (0,-2,2) 2\n",
      "Hex Tile (-1,-2,3) 3\n"
     ]
    }
   ],
   "source": [
    "grid = HexGrid()\n",
    "\n",
    "print(grid.current)\n",
    "for dir in ['se','sw','se','sw','sw']:\n",
    "    grid.current.step(dir)\n",
    "    print(grid.current, grid.distance())"
   ]
  },
  {
   "cell_type": "code",
   "execution_count": null,
   "metadata": {},
   "outputs": [],
   "source": []
  }
 ],
 "metadata": {
  "kernelspec": {
   "display_name": "Python 3 (ipykernel)",
   "language": "python",
   "name": "python3"
  },
  "language_info": {
   "codemirror_mode": {
    "name": "ipython",
    "version": 3
   },
   "file_extension": ".py",
   "mimetype": "text/x-python",
   "name": "python",
   "nbconvert_exporter": "python",
   "pygments_lexer": "ipython3",
   "version": "3.11.7"
  }
 },
 "nbformat": 4,
 "nbformat_minor": 4
}
