{
 "cells": [
  {
   "cell_type": "code",
   "execution_count": 1,
   "metadata": {},
   "outputs": [],
   "source": [
    "import os\n",
    "import sys\n",
    "sys.path.append(os.path.realpath('../..'))\n",
    "import aoc\n",
    "my_aoc = aoc.AdventOfCode(2017,14)"
   ]
  },
  {
   "cell_type": "code",
   "execution_count": 17,
   "metadata": {},
   "outputs": [],
   "source": [
    "from collections import deque\n",
    "from functools import reduce\n",
    "from heapq import heappop, heappush\n",
    "\n",
    "def hash_list(some_list, queue, skip, total_rotate=0):\n",
    "    \"\"\"\n",
    "    Function to hash a list\n",
    "    \"\"\"\n",
    "    # copy input\n",
    "    input_list = list(some_list)\n",
    "    # init rotate\n",
    "    rotate = 0\n",
    "    # repeat until we've exhausted the list\n",
    "    while input_list:\n",
    "        # next length to twist\n",
    "        length = input_list.pop(0)\n",
    "        # Reverse the first length entries in the deque\n",
    "        knot = list(queue)[:length][::-1]  # take first length, reverse them\n",
    "        # Reinsert the reversed values back into the deque\n",
    "        queue = deque(knot + list(queue)[length:])\n",
    "        # rotate deque instead of skipping and keeping up with position\n",
    "        rotate = length + skip\n",
    "        # yeah, I see I have to keep up with total rotations instead\n",
    "        total_rotate += rotate\n",
    "        # rotate left, to simulate skipping right\n",
    "        queue.rotate(-1 * rotate)\n",
    "        # increment skip\n",
    "        skip += 1\n",
    "    # return 1, skp, and total_rotate to be passed back next pass\n",
    "    return queue, skip, total_rotate\n",
    "\n",
    "def knot_hash(input_value):\n",
    "    \"\"\"\n",
    "    Function to solve puzzle\n",
    "    \"\"\"\n",
    "    # init queue with numbers 0=255\n",
    "    queue = range(256)\n",
    "    queue = deque(queue)\n",
    "    # init skipq\n",
    "    skip = 0\n",
    "    # init total_rotate\n",
    "    total_rotate = 0\n",
    "    num_list = [ord(char) for char in input_value] + [17, 31, 73, 47, 23]\n",
    "    # run hash_list 64 times\n",
    "    for _ in range(64):\n",
    "        queue, skip, total_rotate = hash_list(num_list, queue, skip, total_rotate)\n",
    "    queue.rotate(total_rotate)\n",
    "    # split into groups of 16\n",
    "    sparse_hash = list(queue)\n",
    "    sparse_hashes = []\n",
    "    for idx in range(0,256,16):\n",
    "        sparse_hashes.append(sparse_hash[idx:idx+16])\n",
    "    # use bitwise XOR to create dense_hash values\n",
    "    dense_hash = []\n",
    "    for sparse_hash in sparse_hashes:\n",
    "        dense_hash.append(reduce(lambda x, y: x ^ y, sparse_hash))\n",
    "    # get hex values of dense_hash for hex hash\n",
    "    my_hash = ''\n",
    "    for num in dense_hash:\n",
    "        my_hash += str(hex(num))[-2:].replace('x','0')\n",
    "    # return hex hash\n",
    "    return my_hash\n",
    "\n",
    "def hex_to_bits(hex_string):\n",
    "    return ''.join(format(int(c, 16), '04b') for c in hex_string)\n",
    "\n",
    "def map_region(grid, position):\n",
    "    region = set()\n",
    "    already_seen = set()\n",
    "    heap = []\n",
    "    heappush(heap, position)\n",
    "    while heap:\n",
    "        current = heappop(heap)\n",
    "        if current in already_seen:\n",
    "            continue\n",
    "        already_seen.add(current)\n",
    "        if grid[current[0]][current[1]] == '#':\n",
    "            region.add(current)\n",
    "        for neighbor in my_aoc.get_neighbors(grid, current, directions=['n','s','e','w']):\n",
    "            if grid[neighbor[0]][neighbor[1]] == '#':\n",
    "                heappush(heap, neighbor)\n",
    "    return region\n",
    "\n",
    "def find_regions(grid):\n",
    "    regions = []\n",
    "    already_seen = set()\n",
    "    #counter = 0\n",
    "    for idx, row in enumerate(grid):\n",
    "        for idx2, char in enumerate(row):\n",
    "            if char == '#':\n",
    "                position = (idx, idx2)\n",
    "                if not position in already_seen:\n",
    "                    new_region = map_region(grid, position)\n",
    "                    regions.append(new_region)\n",
    "                    already_seen.update(new_region)\n",
    "                    #for position in new_region:\n",
    "                    #    grid[position[0]][position[1]] = chr(counter + 32)\n",
    "                    #counter += 1\n",
    "    return len(regions)\n",
    "                \n",
    "def print_grid(grid, text='Grid'):\n",
    "    print(f'{text}:')\n",
    "    for row in grid:\n",
    "        print(''.join(row))\n",
    "    print\n"
   ]
  },
  {
   "cell_type": "code",
   "execution_count": 19,
   "metadata": {},
   "outputs": [
    {
     "name": "stdout",
     "output_type": "stream",
     "text": [
      "8108\n",
      "1242\n"
     ]
    }
   ],
   "source": [
    "total = 0\n",
    "input='flqrgnkx'\n",
    "#input = 'hxtvlmkl'\n",
    "drive = []\n",
    "for idx in range(128):\n",
    "    data = hex_to_bits(knot_hash(f\"{input}-{idx}\"))\n",
    "    data = data.replace('1', '#').replace('0', '.')\n",
    "    total += data.count('#')\n",
    "    drive.append(list(data))\n",
    "   \n",
    "    #print(data)\n",
    "print(total)\n",
    "print(find_regions(drive))\n",
    "#print_grid(drive)"
   ]
  },
  {
   "cell_type": "code",
   "execution_count": 4,
   "metadata": {},
   "outputs": [
    {
     "data": {
      "text/plain": [
       "'þðº¾'"
      ]
     },
     "execution_count": 4,
     "metadata": {},
     "output_type": "execute_result"
    }
   ],
   "source": [
    "data = \"fef0babe\"\n",
    "bits = \"\"\n",
    "for x in range(0, len(data), 2):\n",
    "  bits += chr(int(data[x:x+2], 16))\n",
    "bits"
   ]
  },
  {
   "cell_type": "code",
   "execution_count": 5,
   "metadata": {},
   "outputs": [
    {
     "ename": "SyntaxError",
     "evalue": "invalid syntax (3206037474.py, line 3)",
     "output_type": "error",
     "traceback": [
      "\u001b[1;36m  Cell \u001b[1;32mIn[5], line 3\u001b[1;36m\u001b[0m\n\u001b[1;33m    binary_string =\u001b[0m\n\u001b[1;37m                    ^\u001b[0m\n\u001b[1;31mSyntaxError\u001b[0m\u001b[1;31m:\u001b[0m invalid syntax\n"
     ]
    }
   ],
   "source": [
    "hex_string = '55eab3c4fbfede16dcec2c66dda26464'\n",
    "# Convert each hex digit to its 4-bit binary representation\n",
    "binary_string = \n",
    "\n",
    "print(binary_string)"
   ]
  },
  {
   "cell_type": "code",
   "execution_count": null,
   "metadata": {},
   "outputs": [],
   "source": [
    "format(int('1', 16), '04b')"
   ]
  },
  {
   "cell_type": "code",
   "execution_count": null,
   "metadata": {},
   "outputs": [],
   "source": [
    "test='test'\n",
    "for idx,char in enumerate(test):\n",
    "    print(idx,char)"
   ]
  },
  {
   "cell_type": "code",
   "execution_count": null,
   "metadata": {},
   "outputs": [],
   "source": [
    "set_1 = set([1,2,3])\n",
    "set_2 = set([4,5,3])\n",
    "set_1.update(set_2)\n",
    "set_1"
   ]
  },
  {
   "cell_type": "code",
   "execution_count": null,
   "metadata": {},
   "outputs": [],
   "source": [
    "list(('a','b'))"
   ]
  },
  {
   "cell_type": "code",
   "execution_count": null,
   "metadata": {},
   "outputs": [],
   "source": []
  }
 ],
 "metadata": {
  "kernelspec": {
   "display_name": "Python 3 (ipykernel)",
   "language": "python",
   "name": "python3"
  },
  "language_info": {
   "codemirror_mode": {
    "name": "ipython",
    "version": 3
   },
   "file_extension": ".py",
   "mimetype": "text/x-python",
   "name": "python",
   "nbconvert_exporter": "python",
   "pygments_lexer": "ipython3",
   "version": "3.11.7"
  }
 },
 "nbformat": 4,
 "nbformat_minor": 4
}
