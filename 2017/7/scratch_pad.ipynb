{
 "cells": [
  {
   "cell_type": "code",
   "execution_count": 1,
   "metadata": {},
   "outputs": [],
   "source": [
    "import os\n",
    "import sys\n",
    "sys.path.append(os.path.realpath('../..'))\n",
    "import aoc\n",
    "my_aoc = aoc.AdventOfCode(2017,7)"
   ]
  },
  {
   "cell_type": "code",
   "execution_count": 73,
   "metadata": {},
   "outputs": [
    {
     "name": "stdout",
     "output_type": "stream",
     "text": [
      "tknk is bottom\n",
      "ugml is imbalance 68 251 + -8 = 243, should be 60\n",
      "72\n"
     ]
    }
   ],
   "source": [
    "import re\n",
    "class Program():\n",
    "    def __init__(self, input_string):\n",
    "        match = re.match(r'(\\w+) .(\\d+).(.*)', input_string)\n",
    "        if match:\n",
    "            self.name = match.group(1)\n",
    "            self.weight = int(match.group(2))\n",
    "            children = match.group(3)\n",
    "            self.children = []\n",
    "            self.parent = None\n",
    "            if children:\n",
    "                children = children.replace(' -> ','')\n",
    "                self.children = children.split(', ')\n",
    "    def __str__(self):\n",
    "        if self.children:\n",
    "            return f\"{self.name} of weight {self.weight} has children: {self.children}\"\n",
    "        return f\"{self.name} of weight {self.weight} has no children\"\n",
    "\n",
    "    def __bool__(self):\n",
    "        return True\n",
    "\n",
    "def init_programs(lines):\n",
    "    program_map = {}\n",
    "    for line in lines:\n",
    "        program = Program(line)\n",
    "        program_map[program.name] = program\n",
    "    return program_map\n",
    "\n",
    "def link_children(program_map):\n",
    "    for name, program in program_map.items():\n",
    "        children = program.children\n",
    "        program.children = []\n",
    "        for child in children:\n",
    "            program.children.append(program_map[child])\n",
    "            program_map[child].parent = program\n",
    "\n",
    "def find_bottom(program_map):\n",
    "    for name, program in program_map.items():\n",
    "        if not program.parent:\n",
    "            return program\n",
    "\n",
    "def tower_weight(program):\n",
    "    weight = program.weight\n",
    "    for child in program.children:\n",
    "        weight += tower_weight(child)\n",
    "    return weight\n",
    "\n",
    "def find_imbalance(program, target_weight=0):\n",
    "    if not program.children:\n",
    "        return program, target_weight\n",
    "    weight_map = {}\n",
    "    weights = []\n",
    "    for child in program.children:\n",
    "        weight_map[child.name] = tower_weight(child)\n",
    "        weights.append(weight_map[child.name])\n",
    "    for child in program.children:\n",
    "        if weights.count(weight_map[child.name]) == 1:\n",
    "            imbalance, target_weight = find_imbalance(child)\n",
    "            if imbalance:\n",
    "                for weight in weights:\n",
    "                    if weight != weight_map[child.name]:\n",
    "                        target_weight = weight\n",
    "                return imbalance, target_weight\n",
    "    return program, target_weight\n",
    "\n",
    "input_lines = [\n",
    "    \"pbga (66)\",\n",
    "    \"xhth (57)\",\n",
    "    \"ebii (61)\",\n",
    "    \"havc (66)\",\n",
    "    \"ktlj (57)\",\n",
    "    \"fwft (72) -> ktlj, cntj, xhth\",\n",
    "    \"qoyq (66)\",\n",
    "    \"padx (45) -> pbga, havc, qoyq\",\n",
    "    \"tknk (41) -> ugml, padx, fwft\",\n",
    "    \"jptl (61)\",\n",
    "    \"ugml (68) -> gyxo, ebii, jptl\",\n",
    "    \"gyxo (61)\",\n",
    "    \"cntj (57)\"\n",
    "]\n",
    "\n",
    "my_map = init_programs(input_lines)\n",
    "link_children(my_map)\n",
    "bottom = find_bottom(my_map)\n",
    "print(f\"{bottom.name} is bottom\")\n",
    "\n",
    "imbalance, target_weight = find_imbalance(bottom)\n",
    "out_of_balance = target_weight - tower_weight(imbalance)\n",
    "adjusted = imbalance.weight + out_of_balance\n",
    "print(f\"{imbalance.name} is imbalance {imbalance.weight} {tower_weight(imbalance)} + {out_of_balance} = {target_weight}, should be {adjusted}\")\n",
    "siblings = imbalance.parent.children\n",
    "\n",
    "for sibling in siblings:\n",
    "    if sibling != imbalance:\n",
    "        weight = sibling.weight\n",
    "print(weight)\n"
   ]
  },
  {
   "cell_type": "code",
   "execution_count": 41,
   "metadata": {},
   "outputs": [
    {
     "data": {
      "text/plain": [
       "72"
      ]
     },
     "execution_count": 41,
     "metadata": {},
     "output_type": "execute_result"
    }
   ],
   "source": [
    "child.weight"
   ]
  },
  {
   "cell_type": "code",
   "execution_count": null,
   "metadata": {},
   "outputs": [],
   "source": []
  }
 ],
 "metadata": {
  "kernelspec": {
   "display_name": "Python 3 (ipykernel)",
   "language": "python",
   "name": "python3"
  },
  "language_info": {
   "codemirror_mode": {
    "name": "ipython",
    "version": 3
   },
   "file_extension": ".py",
   "mimetype": "text/x-python",
   "name": "python",
   "nbconvert_exporter": "python",
   "pygments_lexer": "ipython3",
   "version": "3.11.7"
  }
 },
 "nbformat": 4,
 "nbformat_minor": 4
}
