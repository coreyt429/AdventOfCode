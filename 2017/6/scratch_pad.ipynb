{
 "cells": [
  {
   "cell_type": "code",
   "execution_count": 1,
   "metadata": {},
   "outputs": [],
   "source": [
    "import os\n",
    "import sys\n",
    "sys.path.append(os.path.realpath('../..'))\n",
    "import aoc\n",
    "my_aoc = aoc.AdventOfCode(2017,6)"
   ]
  },
  {
   "cell_type": "code",
   "execution_count": 15,
   "metadata": {},
   "outputs": [],
   "source": [
    "def redistribute(num_tuple):\n",
    "    num_list = list(num_tuple)\n",
    "    num_list_len = len(num_list)\n",
    "    max_val = max(num_list)\n",
    "    idx = num_list.index(max_val)\n",
    "    move_blocks = max_val\n",
    "    num_list[idx] = 0\n",
    "    while move_blocks:\n",
    "        idx += 1\n",
    "        if idx >- num_list_len:\n",
    "            idx = idx % num_list_len\n",
    "        num_list[idx] += 1\n",
    "        move_blocks -= 1\n",
    "    return tuple(num_list)\n",
    "    \n",
    "    "
   ]
  },
  {
   "cell_type": "code",
   "execution_count": 44,
   "metadata": {},
   "outputs": [
    {
     "name": "stdout",
     "output_type": "stream",
     "text": [
      "(0, 2, 7, 0)\n",
      "(2, 4, 1, 2)\n",
      "(3, 1, 2, 3)\n",
      "(0, 2, 3, 4)\n",
      "(1, 3, 4, 1)\n",
      "(2, 4, 1, 2)\n",
      "1 (2, 4, 1, 2)\n",
      "(3, 1, 2, 3)\n",
      "(0, 2, 3, 4)\n",
      "(1, 3, 4, 1)\n",
      "(2, 4, 1, 2)\n",
      "2 (2, 4, 1, 2)\n",
      "9\n",
      "part 2: 4\n",
      "9\n"
     ]
    }
   ],
   "source": [
    "part=2\n",
    "start_tuple = (0, 2, 7 , 0)\n",
    "counter = 0\n",
    "seen = set()\n",
    "current_tuple = start_tuple\n",
    "print(current_tuple)\n",
    "loop_count = 0\n",
    "loop_tuple = None\n",
    "while True:\n",
    "    if current_tuple in seen:\n",
    "        if part == 1:\n",
    "            break\n",
    "        elif not loop_tuple:\n",
    "            loop_tuple = current_tuple\n",
    "            last_counter = counter\n",
    "    if part == 2 and current_tuple == loop_tuple:\n",
    "        loop_count += 1\n",
    "        print(loop_count, current_tuple)\n",
    "        if part == 2 and loop_count > 1:\n",
    "            if loop_count == 2:\n",
    "                print(counter)\n",
    "                print(f\"part 2: {counter - last_counter}\")\n",
    "                break\n",
    "            \n",
    "    seen.add(current_tuple)\n",
    "    current_tuple = redistribute(current_tuple)\n",
    "    print(current_tuple)\n",
    "    counter += 1\n",
    "print(counter)\n",
    "    "
   ]
  },
  {
   "cell_type": "code",
   "execution_count": null,
   "metadata": {},
   "outputs": [],
   "source": []
  },
  {
   "cell_type": "code",
   "execution_count": 13,
   "metadata": {},
   "outputs": [
    {
     "name": "stdout",
     "output_type": "stream",
     "text": [
      "9\n",
      "8\n",
      "7\n",
      "6\n",
      "5\n",
      "4\n",
      "3\n",
      "2\n",
      "1\n",
      "0\n"
     ]
    }
   ],
   "source": [
    "counter = 10\n",
    "while counter:\n",
    "    counter -= 1\n",
    "    print(counter)"
   ]
  },
  {
   "cell_type": "code",
   "execution_count": null,
   "metadata": {},
   "outputs": [],
   "source": []
  }
 ],
 "metadata": {
  "kernelspec": {
   "display_name": "Python 3 (ipykernel)",
   "language": "python",
   "name": "python3"
  },
  "language_info": {
   "codemirror_mode": {
    "name": "ipython",
    "version": 3
   },
   "file_extension": ".py",
   "mimetype": "text/x-python",
   "name": "python",
   "nbconvert_exporter": "python",
   "pygments_lexer": "ipython3",
   "version": "3.11.7"
  }
 },
 "nbformat": 4,
 "nbformat_minor": 4
}
