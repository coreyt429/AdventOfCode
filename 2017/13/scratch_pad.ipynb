{
 "cells": [
  {
   "cell_type": "code",
   "execution_count": 1,
   "metadata": {},
   "outputs": [],
   "source": [
    "import os\n",
    "import sys\n",
    "sys.path.append(os.path.realpath('../..'))\n",
    "import aoc\n",
    "my_aoc = aoc.AdventOfCode(2017,13)"
   ]
  },
  {
   "cell_type": "code",
   "execution_count": 1,
   "metadata": {},
   "outputs": [],
   "source": [
    "input_text = \"\"\"0: 3\n",
    "1: 2\n",
    "4: 4\n",
    "6: 4\"\"\"\n",
    "input_lines = input_text.split('\\n')"
   ]
  },
  {
   "cell_type": "code",
   "execution_count": 45,
   "metadata": {},
   "outputs": [
    {
     "name": "stdout",
     "output_type": "stream",
     "text": [
      "{0: 3, 1: 2, 4: 4, 6: 4}\n",
      "24\n"
     ]
    }
   ],
   "source": [
    "import re\n",
    "\n",
    "def parse_input(lines):\n",
    "    data = {}\n",
    "    for line in lines:\n",
    "        position, scan_range = [int(num) for num in re.findall(r'(\\d+)', line)]\n",
    "        data[position] = scan_range\n",
    "    return data\n",
    "\n",
    "def position(scanner_range, picosecond):\n",
    "    # ignore intervals, and reduce picoseconds to position in interval\n",
    "    # interval time is 2 * scanner_range - 2\n",
    "    picosecond = picosecond % ((scanner_range * 2) - 2)\n",
    "    # it hasn't had time to turn around yet\n",
    "    # 0-3 for range 4\n",
    "    if picosecond < scanner_range:\n",
    "        return picosecond\n",
    "    # example for range 4\n",
    "    # it has turned around 4=2, 5=1, 6=0\n",
    "    # 4 - 4 = 0 (4 - 2 - 0) = 2\n",
    "    # 5 - 4 = 1 (4 - 2 - 1) = 1\n",
    "    # 6 - 4 = 2 (4 - 2 - 2) = 0\n",
    "    # return max(index) - 1 - picoseconds in this direction\n",
    "    return (scanner_range - 2) - (picosecond - scanner_range)\n",
    "    \n",
    "\n",
    "scanners = parse_input(input_lines)\n",
    "print(scanners)\n",
    "severity = 0\n",
    "for picosecond in range(max(scanners.keys())+1):\n",
    "    layer = picosecond\n",
    "    if layer in scanners:\n",
    "        pos = position(scanners[layer], picosecond)\n",
    "        if pos == 0: # caught\n",
    "            severity += layer * scanners[layer]\n",
    "print(severity)\n",
    "        \n"
   ]
  },
  {
   "cell_type": "code",
   "execution_count": null,
   "metadata": {},
   "outputs": [],
   "source": []
  }
 ],
 "metadata": {
  "kernelspec": {
   "display_name": "Python 3 (ipykernel)",
   "language": "python",
   "name": "python3"
  },
  "language_info": {
   "codemirror_mode": {
    "name": "ipython",
    "version": 3
   },
   "file_extension": ".py",
   "mimetype": "text/x-python",
   "name": "python",
   "nbconvert_exporter": "python",
   "pygments_lexer": "ipython3",
   "version": "3.11.7"
  }
 },
 "nbformat": 4,
 "nbformat_minor": 4
}
