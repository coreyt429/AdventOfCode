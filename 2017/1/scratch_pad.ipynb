{
 "cells": [
  {
   "cell_type": "code",
   "execution_count": 1,
   "metadata": {},
   "outputs": [],
   "source": [
    "import os\n",
    "import sys\n",
    "import json\n",
    "sys.path.append(os.path.realpath('../..'))\n",
    "import aoc\n",
    "my_aoc = aoc.AdventOfCode(2017,1)"
   ]
  },
  {
   "cell_type": "code",
   "execution_count": 2,
   "metadata": {},
   "outputs": [],
   "source": [
    "def get_neighbors(maze, point, rules={}):\n",
    "    \"\"\"\n",
    "    Function to get neighbors of a point on a map or maze\n",
    "    This function assumes screen coordinates.  If using another coordinate system,\n",
    "    please update. Maybe a rule flag to specify?\n",
    "\n",
    "    Notes: see 2023.21 for infinite complex example\n",
    "\n",
    "    Args:\n",
    "        maze: list_x(list_y()) or dict(tuple(x,y) or dict(complex())) \n",
    "        point: tuple(x,y) or complex() # should match maze, or things may break\n",
    "        rules: dict{} , example:\n",
    "            rules = {\n",
    "                \"type\": \"bounded\", # or infinite\n",
    "                \"invalid\": \"#\",\n",
    "                \"coordinate_system\": \"screen\" # or matrix, or cartesian, others noted below, \n",
    "                    are not yet supported\n",
    "            }\n",
    "    Returns:\n",
    "        neighbors: list(tuple(x,y)) or list(complex())\n",
    "\n",
    "    Notes:\n",
    "        tuple to complex:\n",
    "            complex(my_tuple)\n",
    "        complex to tuple:\n",
    "            tuple(my_complex.real, my_complex.imag)\n",
    "        Coordinate System\tX Increases\tY Increases\tCommon Use\n",
    "        Screen Coordinates\tTo the right\tDown\tComputer graphics, UI, web design\n",
    "        Matrix Coordinates\tTo the right (cols)\tDown (rows)\tSpreadsheets, grid-based systems\n",
    "        Cartesian Coordinates\tTo the right\tUp\tMathematics, physics, engineering\n",
    "        Polar Coordinates\tN/A (radius and angle)\tN/A\tNavigation, physics, engineering\n",
    "        Geographic Coordinates\tN/A (longitude)\tN/A (latitude)\tGeography, GPS\n",
    "        Isometric Coordinates\t120-degree intervals\t120-degree intervals\tVideo games,\n",
    "            CAD, technical drawing\n",
    "    \"\"\"\n",
    "    X=0\n",
    "    Y=1\n",
    "    # I think I'm getting technical here, but this may matter when we go to apply rules\n",
    "    # as I typically provide matrix coordinates as (row, col)\n",
    "    if rules.get('coordinate_system', 'screen') ==  'matrix':\n",
    "        X=1\n",
    "        Y=0\n",
    "    # define offsets\n",
    "    # change aoc.self when we move this into the class\n",
    "    offsets = my_aoc.get_neighbor_offsets()\n",
    "\n",
    "    # empty list of neighbors\n",
    "    neighbors = []\n",
    "    if isinstance(point, complex):\n",
    "        for offset in offsets[\"complex\"]:\n",
    "            neighbors.append(point + offset)\n",
    "    else:\n",
    "        for offset in offsets[\"tuple\"]:\n",
    "            neighbors.append(tuple([point[X] - offset[X], point[Y] - offset[Y]]))\n",
    "            \n",
    "    # process rule type:bounded\n",
    "    if rules.get(\"type\", \"bounded\") == \"bounded\":\n",
    "        min, max = get_maze_size(maze)\n",
    "        if isinstance(maze, dict):\n",
    "            for neighbor in neighbors:\n",
    "                if not neighbor in maze:\n",
    "                    neighbors.pop(neighbor)\n",
    "        else:\n",
    "            valid_neighbors = []\n",
    "            for neighbor in neighbors:\n",
    "                if min[X] <= neighbor[X] <= max[X] and min[Y] <= neighbor[Y] <= max[Y]:\n",
    "                    valid_neighbors.add(neighbor)\n",
    "            neighbors = valid_neighbors\n",
    "            \n",
    "    return neighbors\n",
    "\n",
    "def get_maze_size(maze):\n",
    "    \"\"\"\n",
    "    Function to get min(X,Y), max(X,Y) for maze\n",
    "    \"\"\"\n",
    "    X=0\n",
    "    Y=1\n",
    "    if isinstance(maze, list):\n",
    "        # list of list, return 0 to length\n",
    "        min = tuple([0, 0])\n",
    "        max = tuple([len(maze), len(maze[0])])\n",
    "        return min, max\n",
    "    if not isinstance(maze, dict):\n",
    "        print(f\"get_maze_size no rule to handle {type(maze)}\")\n",
    "        sys.exit()\n",
    "    # complex or tuple?\n",
    "    min = [float('infinity')]*2\n",
    "    max = [float('infinity')*-1]*2\n",
    "    is_complex = isinstance(list(maze.keys())[0], complex)\n",
    "    for key in maze.keys():\n",
    "        print(key,min,max)\n",
    "        if is_complex:\n",
    "            if key.real < min[X]:\n",
    "                min[X] = int(key.real)\n",
    "            if key.real > max[X]:\n",
    "                max[X] = int(key.real)\n",
    "            if key.imag < min[Y]:\n",
    "                min[Y] = int(key.imag)\n",
    "            if key.imag > max[Y]:\n",
    "                max[Y] = int(key.imag)\n",
    "        else:\n",
    "            if key[X] < min[X]:\n",
    "                min[X] = key[X]\n",
    "            if key[X] > max[X]:\n",
    "                max[X] = key[X]\n",
    "            if key[Y] < min[Y]:\n",
    "                min[Y] = key[Y]\n",
    "            if key[Y] > max[Y]:\n",
    "                max[Y] = key[Y]\n",
    "    return min, max\n",
    "\n",
    "            \n",
    "        \n",
    "    "
   ]
  },
  {
   "cell_type": "code",
   "execution_count": 3,
   "metadata": {},
   "outputs": [
    {
     "name": "stdout",
     "output_type": "stream",
     "text": [
      "[1j, (1+0j)]\n"
     ]
    }
   ],
   "source": [
    "maze={\n",
    "    complex(0,0): 'a',\n",
    "    complex(0,1): 'a',\n",
    "    complex(1,0): 'a',\n",
    "    complex(1,1): '#',\n",
    "}\n",
    "point=complex(0,0)\n",
    "neighbors = my_aoc.get_neighbors(maze, point, invalid=\"#\")\n",
    "print(neighbors)"
   ]
  },
  {
   "cell_type": "code",
   "execution_count": 4,
   "metadata": {},
   "outputs": [
    {
     "data": {
      "text/plain": [
       "(1+1j)"
      ]
     },
     "execution_count": 4,
     "metadata": {},
     "output_type": "execute_result"
    }
   ],
   "source": [
    "my_tuple = (1,1)\n",
    "my_complex =complex(*my_tuple)\n",
    "my_complex"
   ]
  },
  {
   "cell_type": "code",
   "execution_count": 5,
   "metadata": {},
   "outputs": [
    {
     "name": "stdout",
     "output_type": "stream",
     "text": [
      "inf\n",
      "-inf\n"
     ]
    }
   ],
   "source": [
    "my_inf =  float('infinity')\n",
    "print(my_inf)\n",
    "my_inf =  float('infinity') * -1\n",
    "print(my_inf)\n"
   ]
  },
  {
   "cell_type": "code",
   "execution_count": 6,
   "metadata": {},
   "outputs": [
    {
     "data": {
      "text/plain": [
       "[inf, inf]"
      ]
     },
     "execution_count": 6,
     "metadata": {},
     "output_type": "execute_result"
    }
   ],
   "source": [
    "min = [float('infinity')]*2\n",
    "min"
   ]
  },
  {
   "cell_type": "code",
   "execution_count": 74,
   "metadata": {},
   "outputs": [],
   "source": [
    "def reverse_captcha(input_string, part=1):\n",
    "    idx_offset = 1\n",
    "    int_list = [int(char) for char in input_string]\n",
    "    int_list_length = len(int_list)\n",
    "    if part == 2:\n",
    "        idx_offset = int_list_length // 2\n",
    "    total = 0\n",
    "    for idx, num in enumerate(int_list):\n",
    "        num2 = int_list[(idx + idx_offset) % (int_list_length)]\n",
    "        if num == num2:\n",
    "            total += num\n",
    "    return total\n",
    "    "
   ]
  },
  {
   "cell_type": "code",
   "execution_count": 78,
   "metadata": {},
   "outputs": [
    {
     "data": {
      "text/plain": [
       "1080"
      ]
     },
     "execution_count": 78,
     "metadata": {},
     "output_type": "execute_result"
    }
   ],
   "source": [
    "reverse_captcha('57276274387944537823652626177853384411146325384494935924454336611953119173638191671326254832624841593421667683474349154668177743437745965461678636631863541462893547616877914914662358836365421198516263335926544716331814125295712581158399321372683742773423626286669759415959391374744214595682795818615532673877868424196926497731144319736445141728123322962547288572434564178492753681842244888368542423832228211172842456231275738182764232265933625119312598161192193214898949267765417468348935134618964683127194391796165368145548814473129857697989322621368744725685183346825333247866734735894493395218781464346951777873929898961358796274889826894529599645442657423438562423853247543621565468819799931598754753467593832328147439341586125262733737128386961596394728159719292787597426898945198788211417854662948358422729471312456437778978749753927251431677533575752312447488337156956217451965643454445329758327129966657189332824969141448538681979632611199385896965946849725421978137753366252459914913637858783146735469758716752765718189175583956476935185985918536318424248425426398158278111751711911227818826766177996223718837428972784328925743869885232266127727865267881592395643836999244218345184474613129823933659422223685422732186536199153988717455568523781673393698356967355875123554797755491181791593156433735591529495984256519631187849654633243225118132152549712643273819314433877592644693826861523243946998615722951182474773173215527598949553185313259992227879964482121769617218685394776778423378182462422788277997523913176326468957342296368178321958626168785578977414537368686438348124283789748775163821457641135163495649331144436157836647912852483177542224864952271874645274572426458614384917923623627532487625396914111582754953944965462576624728896917137599778828769958626788685374749661741223741834844643725486925886933118382649581481351844943368484853956759877215252766294896496444835264357169642341291412768946589781812493421379575569593678354241223363739129813633236996588711791919421574583924743119867622229659211793468744163297478952475933163259769578345894367855534294493613767564497137369969315192443795512585', 2)"
   ]
  },
  {
   "cell_type": "code",
   "execution_count": null,
   "metadata": {},
   "outputs": [],
   "source": []
  }
 ],
 "metadata": {
  "kernelspec": {
   "display_name": "Python 3 (ipykernel)",
   "language": "python",
   "name": "python3"
  },
  "language_info": {
   "codemirror_mode": {
    "name": "ipython",
    "version": 3
   },
   "file_extension": ".py",
   "mimetype": "text/x-python",
   "name": "python",
   "nbconvert_exporter": "python",
   "pygments_lexer": "ipython3",
   "version": "3.11.7"
  }
 },
 "nbformat": 4,
 "nbformat_minor": 4
}
