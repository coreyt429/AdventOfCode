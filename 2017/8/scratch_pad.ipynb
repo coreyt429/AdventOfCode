{
 "cells": [
  {
   "cell_type": "code",
   "execution_count": 1,
   "metadata": {},
   "outputs": [],
   "source": [
    "import os\n",
    "import sys\n",
    "sys.path.append(os.path.realpath('../..'))\n",
    "import aoc\n",
    "my_aoc = aoc.AdventOfCode(2017,8)"
   ]
  },
  {
   "cell_type": "code",
   "execution_count": 13,
   "metadata": {},
   "outputs": [],
   "source": [
    "text = \"\"\"b inc 5 if a > 1\n",
    "a inc 1 if b < 5\n",
    "c dec -10 if a >= 1\n",
    "c inc -20 if c == 10\"\"\"\n",
    "lines = text.split('\\n')"
   ]
  },
  {
   "cell_type": "code",
   "execution_count": 15,
   "metadata": {},
   "outputs": [],
   "source": [
    "import re\n",
    "import operator\n",
    "\n",
    "# Dictionary mapping conditionals to functions\n",
    "conditional_operators = {\n",
    "    '==': operator.eq,\n",
    "    '!=': operator.ne,\n",
    "    '>': operator.gt,\n",
    "    '<': operator.lt,\n",
    "    '>=': operator.ge,\n",
    "    '<=': operator.le\n",
    "    # Add more operators as needed\n",
    "}\n",
    "\n",
    "# define global registers\n",
    "registers = {\n",
    "}\n",
    "\n",
    "def check_value(value):\n",
    "    \"\"\"\n",
    "    Function to convert numbers to ints, or set registers for variables\n",
    "    \"\"\"\n",
    "    # try convertint to int first\n",
    "    try:\n",
    "        return int(value)\n",
    "    except ValueError:\n",
    "        # failing that set the register and return the string\n",
    "        registers[value] = 0\n",
    "        return value\n",
    "\n",
    "def parse_instructions(instructions):\n",
    "    \"\"\"\n",
    "    Function to parse instructions\n",
    "    \"\"\"\n",
    "    # init commands\n",
    "    commands = []\n",
    "    input_pattern = re.compile(r'(\\w+) (\\w{3}) (\\S+) if (\\S+) (\\S+) (\\S+)')\n",
    "    # walk instructions\n",
    "    for instruction in instructions:\n",
    "        # regex match?\n",
    "        match = input_pattern.match(instruction)\n",
    "        if match:\n",
    "            # init command\n",
    "            command = { \"condition\": {}}\n",
    "            # populate command values\n",
    "            command['register'] = match.group(1)\n",
    "            registers[command['register']] = 0\n",
    "            command['action'] = match.group(2)\n",
    "            command['value'] = check_value(match.group(3))\n",
    "            command['condition']['v_1'] = check_value(match.group(4))\n",
    "            command['condition']['conditional'] = match.group(5)\n",
    "            command['condition']['v_2'] = check_value(match.group(6))\n",
    "            # add to commands\n",
    "            commands.append(command)\n",
    "    return commands\n",
    "\n",
    "def execute_instruction(instruction):\n",
    "    if instruction['action'] == 'dec':\n",
    "        registers[instruction['register']] -= registers.get(instruction['value'], instruction['value'])\n",
    "        return\n",
    "    registers[instruction['register']] += registers.get(instruction['value'], instruction['value'])\n",
    "\n",
    "def evaluate_condition(condition):\n",
    "    # get variables, check to see if they are registers, if not get their values\n",
    "    # Check if the conditional operator is valid\n",
    "    if condition['conditional'] in conditional_operators:\n",
    "        print(conditional_operators[condition['conditional']])\n",
    "        return conditional_operators[condition['conditional']](\n",
    "            registers.get(condition['v_1'], condition['v_1']),\n",
    "            registers.get(condition['v_2'], condition['v_2'])\n",
    "        )\n",
    "    else:\n",
    "        raise ValueError(f\"Unknown conditional operator: {conditional}\")\n",
    "    "
   ]
  },
  {
   "cell_type": "code",
   "execution_count": 17,
   "metadata": {},
   "outputs": [],
   "source": [
    "program = parse_instructions(lines)"
   ]
  },
  {
   "cell_type": "code",
   "execution_count": 19,
   "metadata": {},
   "outputs": [
    {
     "name": "stdout",
     "output_type": "stream",
     "text": [
      "<built-in function gt>\n",
      "<built-in function lt>\n",
      "<built-in function ge>\n",
      "<built-in function eq>\n",
      "{'b': 0, 'a': 1, 'c': -10}\n",
      "1\n"
     ]
    }
   ],
   "source": [
    "for code in program:\n",
    "    if evaluate_condition(code['condition']):\n",
    "        execute_instruction(code)\n",
    "\n",
    "max_value = max(registers.values())\n",
    "print(registers)\n",
    "print(max_value)\n"
   ]
  },
  {
   "cell_type": "code",
   "execution_count": null,
   "metadata": {},
   "outputs": [],
   "source": []
  },
  {
   "cell_type": "code",
   "execution_count": null,
   "metadata": {},
   "outputs": [],
   "source": []
  }
 ],
 "metadata": {
  "kernelspec": {
   "display_name": "Python 3 (ipykernel)",
   "language": "python",
   "name": "python3"
  },
  "language_info": {
   "codemirror_mode": {
    "name": "ipython",
    "version": 3
   },
   "file_extension": ".py",
   "mimetype": "text/x-python",
   "name": "python",
   "nbconvert_exporter": "python",
   "pygments_lexer": "ipython3",
   "version": "3.11.7"
  }
 },
 "nbformat": 4,
 "nbformat_minor": 4
}
