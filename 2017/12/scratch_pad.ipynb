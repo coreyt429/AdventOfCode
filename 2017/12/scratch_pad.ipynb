{
 "cells": [
  {
   "cell_type": "code",
   "execution_count": 1,
   "metadata": {},
   "outputs": [],
   "source": [
    "import os\n",
    "import sys\n",
    "sys.path.append(os.path.realpath('../..'))\n",
    "import aoc\n",
    "my_aoc = aoc.AdventOfCode(2017,12)"
   ]
  },
  {
   "cell_type": "code",
   "execution_count": 2,
   "metadata": {},
   "outputs": [],
   "source": [
    "input_text = \"\"\"0 <-> 2\n",
    "1 <-> 1\n",
    "2 <-> 0, 3, 4\n",
    "3 <-> 2, 4\n",
    "4 <-> 2, 3, 6\n",
    "5 <-> 6\n",
    "7 <-> 8\n",
    "6 <-> 4, 5\"\"\"\n",
    "input_lines = input_text.split('\\n')"
   ]
  },
  {
   "cell_type": "code",
   "execution_count": 15,
   "metadata": {},
   "outputs": [
    {
     "name": "stdout",
     "output_type": "stream",
     "text": [
      "{0: {2}, 2: {0, 3, 4}, 1: {1}, 3: {2, 4}, 4: {2, 3, 6}, 6: {4, 5}, 5: {6}, 7: {8}, 8: {7}}\n",
      "{0, 1, 2, 3, 4, 5, 6, 7, 8}\n",
      "(0, 2, 3, 4, 6, 5)\n",
      "6\n",
      "{1, 7, 8}\n"
     ]
    }
   ],
   "source": [
    "import re\n",
    "\n",
    "def trace_pipe(current, visited=()):\n",
    "    visited = (*visited, current)\n",
    "    for num in pipes[current]:\n",
    "        if num not in visited:\n",
    "            visited = trace_pipe(num, visited)\n",
    "    return visited\n",
    "    \n",
    "def load_pipes(input_lines):\n",
    "    connections = {}\n",
    "    all_nums = set()\n",
    "    for line in input_lines:\n",
    "        nums = [int(num) for num in re.findall(r'(\\d+)', line)]\n",
    "        all_nums.update(nums)\n",
    "        current = nums.pop(0)\n",
    "        for num in nums:\n",
    "            connections.setdefault(current, set()).add(num)\n",
    "            connections.setdefault(num, set()).add(current)\n",
    "    return connections, all_nums\n",
    "\n",
    "pipes, all_programs = load_pipes(input_lines)\n",
    "print(pipes)\n",
    "print(all_programs)\n",
    "connected = trace_pipe(0)\n",
    "print(connected)\n",
    "print(len(connected))\n",
    "disconnected = all_programs.difference(connected)\n",
    "print(disconnected)"
   ]
  },
  {
   "cell_type": "code",
   "execution_count": null,
   "metadata": {},
   "outputs": [],
   "source": [
    "my_tup = (1, 2, 3)\n",
    "my_new_tup = (*my_tup,4)\n",
    "my_new_tup"
   ]
  },
  {
   "cell_type": "code",
   "execution_count": null,
   "metadata": {},
   "outputs": [],
   "source": [
    "my_set.update(set(my_other_list))"
   ]
  },
  {
   "cell_type": "code",
   "execution_count": null,
   "metadata": {},
   "outputs": [],
   "source": [
    "my_set"
   ]
  },
  {
   "cell_type": "code",
   "execution_count": null,
   "metadata": {},
   "outputs": [],
   "source": [
    "my_third_list=[99,55,33]"
   ]
  },
  {
   "cell_type": "code",
   "execution_count": null,
   "metadata": {},
   "outputs": [],
   "source": [
    "my_set.update(my_third_list)"
   ]
  },
  {
   "cell_type": "code",
   "execution_count": null,
   "metadata": {},
   "outputs": [],
   "source": [
    "my_set"
   ]
  },
  {
   "cell_type": "code",
   "execution_count": null,
   "metadata": {},
   "outputs": [],
   "source": [
    "pipes={}\n",
    "current=1\n",
    "for num in range(5):\n",
    "    pipes.setdefault(current, set()).add(num)\n",
    "pipes"
   ]
  },
  {
   "cell_type": "code",
   "execution_count": 29,
   "metadata": {},
   "outputs": [],
   "source": [
    "my_set_a = set([1,2,3,4,5,6,7,8,9,0])\n",
    "my_tuple_b = (1,2,3,5,6,7,8,0)\n",
    "my_set_a.difference_update(my_tuple_b)"
   ]
  },
  {
   "cell_type": "code",
   "execution_count": 31,
   "metadata": {},
   "outputs": [
    {
     "name": "stdout",
     "output_type": "stream",
     "text": [
      "{4, 9}\n"
     ]
    },
    {
     "data": {
      "text/plain": [
       "4"
      ]
     },
     "execution_count": 31,
     "metadata": {},
     "output_type": "execute_result"
    }
   ],
   "source": [
    "print(my_set_a)\n",
    "my_set_a.pop()"
   ]
  },
  {
   "cell_type": "code",
   "execution_count": null,
   "metadata": {},
   "outputs": [],
   "source": []
  }
 ],
 "metadata": {
  "kernelspec": {
   "display_name": "Python 3 (ipykernel)",
   "language": "python",
   "name": "python3"
  },
  "language_info": {
   "codemirror_mode": {
    "name": "ipython",
    "version": 3
   },
   "file_extension": ".py",
   "mimetype": "text/x-python",
   "name": "python",
   "nbconvert_exporter": "python",
   "pygments_lexer": "ipython3",
   "version": "3.11.7"
  }
 },
 "nbformat": 4,
 "nbformat_minor": 4
}
