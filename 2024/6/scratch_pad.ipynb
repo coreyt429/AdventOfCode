{
 "cells": [
  {
   "cell_type": "code",
   "execution_count": 1,
   "metadata": {},
   "outputs": [],
   "source": [
    "import os\n",
    "import sys\n",
    "sys.path.append(os.path.realpath('../..'))\n",
    "import aoc\n",
    "my_aoc = aoc.AdventOfCode(2024,6)\n",
    "from solution import *"
   ]
  },
  {
   "cell_type": "code",
   "execution_count": null,
   "metadata": {},
   "outputs": [],
   "source": []
  },
  {
   "cell_type": "code",
   "execution_count": 2,
   "metadata": {},
   "outputs": [],
   "source": [
    "input_text = \"\"\"....#.....\n",
    ".........#\n",
    "..........\n",
    "..#.......\n",
    ".......#..\n",
    "..........\n",
    ".#..^.....\n",
    "........#.\n",
    "#.........\n",
    "......#...\"\"\""
   ]
  },
  {
   "cell_type": "code",
   "execution_count": null,
   "metadata": {},
   "outputs": [],
   "source": []
  },
  {
   "cell_type": "code",
   "execution_count": 28,
   "metadata": {},
   "outputs": [
    {
     "name": "stdout",
     "output_type": "stream",
     "text": [
      "(4, 5)\n",
      "(4, 4)\n",
      "(4, 3)\n",
      "(4, 2)\n",
      "(4, 1)\n",
      "(5, 1)\n",
      "(6, 1)\n",
      "(7, 1)\n",
      "(8, 1)\n",
      "(8, 2)\n",
      "(8, 3)\n",
      "(8, 4)\n",
      "(8, 5)\n",
      "(8, 6)\n",
      "(7, 6)\n",
      "(6, 6)\n",
      "(5, 6)\n",
      "(4, 6)\n",
      "(3, 6)\n",
      "(2, 6)\n",
      "(2, 5)\n",
      "(3, 5)\n",
      "(4, 5)\n",
      "(5, 5)\n",
      "(6, 5)\n",
      "(7, 5)\n",
      "(8, 5)\n",
      "(9, 5)\n",
      "26 (9, 5)\n"
     ]
    }
   ],
   "source": [
    "guard = Guard(input_text)\n",
    "guard.set_point((2,4), '#')\n",
    "for pos in guard.walk_about():\n",
    "    print(pos)\n",
    "    pass\n",
    "print(len(guard.visited), guard.pos)\n"
   ]
  },
  {
   "cell_type": "code",
   "execution_count": 29,
   "metadata": {},
   "outputs": [
    {
     "name": "stdout",
     "output_type": "stream",
     "text": [
      "Loop Detected\n",
      "Loop Detected\n",
      "Loop Detected\n",
      "Loop Detected\n",
      "Loop Detected\n",
      "Loop Detected\n",
      "6 loops detected: {(3, 8), (7, 7), (1, 8), (7, 9), (6, 7), (3, 6)}\n"
     ]
    }
   ],
   "source": [
    "\"\"\"\n",
    "Part 2.  There are 16,641 points in the puzzle, but only 5409 are visited.\n",
    "So we only need to try 5408.  Research loop detection algorithms, and hop to it\n",
    "\"\"\"\n",
    "tortoise = Guard(input_text)\n",
    "hare = Guard(input_text)\n",
    "start_pos = hare.start[0]\n",
    "loops = 0\n",
    "loop_positions = set()\n",
    "for test_point, char in hare.items():\n",
    "    if char == '#':\n",
    "        continue\n",
    "    if test_point == start_pos:\n",
    "        continue\n",
    "    counter = 0\n",
    "    tortoise.set_point(test_point, '#')\n",
    "    hare.set_point(test_point, '#')\n",
    "    intersection_count = 0\n",
    "    while next(hare.walk_about(), None) is not None:\n",
    "        counter += 1\n",
    "        if counter % 2 == 0:\n",
    "            next(tortoise.walk_about(), None)\n",
    "        if tortoise.pos == hare.pos:\n",
    "            intersection_count += 1\n",
    "            if intersection_count > 1:\n",
    "                print(f\"Loop Detected\")\n",
    "                loops += 1\n",
    "                loop_positions.add(test_point)\n",
    "                break\n",
    "    tortoise.set_point(test_point, '.')\n",
    "    hare.set_point(test_point, '.')\n",
    "    hare.reset()\n",
    "    tortoise.reset()\n",
    "print(f\"{loops} loops detected: {loop_positions}\")"
   ]
  },
  {
   "cell_type": "code",
   "execution_count": 5,
   "metadata": {},
   "outputs": [
    {
     "data": {
      "text/plain": [
       "{'^': 'n',\n",
       " 'n': '^',\n",
       " 'v': 's',\n",
       " 's': 'v',\n",
       " '<': 'w',\n",
       " 'w': '<',\n",
       " '>': 'e',\n",
       " 'e': '>'}"
      ]
     },
     "execution_count": 5,
     "metadata": {},
     "output_type": "execute_result"
    }
   ],
   "source": [
    "my_dict"
   ]
  },
  {
   "cell_type": "code",
   "execution_count": 30,
   "metadata": {},
   "outputs": [
    {
     "data": {
      "text/plain": [
       "(8, 2)"
      ]
     },
     "execution_count": 30,
     "metadata": {},
     "output_type": "execute_result"
    }
   ],
   "source": [
    "(2, 4)\n",
    "(3, 8) # option 5\n",
    "(7, 7) # option 3\n",
    "(5, 8)\n",
    "(1, 8) # option 4\n",
    "(5, 1)\n",
    "(7, 9) # option 6\n",
    "(6, 7) # option 2\n",
    "(7, 6)\n",
    "(3, 6) # option 1\n",
    "(8, 2)"
   ]
  },
  {
   "cell_type": "code",
   "execution_count": 31,
   "metadata": {},
   "outputs": [
    {
     "data": {
      "text/plain": [
       "set()"
      ]
     },
     "execution_count": 31,
     "metadata": {},
     "output_type": "execute_result"
    }
   ],
   "source": [
    "a= set()\n",
    "a.add(1)\n",
    "a.remove(1)\n",
    "a"
   ]
  },
  {
   "cell_type": "code",
   "execution_count": null,
   "metadata": {},
   "outputs": [],
   "source": []
  }
 ],
 "metadata": {
  "kernelspec": {
   "display_name": "base",
   "language": "python",
   "name": "python3"
  },
  "language_info": {
   "codemirror_mode": {
    "name": "ipython",
    "version": 3
   },
   "file_extension": ".py",
   "mimetype": "text/x-python",
   "name": "python",
   "nbconvert_exporter": "python",
   "pygments_lexer": "ipython3",
   "version": "3.11.7"
  }
 },
 "nbformat": 4,
 "nbformat_minor": 4
}
