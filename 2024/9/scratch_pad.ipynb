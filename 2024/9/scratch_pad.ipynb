{
 "cells": [
  {
   "cell_type": "code",
   "execution_count": 1,
   "metadata": {},
   "outputs": [],
   "source": [
    "import os\n",
    "import sys\n",
    "sys.path.append(os.path.realpath('../..'))\n",
    "import aoc\n",
    "my_aoc = aoc.AdventOfCode(2024,9)\n",
    "from solution import *"
   ]
  },
  {
   "cell_type": "code",
   "execution_count": 2,
   "metadata": {},
   "outputs": [],
   "source": [
    "input_text = \"2333133121414131402\""
   ]
  },
  {
   "cell_type": "code",
   "execution_count": null,
   "metadata": {},
   "outputs": [],
   "source": []
  },
  {
   "cell_type": "code",
   "execution_count": 3,
   "metadata": {},
   "outputs": [
    {
     "name": "stdout",
     "output_type": "stream",
     "text": [
      "1928\n",
      "Files:\n",
      "{'idx': 0, 'length': 2, 'id': 0}\n",
      "{'idx': 5, 'length': 3, 'id': 1}\n",
      "{'idx': 11, 'length': 1, 'id': 2}\n",
      "{'idx': 15, 'length': 3, 'id': 3}\n",
      "{'idx': 19, 'length': 2, 'id': 4}\n",
      "{'idx': 22, 'length': 4, 'id': 5}\n",
      "{'idx': 27, 'length': 4, 'id': 6}\n",
      "{'idx': 32, 'length': 3, 'id': 7}\n",
      "{'idx': 36, 'length': 4, 'id': 8}\n",
      "{'idx': 40, 'length': 2, 'id': 9}\n",
      "Spaces\n",
      "{'idx': 2, 'length': 3}\n",
      "{'idx': 8, 'length': 3}\n",
      "{'idx': 12, 'length': 3}\n",
      "{'idx': 18, 'length': 1}\n",
      "{'idx': 21, 'length': 1}\n",
      "{'idx': 26, 'length': 1}\n",
      "{'idx': 31, 'length': 1}\n",
      "{'idx': 35, 'length': 1}\n",
      "Moving 9 of length 2 into space at 2 of length 3\n",
      "Moving 7 of length 3 into space at 8 of length 3\n",
      "Moving 4 of length 2 into space at 12 of length 3\n",
      "Moving 2 of length 1 into space at 4 of length 1\n",
      "file: {'idx': 0, 'length': 2, 'id': 0}, data: [0, 0]\n",
      "file: {'idx': 5, 'length': 3, 'id': 1}, data: [1, 1, 1]\n",
      "file: {'idx': 4, 'length': 1, 'id': 2}, data: [2]\n",
      "file: {'idx': 15, 'length': 3, 'id': 3}, data: [3, 3, 3]\n",
      "file: {'idx': 12, 'length': 2, 'id': 4}, data: [4, 4]\n",
      "file: {'idx': 22, 'length': 4, 'id': 5}, data: [5, 5, 5, 5]\n",
      "file: {'idx': 27, 'length': 4, 'id': 6}, data: [6, 6, 6, 6]\n",
      "file: {'idx': 8, 'length': 3, 'id': 7}, data: [7, 7, 7]\n",
      "file: {'idx': 36, 'length': 4, 'id': 8}, data: [8, 8, 8, 8]\n",
      "file: {'idx': 2, 'length': 2, 'id': 9}, data: [9, 9]\n",
      "[0, 0, 9, 9, 2, 1, 1, 1, 7, 7, 7, '', 4, 4, '.', 3, 3, 3, '.', '', '', '.', 5, 5, 5, 5, '.', 6, 6, 6]\n",
      "2858\n"
     ]
    }
   ],
   "source": [
    "files = read_file_map(input_text)\n",
    "files = compress_filesystem(files)\n",
    "checksum = checksum_filesystem(files)\n",
    "print(checksum)\n",
    "\n",
    "files = read_file_map(input_text)\n",
    "files = compress_filesystem_2(files)\n",
    "checksum = checksum_filesystem(files)\n",
    "print(checksum)"
   ]
  },
  {
   "cell_type": "code",
   "execution_count": null,
   "metadata": {},
   "outputs": [],
   "source": []
  }
 ],
 "metadata": {
  "kernelspec": {
   "display_name": "base",
   "language": "python",
   "name": "python3"
  },
  "language_info": {
   "codemirror_mode": {
    "name": "ipython",
    "version": 3
   },
   "file_extension": ".py",
   "mimetype": "text/x-python",
   "name": "python",
   "nbconvert_exporter": "python",
   "pygments_lexer": "ipython3",
   "version": "3.11.7"
  }
 },
 "nbformat": 4,
 "nbformat_minor": 4
}
