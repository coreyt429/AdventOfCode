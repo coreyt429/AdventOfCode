{
 "cells": [
  {
   "cell_type": "code",
   "execution_count": 10,
   "metadata": {},
   "outputs": [],
   "source": [
    "import os\n",
    "import sys\n",
    "sys.path.append(os.path.realpath('../..'))\n",
    "import aoc\n",
    "my_aoc = aoc.AdventOfCode(2024,12)\n",
    "from solution import *"
   ]
  },
  {
   "cell_type": "code",
   "execution_count": 11,
   "metadata": {},
   "outputs": [],
   "source": [
    "from grid import Grid, manhattan_distance\n",
    "from collections import defaultdict"
   ]
  },
  {
   "cell_type": "code",
   "execution_count": 12,
   "metadata": {},
   "outputs": [],
   "source": [
    "input_text = \"\"\"AAAA\n",
    "BBCD\n",
    "BBCC\n",
    "EEEC\"\"\"\n",
    "\n",
    "input_text = \"\"\"RRRRIICCFF\n",
    "RRRRIICCCF\n",
    "VVRRRCCFFF\n",
    "VVRCCCJFFF\n",
    "VVVVCJJCFE\n",
    "VVIVCCJJEE\n",
    "VVIIICJJEE\n",
    "MIIIIIJJEE\n",
    "MIIISIJEEE\n",
    "MMMISSJEEE\"\"\""
   ]
  },
  {
   "cell_type": "code",
   "execution_count": 13,
   "metadata": {},
   "outputs": [
    {
     "name": "stdout",
     "output_type": "stream",
     "text": [
      "((0, 1), (2, 1), (0, 0), (3, 1), (1, 1), (2, 0), (4, 2), (3, 0), (2, 3), (2, 2), (1, 0), (3, 2))\n",
      "RRRRIICCFF\n",
      "RRRRIICCCF\n",
      "VVRRRCCFFF\n",
      "VVRCCCJFFF\n",
      "VVVVCJJCFE\n",
      "VVIVCCJJEE\n",
      "VVIIICJJEE\n",
      "MIIIIIJJEE\n",
      "MIIISIJEEE\n",
      "MMMISSJEEE\n",
      "boundary_points: ((2, -1), (2, 4), (1, 2), (3, -1), (4, 0), (1, 3), (4, 1), (4, 3), (-1, 1), (1, -1), (-1, 0), (0, 2), (3, 3), (0, -1), (5, 2))\n",
      "directions: ('e', 'w')\n",
      "direction: e\n",
      "walk_direction(grid, boundary_points, (-1, 0), e) = {(-1, 0)}\n",
      "direction: w\n",
      "walk_direction(grid, boundary_points, (-1, 0), w) = {(-1, 0)}\n",
      "directions: ('n', 's')\n",
      "direction: n\n",
      "walk_direction(grid, boundary_points, (-1, 0), n) = {(-1, 0)}\n",
      "direction: s\n",
      "walk_direction(grid, boundary_points, (-1, 0), s) = {(-1, 0), (-1, 1)}\n",
      "directions: ('e', 'w')\n",
      "direction: e\n",
      "walk_direction(grid, boundary_points, (0, -1), e) = {(3, -1), (2, -1), (0, -1), (1, -1)}\n",
      "direction: w\n",
      "walk_direction(grid, boundary_points, (0, -1), w) = {(0, -1)}\n",
      "directions: ('n', 's')\n",
      "direction: n\n",
      "walk_direction(grid, boundary_points, (0, -1), n) = {(0, -1)}\n",
      "direction: s\n",
      "walk_direction(grid, boundary_points, (0, -1), s) = {(0, -1)}\n",
      "directions: ('e', 'w')\n",
      "direction: e\n",
      "walk_direction(grid, boundary_points, (0, 2), e) = {(0, 2), (1, 2)}\n",
      "direction: w\n",
      "walk_direction(grid, boundary_points, (0, 2), w) = {(0, 2)}\n",
      "directions: ('n', 's')\n",
      "direction: n\n",
      "walk_direction(grid, boundary_points, (0, 2), n) = {(0, 2)}\n",
      "direction: s\n",
      "walk_direction(grid, boundary_points, (0, 2), s) = {(0, 2)}\n",
      "directions: ('e', 'w')\n",
      "direction: e\n",
      "walk_direction(grid, boundary_points, (1, 3), e) = {(1, 3)}\n",
      "direction: w\n",
      "walk_direction(grid, boundary_points, (1, 3), w) = {(1, 3)}\n",
      "directions: ('n', 's')\n",
      "direction: n\n",
      "walk_direction(grid, boundary_points, (1, 3), n) = {(1, 2), (1, 3)}\n",
      "direction: s\n",
      "walk_direction(grid, boundary_points, (1, 3), s) = {(1, 3)}\n",
      "directions: ('e', 'w')\n",
      "direction: e\n",
      "walk_direction(grid, boundary_points, (2, 4), e) = {(2, 4)}\n",
      "direction: w\n",
      "walk_direction(grid, boundary_points, (2, 4), w) = {(2, 4)}\n",
      "directions: ('n', 's')\n",
      "direction: n\n",
      "walk_direction(grid, boundary_points, (2, 4), n) = {(2, 4)}\n",
      "direction: s\n",
      "walk_direction(grid, boundary_points, (2, 4), s) = {(2, 4)}\n",
      "directions: ('e', 'w')\n",
      "direction: e\n",
      "walk_direction(grid, boundary_points, (3, 3), e) = {(3, 3), (4, 3)}\n",
      "direction: w\n",
      "walk_direction(grid, boundary_points, (3, 3), w) = {(3, 3)}\n",
      "directions: ('n', 's')\n",
      "direction: n\n",
      "walk_direction(grid, boundary_points, (3, 3), n) = {(3, 3)}\n",
      "direction: s\n",
      "walk_direction(grid, boundary_points, (3, 3), s) = {(3, 3)}\n",
      "directions: ('e', 'w')\n",
      "direction: e\n",
      "walk_direction(grid, boundary_points, (4, 0), e) = {(4, 0)}\n",
      "direction: w\n",
      "walk_direction(grid, boundary_points, (4, 0), w) = {(4, 0)}\n",
      "directions: ('n', 's')\n",
      "direction: n\n",
      "walk_direction(grid, boundary_points, (4, 0), n) = {(4, 0)}\n",
      "direction: s\n",
      "walk_direction(grid, boundary_points, (4, 0), s) = {(4, 0), (4, 1)}\n",
      "directions: ('e', 'w')\n",
      "direction: e\n",
      "walk_direction(grid, boundary_points, (5, 2), e) = {(5, 2)}\n",
      "direction: w\n",
      "walk_direction(grid, boundary_points, (5, 2), w) = {(5, 2)}\n",
      "directions: ('n', 's')\n",
      "direction: n\n",
      "walk_direction(grid, boundary_points, (5, 2), n) = {(5, 2)}\n",
      "direction: s\n",
      "walk_direction(grid, boundary_points, (5, 2), s) = {(5, 2)}\n",
      "16 sides: [{(-1, 0)}, {(-1, 0), (-1, 1)}, {(2, -1), (3, -1), (0, -1), (1, -1)}, {(0, -1)}, {(0, 2), (1, 2)}, {(0, 2)}, {(1, 3)}, {(1, 2), (1, 3)}, {(2, 4)}, {(2, 4)}, {(3, 3), (4, 3)}, {(3, 3)}, {(4, 0)}, {(4, 0), (4, 1)}, {(5, 2)}, {(5, 2)}]\n"
     ]
    },
    {
     "data": {
      "text/plain": [
       "{'n': (0, -1),\n",
       " 'ne': (1, -1),\n",
       " 'e': (1, 0),\n",
       " 'se': (1, 1),\n",
       " 's': (0, 1),\n",
       " 'sw': (-1, 1),\n",
       " 'w': (-1, 0),\n",
       " 'nw': (-1, -1)}"
      ]
     },
     "execution_count": 13,
     "metadata": {},
     "output_type": "execute_result"
    }
   ],
   "source": [
    "grid = Grid(input_text, use_overrides=False, coordinate_system='screen', type='infinite')\n",
    "region = flood_fill_region(grid, (0, 0))\n",
    "print(region)\n",
    "print(grid)\n",
    "boundary_points = find_region_boundaries(grid, region)\n",
    "print(f\"boundary_points: {boundary_points}\")\n",
    "sides = identify_sides(grid, boundary_points)\n",
    "print(f\"{len(sides)} sides: {sides}\")\n",
    "grid.get_neighbors(point=(0,0))"
   ]
  },
  {
   "cell_type": "code",
   "execution_count": 14,
   "metadata": {},
   "outputs": [
    {
     "name": "stdout",
     "output_type": "stream",
     "text": [
      "A region of R plants with price 12 * 10 = 120\n",
      "A region of I plants with price 14 * 16 = 224\n",
      "A region of I plants with price 4 * 4 = 16\n",
      "A region of C plants with price 14 * 22 = 308\n",
      "A region of C plants with price 1 * 4 = 4\n",
      "A region of F plants with price 10 * 12 = 120\n",
      "A region of V plants with price 13 * 10 = 130\n",
      "A region of J plants with price 11 * 12 = 132\n",
      "A region of E plants with price 13 * 8 = 104\n",
      "A region of M plants with price 5 * 6 = 30\n",
      "A region of S plants with price 3 * 6 = 18\n",
      "1206\n"
     ]
    }
   ],
   "source": [
    "grid = Grid(input_text, use_overrides=False, coordinate_system='screen', type='infinite')\n",
    "regions_dict = get_regions(grid)\n",
    "cost = 0\n",
    "for char, regions in regions_dict.items():\n",
    "    for region in regions:\n",
    "        area = area_of_region(region)\n",
    "        # print(f\"permiter of {char}: {region}\")\n",
    "        # perimeter = perimeter_of_region(grid, region)\n",
    "        perimeter = sides_of_region(grid, region)\n",
    "        print(f\"A region of {char} plants with price {area} * {perimeter} = {area * perimeter}\")\n",
    "        cost += area * perimeter\n",
    "\n",
    "print(cost)\n"
   ]
  },
  {
   "cell_type": "code",
   "execution_count": 15,
   "metadata": {},
   "outputs": [],
   "source": [
    "# should be 4\n"
   ]
  },
  {
   "cell_type": "code",
   "execution_count": 16,
   "metadata": {},
   "outputs": [
    {
     "name": "stdout",
     "output_type": "stream",
     "text": [
      "{'n': (-1, -1), 'ne': (0, -1), 'e': (0, 0), 'se': (0, 1), 's': (-1, 1), 'sw': (-2, 1), 'w': (-2, 0), 'nw': (-2, -1)}\n"
     ]
    }
   ],
   "source": [
    "boundary_points= ((2, -1), (2, 4), (1, 2), (3, -1), (4, 0), (1, 3), (4, 1), (4, 3), (-1, 1), (1, -1), (-1, 0), (0, 2), (3, 3), (0, -1), (5, 2))\n",
    "start = min(boundary_points)\n",
    "neighbors = grid.get_neighbors(point=start)\n",
    "print(neighbors)\n",
    "# output: {'n': (-1, -1), 'ne': (0, -1), 'e': (0, 0), 'se': (0, 1), 's': (-1, 1), 'sw': (-2, 1), 'w': (-2, 0), 'nw': (-2, -1)}\n"
   ]
  },
  {
   "cell_type": "code",
   "execution_count": 17,
   "metadata": {},
   "outputs": [
    {
     "name": "stdout",
     "output_type": "stream",
     "text": [
      "Boundary points (15): {(2, -1), (2, 4), (1, 2), (4, 0), (3, -1), (1, 3), (4, 3), (-1, 1), (1, -1), (0, -1), (-1, 0), (0, 2), (3, 3), (4, 1), (5, 2)}\n",
      "Boundary Walk Path (15): [(-1, 0), (-1, 1), (0, 2), (1, 2), (1, 3), (2, 4), (3, 3), (4, 3), (5, 2), (4, 1), (4, 0), (3, -1), (2, -1), (1, -1), (0, -1)]\n",
      "RRRRIICCFF\n",
      "RRRRIICCCF\n",
      "VVRRRCCFFF\n",
      "VVRCCCJFFF\n",
      "VVVVCJJCFE\n",
      "VVIVCCJJEE\n",
      "VVIIICJJEE\n",
      "MIIIIIJJEE\n",
      "MIIISIJEEE\n",
      "MMMISSJEEE\n"
     ]
    },
    {
     "ename": "TypeError",
     "evalue": "count_edges() missing 2 required positional arguments: 'path' and 'region'",
     "output_type": "error",
     "traceback": [
      "\u001b[1;31m---------------------------------------------------------------------------\u001b[0m",
      "\u001b[1;31mTypeError\u001b[0m                                 Traceback (most recent call last)",
      "Cell \u001b[1;32mIn[17], line 13\u001b[0m\n\u001b[0;32m     11\u001b[0m \u001b[38;5;28mprint\u001b[39m(\u001b[38;5;124mf\u001b[39m\u001b[38;5;124m\"\u001b[39m\u001b[38;5;124mBoundary Walk Path (\u001b[39m\u001b[38;5;132;01m{\u001b[39;00m\u001b[38;5;28mlen\u001b[39m(path)\u001b[38;5;132;01m}\u001b[39;00m\u001b[38;5;124m): \u001b[39m\u001b[38;5;132;01m{\u001b[39;00mpath\u001b[38;5;132;01m}\u001b[39;00m\u001b[38;5;124m\"\u001b[39m)\n\u001b[0;32m     12\u001b[0m \u001b[38;5;28mprint\u001b[39m(grid)\n\u001b[1;32m---> 13\u001b[0m edge_count \u001b[38;5;241m=\u001b[39m count_edges(path)\n\u001b[0;32m     14\u001b[0m \u001b[38;5;28mprint\u001b[39m(\u001b[38;5;124m\"\u001b[39m\u001b[38;5;124mNumber of edges:\u001b[39m\u001b[38;5;124m\"\u001b[39m, edge_count)\n",
      "\u001b[1;31mTypeError\u001b[0m: count_edges() missing 2 required positional arguments: 'path' and 'region'"
     ]
    }
   ],
   "source": [
    "\n",
    "\n",
    "\n",
    "\n",
    "# USAGE EXAMPLE:\n",
    "boundary_points= {\n",
    "    (2, -1), (2, 4), (1, 2), (3, -1), (4, 0), (1, 3), (4, 1),\n",
    "    (4, 3), (-1, 1), (1, -1), (-1, 0), (0, 2), (3, 3), (0, -1), (5, 2)\n",
    "}\n",
    "\n",
    "grid = Grid(input_text, use_overrides=False, coordinate_system='screen', type='infinite')\n",
    "path = find_path(boundary_points, grid)\n",
    "\n",
    "print(f\"Boundary points ({len(boundary_points)}): {boundary_points}\")\n",
    "print(f\"Boundary Walk Path ({len(path)}): {path}\")\n",
    "print(grid)\n",
    "edge_count = count_edges(path)\n",
    "print(\"Number of edges:\", edge_count)\n"
   ]
  },
  {
   "cell_type": "code",
   "execution_count": 9,
   "metadata": {},
   "outputs": [
    {
     "data": {
      "text/plain": [
       "{(1, 2)}"
      ]
     },
     "execution_count": 9,
     "metadata": {},
     "output_type": "execute_result"
    }
   ],
   "source": [
    "a = {(2, -1), (2, 4), (1, 2), (4, 0), (3, -1), (1, 3), (4, 3), (-1, 1), (1, -1), (0, -1), (-1, 0), (0, 2), (3, 3), (4, 1), (5, 2)}\n",
    "b = {(-1, 0), (0, -1), (1, -1), (2, -1), (3, -1), (4, 0), (4, 1), (5, 2), (4, 3), (3, 3), (2, 4), (1, 3), (0, 2), (-1, 1)}\n",
    "a.difference(b)"
   ]
  },
  {
   "cell_type": "code",
   "execution_count": 10,
   "metadata": {},
   "outputs": [
    {
     "name": "stdout",
     "output_type": "stream",
     "text": [
      "path: [(2, 3), (3, 2), (4, 2), (5, 1), (5, 0), (6, -1), (7, -1), (8, 0), (9, 1), (8, 2), (7, 2), (6, 3), (5, 4), (6, 5), (6, 6), (5, 7), (4, 6), (3, 5), (3, 4)]\n",
      "ne (6, 3)\n",
      "se (6, 5)\n"
     ]
    }
   ],
   "source": [
    "point = (5, 4)\n",
    "region = flood_fill_region(grid, (4,5))\n",
    "boundary_points = find_region_boundaries(grid, region)\n",
    "path = find_path(boundary_points, grid)\n",
    "print(f\"path: {path}\")\n",
    "neighbors = grid.get_neighbors(point=point)\n",
    "for dir, pos in neighbors.items():\n",
    "    if pos in path:\n",
    "#         print(dir, pos)"
   ]
  },
  {
   "cell_type": "code",
   "execution_count": 19,
   "metadata": {},
   "outputs": [
    {
     "name": "stdout",
     "output_type": "stream",
     "text": [
      "Part 1: 1451030\n",
      "Part 2: 859494\n"
     ]
    }
   ],
   "source": [
    "# u/hugseverycat  solution.\n",
    "from collections import namedtuple\n",
    "\n",
    "with open('input.txt') as f:\n",
    "    lines = [line.rstrip() for line in f]\n",
    "\n",
    "garden = dict()\n",
    "y_bound = len(lines)\n",
    "x_bound = len(lines[0])\n",
    "for y, this_line in enumerate(lines):\n",
    "    for x, this_char in enumerate(this_line):\n",
    "        garden[(x, y)] = this_char\n",
    "to_be_visited = list(garden.keys())\n",
    "\n",
    "Region = namedtuple('Region', ['coords', 'area', 'min_c', 'max_c'])\n",
    "\n",
    "\n",
    "def flood_fill(start_coord: tuple, g_map: dict) -> list:\n",
    "    # We will keep track of the x and y boundaries of this region to make the ray casting faster later on\n",
    "    min_x, min_y = x_bound, y_bound\n",
    "    max_x, max_y = 0, 0\n",
    "    queue = [start_coord]  # queue keeps track of coordinates we have to check\n",
    "    this_crop = g_map[start_coord]  # What letter crop are we even looking for\n",
    "    this_region = set()  # Will keep all the unique coordinates in this region of this_crop\n",
    "    checked = set()  # All the coordinates we've already checked\n",
    "    while queue:  # Keep checking the queue while it isn't empty\n",
    "        cx, cy = queue.pop()\n",
    "        if g_map[(cx, cy)] == this_crop:\n",
    "            # We've found this_crop, add it to this_region and update boundaries as needed\n",
    "            this_region.add((cx, cy))\n",
    "            if cx < min_x: min_x = cx\n",
    "            if cy < min_y: min_y = cy\n",
    "            if cx > max_x: max_x = cx\n",
    "            if cy > max_y: max_y = cy\n",
    "            # Now lets check all its neighbors\n",
    "            for diff_coord in [(0, 1), (0, -1), (1, 0), (-1, 0)]:\n",
    "                dx, dy = diff_coord\n",
    "                # If it is in range and we haven't checked this neighbor already, add it to the queue\n",
    "                if cx + dx in range(0, x_bound) and cy + dy in range(0, y_bound):\n",
    "                    if (cx + dx, cy + dy) not in checked:\n",
    "                        queue.append((cx + dx, cy + dy))\n",
    "        checked.add((cx, cy))\n",
    "    return [this_region, (min_x, min_y), (max_x, max_y)]\n",
    "\n",
    "\n",
    "def ray_cast(this_region: set, mins: tuple, maxs: tuple) -> int:\n",
    "    # We will draw horizontal lines and then vertical lines across the area where this_region is located\n",
    "    # Every time we pass from outside the region to inside the region, or inside to outside, we've found a perimeter\n",
    "    perimeter = 0\n",
    "    minx, miny = mins\n",
    "    maxx, maxy = maxs\n",
    "    # Cast rays horizontally, counting every time we pass a boundary\n",
    "    for this_y in range(miny, maxy + 1):\n",
    "        in_bound = False  # Always start out of bounds\n",
    "        for this_x in range(minx, maxx + 1):\n",
    "            # If we've entered the region from outside\n",
    "            if (this_x, this_y) in this_region and not in_bound:\n",
    "                in_bound = True\n",
    "                perimeter += 1\n",
    "            # If we've exited the region\n",
    "            elif (this_x, this_y) not in this_region and in_bound:\n",
    "                in_bound = False\n",
    "                perimeter += 1\n",
    "        if in_bound:  # If we've reached the end of our checking zone and we are inside the region\n",
    "            perimeter += 1\n",
    "\n",
    "    # Do the same thing but vertically\n",
    "    for this_x in range(minx, maxx + 1):\n",
    "        in_bound = False\n",
    "        for this_y in range(miny, maxy + 1):\n",
    "            if (this_x, this_y) in this_region and not in_bound:\n",
    "                in_bound = True\n",
    "                perimeter += 1\n",
    "            elif (this_x, this_y) not in this_region and in_bound:\n",
    "                in_bound = False\n",
    "                perimeter += 1\n",
    "        if in_bound:\n",
    "            perimeter += 1\n",
    "\n",
    "    return perimeter\n",
    "\n",
    "\n",
    "def count_corners(this_region: set) -> int:\n",
    "    # Outside corners:\n",
    "    # ?.   # If (x, y-1) (up) and (x-1, y) (left) are different from A\n",
    "    # .A<  # Then A (with a caret pointed to it) is an outside corner\n",
    "\n",
    "    # Inside corners:\n",
    "    # VA   # if (x, y-1) and (x-1, y) are the same and (x-1, y-1) is different from A,\n",
    "    # AA<  # then A (with a caret pointed to it) is an inside corner\n",
    "\n",
    "    # Then check each rotation. A single coordinate can be a corner up to 4 times so we must check all ways.\n",
    "\n",
    "    outside_check = [\n",
    "        # different, different\n",
    "        [(0, -1), (-1, 0)],\n",
    "        [(0, -1), (1, 0)],\n",
    "        [(1, 0), (0, 1)],\n",
    "        [(-1, 0), (0, 1)]\n",
    "    ]\n",
    "    inside_check = [\n",
    "        # Same, same, different\n",
    "        [(0, -1), (-1, 0), (-1, -1)],\n",
    "        [(0, -1), (1, 0), (1, -1)],\n",
    "        [(1, 0), (0, 1), (1, 1)],\n",
    "        [(-1, 0), (0, 1), (-1, 1)]\n",
    "    ]\n",
    "    corner_count = 0\n",
    "    for coord in this_region:\n",
    "        cx, cy = coord\n",
    "        for o_coords in outside_check:\n",
    "            ox1, oy1 = o_coords[0]\n",
    "            ox2, oy2 = o_coords[1]\n",
    "            if (cx + ox1, cy + oy1) not in this_region and (cx + ox2, cy + oy2) not in this_region:\n",
    "                corner_count += 1\n",
    "        for i_coords in inside_check:\n",
    "            ox1, oy1 = i_coords[0]\n",
    "            ox2, oy2 = i_coords[1]\n",
    "            ox3, oy3 = i_coords[2]\n",
    "            if ((cx + ox1, cy + oy1) in this_region and (cx + ox2, cy + oy2) in this_region and\n",
    "                    (cx + ox3, cy + oy3) not in this_region):\n",
    "                corner_count += 1\n",
    "    return corner_count\n",
    "\n",
    "\n",
    "regions = []\n",
    "while to_be_visited:\n",
    "    start_c = to_be_visited.pop()\n",
    "    region_coords, min_coords, max_coords = flood_fill(start_c, garden)\n",
    "    region_size = len(region_coords)\n",
    "    regions.append(Region(region_coords, region_size, min_coords, max_coords))\n",
    "    to_be_visited = list(set(to_be_visited).difference(region_coords))\n",
    "\n",
    "cost = 0\n",
    "cost2 = 0\n",
    "for r in regions:\n",
    "    for s in r.coords:\n",
    "        perim = ray_cast(r.coords, r.min_c, r.max_c)\n",
    "        corners = count_corners(r.coords)\n",
    "        cost += r.area * perim\n",
    "        cost2 += r.area * corners\n",
    "        break\n",
    "\n",
    "print(f\"Part 1: {cost}\")\n",
    "print(f\"Part 2: {cost2}\")"
   ]
  },
  {
   "cell_type": "code",
   "execution_count": null,
   "metadata": {},
   "outputs": [],
   "source": []
  }
 ],
 "metadata": {
  "kernelspec": {
   "display_name": "base",
   "language": "python",
   "name": "python3"
  },
  "language_info": {
   "codemirror_mode": {
    "name": "ipython",
    "version": 3
   },
   "file_extension": ".py",
   "mimetype": "text/x-python",
   "name": "python",
   "nbconvert_exporter": "python",
   "pygments_lexer": "ipython3",
   "version": "3.11.7"
  }
 },
 "nbformat": 4,
 "nbformat_minor": 4
}
