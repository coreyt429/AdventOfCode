{
 "cells": [
  {
   "cell_type": "code",
   "execution_count": 1,
   "metadata": {},
   "outputs": [],
   "source": [
    "import os\n",
    "import sys\n",
    "sys.path.append(os.path.realpath('../..'))\n",
    "import aoc\n",
    "my_aoc = aoc.AdventOfCode(2024,12)\n",
    "from solution import *"
   ]
  },
  {
   "cell_type": "code",
   "execution_count": 2,
   "metadata": {},
   "outputs": [],
   "source": [
    "from grid import Grid, manhattan_distance\n",
    "from collections import defaultdict"
   ]
  },
  {
   "cell_type": "code",
   "execution_count": 3,
   "metadata": {},
   "outputs": [],
   "source": [
    "input_text = \"\"\"AAAA\n",
    "BBCD\n",
    "BBCC\n",
    "EEEC\"\"\"\n",
    "\n",
    "input_text = \"\"\"RRRRIICCFF\n",
    "RRRRIICCCF\n",
    "VVRRRCCFFF\n",
    "VVRCCCJFFF\n",
    "VVVVCJJCFE\n",
    "VVIVCCJJEE\n",
    "VVIIICJJEE\n",
    "MIIIIIJJEE\n",
    "MIIISIJEEE\n",
    "MMMISSJEEE\"\"\""
   ]
  },
  {
   "cell_type": "code",
   "execution_count": 4,
   "metadata": {},
   "outputs": [
    {
     "name": "stdout",
     "output_type": "stream",
     "text": [
      "((0, 1), (2, 1), (0, 0), (3, 1), (1, 1), (2, 0), (4, 2), (3, 0), (2, 3), (2, 2), (1, 0), (3, 2))\n",
      "RRRRIICCFF\n",
      "RRRRIICCCF\n",
      "VVRRRCCFFF\n",
      "VVRCCCJFFF\n",
      "VVVVCJJCFE\n",
      "VVIVCCJJEE\n",
      "VVIIICJJEE\n",
      "MIIIIIJJEE\n",
      "MIIISIJEEE\n",
      "MMMISSJEEE\n",
      "boundary_points: ((2, -1), (2, 4), (1, 2), (3, -1), (4, 0), (1, 3), (4, 1), (4, 3), (-1, 1), (1, -1), (-1, 0), (0, 2), (3, 3), (0, -1), (5, 2))\n",
      "directions: ('e', 'w')\n",
      "direction: e\n",
      "walk_direction(grid, boundary_points, (-1, 0), e) = {(-1, 0)}\n",
      "direction: w\n",
      "walk_direction(grid, boundary_points, (-1, 0), w) = {(-1, 0)}\n",
      "directions: ('n', 's')\n",
      "direction: n\n",
      "walk_direction(grid, boundary_points, (-1, 0), n) = {(-1, 0)}\n",
      "direction: s\n",
      "walk_direction(grid, boundary_points, (-1, 0), s) = {(-1, 0), (-1, 1)}\n",
      "directions: ('e', 'w')\n",
      "direction: e\n",
      "walk_direction(grid, boundary_points, (0, -1), e) = {(3, -1), (2, -1), (0, -1), (1, -1)}\n",
      "direction: w\n",
      "walk_direction(grid, boundary_points, (0, -1), w) = {(0, -1)}\n",
      "directions: ('n', 's')\n",
      "direction: n\n",
      "walk_direction(grid, boundary_points, (0, -1), n) = {(0, -1)}\n",
      "direction: s\n",
      "walk_direction(grid, boundary_points, (0, -1), s) = {(0, -1)}\n",
      "directions: ('e', 'w')\n",
      "direction: e\n",
      "walk_direction(grid, boundary_points, (0, 2), e) = {(0, 2), (1, 2)}\n",
      "direction: w\n",
      "walk_direction(grid, boundary_points, (0, 2), w) = {(0, 2)}\n",
      "directions: ('n', 's')\n",
      "direction: n\n",
      "walk_direction(grid, boundary_points, (0, 2), n) = {(0, 2)}\n",
      "direction: s\n",
      "walk_direction(grid, boundary_points, (0, 2), s) = {(0, 2)}\n",
      "directions: ('e', 'w')\n",
      "direction: e\n",
      "walk_direction(grid, boundary_points, (1, 3), e) = {(1, 3)}\n",
      "direction: w\n",
      "walk_direction(grid, boundary_points, (1, 3), w) = {(1, 3)}\n",
      "directions: ('n', 's')\n",
      "direction: n\n",
      "walk_direction(grid, boundary_points, (1, 3), n) = {(1, 2), (1, 3)}\n",
      "direction: s\n",
      "walk_direction(grid, boundary_points, (1, 3), s) = {(1, 3)}\n",
      "directions: ('e', 'w')\n",
      "direction: e\n",
      "walk_direction(grid, boundary_points, (2, 4), e) = {(2, 4)}\n",
      "direction: w\n",
      "walk_direction(grid, boundary_points, (2, 4), w) = {(2, 4)}\n",
      "directions: ('n', 's')\n",
      "direction: n\n",
      "walk_direction(grid, boundary_points, (2, 4), n) = {(2, 4)}\n",
      "direction: s\n",
      "walk_direction(grid, boundary_points, (2, 4), s) = {(2, 4)}\n",
      "directions: ('e', 'w')\n",
      "direction: e\n",
      "walk_direction(grid, boundary_points, (3, 3), e) = {(3, 3), (4, 3)}\n",
      "direction: w\n",
      "walk_direction(grid, boundary_points, (3, 3), w) = {(3, 3)}\n",
      "directions: ('n', 's')\n",
      "direction: n\n",
      "walk_direction(grid, boundary_points, (3, 3), n) = {(3, 3)}\n",
      "direction: s\n",
      "walk_direction(grid, boundary_points, (3, 3), s) = {(3, 3)}\n",
      "directions: ('e', 'w')\n",
      "direction: e\n",
      "walk_direction(grid, boundary_points, (4, 0), e) = {(4, 0)}\n",
      "direction: w\n",
      "walk_direction(grid, boundary_points, (4, 0), w) = {(4, 0)}\n",
      "directions: ('n', 's')\n",
      "direction: n\n",
      "walk_direction(grid, boundary_points, (4, 0), n) = {(4, 0)}\n",
      "direction: s\n",
      "walk_direction(grid, boundary_points, (4, 0), s) = {(4, 0), (4, 1)}\n",
      "directions: ('e', 'w')\n",
      "direction: e\n",
      "walk_direction(grid, boundary_points, (5, 2), e) = {(5, 2)}\n",
      "direction: w\n",
      "walk_direction(grid, boundary_points, (5, 2), w) = {(5, 2)}\n",
      "directions: ('n', 's')\n",
      "direction: n\n",
      "walk_direction(grid, boundary_points, (5, 2), n) = {(5, 2)}\n",
      "direction: s\n",
      "walk_direction(grid, boundary_points, (5, 2), s) = {(5, 2)}\n",
      "16 sides: [{(-1, 0)}, {(-1, 0), (-1, 1)}, {(2, -1), (3, -1), (0, -1), (1, -1)}, {(0, -1)}, {(0, 2), (1, 2)}, {(0, 2)}, {(1, 3)}, {(1, 2), (1, 3)}, {(2, 4)}, {(2, 4)}, {(3, 3), (4, 3)}, {(3, 3)}, {(4, 0)}, {(4, 0), (4, 1)}, {(5, 2)}, {(5, 2)}]\n"
     ]
    },
    {
     "data": {
      "text/plain": [
       "{'n': (0, -1),\n",
       " 'ne': (1, -1),\n",
       " 'e': (1, 0),\n",
       " 'se': (1, 1),\n",
       " 's': (0, 1),\n",
       " 'sw': (-1, 1),\n",
       " 'w': (-1, 0),\n",
       " 'nw': (-1, -1)}"
      ]
     },
     "execution_count": 4,
     "metadata": {},
     "output_type": "execute_result"
    }
   ],
   "source": [
    "grid = Grid(input_text, use_overrides=False, coordinate_system='screen', type='infinite')\n",
    "region = flood_fill_region(grid, (0, 0))\n",
    "print(region)\n",
    "print(grid)\n",
    "boundary_points = find_region_boundaries(grid, region)\n",
    "print(f\"boundary_points: {boundary_points}\")\n",
    "sides = identify_sides(grid, boundary_points)\n",
    "print(f\"{len(sides)} sides: {sides}\")\n",
    "grid.get_neighbors(point=(0,0))"
   ]
  },
  {
   "cell_type": "code",
   "execution_count": 5,
   "metadata": {},
   "outputs": [
    {
     "name": "stdout",
     "output_type": "stream",
     "text": [
      "A region of R plants with price 12 * 10 = 120\n",
      "A region of I plants with price 14 * 16 = 224\n",
      "A region of I plants with price 4 * 4 = 16\n",
      "A region of C plants with price 14 * 22 = 308\n",
      "A region of C plants with price 1 * 4 = 4\n",
      "A region of F plants with price 10 * 12 = 120\n",
      "A region of V plants with price 13 * 10 = 130\n",
      "A region of J plants with price 11 * 12 = 132\n",
      "A region of E plants with price 13 * 8 = 104\n",
      "A region of M plants with price 5 * 6 = 30\n",
      "A region of S plants with price 3 * 6 = 18\n",
      "1206\n"
     ]
    }
   ],
   "source": [
    "grid = Grid(input_text, use_overrides=False, coordinate_system='screen', type='infinite')\n",
    "regions_dict = get_regions(grid)\n",
    "cost = 0\n",
    "for char, regions in regions_dict.items():\n",
    "    for region in regions:\n",
    "        area = area_of_region(region)\n",
    "        # print(f\"permiter of {char}: {region}\")\n",
    "        # perimeter = perimeter_of_region(grid, region)\n",
    "        perimeter = sides_of_region(grid, region)\n",
    "        print(f\"A region of {char} plants with price {area} * {perimeter} = {area * perimeter}\")\n",
    "        cost += area * perimeter\n",
    "\n",
    "print(cost)\n"
   ]
  },
  {
   "cell_type": "code",
   "execution_count": 6,
   "metadata": {},
   "outputs": [],
   "source": [
    "# should be 4\n"
   ]
  },
  {
   "cell_type": "code",
   "execution_count": 7,
   "metadata": {},
   "outputs": [
    {
     "name": "stdout",
     "output_type": "stream",
     "text": [
      "{'n': (-1, -1), 'ne': (0, -1), 'e': (0, 0), 'se': (0, 1), 's': (-1, 1), 'sw': (-2, 1), 'w': (-2, 0), 'nw': (-2, -1)}\n"
     ]
    }
   ],
   "source": [
    "boundary_points= ((2, -1), (2, 4), (1, 2), (3, -1), (4, 0), (1, 3), (4, 1), (4, 3), (-1, 1), (1, -1), (-1, 0), (0, 2), (3, 3), (0, -1), (5, 2))\n",
    "start = min(boundary_points)\n",
    "neighbors = grid.get_neighbors(point=start)\n",
    "print(neighbors)\n",
    "# output: {'n': (-1, -1), 'ne': (0, -1), 'e': (0, 0), 'se': (0, 1), 's': (-1, 1), 'sw': (-2, 1), 'w': (-2, 0), 'nw': (-2, -1)}\n"
   ]
  },
  {
   "cell_type": "code",
   "execution_count": 8,
   "metadata": {},
   "outputs": [
    {
     "name": "stdout",
     "output_type": "stream",
     "text": [
      "Boundary points (15): {(2, -1), (2, 4), (1, 2), (4, 0), (3, -1), (1, 3), (4, 3), (-1, 1), (1, -1), (0, -1), (-1, 0), (0, 2), (3, 3), (4, 1), (5, 2)}\n",
      "Boundary Walk Path (15): [(-1, 0), (-1, 1), (0, 2), (1, 2), (1, 3), (2, 4), (3, 3), (4, 3), (5, 2), (4, 1), (4, 0), (3, -1), (2, -1), (1, -1), (0, -1)]\n",
      "RRRRIICCFF\n",
      "RRRRIICCCF\n",
      "VVRRRCCFFF\n",
      "VVRCCCJFFF\n",
      "VVVVCJJCFE\n",
      "VVIVCCJJEE\n",
      "VVIIICJJEE\n",
      "MIIIIIJJEE\n",
      "MIIISIJEEE\n",
      "MMMISSJEEE\n"
     ]
    },
    {
     "ename": "TypeError",
     "evalue": "count_edges() missing 2 required positional arguments: 'path' and 'region'",
     "output_type": "error",
     "traceback": [
      "\u001b[1;31m---------------------------------------------------------------------------\u001b[0m",
      "\u001b[1;31mTypeError\u001b[0m                                 Traceback (most recent call last)",
      "Cell \u001b[1;32mIn[8], line 13\u001b[0m\n\u001b[0;32m     11\u001b[0m \u001b[38;5;28mprint\u001b[39m(\u001b[38;5;124mf\u001b[39m\u001b[38;5;124m\"\u001b[39m\u001b[38;5;124mBoundary Walk Path (\u001b[39m\u001b[38;5;132;01m{\u001b[39;00m\u001b[38;5;28mlen\u001b[39m(path)\u001b[38;5;132;01m}\u001b[39;00m\u001b[38;5;124m): \u001b[39m\u001b[38;5;132;01m{\u001b[39;00mpath\u001b[38;5;132;01m}\u001b[39;00m\u001b[38;5;124m\"\u001b[39m)\n\u001b[0;32m     12\u001b[0m \u001b[38;5;28mprint\u001b[39m(grid)\n\u001b[1;32m---> 13\u001b[0m edge_count \u001b[38;5;241m=\u001b[39m count_edges(path)\n\u001b[0;32m     14\u001b[0m \u001b[38;5;28mprint\u001b[39m(\u001b[38;5;124m\"\u001b[39m\u001b[38;5;124mNumber of edges:\u001b[39m\u001b[38;5;124m\"\u001b[39m, edge_count)\n",
      "\u001b[1;31mTypeError\u001b[0m: count_edges() missing 2 required positional arguments: 'path' and 'region'"
     ]
    }
   ],
   "source": [
    "\n",
    "\n",
    "\n",
    "\n",
    "# USAGE EXAMPLE:\n",
    "boundary_points= {\n",
    "    (2, -1), (2, 4), (1, 2), (3, -1), (4, 0), (1, 3), (4, 1),\n",
    "    (4, 3), (-1, 1), (1, -1), (-1, 0), (0, 2), (3, 3), (0, -1), (5, 2)\n",
    "}\n",
    "\n",
    "grid = Grid(input_text, use_overrides=False, coordinate_system='screen', type='infinite')\n",
    "path = find_path(boundary_points, grid)\n",
    "\n",
    "print(f\"Boundary points ({len(boundary_points)}): {boundary_points}\")\n",
    "print(f\"Boundary Walk Path ({len(path)}): {path}\")\n",
    "print(grid)\n",
    "edge_count = count_edges(path)\n",
    "print(\"Number of edges:\", edge_count)\n"
   ]
  },
  {
   "cell_type": "code",
   "execution_count": 9,
   "metadata": {},
   "outputs": [
    {
     "data": {
      "text/plain": [
       "{(1, 2)}"
      ]
     },
     "execution_count": 9,
     "metadata": {},
     "output_type": "execute_result"
    }
   ],
   "source": [
    "a = {(2, -1), (2, 4), (1, 2), (4, 0), (3, -1), (1, 3), (4, 3), (-1, 1), (1, -1), (0, -1), (-1, 0), (0, 2), (3, 3), (4, 1), (5, 2)}\n",
    "b = {(-1, 0), (0, -1), (1, -1), (2, -1), (3, -1), (4, 0), (4, 1), (5, 2), (4, 3), (3, 3), (2, 4), (1, 3), (0, 2), (-1, 1)}\n",
    "a.difference(b)"
   ]
  },
  {
   "cell_type": "code",
   "execution_count": 10,
   "metadata": {},
   "outputs": [
    {
     "name": "stdout",
     "output_type": "stream",
     "text": [
      "path: [(2, 3), (3, 2), (4, 2), (5, 1), (5, 0), (6, -1), (7, -1), (8, 0), (9, 1), (8, 2), (7, 2), (6, 3), (5, 4), (6, 5), (6, 6), (5, 7), (4, 6), (3, 5), (3, 4)]\n",
      "ne (6, 3)\n",
      "se (6, 5)\n"
     ]
    }
   ],
   "source": [
    "point = (5, 4)\n",
    "region = flood_fill_region(grid, (4,5))\n",
    "boundary_points = find_region_boundaries(grid, region)\n",
    "path = find_path(boundary_points, grid)\n",
    "print(f\"path: {path}\")\n",
    "neighbors = grid.get_neighbors(point=point)\n",
    "for dir, pos in neighbors.items():\n",
    "    if pos in path:\n",
    "        print(dir, pos)"
   ]
  },
  {
   "cell_type": "code",
   "execution_count": null,
   "metadata": {},
   "outputs": [],
   "source": []
  }
 ],
 "metadata": {
  "kernelspec": {
   "display_name": "base",
   "language": "python",
   "name": "python3"
  },
  "language_info": {
   "codemirror_mode": {
    "name": "ipython",
    "version": 3
   },
   "file_extension": ".py",
   "mimetype": "text/x-python",
   "name": "python",
   "nbconvert_exporter": "python",
   "pygments_lexer": "ipython3",
   "version": "3.11.7"
  }
 },
 "nbformat": 4,
 "nbformat_minor": 4
}
