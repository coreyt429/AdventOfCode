{
 "cells": [
  {
   "cell_type": "code",
   "execution_count": 7,
   "metadata": {},
   "outputs": [],
   "source": [
    "import os\n",
    "import sys\n",
    "sys.path.append(os.path.realpath('../..'))\n",
    "import aoc\n",
    "my_aoc = aoc.AdventOfCode(2024,7)\n",
    "from solution import *"
   ]
  },
  {
   "cell_type": "code",
   "execution_count": 2,
   "metadata": {},
   "outputs": [],
   "source": [
    "input_text = \"\"\"190: 10 19\n",
    "3267: 81 40 27\n",
    "83: 17 5\n",
    "156: 15 6\n",
    "7290: 6 8 6 15\n",
    "161011: 16 10 13\n",
    "192: 17 8 14\n",
    "21037: 9 7 18 13\n",
    "292: 11 6 16 20\"\"\""
   ]
  },
  {
   "cell_type": "code",
   "execution_count": 8,
   "metadata": {},
   "outputs": [],
   "source": [
    "def concat(nums):\n",
    "    \"\"\"function to concatenate two numbers\"\"\"\n",
    "    return int(str(nums[0]) + str(nums[1]))"
   ]
  },
  {
   "cell_type": "code",
   "execution_count": 9,
   "metadata": {},
   "outputs": [
    {
     "name": "stdout",
     "output_type": "stream",
     "text": [
      "((190, (10, 19)), (3267, (81, 40, 27)), (83, (17, 5)), (156, (15, 6)), (7290, (6, 8, 6, 15)), (161011, (16, 10, 13)), (192, (17, 8, 14)), (21037, (9, 7, 18, 13)), (292, (11, 6, 16, 20)))\n"
     ]
    }
   ],
   "source": [
    "equations = parse_input(input_text.splitlines())\n",
    "\n",
    "print(equations)"
   ]
  },
  {
   "cell_type": "code",
   "execution_count": null,
   "metadata": {},
   "outputs": [],
   "source": []
  },
  {
   "cell_type": "code",
   "execution_count": 11,
   "metadata": {},
   "outputs": [
    {
     "name": "stdout",
     "output_type": "stream",
     "text": [
      "Trying (190, (10, 19))\n",
      "(190, (10, 19))\n",
      "Trying (3267, (81, 40, 27))\n",
      "(3267, (81, 40, 27))\n",
      "Trying (83, (17, 5))\n",
      "Trying (156, (15, 6))\n",
      "(156, (15, 6))\n",
      "Trying (7290, (6, 8, 6, 15))\n",
      "(7290, (6, 8, 6, 15))\n",
      "Trying (161011, (16, 10, 13))\n",
      "Trying (192, (17, 8, 14))\n",
      "(192, (17, 8, 14))\n",
      "Trying (21037, (9, 7, 18, 13))\n",
      "Trying (292, (11, 6, 16, 20))\n",
      "(292, (11, 6, 16, 20))\n",
      "total: 11387\n"
     ]
    }
   ],
   "source": [
    "operators = {\n",
    "    '+': sum,\n",
    "    '*': math.prod,\n",
    "    '||': concat\n",
    "}\n",
    "total = 0\n",
    "for equation in equations:\n",
    "    print(f\"Trying {equation}\")\n",
    "    if can_solve(equation[0], equation[1], operators):\n",
    "        print(equation)\n",
    "        total += equation[0]\n",
    "print(f\"total: {total}\")\n",
    "        "
   ]
  },
  {
   "cell_type": "code",
   "execution_count": 27,
   "metadata": {},
   "outputs": [
    {
     "name": "stdout",
     "output_type": "stream",
     "text": [
      "0\n",
      "10\n",
      "100\n",
      "1000\n",
      "1000\n",
      "10000\n"
     ]
    }
   ],
   "source": [
    "import math\n",
    "\n",
    "def next_power_of_ten(n):\n",
    "    if n <= 0:\n",
    "        return 0  # Return 0 for input 0 or negative values\n",
    "    return 10 ** math.ceil(math.log10(n) + 1e-7)  # Add tiny epsilon to handle exact powers of ten\n",
    "\n",
    "# Test cases\n",
    "print(next_power_of_ten(0))     # Output: 0\n",
    "print(next_power_of_ten(1))     # Output: 10\n",
    "print(next_power_of_ten(22))    # Output: 100\n",
    "print(next_power_of_ten(100))   # Output: 1000\n",
    "print(next_power_of_ten(999))   # Output: 1000\n",
    "print(next_power_of_ten(1000))  # Output: 10000\n",
    "\n"
   ]
  },
  {
   "cell_type": "code",
   "execution_count": 23,
   "metadata": {},
   "outputs": [
    {
     "data": {
      "text/plain": [
       "2.0"
      ]
     },
     "execution_count": 23,
     "metadata": {},
     "output_type": "execute_result"
    }
   ],
   "source": [
    "math.log10(100)"
   ]
  },
  {
   "cell_type": "code",
   "execution_count": null,
   "metadata": {},
   "outputs": [],
   "source": []
  }
 ],
 "metadata": {
  "kernelspec": {
   "display_name": "base",
   "language": "python",
   "name": "python3"
  },
  "language_info": {
   "codemirror_mode": {
    "name": "ipython",
    "version": 3
   },
   "file_extension": ".py",
   "mimetype": "text/x-python",
   "name": "python",
   "nbconvert_exporter": "python",
   "pygments_lexer": "ipython3",
   "version": "3.11.7"
  }
 },
 "nbformat": 4,
 "nbformat_minor": 4
}
