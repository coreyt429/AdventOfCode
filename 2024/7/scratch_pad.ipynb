{
 "cells": [
  {
   "cell_type": "code",
   "execution_count": 7,
   "metadata": {},
   "outputs": [],
   "source": [
    "import os\n",
    "import sys\n",
    "sys.path.append(os.path.realpath('../..'))\n",
    "import aoc\n",
    "my_aoc = aoc.AdventOfCode(2024,7)\n",
    "from solution import *"
   ]
  },
  {
   "cell_type": "code",
   "execution_count": 2,
   "metadata": {},
   "outputs": [],
   "source": [
    "input_text = \"\"\"190: 10 19\n",
    "3267: 81 40 27\n",
    "83: 17 5\n",
    "156: 15 6\n",
    "7290: 6 8 6 15\n",
    "161011: 16 10 13\n",
    "192: 17 8 14\n",
    "21037: 9 7 18 13\n",
    "292: 11 6 16 20\"\"\""
   ]
  },
  {
   "cell_type": "code",
   "execution_count": 8,
   "metadata": {},
   "outputs": [],
   "source": [
    "def concat(nums):\n",
    "    \"\"\"function to concatenate two numbers\"\"\"\n",
    "    return int(str(nums[0]) + str(nums[1]))"
   ]
  },
  {
   "cell_type": "code",
   "execution_count": 9,
   "metadata": {},
   "outputs": [
    {
     "name": "stdout",
     "output_type": "stream",
     "text": [
      "((190, (10, 19)), (3267, (81, 40, 27)), (83, (17, 5)), (156, (15, 6)), (7290, (6, 8, 6, 15)), (161011, (16, 10, 13)), (192, (17, 8, 14)), (21037, (9, 7, 18, 13)), (292, (11, 6, 16, 20)))\n"
     ]
    }
   ],
   "source": [
    "equations = parse_input(input_text.splitlines())\n",
    "\n",
    "print(equations)"
   ]
  },
  {
   "cell_type": "code",
   "execution_count": null,
   "metadata": {},
   "outputs": [],
   "source": []
  },
  {
   "cell_type": "code",
   "execution_count": 11,
   "metadata": {},
   "outputs": [
    {
     "name": "stdout",
     "output_type": "stream",
     "text": [
      "Trying (190, (10, 19))\n",
      "(190, (10, 19))\n",
      "Trying (3267, (81, 40, 27))\n",
      "(3267, (81, 40, 27))\n",
      "Trying (83, (17, 5))\n",
      "Trying (156, (15, 6))\n",
      "(156, (15, 6))\n",
      "Trying (7290, (6, 8, 6, 15))\n",
      "(7290, (6, 8, 6, 15))\n",
      "Trying (161011, (16, 10, 13))\n",
      "Trying (192, (17, 8, 14))\n",
      "(192, (17, 8, 14))\n",
      "Trying (21037, (9, 7, 18, 13))\n",
      "Trying (292, (11, 6, 16, 20))\n",
      "(292, (11, 6, 16, 20))\n",
      "total: 11387\n"
     ]
    }
   ],
   "source": [
    "operators = {\n",
    "    '+': sum,\n",
    "    '*': math.prod,\n",
    "    '||': concat\n",
    "}\n",
    "total = 0\n",
    "for equation in equations:\n",
    "    print(f\"Trying {equation}\")\n",
    "    if can_solve(equation[0], equation[1], operators):\n",
    "        print(equation)\n",
    "        total += equation[0]\n",
    "print(f\"total: {total}\")\n",
    "        "
   ]
  },
  {
   "cell_type": "code",
   "execution_count": null,
   "metadata": {},
   "outputs": [
    {
     "name": "stdout",
     "output_type": "stream",
     "text": [
      "100\n",
      "1000\n"
     ]
    },
    {
     "ename": "ValueError",
     "evalue": "math domain error",
     "output_type": "error",
     "traceback": [
      "\u001b[1;31m---------------------------------------------------------------------------\u001b[0m",
      "\u001b[1;31mValueError\u001b[0m                                Traceback (most recent call last)",
      "Cell \u001b[1;32mIn[19], line 9\u001b[0m\n\u001b[0;32m      7\u001b[0m \u001b[38;5;28mprint\u001b[39m(next_power_of_ten(\u001b[38;5;241m22\u001b[39m))  \u001b[38;5;66;03m# Output: 100\u001b[39;00m\n\u001b[0;32m      8\u001b[0m \u001b[38;5;28mprint\u001b[39m(next_power_of_ten(\u001b[38;5;241m300\u001b[39m)) \u001b[38;5;66;03m# Output: 1000\u001b[39;00m\n\u001b[1;32m----> 9\u001b[0m \u001b[38;5;28mprint\u001b[39m(next_power_of_ten(\u001b[38;5;241m0\u001b[39m))\n",
      "Cell \u001b[1;32mIn[19], line 4\u001b[0m, in \u001b[0;36mnext_power_of_ten\u001b[1;34m(n)\u001b[0m\n\u001b[0;32m      3\u001b[0m \u001b[38;5;28;01mdef\u001b[39;00m \u001b[38;5;21mnext_power_of_ten\u001b[39m(n):\n\u001b[1;32m----> 4\u001b[0m     \u001b[38;5;28;01mreturn\u001b[39;00m \u001b[38;5;241m10\u001b[39m \u001b[38;5;241m*\u001b[39m\u001b[38;5;241m*\u001b[39m math\u001b[38;5;241m.\u001b[39mceil(math\u001b[38;5;241m.\u001b[39mlog10(n))\n",
      "\u001b[1;31mValueError\u001b[0m: math domain error"
     ]
    }
   ],
   "source": [
    "import math\n",
    "\n",
    "def next_power_of_ten(n):\n",
    "    if n == 0:\n",
    "        return 0\n",
    "    if n == 1:\n",
    "        return 10\n",
    "    return 10 ** math.ceil(math.log10(n))\n",
    "\n",
    "# Example usage\n",
    "print(next_power_of_ten(22))  # Output: 100\n",
    "print(next_power_of_ten(300)) # Output: 1000\n",
    "print(next_power_of_ten(0))   # Output: 10"
   ]
  },
  {
   "cell_type": "code",
   "execution_count": null,
   "metadata": {},
   "outputs": [],
   "source": []
  }
 ],
 "metadata": {
  "kernelspec": {
   "display_name": "base",
   "language": "python",
   "name": "python3"
  },
  "language_info": {
   "codemirror_mode": {
    "name": "ipython",
    "version": 3
   },
   "file_extension": ".py",
   "mimetype": "text/x-python",
   "name": "python",
   "nbconvert_exporter": "python",
   "pygments_lexer": "ipython3",
   "version": "3.11.7"
  }
 },
 "nbformat": 4,
 "nbformat_minor": 4
}
