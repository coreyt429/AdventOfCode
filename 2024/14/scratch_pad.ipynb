{
 "cells": [
  {
   "cell_type": "code",
   "execution_count": 1,
   "metadata": {},
   "outputs": [],
   "source": [
    "import os\n",
    "import sys\n",
    "sys.path.append(os.path.realpath('../..'))\n",
    "import aoc\n",
    "my_aoc = aoc.AdventOfCode(2024,14)\n",
    "from solution import *"
   ]
  },
  {
   "cell_type": "code",
   "execution_count": 2,
   "metadata": {},
   "outputs": [],
   "source": [
    "input_text = \"\"\"p=0,4 v=3,-3\n",
    "p=6,3 v=-1,-3\n",
    "p=10,3 v=-1,2\n",
    "p=2,0 v=2,-1\n",
    "p=0,0 v=1,3\n",
    "p=3,0 v=-2,-2\n",
    "p=7,6 v=-1,-3\n",
    "p=3,0 v=-1,-2\n",
    "p=9,3 v=2,3\n",
    "p=7,3 v=-1,2\n",
    "p=2,4 v=2,-3\n",
    "p=9,5 v=-3,-3\"\"\""
   ]
  },
  {
   "cell_type": "code",
   "execution_count": 20,
   "metadata": {},
   "outputs": [],
   "source": []
  },
  {
   "cell_type": "code",
   "execution_count": 7,
   "metadata": {},
   "outputs": [
    {
     "name": "stdout",
     "output_type": "stream",
     "text": [
      "......2..1.\n",
      "...........\n",
      "1..........\n",
      ".11........\n",
      ".....1.....\n",
      "...12......\n",
      ".1....1....\n",
      "12\n"
     ]
    }
   ],
   "source": [
    "robots = parse_input(input_text.splitlines())\n",
    "grid = blank_grid(height=7, width=11)\n",
    "moves = 100\n",
    "for robot in robots:\n",
    "    robot['position'] = new_position(grid, robot['position'], robot['velocity'], moves)\n",
    "    current = grid.get_point(robot['position'])\n",
    "    if current == '.':\n",
    "        grid.set_point(robot['position'], 1)\n",
    "    else:\n",
    "        grid.set_point(robot['position'], current +1)\n",
    "print(grid)\n",
    "print(safety_factor(grid))\n"
   ]
  },
  {
   "cell_type": "code",
   "execution_count": 4,
   "metadata": {},
   "outputs": [],
   "source": [
    "# input_text = \"\"\"p=2,4 v=2,-3\"\"\"\n",
    "\n",
    "# robots = parse_input(input_text.splitlines())\n",
    "# grid = blank_grid(height=7, width=11)\n",
    "# moves = 100\n",
    "# grid.set_point(robots[0]['position'], 1)\n",
    "for move in range(10):\n",
    "    for point in grid:\n",
    "        grid.set_point(point, '.')\n",
    "    for robot in robots:\n",
    "        robot['position'] = new_position(grid, robot['position'], robot['velocity'], 1)\n",
    "        current = grid.get_point(robot['position'])\n",
    "        if current == '.':\n",
    "            grid.set_point(robot['position'], 1)\n",
    "        else:\n",
    "            grid.set_point(robot['position'], current +1)\n"
   ]
  },
  {
   "cell_type": "code",
   "execution_count": 5,
   "metadata": {},
   "outputs": [
    {
     "data": {
      "text/plain": [
       "0"
      ]
     },
     "execution_count": 5,
     "metadata": {},
     "output_type": "execute_result"
    }
   ],
   "source": [
    "2 % 2"
   ]
  },
  {
   "cell_type": "code",
   "execution_count": null,
   "metadata": {},
   "outputs": [],
   "source": []
  }
 ],
 "metadata": {
  "kernelspec": {
   "display_name": "base",
   "language": "python",
   "name": "python3"
  },
  "language_info": {
   "codemirror_mode": {
    "name": "ipython",
    "version": 3
   },
   "file_extension": ".py",
   "mimetype": "text/x-python",
   "name": "python",
   "nbconvert_exporter": "python",
   "pygments_lexer": "ipython3",
   "version": "3.11.7"
  }
 },
 "nbformat": 4,
 "nbformat_minor": 4
}
