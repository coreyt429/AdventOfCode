{
 "cells": [
  {
   "cell_type": "code",
   "execution_count": 1,
   "metadata": {},
   "outputs": [],
   "source": [
    "import os\n",
    "import sys\n",
    "sys.path.append(os.path.realpath('../..'))\n",
    "import aoc\n",
    "my_aoc = aoc.AdventOfCode(2024,3)"
   ]
  },
  {
   "cell_type": "code",
   "execution_count": 2,
   "metadata": {},
   "outputs": [],
   "source": [
    "input_text = \"\"\"xmul(2,4)%&mul[3,7]!@^do_not_mul(5,5)+mul(32,64]then(mul(11,8)mul(8,5))\"\"\""
   ]
  },
  {
   "cell_type": "code",
   "execution_count": 11,
   "metadata": {},
   "outputs": [
    {
     "name": "stdout",
     "output_type": "stream",
     "text": [
      "[[2, 4], [5, 5], [11, 8], [8, 5]]\n",
      "161\n"
     ]
    }
   ],
   "source": [
    "import re\n",
    "import math\n",
    "pattern_mul_digits = re.compile(r'mul\\((-?\\d+),(-?\\d+)\\)')\n",
    "pairs = []\n",
    "for line in input_text.splitlines():\n",
    "    for pair in pattern_mul_digits.findall(line):\n",
    "        pairs.append([int(num) for num in pair]) \n",
    "print(pairs)\n",
    "print(sum([math.prod(pair) for pair in pairs]))"
   ]
  },
  {
   "cell_type": "code",
   "execution_count": 18,
   "metadata": {},
   "outputs": [],
   "source": [
    "input_text = \"\"\"xmul(2,4)&mul[3,7]!^don't()_mul(5,5)+mul(32,64](mul(11,8)undo()?mul(8,5))\"\"\""
   ]
  },
  {
   "cell_type": "code",
   "execution_count": 20,
   "metadata": {},
   "outputs": [
    {
     "name": "stdout",
     "output_type": "stream",
     "text": [
      "[[2, 4], [8, 5]]\n",
      "48\n"
     ]
    }
   ],
   "source": [
    "import re\n",
    "import math\n",
    "pattern_mul_digits = re.compile(r'mul\\((-?\\d+),(-?\\d+)\\)')\n",
    "pattern_do_dont_mul = re.compile(r\"(mul\\(-?\\d+,-?\\d+\\))|(do\\(\\))|(don't\\(\\))\")\n",
    "pairs = []\n",
    "do = True\n",
    "for line in input_text.splitlines():\n",
    "    for command in pattern_do_dont_mul.findall(line):\n",
    "        for item in command:\n",
    "            if \"do()\" in item:\n",
    "                do=True\n",
    "                continue\n",
    "            if \"don't()\" in item:\n",
    "                do = False\n",
    "                continue\n",
    "            if \"mul\" in item and do:\n",
    "                pair = pattern_mul_digits.findall(item)[0]\n",
    "                pairs.append([int(num) for num in pair]) \n",
    "print(pairs)\n",
    "print(sum([math.prod(pair) for pair in pairs]))            \n"
   ]
  },
  {
   "cell_type": "code",
   "execution_count": null,
   "metadata": {},
   "outputs": [],
   "source": []
  }
 ],
 "metadata": {
  "kernelspec": {
   "display_name": "base",
   "language": "python",
   "name": "python3"
  },
  "language_info": {
   "codemirror_mode": {
    "name": "ipython",
    "version": 3
   },
   "file_extension": ".py",
   "mimetype": "text/x-python",
   "name": "python",
   "nbconvert_exporter": "python",
   "pygments_lexer": "ipython3",
   "version": "3.11.7"
  }
 },
 "nbformat": 4,
 "nbformat_minor": 4
}
