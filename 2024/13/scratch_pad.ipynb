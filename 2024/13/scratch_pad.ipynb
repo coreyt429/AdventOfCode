{
 "cells": [
  {
   "cell_type": "code",
   "execution_count": 1,
   "metadata": {},
   "outputs": [],
   "source": [
    "import os\n",
    "import sys\n",
    "sys.path.append(os.path.realpath('../..'))\n",
    "import aoc\n",
    "my_aoc = aoc.AdventOfCode(2024,13)"
   ]
  },
  {
   "cell_type": "code",
   "execution_count": 2,
   "metadata": {},
   "outputs": [],
   "source": [
    "input_text = \"\"\"Button A: X+94, Y+34\n",
    "Button B: X+22, Y+67\n",
    "Prize: X=8400, Y=5400\n",
    "\n",
    "Button A: X+26, Y+66\n",
    "Button B: X+67, Y+21\n",
    "Prize: X=12748, Y=12176\n",
    "\n",
    "Button A: X+17, Y+86\n",
    "Button B: X+84, Y+37\n",
    "Prize: X=7870, Y=6450\n",
    "\n",
    "Button A: X+69, Y+23\n",
    "Button B: X+27, Y+71\n",
    "Prize: X=18641, Y=10279\"\"\""
   ]
  },
  {
   "cell_type": "code",
   "execution_count": 8,
   "metadata": {},
   "outputs": [],
   "source": [
    "import re\n",
    "from sympy import symbols, solve\n",
    "\n",
    "\n",
    "digit_pattern = re.compile(r'(\\d+)')\n",
    "\n",
    "def parse_input(text):\n",
    "    machines = []\n",
    "    machine_texts = text.split(\"\\n\\n\")\n",
    "    for machine_text in machine_texts:\n",
    "        machine_list = machine_text.splitlines()\n",
    "        button_a = digit_pattern.findall(machine_list[0])\n",
    "        button_b = digit_pattern.findall(machine_list[1])\n",
    "        prize = digit_pattern.findall(machine_list[2])\n",
    "        machines.append({\n",
    "            'button_a': tuple(int(num) for num in button_a),\n",
    "            'button_b': tuple(int(num) for num in button_b),\n",
    "            'prize': tuple(int(num) for num in prize),\n",
    "        })\n",
    "    return machines\n",
    "\n",
    "\n",
    "\n",
    "def solve_two_diophantine(eq1, eq2):\n",
    "    \"\"\"\n",
    "    Solve two simultaneous linear Diophantine equations:\n",
    "    eq1: c1 = a_coef1 * a + b_coef1 * b\n",
    "    eq2: c2 = a_coef2 * a + b_coef2 * b\n",
    "    Returns values of (a, b) that satisfy both equations.\n",
    "    \"\"\"\n",
    "    # Unpack coefficients and constants\n",
    "    a_coef1, b_coef1, c1 = eq1\n",
    "    a_coef2, b_coef2, c2 = eq2\n",
    "\n",
    "    # Define variables\n",
    "    a, b = symbols('a b', integer=True)\n",
    "\n",
    "    # Solve the system of equations\n",
    "    solutions = solve([a_coef1 * a + b_coef1 * b - c1, a_coef2 * a + b_coef2 * b - c2], (a, b), dict=True)\n",
    "\n",
    "    if solutions:\n",
    "        return solutions\n",
    "    else:\n",
    "        return \"No integer solutions exist.\"\n"
   ]
  },
  {
   "cell_type": "code",
   "execution_count": 24,
   "metadata": {},
   "outputs": [
    {
     "name": "stdout",
     "output_type": "stream",
     "text": [
      "total: 480\n"
     ]
    }
   ],
   "source": [
    "machines = parse_input(input_text)\n",
    "\n",
    "total = 0\n",
    "for machine in machines:\n",
    "    equations = [None, None]\n",
    "    for dim in (0, 1):\n",
    "        equations[dim] = (machine['button_a'][dim], machine['button_b'][dim], machine['prize'][dim])\n",
    "    equation1 = (machine['button_a'][0], machine['button_b'][0], machine['prize'][0])\n",
    "    equation2 = (machine['button_a'][1], machine['button_b'][1], machine['prize'][1])\n",
    "    result = solve_two_diophantine(equation1, equation2)\n",
    "    if isinstance(result, list):\n",
    "        cost = float('infinity')\n",
    "        for press_data in result:\n",
    "            presses = tuple(press_data.values())\n",
    "            cost = min(cost, (presses[0] * 3) + (presses[1] * 1)) \n",
    "        total += cost\n",
    "print(f\"total: {total}\")\n",
    "    "
   ]
  },
  {
   "cell_type": "code",
   "execution_count": 5,
   "metadata": {},
   "outputs": [
    {
     "name": "stdout",
     "output_type": "stream",
     "text": [
      "Solutions for a and b:\n",
      "[{a: 80, b: 40}]\n"
     ]
    }
   ],
   "source": [
    "\n",
    "\n",
    "# Example usage\n",
    "if __name__ == \"__main__\":\n",
    "    # Equations: 8400 = 94a + 22b, 5400 = 34a + 67b\n",
    "    equation1 = (94, 22, 8400)\n",
    "    equation2 = (34, 67, 5400)\n",
    "\n",
    "    result = solve_two_diophantine(equation1, equation2)\n",
    "    print(\"Solutions for a and b:\")\n",
    "    print(result)\n",
    "\n"
   ]
  },
  {
   "cell_type": "code",
   "execution_count": null,
   "metadata": {},
   "outputs": [],
   "source": []
  }
 ],
 "metadata": {
  "kernelspec": {
   "display_name": "base",
   "language": "python",
   "name": "python3"
  },
  "language_info": {
   "codemirror_mode": {
    "name": "ipython",
    "version": 3
   },
   "file_extension": ".py",
   "mimetype": "text/x-python",
   "name": "python",
   "nbconvert_exporter": "python",
   "pygments_lexer": "ipython3",
   "version": "3.11.7"
  }
 },
 "nbformat": 4,
 "nbformat_minor": 4
}
