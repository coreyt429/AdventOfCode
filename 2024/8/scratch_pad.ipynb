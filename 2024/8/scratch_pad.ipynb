{
 "cells": [
  {
   "cell_type": "code",
   "execution_count": 1,
   "metadata": {},
   "outputs": [],
   "source": [
    "import os\n",
    "import sys\n",
    "sys.path.append(os.path.realpath('../..'))\n",
    "import aoc\n",
    "my_aoc = aoc.AdventOfCode(2024,8)\n",
    "from solution import *"
   ]
  },
  {
   "cell_type": "code",
   "execution_count": 2,
   "metadata": {},
   "outputs": [],
   "source": [
    "from grid import Grid, linear_distance, are_collinear\n",
    "from collections import defaultdict\n",
    "from itertools import combinations\n",
    "\n",
    "\n",
    "input_text = \"\"\"............\n",
    "........0...\n",
    ".....0......\n",
    ".......0....\n",
    "....0.......\n",
    "......A.....\n",
    "............\n",
    "............\n",
    "........A...\n",
    ".........A..\n",
    "............\n",
    "............\"\"\"\n",
    "\n",
    "input_text_test = \"\"\"............\n",
    "............\n",
    ".....B......\n",
    "............\n",
    "....B.......\n",
    "............\n",
    "............\n",
    "............\n",
    "............\n",
    "............\n",
    "............\n",
    "............\"\"\""
   ]
  },
  {
   "cell_type": "code",
   "execution_count": null,
   "metadata": {},
   "outputs": [],
   "source": [
    "\n"
   ]
  },
  {
   "cell_type": "code",
   "execution_count": null,
   "metadata": {},
   "outputs": [],
   "source": []
  },
  {
   "cell_type": "code",
   "execution_count": 3,
   "metadata": {},
   "outputs": [
    {
     "name": "stdout",
     "output_type": "stream",
     "text": [
      "............\n",
      "........0...\n",
      ".....0......\n",
      ".......0....\n",
      "....0.......\n",
      "......A.....\n",
      "............\n",
      "............\n",
      "........A...\n",
      ".........A..\n",
      "............\n",
      "............\n",
      "defaultdict(<class 'set'>, {'0': {(4, 4), (5, 2), (7, 3), (8, 1)}, 'A': {(8, 8), (6, 5), (9, 9)}})\n",
      "0 ((4, 4), (5, 2)) (3, 6)\n",
      "0 ((4, 4), (5, 2)) (6, 0)\n",
      "0 ((4, 4), (7, 3)) (1, 5)\n",
      "0 ((4, 4), (7, 3)) (10, 2)\n",
      "0 ((4, 4), (8, 1)) (0, 7)\n",
      "0 ((5, 2), (7, 3)) (3, 1)\n",
      "0 ((5, 2), (7, 3)) (9, 4)\n",
      "0 ((5, 2), (8, 1)) (2, 3)\n",
      "0 ((5, 2), (8, 1)) (11, 0)\n",
      "0 ((7, 3), (8, 1)) (6, 5)\n",
      "A ((8, 8), (6, 5)) (4, 2)\n",
      "A ((8, 8), (6, 5)) (10, 11)\n",
      "A ((8, 8), (9, 9)) (7, 7)\n",
      "A ((8, 8), (9, 9)) (10, 10)\n",
      "A ((6, 5), (9, 9)) (3, 1)\n",
      "34\n",
      "{(3, 1), (4, 9), (5, 7), (11, 5), (2, 2), (1, 0), (11, 11), (2, 8), (7, 7), (6, 5), (4, 2), (3, 3), (3, 6), (10, 2), (9, 4), (0, 7), (8, 8), (10, 11), (1, 5), (7, 3), (3, 11), (4, 4), (5, 2), (5, 5), (8, 1), (11, 0), (0, 0), (1, 1), (9, 9), (2, 3), (10, 10), (1, 10), (6, 0), (6, 6)}\n"
     ]
    }
   ],
   "source": [
    "grid = Grid(input_text, use_overrides=False)\n",
    "print(grid)\n",
    "signal_points = defaultdict(set)\n",
    "for point, char in grid.items():\n",
    "    if char != '.':\n",
    "        signal_points[char].add(point)\n",
    "print(signal_points)\n",
    "\n",
    "antinodes = set()\n",
    "for signal, points in signal_points.items():\n",
    "    for pair in combinations(points, 2):\n",
    "        for point in get_line(*pair, grid):\n",
    "            if are_collinear(point, *pair):\n",
    "                antinodes.add(point)\n",
    "            if is_antinode(point, pair):\n",
    "                antinodes.add(point)\n",
    "                print(signal, pair, point)\n",
    "print(len(antinodes))\n",
    "print(antinodes)\n",
    "\n"
   ]
  },
  {
   "cell_type": "code",
   "execution_count": 4,
   "metadata": {},
   "outputs": [
    {
     "name": "stdout",
     "output_type": "stream",
     "text": [
      "##....#....#\n",
      ".#.#....0...\n",
      "..#.#0....#.\n",
      "..##...0....\n",
      "....0....#..\n",
      ".#...#A....#\n",
      "...#..#.....\n",
      "#....#.#....\n",
      "..#.....A...\n",
      "....#....A..\n",
      ".#........#.\n",
      "...#......##\n"
     ]
    }
   ],
   "source": [
    "for point in antinodes:\n",
    "    if grid.get_point(point) == '.':\n",
    "        grid.set_point(point, '#')\n",
    "\n",
    "print(grid)"
   ]
  },
  {
   "cell_type": "code",
   "execution_count": 5,
   "metadata": {},
   "outputs": [
    {
     "name": "stdout",
     "output_type": "stream",
     "text": [
      "1.4142135623730951\n",
      "2.8284271247461903\n",
      "2.8284271247461903\n",
      "1.4142135623730951\n"
     ]
    }
   ],
   "source": [
    "print(linear_distance((9,9), (10,10)))\n",
    "print(linear_distance((8,8), (10,10)))\n",
    "print(linear_distance((9,9), (7,7)))\n",
    "print(linear_distance((8,8), (7,7)))"
   ]
  },
  {
   "cell_type": "code",
   "execution_count": 6,
   "metadata": {},
   "outputs": [
    {
     "name": "stdout",
     "output_type": "stream",
     "text": [
      "2.0\n"
     ]
    }
   ],
   "source": [
    "print(linear_distance((8,8), (10,10))/linear_distance((9,9), (10,10)))"
   ]
  },
  {
   "cell_type": "code",
   "execution_count": null,
   "metadata": {},
   "outputs": [],
   "source": []
  }
 ],
 "metadata": {
  "kernelspec": {
   "display_name": "base",
   "language": "python",
   "name": "python3"
  },
  "language_info": {
   "codemirror_mode": {
    "name": "ipython",
    "version": 3
   },
   "file_extension": ".py",
   "mimetype": "text/x-python",
   "name": "python",
   "nbconvert_exporter": "python",
   "pygments_lexer": "ipython3",
   "version": "3.11.7"
  }
 },
 "nbformat": 4,
 "nbformat_minor": 4
}
