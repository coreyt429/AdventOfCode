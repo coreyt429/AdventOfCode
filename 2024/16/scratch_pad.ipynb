{
 "cells": [
  {
   "cell_type": "code",
   "execution_count": 1,
   "metadata": {},
   "outputs": [],
   "source": [
    "import os\n",
    "import sys\n",
    "sys.path.append(os.path.realpath('../..'))\n",
    "import aoc\n",
    "my_aoc = aoc.AdventOfCode(2024,16)\n"
   ]
  },
  {
   "cell_type": "code",
   "execution_count": 3,
   "metadata": {},
   "outputs": [],
   "source": [
    "from grid import Grid"
   ]
  },
  {
   "cell_type": "code",
   "execution_count": 4,
   "metadata": {},
   "outputs": [],
   "source": [
    "input_text = \"\"\"###############\n",
    "#.......#....E#\n",
    "#.#.###.#.###.#\n",
    "#.....#.#...#.#\n",
    "#.###.#####.#.#\n",
    "#.#.#.......#.#\n",
    "#.#.#####.###.#\n",
    "#...........#.#\n",
    "###.#.#####.#.#\n",
    "#...#.....#.#.#\n",
    "#.#.#.###.#.#.#\n",
    "#.....#...#.#.#\n",
    "#.###.#.#.#.#.#\n",
    "#S..#.....#...#\n",
    "###############\"\"\""
   ]
  },
  {
   "cell_type": "code",
   "execution_count": null,
   "metadata": {},
   "outputs": [],
   "source": []
  },
  {
   "cell_type": "code",
   "execution_count": 8,
   "metadata": {},
   "outputs": [
    {
     "name": "stdout",
     "output_type": "stream",
     "text": [
      "(1, 13) (13, 1)\n"
     ]
    }
   ],
   "source": [
    "maze = Grid(input_text, use_overrides=False)\n",
    "start = None\n",
    "goal = None\n",
    "for point, char in maze.items():\n",
    "    if char == 'S':\n",
    "        start = point\n",
    "    if char == 'E':\n",
    "        goal = point\n",
    "    if all([start is not None, goal is not None]):\n",
    "        break\n",
    "\n",
    "print(start, goal)"
   ]
  },
  {
   "cell_type": "code",
   "execution_count": 1,
   "metadata": {},
   "outputs": [
    {
     "name": "stdout",
     "output_type": "stream",
     "text": [
      "Lowest cost to reach the end: 7036\n"
     ]
    }
   ],
   "source": [
    "import networkx as nx\n",
    "import heapq\n",
    "\n",
    "# Constants for directions\n",
    "DIRECTIONS = {\n",
    "    \"UP\": (-1, 0),\n",
    "    \"DOWN\": (1, 0),\n",
    "    \"LEFT\": (0, -1),\n",
    "    \"RIGHT\": (0, 1),\n",
    "}\n",
    "TURN_COST = 1000\n",
    "MOVE_COST = 1\n",
    "\n",
    "# Define a function to calculate the cost of a move\n",
    "def calculate_cost(current_direction, new_direction):\n",
    "    if current_direction == new_direction:\n",
    "        return MOVE_COST  # Forward movement\n",
    "    return TURN_COST + MOVE_COST  # 90-degree turn + move\n",
    "\n",
    "# Convert maze string to a graph (same as before)\n",
    "maze = \"\"\"\n",
    "###############\n",
    "#.......#....E#\n",
    "#.#.###.#.###.#\n",
    "#.....#.#...#.#\n",
    "#.###.#####.#.#\n",
    "#.#.#.......#.#\n",
    "#.#.#####.###.#\n",
    "#...........#.#\n",
    "###.#.#####.#.#\n",
    "#...#.....#.#.#\n",
    "#.#.#.###.#.#.#\n",
    "#.....#...#.#.#\n",
    "#.###.#.#.#.#.#\n",
    "#S..#.....#...#\n",
    "###############\n",
    "\"\"\".strip()\n",
    "maze_grid = Grid(maze, use_overrides=False)\n",
    "for point, char in maze.items():\n",
    "        if char == 'S':\n",
    "            start = point\n",
    "        if char == 'E':\n",
    "            end = point\n",
    "        if all([start is not None, end is not None]):\n",
    "            break\n",
    "# Priority queue for Dijkstra-like search\n",
    "pq = []\n",
    "heapq.heappush(pq, (0, start, \"RIGHT\"))  # (cost, position, direction)\n",
    "\n",
    "# Keep track of visited states with their minimal cost\n",
    "visited = {}\n",
    "\n",
    "while pq:\n",
    "    cost, current, direction = heapq.heappop(pq)\n",
    "    \n",
    "    if current == end:\n",
    "        print(f\"Lowest cost to reach the end: {cost}\")\n",
    "        break\n",
    "    \n",
    "    if (current, direction) in visited and visited[(current, direction)] <= cost:\n",
    "        continue\n",
    "    visited[(current, direction)] = cost\n",
    "    \n",
    "    for dir_name, (dr, dc) in DIRECTIONS.items():\n",
    "        next_pos = (current[0] + dr, current[1] + dc)\n",
    "        if 0 <= next_pos[0] < rows and 0 <= next_pos[1] < cols and maze_grid[next_pos[0]][next_pos[1]] in (\".\", \"S\", \"E\"):\n",
    "            new_cost = cost + calculate_cost(direction, dir_name)\n",
    "            heapq.heappush(pq, (new_cost, next_pos, dir_name))\n",
    "\n"
   ]
  },
  {
   "cell_type": "code",
   "execution_count": null,
   "metadata": {},
   "outputs": [],
   "source": []
  }
 ],
 "metadata": {
  "kernelspec": {
   "display_name": "base",
   "language": "python",
   "name": "python3"
  },
  "language_info": {
   "codemirror_mode": {
    "name": "ipython",
    "version": 3
   },
   "file_extension": ".py",
   "mimetype": "text/x-python",
   "name": "python",
   "nbconvert_exporter": "python",
   "pygments_lexer": "ipython3",
   "version": "3.11.7"
  }
 },
 "nbformat": 4,
 "nbformat_minor": 4
}
