{
 "cells": [
  {
   "cell_type": "code",
   "execution_count": 1,
   "metadata": {},
   "outputs": [],
   "source": [
    "import os\n",
    "import sys\n",
    "sys.path.append(os.path.realpath('../..'))\n",
    "import aoc\n",
    "my_aoc = aoc.AdventOfCode(2024,1)"
   ]
  },
  {
   "cell_type": "code",
   "execution_count": 2,
   "metadata": {},
   "outputs": [],
   "source": [
    "input_text = \"\"\"3   4\n",
    "4   3\n",
    "2   5\n",
    "1   3\n",
    "3   9\n",
    "3   3\"\"\""
   ]
  },
  {
   "cell_type": "code",
   "execution_count": 3,
   "metadata": {},
   "outputs": [],
   "source": [
    "def parse_data(lines):\n",
    "    list_1 = []\n",
    "    list_2 = []\n",
    "    for line in lines:\n",
    "        num_1, num_2 = (int(num) for num in line.split('   '))\n",
    "        list_1.append(num_1)\n",
    "        list_2.append(num_2)\n",
    "    return tuple(list_1), tuple(list_2)\n"
   ]
  },
  {
   "cell_type": "code",
   "execution_count": 12,
   "metadata": {},
   "outputs": [
    {
     "name": "stdout",
     "output_type": "stream",
     "text": [
      "11\n"
     ]
    }
   ],
   "source": [
    "loc_lists = parse_data(input_text.splitlines())\n",
    "\n",
    "distance = 0\n",
    "\n",
    "for num_a, num_b in zip(*(sorted(loc_list) for loc_list in loc_lists)):\n",
    "    distance += abs(num_a - num_b)\n",
    "print(distance)"
   ]
  },
  {
   "cell_type": "code",
   "execution_count": 13,
   "metadata": {},
   "outputs": [
    {
     "name": "stdout",
     "output_type": "stream",
     "text": [
      "31\n"
     ]
    }
   ],
   "source": [
    "loc_lists = parse_data(input_text.splitlines())\n",
    "similarity = 0\n",
    "for num in loc_lists[0]:\n",
    "    count = loc_lists[1].count(num)\n",
    "    similarity += num*count\n",
    "print(similarity)"
   ]
  },
  {
   "cell_type": "code",
   "execution_count": null,
   "metadata": {},
   "outputs": [],
   "source": []
  }
 ],
 "metadata": {
  "kernelspec": {
   "display_name": "base",
   "language": "python",
   "name": "python3"
  },
  "language_info": {
   "codemirror_mode": {
    "name": "ipython",
    "version": 3
   },
   "file_extension": ".py",
   "mimetype": "text/x-python",
   "name": "python",
   "nbconvert_exporter": "python",
   "pygments_lexer": "ipython3",
   "version": "3.11.7"
  }
 },
 "nbformat": 4,
 "nbformat_minor": 4
}
