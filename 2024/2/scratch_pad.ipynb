{
 "cells": [
  {
   "cell_type": "code",
   "execution_count": 1,
   "metadata": {},
   "outputs": [],
   "source": [
    "import os\n",
    "import sys\n",
    "sys.path.append(os.path.realpath('../..'))\n",
    "import aoc\n",
    "my_aoc = aoc.AdventOfCode(2024,2)"
   ]
  },
  {
   "cell_type": "code",
   "execution_count": 2,
   "metadata": {},
   "outputs": [],
   "source": [
    "input_text = \"\"\"7 6 4 2 1\n",
    "1 2 7 8 9\n",
    "9 7 6 2 1\n",
    "1 3 2 4 5\n",
    "8 6 4 4 1\n",
    "1 3 6 7 9\"\"\""
   ]
  },
  {
   "cell_type": "code",
   "execution_count": 5,
   "metadata": {},
   "outputs": [],
   "source": [
    "def parse_data(lines):\n",
    "    reports = []\n",
    "    for line in lines:\n",
    "        report = [int(num) for num in line.split(' ')]\n",
    "        reports.append(tuple(report))\n",
    "    return tuple(reports)"
   ]
  },
  {
   "cell_type": "code",
   "execution_count": null,
   "metadata": {},
   "outputs": [
    {
     "name": "stdout",
     "output_type": "stream",
     "text": [
      "((7, 6, 4, 2, 1), (1, 2, 7, 8, 9), (9, 7, 6, 2, 1), (1, 3, 2, 4, 5), (8, 6, 4, 4, 1), (1, 3, 6, 7, 9))\n",
      "(7, 6, 4, 2, 1)\n",
      "(8, 6, 4, 4, 1)\n",
      "(1, 3, 6, 7, 9)\n",
      "3\n"
     ]
    }
   ],
   "source": [
    "reports = parse_data(input_text.splitlines())\n",
    "print(reports)\n",
    "counter = 0\n",
    "for report in reports:\n",
    "    safe = True\n",
    "    # The levels are either all increasing or all decreasing.\n",
    "    if report not in [tuple(sorted(report)), tuple(reversed(sorted(report)))]:\n",
    "        continue\n",
    "    # Any two adjacent levels differ by at least one and at most three\n",
    "    for idx, num in enumerate(report[:-1]):\n",
    "        if report[idx + 1] == num:\n",
    "            safe = False\n",
    "            break \n",
    "        if not (-4 < report[idx + 1] - num < 4):\n",
    "            safe = False\n",
    "            break \n",
    "    if safe:\n",
    "        print(report)\n",
    "        counter += 1\n",
    "print(counter)"
   ]
  },
  {
   "cell_type": "code",
   "execution_count": null,
   "metadata": {},
   "outputs": [],
   "source": []
  }
 ],
 "metadata": {
  "kernelspec": {
   "display_name": "base",
   "language": "python",
   "name": "python3"
  },
  "language_info": {
   "codemirror_mode": {
    "name": "ipython",
    "version": 3
   },
   "file_extension": ".py",
   "mimetype": "text/x-python",
   "name": "python",
   "nbconvert_exporter": "python",
   "pygments_lexer": "ipython3",
   "version": "3.11.7"
  }
 },
 "nbformat": 4,
 "nbformat_minor": 4
}
