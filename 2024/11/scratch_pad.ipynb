{
 "cells": [
  {
   "cell_type": "code",
   "execution_count": 12,
   "metadata": {},
   "outputs": [],
   "source": [
    "import os\n",
    "import sys\n",
    "sys.path.append(os.path.realpath('../..'))\n",
    "import aoc\n",
    "my_aoc = aoc.AdventOfCode(2024,11)\n",
    "from solution import *"
   ]
  },
  {
   "cell_type": "code",
   "execution_count": null,
   "metadata": {},
   "outputs": [],
   "source": []
  },
  {
   "cell_type": "code",
   "execution_count": 13,
   "metadata": {},
   "outputs": [],
   "source": [
    "input_text = '0 1 10 99 999'"
   ]
  },
  {
   "cell_type": "code",
   "execution_count": 22,
   "metadata": {},
   "outputs": [
    {
     "name": "stdout",
     "output_type": "stream",
     "text": [
      "55312\n"
     ]
    }
   ],
   "source": [
    "stones = {}\n",
    "for stone in [int(num) for num in '125 17'.split(' ')]:\n",
    "    stones[stone] = stones.get(stone, 0) + 1\n",
    "blinks = 25\n",
    "for blink in range(blinks):\n",
    "    new_stones = {}\n",
    "    for stone, count in stones.items():\n",
    "        if count > 0:\n",
    "            # stones[stone] -= count\n",
    "            # print(f\"stone: {stone}, new_stones[stone]: {new_stones.get(stone, None)}\")\n",
    "            new_stones[stone] = new_stones.get(stone, 0)\n",
    "            # print(stone, new_stones[stone])\n",
    "            for new_stone in change_stone(stone):\n",
    "                # print(f\"{stone} -> {new_stone}\")\n",
    "                new_stones[new_stone] = new_stones.get(new_stone, 0) + count\n",
    "    # print(f\"stones: {sum(new_stones.values())}, blink: {blink}, new_stones: {new_stones}\")\n",
    "    for key, value in new_stones.items():\n",
    "        stones[key] = value\n",
    "# print(stones)\n",
    "# print(len(stones))\n",
    "print(sum(stones.values()))"
   ]
  },
  {
   "cell_type": "code",
   "execution_count": 15,
   "metadata": {},
   "outputs": [
    {
     "ename": "NameError",
     "evalue": "name 'change_stones' is not defined",
     "output_type": "error",
     "traceback": [
      "\u001b[1;31m---------------------------------------------------------------------------\u001b[0m",
      "\u001b[1;31mNameError\u001b[0m                                 Traceback (most recent call last)",
      "Cell \u001b[1;32mIn[15], line 3\u001b[0m\n\u001b[0;32m      1\u001b[0m stones \u001b[38;5;241m=\u001b[39m [\u001b[38;5;241m125\u001b[39m, \u001b[38;5;241m17\u001b[39m]\n\u001b[0;32m      2\u001b[0m \u001b[38;5;28;01mfor\u001b[39;00m _ \u001b[38;5;129;01min\u001b[39;00m \u001b[38;5;28mrange\u001b[39m(\u001b[38;5;241m25\u001b[39m):\n\u001b[1;32m----> 3\u001b[0m     stones \u001b[38;5;241m=\u001b[39m change_stones(stones)\n\u001b[0;32m      4\u001b[0m \u001b[38;5;28mprint\u001b[39m(\u001b[38;5;28mlen\u001b[39m(stones))\n",
      "\u001b[1;31mNameError\u001b[0m: name 'change_stones' is not defined"
     ]
    }
   ],
   "source": [
    "stones = [125, 17]\n",
    "for _ in range(25):\n",
    "    stones = change_stones(stones)\n",
    "print(len(stones))"
   ]
  },
  {
   "cell_type": "code",
   "execution_count": null,
   "metadata": {},
   "outputs": [
    {
     "name": "stdout",
     "output_type": "stream",
     "text": [
      "0 3 1\n",
      "1 4 1\n",
      "2 5 1\n",
      "3 9 4\n",
      "4 13 4\n",
      "5 22 9\n",
      "6 31 9\n",
      "7 42 11\n",
      "8 68 26\n",
      "9 109 41\n",
      "10 170 61\n",
      "11 235 65\n",
      "12 342 107\n",
      "13 557 215\n",
      "14 853 296\n",
      "15 1298 445\n",
      "16 1951 653\n",
      "17 2869 918\n",
      "18 4490 1621\n",
      "19 6837 2347\n",
      "20 10362 3525\n",
      "21 15754 5392\n",
      "22 23435 7681\n",
      "23 36359 12924\n",
      "24 55312 18953\n",
      "25 83230 27918\n",
      "26 127262 44032\n",
      "27 191468 64206\n",
      "28 292947 101479\n",
      "29 445882 152935\n",
      "30 672851 226969\n",
      "31 1028709 355858\n",
      "32 1553608 524899\n",
      "33 2363143 809535\n",
      "34 3604697 1241554\n",
      "35 5445643 1840946\n",
      "36 8300739 2855096\n",
      "37 12585458 4284719\n",
      "38 19103521 6518063\n",
      "39 29115525 10012004\n",
      "40 44059301 14943776\n",
      "41 67054789 22995488\n",
      "42 101858682 34803893\n",
      "43 154443798 52585116\n",
      "44 235189097 80745299\n",
      "45 356552789 121363692\n",
      "46 541841962 185289173\n",
      "47 823634145 281792183\n"
     ]
    }
   ],
   "source": [
    "stones = [125, 17]\n",
    "last = len(stones)\n",
    "for blink in range(75):\n",
    "    stones = change_stone(stones)\n",
    "    print(blink, len(stones), len(stones) - last)\n",
    "    last = len(stones)"
   ]
  },
  {
   "cell_type": "code",
   "execution_count": null,
   "metadata": {},
   "outputs": [],
   "source": []
  }
 ],
 "metadata": {
  "kernelspec": {
   "display_name": "base",
   "language": "python",
   "name": "python3"
  },
  "language_info": {
   "codemirror_mode": {
    "name": "ipython",
    "version": 3
   },
   "file_extension": ".py",
   "mimetype": "text/x-python",
   "name": "python",
   "nbconvert_exporter": "python",
   "pygments_lexer": "ipython3",
   "version": "3.11.7"
  }
 },
 "nbformat": 4,
 "nbformat_minor": 4
}
