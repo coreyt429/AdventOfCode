{
 "cells": [
  {
   "cell_type": "code",
   "execution_count": 1,
   "metadata": {},
   "outputs": [],
   "source": [
    "import os\n",
    "import sys\n",
    "sys.path.append(os.path.realpath('../..'))\n",
    "import aoc\n",
    "my_aoc = aoc.AdventOfCode(2024,19)\n",
    "from solution import *"
   ]
  },
  {
   "cell_type": "code",
   "execution_count": 2,
   "metadata": {},
   "outputs": [],
   "source": [
    "input_text = \"\"\"r, wr, b, g, bwu, rb, gb, br\n",
    "\n",
    "brwrr\n",
    "bggr\n",
    "gbbr\n",
    "rrbgbr\n",
    "ubwu\n",
    "bwurrg\n",
    "brgr\n",
    "bbrgwb\"\"\""
   ]
  },
  {
   "cell_type": "code",
   "execution_count": 14,
   "metadata": {},
   "outputs": [],
   "source": []
  },
  {
   "cell_type": "code",
   "execution_count": 3,
   "metadata": {},
   "outputs": [
    {
     "name": "stdout",
     "output_type": "stream",
     "text": [
      "6\n"
     ]
    }
   ],
   "source": [
    "towels, designs = parse_input(input_text)\n",
    "count = 0\n",
    "for design in designs:\n",
    "    if len(find_towel_optimized(tuple(towels), design)) > 0:\n",
    "        count += 1\n",
    "print(count)\n"
   ]
  },
  {
   "cell_type": "code",
   "execution_count": 13,
   "metadata": {},
   "outputs": [
    {
     "name": "stdout",
     "output_type": "stream",
     "text": [
      "find_towel_optimized: r returning: [('r',)]\n",
      "find_towel_optimized: wrr returning: [('wr', 'r')]\n",
      "find_towel_optimized: rwrr returning: [('r', 'wr', 'r')]\n",
      "find_towel_optimized: brwrr returning: [('b', 'r', 'wr', 'r'), ('br', 'wr', 'r')]\n",
      "find_towel_optimized: gr returning: [('g', 'r')]\n",
      "find_towel_optimized: ggr returning: [('g', 'g', 'r')]\n",
      "find_towel_optimized: bggr returning: [('b', 'g', 'g', 'r')]\n",
      "find_towel_optimized: br returning: [('b', 'r'), ('br',)]\n",
      "find_towel_optimized: bbr returning: [('b', 'b', 'r'), ('b', 'br')]\n",
      "find_towel_optimized: gbbr returning: [('g', 'b', 'b', 'r'), ('g', 'b', 'br'), ('gb', 'b', 'r'), ('gb', 'br')]\n",
      "find_towel_optimized: gbr returning: [('g', 'b', 'r'), ('g', 'br'), ('gb', 'r')]\n",
      "find_towel_optimized: bgbr returning: [('b', 'g', 'b', 'r'), ('b', 'g', 'br'), ('b', 'gb', 'r')]\n",
      "find_towel_optimized: rbgbr returning: [('r', 'b', 'g', 'b', 'r'), ('r', 'b', 'g', 'br'), ('r', 'b', 'gb', 'r'), ('rb', 'g', 'b', 'r'), ('rb', 'g', 'br'), ('rb', 'gb', 'r')]\n",
      "find_towel_optimized: rrbgbr returning: [('r', 'r', 'b', 'g', 'b', 'r'), ('r', 'r', 'b', 'g', 'br'), ('r', 'r', 'b', 'gb', 'r'), ('r', 'rb', 'g', 'b', 'r'), ('r', 'rb', 'g', 'br'), ('r', 'rb', 'gb', 'r')]\n",
      "find_towel_optimized: ubwu returning: []\n",
      "find_towel_optimized: wurrg returning: []\n",
      "find_towel_optimized: g returning: [('g',)]\n",
      "find_towel_optimized: rg returning: [('r', 'g')]\n",
      "find_towel_optimized: rrg returning: [('r', 'r', 'g')]\n",
      "find_towel_optimized: bwurrg returning: [('bwu', 'r', 'r', 'g')]\n",
      "find_towel_optimized: rgr returning: [('r', 'g', 'r')]\n",
      "find_towel_optimized: brgr returning: [('b', 'r', 'g', 'r'), ('br', 'g', 'r')]\n",
      "find_towel_optimized: wb returning: []\n",
      "find_towel_optimized: gwb returning: []\n",
      "find_towel_optimized: rgwb returning: []\n",
      "find_towel_optimized: brgwb returning: []\n",
      "find_towel_optimized: bbrgwb returning: []\n",
      "16\n"
     ]
    }
   ],
   "source": [
    "count=0\n",
    "from functools import lru_cache\n",
    "@lru_cache(maxsize=None)\n",
    "def find_towel_optimized(design):\n",
    "    solutions = []\n",
    "    if design == '':\n",
    "        return tuple()\n",
    "    for towel in towels:\n",
    "        if design.startswith(towel):\n",
    "            if towel == design:\n",
    "                solutions.append((towel,))\n",
    "                continue\n",
    "            remaining_solutions = find_towel_optimized(design[len(towel):])\n",
    "            if remaining_solutions:\n",
    "                for remaining in remaining_solutions:\n",
    "                    solutions.append((towel,) + remaining)\n",
    "    print(f\"find_towel_optimized: {design} returning: {solutions}\")\n",
    "    return tuple(solutions)\n",
    "\n",
    "find_towel_optimized('wrr')\n",
    "for design in designs:\n",
    "    design_count = len(find_towel_optimized(design))\n",
    "    count += design_count\n",
    "print(count)\n"
   ]
  },
  {
   "cell_type": "code",
   "execution_count": 5,
   "metadata": {},
   "outputs": [
    {
     "data": {
      "text/plain": [
       "'test'"
      ]
     },
     "execution_count": 5,
     "metadata": {},
     "output_type": "execute_result"
    }
   ],
   "source": [
    "current = ['test']\n",
    "\n",
    "''.join(current)\n"
   ]
  },
  {
   "cell_type": "code",
   "execution_count": 15,
   "metadata": {},
   "outputs": [
    {
     "name": "stdout",
     "output_type": "stream",
     "text": [
      "find_towel_optimized2: r returning: 1\n",
      "find_towel_optimized2: wrr returning: 1\n",
      "find_towel_optimized2: rwrr returning: 1\n",
      "find_towel_optimized2: brwrr returning: 2\n",
      "find_towel_optimized2: gr returning: 1\n",
      "find_towel_optimized2: ggr returning: 1\n",
      "find_towel_optimized2: bggr returning: 1\n",
      "find_towel_optimized2: br returning: 2\n",
      "find_towel_optimized2: bbr returning: 2\n",
      "find_towel_optimized2: gbbr returning: 4\n",
      "find_towel_optimized2: gbr returning: 3\n",
      "find_towel_optimized2: bgbr returning: 3\n",
      "find_towel_optimized2: rbgbr returning: 6\n",
      "find_towel_optimized2: rrbgbr returning: 6\n",
      "find_towel_optimized2: ubwu returning: 0\n",
      "find_towel_optimized2: wurrg returning: 0\n",
      "find_towel_optimized2: g returning: 1\n",
      "find_towel_optimized2: rg returning: 1\n",
      "find_towel_optimized2: rrg returning: 1\n",
      "find_towel_optimized2: bwurrg returning: 1\n",
      "find_towel_optimized2: rgr returning: 1\n",
      "find_towel_optimized2: brgr returning: 2\n",
      "find_towel_optimized2: wb returning: 0\n",
      "find_towel_optimized2: gwb returning: 0\n",
      "find_towel_optimized2: rgwb returning: 0\n",
      "find_towel_optimized2: brgwb returning: 0\n",
      "find_towel_optimized2: bbrgwb returning: 0\n",
      "16\n"
     ]
    }
   ],
   "source": [
    "count=0\n",
    "from functools import lru_cache\n",
    "@lru_cache(maxsize=None)\n",
    "def find_towel_optimized(design):\n",
    "    solutions = 0\n",
    "    if design == '':\n",
    "        return 1\n",
    "    for towel in towels:\n",
    "        if design.startswith(towel):\n",
    "            solutions += find_towel_optimized(design[len(towel):])\n",
    "    print(f\"find_towel_optimized: {design} returning: {solutions}\")\n",
    "    return solutions\n",
    "\n",
    "find_towel_optimized('wrr')\n",
    "for design in designs:\n",
    "    design_count = find_towel_optimized(design)\n",
    "    count += design_count\n",
    "print(count)"
   ]
  },
  {
   "cell_type": "code",
   "execution_count": null,
   "metadata": {},
   "outputs": [],
   "source": []
  }
 ],
 "metadata": {
  "kernelspec": {
   "display_name": "base",
   "language": "python",
   "name": "python3"
  },
  "language_info": {
   "codemirror_mode": {
    "name": "ipython",
    "version": 3
   },
   "file_extension": ".py",
   "mimetype": "text/x-python",
   "name": "python",
   "nbconvert_exporter": "python",
   "pygments_lexer": "ipython3",
   "version": "3.11.7"
  }
 },
 "nbformat": 4,
 "nbformat_minor": 4
}
