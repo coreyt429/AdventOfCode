{
 "cells": [
  {
   "cell_type": "code",
   "execution_count": 1,
   "metadata": {},
   "outputs": [],
   "source": [
    "import os\n",
    "import sys\n",
    "import math\n",
    "sys.path.append(os.path.realpath('../..'))\n",
    "import aoc\n",
    "my_aoc = aoc.AdventOfCode(2015,20)"
   ]
  },
  {
   "cell_type": "code",
   "execution_count": 15,
   "metadata": {},
   "outputs": [
    {
     "name": "stdout",
     "output_type": "stream",
     "text": [
      "House 1 got 10 presents\n",
      "House 2 got 30 presents\n",
      "House 3 got 40 presents\n",
      "House 4 got 70 presents\n",
      "House 5 got 60 presents\n",
      "House 6 got 120 presents\n",
      "House 7 got 80 presents\n",
      "House 8 got 150 presents\n",
      "House 9 got 130 presents\n"
     ]
    }
   ],
   "source": [
    "from sympy import divisors\n",
    "    \n",
    "for idx in range(1,10):\n",
    "    presents = sum(divisors(idx))*10\n",
    "    print(f\"House {idx} got {presents} presents\")"
   ]
  },
  {
   "cell_type": "code",
   "execution_count": 11,
   "metadata": {},
   "outputs": [
    {
     "name": "stdout",
     "output_type": "stream",
     "text": [
      "Time taken by basic method: 114.29292439995334 seconds\n",
      "Time taken by sympy method: 0.25919200014322996 seconds\n"
     ]
    }
   ],
   "source": [
    "import timeit\n",
    "from sympy import divisors\n",
    "\n",
    "# Function using basic iteration\n",
    "def sum_of_factors_basic(n):\n",
    "    total = 0\n",
    "    for i in range(1, n + 1):\n",
    "        if n % i == 0:\n",
    "            total += i\n",
    "    return total\n",
    "\n",
    "# Function using sympy\n",
    "def sum_of_factors_sympy(n):\n",
    "    return sum(divisors(n))\n",
    "\n",
    "# Setup code to be timed\n",
    "setup_code = \"from __main__ import sum_of_factors_basic, sum_of_factors_sympy\"\n",
    "n = 100000  # Example number for testing\n",
    "\n",
    "# Time each function\n",
    "time_basic = timeit.timeit(f\"sum_of_factors_basic({n})\", setup=setup_code, number=10000)\n",
    "time_sympy = timeit.timeit(f\"sum_of_factors_sympy({n})\", setup=setup_code, number=10000)\n",
    "\n",
    "print(f\"Time taken by basic method: {time_basic} seconds\")\n",
    "print(f\"Time taken by sympy method: {time_sympy} seconds\")\n"
   ]
  },
  {
   "cell_type": "code",
   "execution_count": null,
   "metadata": {},
   "outputs": [],
   "source": []
  }
 ],
 "metadata": {
  "kernelspec": {
   "display_name": "Python 3 (ipykernel)",
   "language": "python",
   "name": "python3"
  },
  "language_info": {
   "codemirror_mode": {
    "name": "ipython",
    "version": 3
   },
   "file_extension": ".py",
   "mimetype": "text/x-python",
   "name": "python",
   "nbconvert_exporter": "python",
   "pygments_lexer": "ipython3",
   "version": "3.11.7"
  }
 },
 "nbformat": 4,
 "nbformat_minor": 4
}
