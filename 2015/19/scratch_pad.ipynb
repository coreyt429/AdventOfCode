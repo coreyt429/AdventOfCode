{
 "cells": [
  {
   "cell_type": "code",
   "execution_count": 1,
   "metadata": {},
   "outputs": [],
   "source": [
    "import os\n",
    "import sys\n",
    "sys.path.append(os.path.realpath('../..'))\n",
    "import aoc\n",
    "my_aoc = aoc.AdventOfCode(2015,19)"
   ]
  },
  {
   "cell_type": "code",
   "execution_count": 39,
   "metadata": {},
   "outputs": [],
   "source": [
    "reversed_rules = [\n",
    "    ('ThF', 'Al'),\n",
    "    ('ThRnFAr', 'Al'),\n",
    "    ('BCa', 'B'),\n",
    "    ('TiB', 'B'),\n",
    "    ('TiRnFAr', 'B'),\n",
    "    ('CaCa', 'Ca'),\n",
    "    ('PB', 'Ca'),\n",
    "    ('PRnFAr', 'Ca'),\n",
    "    ('SiRnFYFAr', 'Ca'),\n",
    "    ('SiRnMgAr', 'Ca'),\n",
    "    ('SiTh', 'Ca'),\n",
    "    ('CaF', 'F'),\n",
    "    ('PMg', 'F'),\n",
    "    ('SiAl', 'F'),\n",
    "    ('CRnAlAr', 'H'),\n",
    "    ('CRnFYFYFAr', 'H'),\n",
    "    ('CRnFYMgAr', 'H'),\n",
    "    ('CRnMgYFAr', 'H'),\n",
    "    ('HCa', 'H'),\n",
    "    ('NRnFYFAr', 'H'),\n",
    "    ('NRnMgAr', 'H'),\n",
    "    ('NTh', 'H'),\n",
    "    ('OB', 'H'),\n",
    "    ('ORnFAr', 'H'),\n",
    "    ('BF', 'Mg'),\n",
    "    ('TiMg', 'Mg'),\n",
    "    ('CRnFAr', 'N'),\n",
    "    ('HSi', 'N'),\n",
    "    ('CRnFYFAr', 'O'),\n",
    "    ('CRnMgAr', 'O'),\n",
    "    ('HP', 'O'),\n",
    "    ('NRnFAr', 'O'),\n",
    "    ('OTi', 'O'),\n",
    "    ('CaP', 'P'),\n",
    "    ('PTi', 'P'),\n",
    "    ('SiRnFAr', 'P'),\n",
    "    ('CaSi', 'Si'),\n",
    "    ('ThCa', 'Th'),\n",
    "    ('BP', 'Ti'),\n",
    "    ('TiTi', 'Ti'),\n",
    "    ('HF', 'e'),\n",
    "    ('NAl', 'e'),\n",
    "    ('OMg', 'e')\n",
    "]\n",
    "\n",
    "# Target molecule to reduce to 'e'\n",
    "target = \"CRnCaCaCaSiRnBPTiMgArSiRnSiRnMgArSiRnCaFArTiTiBSiThFYCaFArCaCaSiThCaPBSiThSiThCaCaPTiRnPBSiThRnFArArCaCaSiThCaSiThSiRnMgArCaPTiBPRnFArSiThCaSiRnFArBCaSiRnCaPRnFArPMgYCaFArCaPTiTiTiBPBSiThCaPTiBPBSiRnFArBPBSiRnCaFArBPRnSiRnFArRnSiRnBFArCaFArCaCaCaSiThSiThCaCaPBPTiTiRnFArCaPTiBSiAlArPBCaCaCaCaCaSiRnMgArCaSiThFArThCaSiThCaSiRnCaFYCaSiRnFYFArFArCaSiRnFYFArCaSiRnBPMgArSiThPRnFArCaSiRnFArTiRnSiRnFYFArCaSiRnBFArCaSiRnTiMgArSiThCaSiThCaFArPRnFArSiRnFArTiTiTiTiBCaCaSiRnCaCaFYFArSiThCaPTiBPTiBCaSiThSiRnMgArCaF\"\n"
   ]
  },
  {
   "cell_type": "code",
   "execution_count": 3,
   "metadata": {},
   "outputs": [
    {
     "data": {
      "text/plain": [
       "'CRnCaCaCaSiRnBPTiMgArSiRnSiRnMgArSiRnCaFArTiTiBSiThFYCaFArCaCaSiThCaPBSiThSiThCaCaPTiRnPBSiThRnFArArCaCaSiThCaSiThSiRnMgArCaPTiBPRnFArSiThCaSiRnFArBCaSiRnCaPRnFArPMgYCaFArCaPTiTiTiBPBSiThCaPTiBPBSiRnFArBPBSiRnCaFArBPRnSiRnFArRnSiRnBFArCaFArCaCaCaSiThSiThCaCaPBPTiTiRnFArCaPTiBSiAlArPBCaCaCaCaCaSiRnMgArCaSiThFArThCaSiThCaSiRnCaFYCaSiRnFYFArFArCaSiRnFYFArCaSiRnBPMgArSiThPRnFArCaSiRnFArTiRnSiRnFYFArCaSiRnBFArCaSiRnTiMgArSiThCaSiThCaFArPRnFArSiRnFArTiTiTiTiBCaCaSiRnCaCaFYFArSiThCaPTiBPTiBCaSiThSiRnMgArCaF'"
      ]
     },
     "execution_count": 3,
     "metadata": {},
     "output_type": "execute_result"
    }
   ],
   "source": [
    "target"
   ]
  },
  {
   "cell_type": "code",
   "execution_count": 41,
   "metadata": {},
   "outputs": [
    {
     "name": "stdout",
     "output_type": "stream",
     "text": [
      "e\n",
      "212\n"
     ]
    }
   ],
   "source": [
    "changes = 0\n",
    "while len(target) > 1:\n",
    "    for key, value in reversed_rules:\n",
    "        if key in target:\n",
    "            changes += target.count(key)\n",
    "            target = target.replace(key, value)\n",
    "print(target)\n",
    "print(changes)"
   ]
  },
  {
   "cell_type": "code",
   "execution_count": 17,
   "metadata": {},
   "outputs": [
    {
     "data": {
      "text/plain": [
       "16"
      ]
     },
     "execution_count": 17,
     "metadata": {},
     "output_type": "execute_result"
    }
   ],
   "source": []
  },
  {
   "cell_type": "code",
   "execution_count": null,
   "metadata": {},
   "outputs": [],
   "source": []
  }
 ],
 "metadata": {
  "kernelspec": {
   "display_name": "Python 3 (ipykernel)",
   "language": "python",
   "name": "python3"
  },
  "language_info": {
   "codemirror_mode": {
    "name": "ipython",
    "version": 3
   },
   "file_extension": ".py",
   "mimetype": "text/x-python",
   "name": "python",
   "nbconvert_exporter": "python",
   "pygments_lexer": "ipython3",
   "version": "3.11.7"
  }
 },
 "nbformat": 4,
 "nbformat_minor": 4
}
