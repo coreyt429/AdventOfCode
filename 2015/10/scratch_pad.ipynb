{
 "cells": [
  {
   "cell_type": "code",
   "execution_count": 1,
   "metadata": {},
   "outputs": [],
   "source": [
    "import os\n",
    "import sys\n",
    "sys.path.append(os.path.realpath('../..'))\n",
    "import aoc\n",
    "my_aoc = aoc.AdventOfCode(2015,10)"
   ]
  },
  {
   "cell_type": "code",
   "execution_count": 5,
   "metadata": {},
   "outputs": [
    {
     "name": "stdout",
     "output_type": "stream",
     "text": [
      "String version time: 4.606478 seconds\n",
      "List version time: 2.412631 seconds\n",
      "List version is 1.91x faster\n"
     ]
    }
   ],
   "source": [
    "import timeit\n",
    "\n",
    "def look_and_say_string(sequence):\n",
    "    result = ''\n",
    "    current_digit = sequence[0]\n",
    "    count = 1\n",
    "    for digit in sequence[1:]:\n",
    "        if digit == current_digit:\n",
    "            count += 1\n",
    "        else:\n",
    "            result += str(count) + current_digit\n",
    "            current_digit = digit\n",
    "            count = 1\n",
    "    result += str(count) + current_digit\n",
    "    return result\n",
    "\n",
    "def look_and_say_list(sequence):\n",
    "    result = []\n",
    "    current_digit = sequence[0]\n",
    "    count = 1\n",
    "    for digit in sequence[1:]:\n",
    "        if digit == current_digit:\n",
    "            count += 1\n",
    "        else:\n",
    "            result.extend([str(count), current_digit])\n",
    "            current_digit = digit\n",
    "            count = 1\n",
    "    result.extend([str(count), current_digit])\n",
    "    return ''.join(result)\n",
    "\n",
    "# Test with a moderately long sequence\n",
    "test_sequence = \"11113222113\"*1000\n",
    "\n",
    "# Time the string version\n",
    "string_time = timeit.timeit(lambda: look_and_say_string(test_sequence), number=1000)\n",
    "\n",
    "# Time the list version\n",
    "list_time = timeit.timeit(lambda: look_and_say_list(test_sequence), number=1000)\n",
    "\n",
    "print(f\"String version time: {string_time:.6f} seconds\")\n",
    "print(f\"List version time: {list_time:.6f} seconds\")\n",
    "print(f\"List version is {string_time / list_time:.2f}x faster\")"
   ]
  },
  {
   "cell_type": "code",
   "execution_count": null,
   "metadata": {},
   "outputs": [],
   "source": []
  }
 ],
 "metadata": {
  "kernelspec": {
   "display_name": "Python 3 (ipykernel)",
   "language": "python",
   "name": "python3"
  },
  "language_info": {
   "codemirror_mode": {
    "name": "ipython",
    "version": 3
   },
   "file_extension": ".py",
   "mimetype": "text/x-python",
   "name": "python",
   "nbconvert_exporter": "python",
   "pygments_lexer": "ipython3",
   "version": "3.11.7"
  }
 },
 "nbformat": 4,
 "nbformat_minor": 4
}
