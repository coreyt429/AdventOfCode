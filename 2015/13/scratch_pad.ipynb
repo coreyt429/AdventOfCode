{
 "cells": [
  {
   "cell_type": "code",
   "execution_count": 1,
   "metadata": {},
   "outputs": [],
   "source": [
    "import os\n",
    "import sys\n",
    "sys.path.append(os.path.realpath('../..'))\n",
    "import aoc\n",
    "my_aoc = aoc.AdventOfCode(2015,13)"
   ]
  },
  {
   "cell_type": "code",
   "execution_count": 5,
   "metadata": {},
   "outputs": [
    {
     "name": "stdout",
     "output_type": "stream",
     "text": [
      "0 is between 9 and 1\n",
      "1 is between 0 and 2\n",
      "2 is between 1 and 3\n",
      "3 is between 2 and 4\n",
      "4 is between 3 and 5\n",
      "5 is between 4 and 6\n",
      "6 is between 5 and 7\n",
      "7 is between 6 and 8\n",
      "8 is between 7 and 9\n",
      "9 is between 8 and 0\n"
     ]
    }
   ],
   "source": [
    "for idx in range(10):\n",
    "    idx_p = (idx - 1) % 10\n",
    "    idx_n = (idx + 1) % 10\n",
    "    print(f\"{idx} is between {idx_p} and {idx_n}\")"
   ]
  },
  {
   "cell_type": "code",
   "execution_count": null,
   "metadata": {},
   "outputs": [],
   "source": []
  }
 ],
 "metadata": {
  "kernelspec": {
   "display_name": "Python 3 (ipykernel)",
   "language": "python",
   "name": "python3"
  },
  "language_info": {
   "codemirror_mode": {
    "name": "ipython",
    "version": 3
   },
   "file_extension": ".py",
   "mimetype": "text/x-python",
   "name": "python",
   "nbconvert_exporter": "python",
   "pygments_lexer": "ipython3",
   "version": "3.11.7"
  }
 },
 "nbformat": 4,
 "nbformat_minor": 4
}
