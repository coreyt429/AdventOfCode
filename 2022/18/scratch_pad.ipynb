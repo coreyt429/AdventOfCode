{
 "cells": [
  {
   "cell_type": "code",
   "execution_count": 1,
   "metadata": {},
   "outputs": [],
   "source": [
    "import os\n",
    "import sys\n",
    "sys.path.append(os.path.realpath('../..'))\n",
    "import aoc\n",
    "my_aoc = aoc.AdventOfCode(2022,18)\n",
    "from solution import *"
   ]
  },
  {
   "cell_type": "code",
   "execution_count": 2,
   "metadata": {},
   "outputs": [],
   "source": [
    "input_text = \"\"\"2,2,2\n",
    "1,2,2\n",
    "3,2,2\n",
    "2,1,2\n",
    "2,3,2\n",
    "2,2,1\n",
    "2,2,3\n",
    "2,2,4\n",
    "2,2,6\n",
    "1,2,5\n",
    "3,2,5\n",
    "2,1,5\n",
    "2,3,5\"\"\""
   ]
  },
  {
   "cell_type": "code",
   "execution_count": null,
   "metadata": {},
   "outputs": [],
   "source": []
  },
  {
   "cell_type": "code",
   "execution_count": null,
   "metadata": {},
   "outputs": [
    {
     "name": "stdout",
     "output_type": "stream",
     "text": [
      "64\n",
      "35 {(2, 0, 2), (2, 0, 5), (2, 1, 6), (2, 2, 5), (2, 1, 3), (3, 2, 1), (3, 2, 4), (3, 1, 2), (3, 3, 5), (3, 1, 5), (3, 3, 2), (2, 4, 2), (2, 4, 5), (2, 3, 3), (2, 3, 6), (2, 2, 7), (1, 2, 4), (1, 2, 1), (3, 2, 6), (1, 3, 2), (3, 2, 3), (1, 3, 5), (1, 1, 2), (1, 1, 5), (2, 2, 0), (2, 1, 4), (4, 2, 2), (2, 1, 1), (4, 2, 5), (1, 2, 6), (1, 2, 3), (2, 3, 4), (0, 2, 5), (2, 3, 1), (0, 2, 2)}\n",
      "(2, 2, 5) 6\n",
      "58\n"
     ]
    }
   ],
   "source": [
    "cubes = parse_input(input_text.splitlines())\n",
    "sides = 0\n",
    "empty = set()\n",
    "for cube in cubes:\n",
    "    sides += 6\n",
    "    for neighbor in get_neighbors(cube):\n",
    "        if neighbor in cubes:\n",
    "            sides -= 1\n",
    "        else:\n",
    "            empty.add(neighbor)\n",
    "print(sides)\n",
    "print(len(empty), empty)\n",
    "for idx, cube in enumerate(empty):\n",
    "    print(f\"{idx} of {len(empty)}: {cube}\")\n",
    "    count = 0\n",
    "    for neighbor in get_neighbors(cube):\n",
    "        if neighbor in cubes:\n",
    "            count += 1\n",
    "    if shortest_path(cube, cubes, (0, 0, 0)) is None:\n",
    "        print(cube, count)\n",
    "        sides -= count\n",
    "print(sides)\n"
   ]
  },
  {
   "cell_type": "code",
   "execution_count": null,
   "metadata": {},
   "outputs": [],
   "source": []
  }
 ],
 "metadata": {
  "kernelspec": {
   "display_name": "base",
   "language": "python",
   "name": "python3"
  },
  "language_info": {
   "codemirror_mode": {
    "name": "ipython",
    "version": 3
   },
   "file_extension": ".py",
   "mimetype": "text/x-python",
   "name": "python",
   "nbconvert_exporter": "python",
   "pygments_lexer": "ipython3",
   "version": "3.11.7"
  }
 },
 "nbformat": 4,
 "nbformat_minor": 4
}
