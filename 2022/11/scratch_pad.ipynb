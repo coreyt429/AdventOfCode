{
 "cells": [
  {
   "cell_type": "code",
   "execution_count": 1,
   "metadata": {},
   "outputs": [],
   "source": [
    "import os\n",
    "import sys\n",
    "sys.path.append(os.path.realpath('../..'))\n",
    "import aoc\n",
    "my_aoc = aoc.AdventOfCode(2022,11)\n",
    "from solution import Monkeys"
   ]
  },
  {
   "cell_type": "code",
   "execution_count": 2,
   "metadata": {},
   "outputs": [],
   "source": [
    "input_text = \"\"\"Monkey 0:\n",
    "  Starting items: 79, 98\n",
    "  Operation: new = old * 19\n",
    "  Test: divisible by 23\n",
    "    If true: throw to monkey 2\n",
    "    If false: throw to monkey 3\n",
    "\n",
    "Monkey 1:\n",
    "  Starting items: 54, 65, 75, 74\n",
    "  Operation: new = old + 6\n",
    "  Test: divisible by 19\n",
    "    If true: throw to monkey 2\n",
    "    If false: throw to monkey 0\n",
    "\n",
    "Monkey 2:\n",
    "  Starting items: 79, 60, 97\n",
    "  Operation: new = old * old\n",
    "  Test: divisible by 13\n",
    "    If true: throw to monkey 1\n",
    "    If false: throw to monkey 3\n",
    "\n",
    "Monkey 3:\n",
    "  Starting items: 74\n",
    "  Operation: new = old + 3\n",
    "  Test: divisible by 17\n",
    "    If true: throw to monkey 0\n",
    "    If false: throw to monkey 1\"\"\""
   ]
  },
  {
   "cell_type": "code",
   "execution_count": null,
   "metadata": {},
   "outputs": [],
   "source": []
  },
  {
   "cell_type": "code",
   "execution_count": 3,
   "metadata": {},
   "outputs": [
    {
     "name": "stdout",
     "output_type": "stream",
     "text": [
      "Monkeys:\n",
      "Monkey 0: [10, 12, 14, 26, 34]\n",
      "Monkey 1: [245, 93, 53, 199, 115]\n",
      "Monkey 2: []\n",
      "Monkey 3: []\n",
      "\n",
      "10605\n"
     ]
    }
   ],
   "source": [
    "import math\n",
    "monkeys = Monkeys()\n",
    "for description in input_text.split('\\n\\n'):\n",
    "    monkeys.add(description)\n",
    "\n",
    "    \n",
    "for _ in range(20):\n",
    "    for monkey in monkeys:\n",
    "        monkey.play_round()\n",
    "print(monkeys)\n",
    "inspected = sorted([monkey.inspected for monkey in monkeys])\n",
    "print(math.prod(inspected[-2:]))"
   ]
  },
  {
   "cell_type": "code",
   "execution_count": null,
   "metadata": {},
   "outputs": [
    {
     "name": "stdout",
     "output_type": "stream",
     "text": [
      "[1938, 47830, 52013, 52166]\n",
      "2713310158\n"
     ]
    }
   ],
   "source": [
    "import math\n",
    "import sys\n",
    "monkeys = Monkeys()\n",
    "monkeys.divisor = 1\n",
    "for description in input_text.split('\\n\\n'):\n",
    "    monkeys.add(description)\n",
    "\n",
    "    \n",
    "for round in range(10000):\n",
    "    for monkey in monkeys:\n",
    "        # print(monkey.monkey_id)\n",
    "        monkey.play_round()\n",
    "# print(monkeys)\n",
    "inspected = sorted([monkey.inspected for monkey in monkeys])\n",
    "print(inspected)\n",
    "print(math.prod(inspected[-2:]))"
   ]
  },
  {
   "cell_type": "code",
   "execution_count": null,
   "metadata": {},
   "outputs": [
    {
     "data": {
      "text/plain": [
       "27019168"
      ]
     },
     "execution_count": 5,
     "metadata": {},
     "output_type": "execute_result"
    }
   ],
   "source": [
    "2713310158\n",
    "2713310158"
   ]
  }
 ],
 "metadata": {
  "kernelspec": {
   "display_name": "base",
   "language": "python",
   "name": "python3"
  },
  "language_info": {
   "codemirror_mode": {
    "name": "ipython",
    "version": 3
   },
   "file_extension": ".py",
   "mimetype": "text/x-python",
   "name": "python",
   "nbconvert_exporter": "python",
   "pygments_lexer": "ipython3",
   "version": "3.11.7"
  }
 },
 "nbformat": 4,
 "nbformat_minor": 4
}
