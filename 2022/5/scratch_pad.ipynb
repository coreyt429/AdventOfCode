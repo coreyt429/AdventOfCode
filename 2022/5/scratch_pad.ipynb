{
 "cells": [
  {
   "cell_type": "code",
   "execution_count": null,
   "metadata": {},
   "outputs": [],
   "source": [
    "import os\n",
    "import sys\n",
    "sys.path.append(os.path.realpath('../..'))\n",
    "import aoc\n",
    "my_aoc = aoc.AdventOfCode(2022,5)\n",
    "from solution import parse_input"
   ]
  },
  {
   "cell_type": "code",
   "execution_count": 2,
   "metadata": {},
   "outputs": [],
   "source": [
    "input_text = \"\"\"    [D]    \n",
    "[N] [C]    \n",
    "[Z] [M] [P]\n",
    " 1   2   3 \n",
    "\n",
    "move 1 from 2 to 1\n",
    "move 3 from 1 to 3\n",
    "move 2 from 2 to 1\n",
    "move 1 from 1 to 2\"\"\""
   ]
  },
  {
   "cell_type": "code",
   "execution_count": null,
   "metadata": {},
   "outputs": [],
   "source": []
  },
  {
   "cell_type": "code",
   "execution_count": 19,
   "metadata": {},
   "outputs": [
    {
     "name": "stdout",
     "output_type": "stream",
     "text": [
      "move 1 from 2 to 1\n",
      "['move', '1', 'from', '2', 'to', '1']\n",
      "move 3 from 1 to 3\n",
      "['move', '3', 'from', '1', 'to', '3']\n",
      "move 2 from 2 to 1\n",
      "['move', '2', 'from', '2', 'to', '1']\n",
      "move 1 from 1 to 2\n",
      "['move', '1', 'from', '1', 'to', '2']\n",
      "CMZ\n"
     ]
    }
   ],
   "source": [
    "moves, columns = parse_input(input_text)\n",
    "for move in moves:\n",
    "    qty, source, destination = move\n",
    "    for _ in range(qty):\n",
    "        columns[destination].append(\n",
    "            columns[source].pop()\n",
    "        )\n",
    "print(''.join([column[-1] for column in columns.values()]))"
   ]
  },
  {
   "cell_type": "code",
   "execution_count": null,
   "metadata": {},
   "outputs": [],
   "source": []
  }
 ],
 "metadata": {
  "kernelspec": {
   "display_name": "base",
   "language": "python",
   "name": "python3"
  },
  "language_info": {
   "codemirror_mode": {
    "name": "ipython",
    "version": 3
   },
   "file_extension": ".py",
   "mimetype": "text/x-python",
   "name": "python",
   "nbconvert_exporter": "python",
   "pygments_lexer": "ipython3",
   "version": "3.11.7"
  }
 },
 "nbformat": 4,
 "nbformat_minor": 4
}
