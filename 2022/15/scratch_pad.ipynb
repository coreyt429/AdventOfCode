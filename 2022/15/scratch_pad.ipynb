{
 "cells": [
  {
   "cell_type": "code",
   "execution_count": 1,
   "metadata": {},
   "outputs": [],
   "source": [
    "import os\n",
    "import sys\n",
    "sys.path.append(os.path.realpath('../..'))\n",
    "import aoc\n",
    "my_aoc = aoc.AdventOfCode(2022,15)\n",
    "from grid import manhattan_distance, Grid\n",
    "from solution import Sensor, parse_input, solve"
   ]
  },
  {
   "cell_type": "code",
   "execution_count": 2,
   "metadata": {},
   "outputs": [],
   "source": [
    "input_text = \"\"\"Sensor at x=2, y=18: closest beacon is at x=-2, y=15\n",
    "Sensor at x=9, y=16: closest beacon is at x=10, y=16\n",
    "Sensor at x=13, y=2: closest beacon is at x=15, y=3\n",
    "Sensor at x=12, y=14: closest beacon is at x=10, y=16\n",
    "Sensor at x=10, y=20: closest beacon is at x=10, y=16\n",
    "Sensor at x=14, y=17: closest beacon is at x=10, y=16\n",
    "Sensor at x=8, y=7: closest beacon is at x=2, y=10\n",
    "Sensor at x=2, y=0: closest beacon is at x=2, y=10\n",
    "Sensor at x=0, y=11: closest beacon is at x=2, y=10\n",
    "Sensor at x=20, y=14: closest beacon is at x=25, y=17\n",
    "Sensor at x=17, y=20: closest beacon is at x=21, y=22\n",
    "Sensor at x=16, y=7: closest beacon is at x=15, y=3\n",
    "Sensor at x=14, y=3: closest beacon is at x=15, y=3\n",
    "Sensor at x=20, y=1: closest beacon is at x=15, y=3\"\"\""
   ]
  },
  {
   "cell_type": "code",
   "execution_count": 3,
   "metadata": {},
   "outputs": [
    {
     "name": "stdout",
     "output_type": "stream",
     "text": [
      "26\n",
      "56000011\n"
     ]
    }
   ],
   "source": [
    "\n",
    "\n",
    "result = solve(input_text.splitlines(), part=1, y_val=10)\n",
    "print(result)\n",
    "result = solve(input_text.splitlines(), part=2, y_val=20)\n",
    "print(result)\n",
    "\n"
   ]
  },
  {
   "cell_type": "code",
   "execution_count": 4,
   "metadata": {},
   "outputs": [
    {
     "name": "stdout",
     "output_type": "stream",
     "text": [
      "26\n",
      "{(21, 10), (12, 10), (23, 10), (3, 10), (14, 10), (5, 10), (16, 10), (7, 10), (18, 10), (-1, 10), (-2, 10), (20, 10), (22, 10), (9, 10), (0, 10), (11, 10), (13, 10), (24, 10), (15, 10), (6, 10), (4, 10), (17, 10), (8, 10), (19, 10), (10, 10), (1, 10)}\n",
      "(14, 11): 56000011\n"
     ]
    }
   ],
   "source": [
    "sensors = parse_input(input_text.splitlines())\n",
    "min_x = float('infinity')\n",
    "max_x = 0\n",
    "beacons = set()\n",
    "for sensor in sensors:\n",
    "    min_x = min(sensor.position[0] - sensor.scan_range, min_x)\n",
    "    max_x = max(sensor.position[0] + sensor.scan_range, max_x)\n",
    "    beacons.add(sensor.beacon)\n",
    "\n",
    "y_val = 10\n",
    "no_beacons = set()\n",
    "for x_val in range(min_x, max_x + 1):\n",
    "    for sensor in sensors:\n",
    "        if sensor.distance((x_val, y_val)) <= sensor.scan_range:\n",
    "            no_beacons.add((x_val, y_val))\n",
    "\n",
    "no_beacons.difference_update(beacons)\n",
    "print(len(no_beacons))\n",
    "print(no_beacons)\n",
    "for x_val in range(0, 20 + 1):\n",
    "    for y_val in range(0, 20 + 1):\n",
    "        found = False\n",
    "        point = tuple([x_val, y_val])\n",
    "        if point in beacons:\n",
    "            continue\n",
    "        for sensor in sensors:\n",
    "            if sensor.distance(point) <= sensor.scan_range:\n",
    "                found = True\n",
    "                break\n",
    "        if found:\n",
    "            continue\n",
    "        print(f\"{point}: {point[0]*4000000 + point[1]}\")"
   ]
  },
  {
   "cell_type": "code",
   "execution_count": 5,
   "metadata": {},
   "outputs": [
    {
     "name": "stdout",
     "output_type": "stream",
     "text": [
      "(-6, 18)\n",
      "(-6, 18)\n",
      "(-5, 19)\n",
      "(-5, 17)\n",
      "(-4, 20)\n",
      "(-4, 16)\n",
      "(-3, 21)\n",
      "(-3, 15)\n",
      "(-2, 22)\n",
      "(-2, 14)\n",
      "(-1, 23)\n",
      "(-1, 13)\n",
      "(0, 24)\n",
      "(0, 12)\n",
      "(1, 25)\n",
      "(1, 11)\n",
      "(2, 26)\n",
      "(2, 10)\n",
      "(3, 25)\n",
      "(3, 11)\n",
      "(4, 24)\n",
      "(4, 12)\n",
      "(5, 23)\n",
      "(5, 13)\n",
      "(6, 22)\n",
      "(6, 14)\n",
      "(7, 21)\n",
      "(7, 15)\n",
      "(8, 20)\n",
      "(8, 16)\n",
      "(9, 19)\n",
      "(9, 17)\n",
      "(10, 18)\n",
      "(10, 18)\n"
     ]
    }
   ],
   "source": [
    "for point in sensors[0].outside_perimeter():\n",
    "    print(point)"
   ]
  },
  {
   "cell_type": "code",
   "execution_count": null,
   "metadata": {},
   "outputs": [],
   "source": []
  }
 ],
 "metadata": {
  "kernelspec": {
   "display_name": "base",
   "language": "python",
   "name": "python3"
  },
  "language_info": {
   "codemirror_mode": {
    "name": "ipython",
    "version": 3
   },
   "file_extension": ".py",
   "mimetype": "text/x-python",
   "name": "python",
   "nbconvert_exporter": "python",
   "pygments_lexer": "ipython3",
   "version": "3.11.7"
  }
 },
 "nbformat": 4,
 "nbformat_minor": 4
}
