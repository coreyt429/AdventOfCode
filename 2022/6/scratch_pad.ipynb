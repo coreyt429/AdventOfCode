{
 "cells": [
  {
   "cell_type": "code",
   "execution_count": 1,
   "metadata": {},
   "outputs": [],
   "source": [
    "import os\n",
    "import sys\n",
    "sys.path.append(os.path.realpath('../..'))\n",
    "import aoc\n",
    "my_aoc = aoc.AdventOfCode(2022,6)\n",
    "\n",
    "from solution import find_packet_start"
   ]
  },
  {
   "cell_type": "code",
   "execution_count": 2,
   "metadata": {},
   "outputs": [],
   "source": [
    "test_cases = [\n",
    "    {\n",
    "        \"string\": \"mjqjpqmgbljsphdztnvjfqwrcgsmlb\",\n",
    "        \"start_marker\": 7,\n",
    "        \"message_start\": 19\n",
    "    },\n",
    "    {\n",
    "        \"string\": \"bvwbjplbgvbhsrlpgdmjqwftvncz\",\n",
    "        \"start_marker\": 5,\n",
    "        \"message_start\": 23\n",
    "    },\n",
    "    {\n",
    "        \"string\": \"nppdvjthqldpwncqszvftbrmjlhg\",\n",
    "        \"start_marker\": 6,\n",
    "        \"message_start\": 23\n",
    "    },\n",
    "    {\n",
    "        \"string\": \"nznrnfrfntjfmvfwmzdfjlvtqnbhcprsg\",\n",
    "        \"start_marker\": 10,\n",
    "        \"message_start\": 29\n",
    "    },\n",
    "    {\n",
    "        \"string\": \"zcfzfwzzqfrljwzlrfnpqdbhtmscgvjw\",\n",
    "        \"start_marker\": 11,\n",
    "        \"message_start\": 26\n",
    "    },\n",
    "]"
   ]
  },
  {
   "cell_type": "code",
   "execution_count": null,
   "metadata": {},
   "outputs": [],
   "source": []
  },
  {
   "cell_type": "code",
   "execution_count": 3,
   "metadata": {},
   "outputs": [
    {
     "name": "stdout",
     "output_type": "stream",
     "text": [
      "7 == 7: True\n",
      "5 == 5: True\n",
      "6 == 6: True\n",
      "10 == 10: True\n",
      "11 == 11: True\n"
     ]
    }
   ],
   "source": [
    "for test_case in test_cases:\n",
    "    start_marker = find_packet_start(test_case['string'])\n",
    "    print(f\"{start_marker} == {test_case['start_marker']}: {start_marker == test_case['start_marker']}\")"
   ]
  },
  {
   "cell_type": "code",
   "execution_count": 5,
   "metadata": {},
   "outputs": [
    {
     "name": "stdout",
     "output_type": "stream",
     "text": [
      "19 == 19: True\n",
      "23 == 23: True\n",
      "23 == 23: True\n",
      "29 == 29: True\n",
      "26 == 26: True\n"
     ]
    }
   ],
   "source": [
    "for test_case in test_cases:\n",
    "    start_marker = find_packet_start(test_case['string'], 14)\n",
    "    print(f\"{start_marker} == {test_case['message_start']}: {start_marker == test_case['message_start']}\")"
   ]
  },
  {
   "cell_type": "code",
   "execution_count": null,
   "metadata": {},
   "outputs": [],
   "source": []
  }
 ],
 "metadata": {
  "kernelspec": {
   "display_name": "base",
   "language": "python",
   "name": "python3"
  },
  "language_info": {
   "codemirror_mode": {
    "name": "ipython",
    "version": 3
   },
   "file_extension": ".py",
   "mimetype": "text/x-python",
   "name": "python",
   "nbconvert_exporter": "python",
   "pygments_lexer": "ipython3",
   "version": "3.11.7"
  }
 },
 "nbformat": 4,
 "nbformat_minor": 4
}
