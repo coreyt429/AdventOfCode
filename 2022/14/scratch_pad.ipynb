{
 "cells": [
  {
   "cell_type": "code",
   "execution_count": 1,
   "metadata": {},
   "outputs": [],
   "source": [
    "import os\n",
    "import sys\n",
    "sys.path.append(os.path.realpath('../..'))\n",
    "import aoc\n",
    "my_aoc = aoc.AdventOfCode(2022,14)\n",
    "from solution import *"
   ]
  },
  {
   "cell_type": "code",
   "execution_count": 2,
   "metadata": {},
   "outputs": [],
   "source": [
    "input_text = \"\"\"498,4 -> 498,6 -> 496,6\n",
    "503,4 -> 502,4 -> 502,9 -> 494,9\"\"\""
   ]
  },
  {
   "cell_type": "code",
   "execution_count": null,
   "metadata": {},
   "outputs": [],
   "source": []
  },
  {
   "cell_type": "code",
   "execution_count": 3,
   "metadata": {},
   "outputs": [
    {
     "name": "stdout",
     "output_type": "stream",
     "text": [
      "24\n"
     ]
    }
   ],
   "source": [
    "\n",
    "grid = parse_input(input_text.splitlines())\n",
    "max_y = grid.cfg['max'][1]\n",
    "counter = 0\n",
    "while drop_sand(grid, max_y, part=1):\n",
    "    counter += 1\n",
    "    if  counter > 25:\n",
    "        print(\"breaking loop 2\")\n",
    "        break\n",
    "    continue\n",
    "    \n",
    "print(str(grid).count('o'))\n"
   ]
  },
  {
   "cell_type": "code",
   "execution_count": 6,
   "metadata": {},
   "outputs": [
    {
     "name": "stdout",
     "output_type": "stream",
     "text": [
      "9\n",
      "93\n",
      "          o          \n",
      "         ooo         \n",
      "        ooooo        \n",
      "       ooooooo       \n",
      "      oo#ooo##o      \n",
      "     ooo#ooo#ooo     \n",
      "    oo###ooo#oooo    \n",
      "   oooo oooo#ooooo   \n",
      "  oooooooooo#oooooo  \n",
      " ooo#########ooooooo \n",
      "ooooo       ooooooooo\n"
     ]
    }
   ],
   "source": [
    "\n",
    "grid = parse_input(input_text.splitlines())\n",
    "max_y = grid.cfg['max'][1]\n",
    "counter = 0\n",
    "print(max_y)\n",
    "while grid.get_point((500, 0)) != 'o':\n",
    "    drop_sand(grid, max_y + 2, part=2)\n",
    "    counter += 1\n",
    "    if  counter > 100:\n",
    "        print(\"breaking loop 2\")\n",
    "        break\n",
    "    continue\n",
    "grid.update()\n",
    "print(str(grid).count('o'))\n",
    "print(grid)"
   ]
  },
  {
   "cell_type": "code",
   "execution_count": null,
   "metadata": {},
   "outputs": [],
   "source": []
  },
  {
   "cell_type": "code",
   "execution_count": null,
   "metadata": {},
   "outputs": [],
   "source": []
  }
 ],
 "metadata": {
  "kernelspec": {
   "display_name": "base",
   "language": "python",
   "name": "python3"
  },
  "language_info": {
   "codemirror_mode": {
    "name": "ipython",
    "version": 3
   },
   "file_extension": ".py",
   "mimetype": "text/x-python",
   "name": "python",
   "nbconvert_exporter": "python",
   "pygments_lexer": "ipython3",
   "version": "3.11.7"
  }
 },
 "nbformat": 4,
 "nbformat_minor": 4
}
