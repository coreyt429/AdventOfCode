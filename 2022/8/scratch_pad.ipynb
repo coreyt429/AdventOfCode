{
 "cells": [
  {
   "cell_type": "code",
   "execution_count": 1,
   "metadata": {},
   "outputs": [],
   "source": [
    "import os\n",
    "import sys\n",
    "sys.path.append(os.path.realpath('../..'))\n",
    "import aoc\n",
    "my_aoc = aoc.AdventOfCode(2022,8)\n",
    "from solution import *"
   ]
  },
  {
   "cell_type": "code",
   "execution_count": 2,
   "metadata": {},
   "outputs": [],
   "source": [
    "input_text = \"\"\"30373\n",
    "25512\n",
    "65332\n",
    "33549\n",
    "35390\"\"\"\n",
    "\n"
   ]
  },
  {
   "cell_type": "code",
   "execution_count": null,
   "metadata": {},
   "outputs": [],
   "source": []
  },
  {
   "cell_type": "code",
   "execution_count": 3,
   "metadata": {},
   "outputs": [
    {
     "name": "stdout",
     "output_type": "stream",
     "text": [
      "21\n",
      "30373\n",
      "25512\n",
      "65332\n",
      "33549\n",
      "35390\n",
      "8\n"
     ]
    }
   ],
   "source": [
    "trees = Grid(input_text, use_overrides=False)\n",
    "convert_to_int(trees)\n",
    "count = count_visible_trees(trees)\n",
    "print(count)\n",
    "print(trees)\n",
    "\n",
    "print(max_scenic_score(trees))"
   ]
  },
  {
   "cell_type": "code",
   "execution_count": 4,
   "metadata": {},
   "outputs": [
    {
     "data": {
      "text/plain": [
       "{(0, 0),\n",
       " (0, 1),\n",
       " (0, 2),\n",
       " (0, 3),\n",
       " (0, 4),\n",
       " (1, 0),\n",
       " (1, 1),\n",
       " (1, 2),\n",
       " (1, 4),\n",
       " (2, 0),\n",
       " (2, 1),\n",
       " (2, 3),\n",
       " (2, 4),\n",
       " (3, 0),\n",
       " (3, 2),\n",
       " (3, 3),\n",
       " (3, 4),\n",
       " (4, 0),\n",
       " (4, 1),\n",
       " (4, 2),\n",
       " (4, 3),\n",
       " (4, 4)}"
      ]
     },
     "execution_count": 4,
     "metadata": {},
     "output_type": "execute_result"
    }
   ],
   "source": [
    "{\n",
    "    (1, 0),# top\n",
    "    (2, 0),# top\n",
    "    (3, 0),# top\n",
    "    (4, 0),# right top\n",
    "    (1, 4),# bottom\n",
    "    (2, 4),# bottom\n",
    "    (3, 4),# bottom\n",
    "    (4, 3),# right\n",
    "    (0, 0),# left top\n",
    "    (0, 1),# left\n",
    "    (0, 2),#  left\n",
    "    (0, 3),# left\n",
    "    (0, 4),# left\n",
    "    (4, 1),# right\n",
    "    (4, 2),# right\n",
    "    (4, 4),# right\n",
    "    (3, 3),\n",
    "    (1, 2),# The left-middle 5 is visible\n",
    "    (2, 1),# The top-middle 5 is visible\n",
    "    (3, 2),# The right-middle 3 is visible\n",
    "    (1, 1),# The top-left 5 is visible\n",
    "    (2, 3)# The right-middle 3 is visible\n",
    "}\n"
   ]
  }
 ],
 "metadata": {
  "kernelspec": {
   "display_name": "base",
   "language": "python",
   "name": "python3"
  },
  "language_info": {
   "codemirror_mode": {
    "name": "ipython",
    "version": 3
   },
   "file_extension": ".py",
   "mimetype": "text/x-python",
   "name": "python",
   "nbconvert_exporter": "python",
   "pygments_lexer": "ipython3",
   "version": "3.11.7"
  }
 },
 "nbformat": 4,
 "nbformat_minor": 4
}
