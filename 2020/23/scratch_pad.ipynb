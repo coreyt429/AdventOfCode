{
 "cells": [
  {
   "cell_type": "code",
   "execution_count": 67,
   "metadata": {},
   "outputs": [],
   "source": [
    "import os\n",
    "import sys\n",
    "sys.path.append(os.path.realpath('../..'))\n",
    "import aoc\n",
    "my_aoc = aoc.AdventOfCode(2020,23)"
   ]
  },
  {
   "cell_type": "code",
   "execution_count": 68,
   "metadata": {},
   "outputs": [
    {
     "name": "stdout",
     "output_type": "stream",
     "text": [
      "deque([1, 2, 3, 4, 5, 6, 7])\n",
      "3\n",
      "deque([4, 5, 6, 7, 1, 2, 3])\n",
      "deque([1, 2, 3, 7])\n",
      "deque([1, 2, 3, 7]) [4, 5, 6]\n"
     ]
    }
   ],
   "source": [
    "input_text = \"389125467\"\n",
    "from collections import deque\n",
    "\n",
    "a = deque([1,2,3,4,5,6,7])\n",
    "print(a)\n",
    "idx = a.index(3) + 1\n",
    "a.rotate(-1 * idx)\n",
    "print(idx)\n",
    "print(a)\n",
    "b = []\n",
    "for _ in range(3):\n",
    "    cup = a.popleft()\n",
    "    b.append(cup)\n",
    "a.rotate(idx)\n",
    "print(a)\n",
    "print(a, b)\n"
   ]
  },
  {
   "cell_type": "code",
   "execution_count": 69,
   "metadata": {},
   "outputs": [
    {
     "name": "stdout",
     "output_type": "stream",
     "text": [
      "43769582\n"
     ]
    }
   ],
   "source": [
    "from collections import deque\n",
    "from functools import lru_cache\n",
    "import numpy as np\n",
    "\n",
    "def move_cups_deque(cups, current_cup):\n",
    "    cup_string = ''\n",
    "    for cup in cups:\n",
    "        if cup == current_cup:\n",
    "            cup_string += f\"({cup}) \"\n",
    "        else:\n",
    "            cup_string += f\"{cup} \"\n",
    "    # The crab picks up the three cups that are immediately clockwise of the current cup.\n",
    "    # They are removed from the circle; cup spacing is adjusted as necessary to maintain the circle.\n",
    "    idx = cups.index(current_cup) + 1\n",
    "    cups.rotate(-1 * idx)\n",
    "    pickup = []\n",
    "    for _ in range(3):\n",
    "        pickup.append(cups.popleft())\n",
    "    cups.rotate(idx)    \n",
    "    # destination: 2\"\"\")\n",
    "    # The crab selects a destination cup: the cup with a label equal to the current cup's label minus one.\n",
    "    # If this would select one of the cups that was just picked up, the crab will keep subtracting one\n",
    "    # until it finds a cup that wasn't just picked up. \n",
    "    destination_cup = current_cup - 1\n",
    "    while destination_cup in pickup:\n",
    "        destination_cup -= 1\n",
    "    # If at any point in this process the value goes below the lowest value on any cup's label,\n",
    "    # it wraps around to the highest value on any cup's label instead.\n",
    "    if destination_cup not in cups:\n",
    "        destination_cup = max(cups)\n",
    "    # The crab places the cups it just picked up so that they are immediately clockwise of the destination cup.\n",
    "    # They keep the same order as when they were picked up.\n",
    "\n",
    "    idx = cups.index(destination_cup) + 1\n",
    "    cups.rotate(-1 * idx)\n",
    "    cups.extend(pickup)\n",
    "    cups.rotate(idx + 3)\n",
    "    # The crab selects a new current cup: the cup which is immediately clockwise of the current cup.\n",
    "    current_cup = cups[(cups.index(current_cup) + 1) % len(cups)]\n",
    "    return current_cup\n",
    "    \n",
    "def move_cups_numpy(cups, current_cup, move):\n",
    "    \"\"\"Functions to move cups 1 turn\"\"\"\n",
    "    # print(f\"-- move {move} --\")\n",
    "    # cup_string = ''\n",
    "    # for cup in cups:\n",
    "    #     if cup == current_cup:\n",
    "    #         cup_string += f\"({cup}) \"\n",
    "    #     else:\n",
    "    #         cup_string += f\"{cup} \"\n",
    "    # print(f\"cups: {cup_string}\")\n",
    "    # The crab picks up the three cups that are immediately clockwise of the current cup.\n",
    "    # They are removed from the circle; cup spacing is adjusted as necessary to maintain the circle.\n",
    "    idx = np.where(cups == current_cup)[0][0] + 1\n",
    "    cups = np.roll(cups, -1 * idx)\n",
    "    pickup = cups[:3]\n",
    "    # print(f\"pick up: {', '.join((str(num) for num in pickup))}\")\n",
    "    cups = cups[3:]\n",
    "    cups = np.roll(cups, idx)\n",
    "    # destination: 2\"\"\")\n",
    "    # The crab selects a destination cup: the cup with a label equal to the current cup's label minus one.\n",
    "    # If this would select one of the cups that was just picked up, the crab will keep subtracting one\n",
    "    # until it finds a cup that wasn't just picked up. \n",
    "    destination_cup = current_cup - 1\n",
    "    while destination_cup in pickup:\n",
    "        destination_cup -= 1\n",
    "    # If at any point in this process the value goes below the lowest value on any cup's label,\n",
    "    # it wraps around to the highest value on any cup's label instead.\n",
    "    if destination_cup not in cups:\n",
    "        destination_cup = max(cups)\n",
    "    # print(f\"destination: {destination_cup}\")\n",
    "    # The crab places the cups it just picked up so that they are immediately clockwise of the destination cup.\n",
    "    # They keep the same order as when they were picked up.\n",
    "    idx = np.where(cups == destination_cup)[0][0] + 1\n",
    "    cups = np.roll(cups, -1 * idx)\n",
    "    cups = np.concatenate((cups, pickup))\n",
    "    cups = np.roll(cups, idx + 3)\n",
    "    # The crab selects a new current cup: the cup which is immediately clockwise of the current cup.\n",
    "    idx = np.where(cups == current_cup)[0][0] + 1\n",
    "    current_cup = cups[(idx) % len(cups)]\n",
    "    return current_cup, cups\n",
    "    \n",
    "input_text = \"389125467\"\n",
    "input_text = \"467528193\"\n",
    "my_cups = np.array([int(num) for num in input_text])\n",
    "current_cup = my_cups[0]\n",
    "for move in range(1,101):\n",
    "    current_cup, my_cups =  move_cups_numpy(my_cups, current_cup, move)\n",
    "    # print()\n",
    "idx = np.where(my_cups == 1)[0][0]\n",
    "my_cups = np.roll(my_cups, -1 * idx)\n",
    "print(''.join((str(cup) for cup in my_cups[1:].tolist())))\n"
   ]
  },
  {
   "cell_type": "code",
   "execution_count": null,
   "metadata": {},
   "outputs": [],
   "source": [
    "input_text = \"389125467\"\n",
    "# input_text = \"467528193\"\n",
    "my_cups = np.array([int(num) for num in input_text])\n",
    "my_cups = np.concatenate((my_cups, np.array(range(max(my_cups) + 1, 1000001))))\n",
    "for num in  range(max(my_cups) + 1, 11):\n",
    "    my_cups.append(num)\n",
    "current_cup = my_cups[0]\n",
    "\n",
    "seen = set()\n",
    "for move in range(1,100000 + 1):\n",
    "    my_tup = tuple(my_cups)\n",
    "    if my_tup in seen:\n",
    "        print(f\"repeat at {move}\")\n",
    "    seen.add(my_tup)\n",
    "\n",
    "    if move % 10000 == 0:\n",
    "        print(move)\n",
    "    current_cup, my_cups =  move_cups_numpy(my_cups, current_cup, move)\n",
    "idx = np.where(my_cups == 1)[0][0]\n",
    "print(f\"1 is at {idx}\")\n",
    "nums = []\n",
    "for pos in (1,2):\n",
    "    idx_next = (idx + pos) % len(my_cups)\n",
    "    num = my_cups[idx_next]\n",
    "    nums.append(num)\n",
    "    print(f\"{num} is at {idx_next}\")\n",
    "\n",
    "print(np.prod(nums))\n"
   ]
  },
  {
   "cell_type": "code",
   "execution_count": null,
   "metadata": {},
   "outputs": [
    {
     "name": "stdout",
     "output_type": "stream",
     "text": [
      "[1 2 3 4 5 6 7]\n",
      "3\n",
      "[4 5 6 7 1 2 3]\n",
      "[1 2 3 7]\n",
      "[1 2 3 7] [4, 5, 6]\n"
     ]
    }
   ],
   "source": [
    "import numpy as np\n",
    "\n",
    "# Initial setup using a NumPy array\n",
    "a = np.array([1, 2, 3, 4, 5, 6, 7])\n",
    "print(a)  # [1 2 3 4 5 6 7]\n",
    "\n",
    "# Find index of 3 and calculate the rotation offset\n",
    "idx = np.where(a == 3)[0][0] + 1\n",
    "a = np.roll(a, -idx)  # Equivalent to deque.rotate\n",
    "print(idx)  # 4\n",
    "print(a)  # [5 6 7 1 2 3 4]\n",
    "\n",
    "# Extract first 3 elements\n",
    "b = a[:3].tolist()\n",
    "a = a[3:]  # Remaining elements after slicing\n",
    "\n",
    "# Roll back the array to its original form\n",
    "a = np.roll(a, idx)\n",
    "print(a)  # [2 3 4 5]\n",
    "print(a, b)  # [2 3 4 5] [5, 6, 7]\n"
   ]
  },
  {
   "cell_type": "code",
   "execution_count": null,
   "metadata": {},
   "outputs": [
    {
     "name": "stdout",
     "output_type": "stream",
     "text": [
      "1\n"
     ]
    }
   ],
   "source": [
    "a = [1,2,3,4,5,6,7]\n",
    "b = np.array(a)\n",
    "print(b[0])"
   ]
  },
  {
   "cell_type": "code",
   "execution_count": null,
   "metadata": {},
   "outputs": [
    {
     "data": {
      "text/plain": [
       "True"
      ]
     },
     "execution_count": 33,
     "metadata": {},
     "output_type": "execute_result"
    }
   ],
   "source": [
    "3 in a"
   ]
  },
  {
   "cell_type": "code",
   "execution_count": null,
   "metadata": {},
   "outputs": [
    {
     "data": {
      "text/plain": [
       "7"
      ]
     },
     "execution_count": 34,
     "metadata": {},
     "output_type": "execute_result"
    }
   ],
   "source": [
    "len(a)"
   ]
  },
  {
   "cell_type": "code",
   "execution_count": null,
   "metadata": {},
   "outputs": [
    {
     "data": {
      "text/plain": [
       "15"
      ]
     },
     "execution_count": 58,
     "metadata": {},
     "output_type": "execute_result"
    }
   ],
   "source": [
    "a = (3,5)\n",
    "np.prod(a)"
   ]
  },
  {
   "cell_type": "code",
   "execution_count": 28,
   "metadata": {},
   "outputs": [
    {
     "name": "stdout",
     "output_type": "stream",
     "text": [
      "cups: 67384529\n"
     ]
    }
   ],
   "source": [
    "\n",
    "def move_cups_linked_list(cups, moves):\n",
    "    \"\"\"Functions to move cups 1 turn\"\"\"\n",
    "    first_cup = cups[0]\n",
    "    max_cup = max(cups)\n",
    "    linked_list = [0] * (max_cup + 1)  # Fixed-size list\n",
    "    for idx in range(len(cups) - 1):\n",
    "        linked_list[cups[idx]] = cups[idx + 1]\n",
    "    linked_list[cups[-1]] = cups[0]  # Circular link\n",
    "    current_cup = cups[0]\n",
    "    for _ in range(moves):\n",
    "        # print(f\"-- move {move + 1} --\")\n",
    "        # cup_string = ''\n",
    "        # cup = first_cup\n",
    "        # for _ in range(len(cups)):\n",
    "        #     if cup == current_cup:\n",
    "        #         cup_string += f\"({cup}) \"\n",
    "        #     else:\n",
    "        #         cup_string += f\"{cup} \"\n",
    "        #     cup = linked_list[cup]\n",
    "        # print(f\"cups: {cup_string}\")\n",
    "        # The crab picks up the three cups that are immediately clockwise of the current cup.\n",
    "        # They are removed from the circle; cup spacing is adjusted as necessary to maintain the circle.\n",
    "        pickup1 = linked_list[current_cup]\n",
    "        pickup2 = linked_list[pickup1]\n",
    "        pickup3 = linked_list[pickup2]\n",
    "        pickup = {pickup1, pickup2, pickup3}\n",
    "        # print(f\"pick up: {', '.join((str(num) for num in pickup))}\")\n",
    "        \n",
    "        # Close the gap\n",
    "        linked_list[current_cup] = linked_list[pickup3]\n",
    "        # The crab selects a destination cup: the cup with a label equal to the current cup's label minus one.\n",
    "        # If this would select one of the cups that was just picked up, the crab will keep subtracting one\n",
    "        # until it finds a cup that wasn't just picked up. \n",
    "        destination_cup = current_cup - 1\n",
    "        while destination_cup in pickup:\n",
    "            destination_cup -= 1\n",
    "        # If at any point in this process the value goes below the lowest value on any cup's label,\n",
    "        # it wraps around to the highest value on any cup's label instead.\n",
    "        if destination_cup not in cups:\n",
    "            destination_cup = max(cups)\n",
    "            while destination_cup in pickup:\n",
    "                destination_cup -= 1\n",
    "        # print(f\"destination: {destination_cup}\")\n",
    "        # The crab places the cups it just picked up so that they are immediately clockwise of the destination cup.\n",
    "        # They keep the same order as when they were picked up.\n",
    "        linked_list[pickup3] = linked_list[destination_cup]\n",
    "        linked_list[destination_cup] = pickup1\n",
    "        # The crab selects a new current cup: the cup which is immediately clockwise of the current cup.\n",
    "        current_cup = linked_list[current_cup]\n",
    "    return linked_list\n",
    "    \n",
    "input_text = \"389125467\"\n",
    "# input_text = \"467528193\"\n",
    "my_cups = [int(num) for num in input_text]\n",
    "current_cup = my_cups[0]\n",
    "moves = 100\n",
    "linked_list = move_cups_linked_list(my_cups, moves)\n",
    "cup = 1\n",
    "cup_string = ''\n",
    "for _ in range(len(my_cups)):\n",
    "    cup_string += f\"{cup}\"\n",
    "    cup = linked_list[cup]\n",
    "print(f\"cups: {cup_string.replace('1','')}\")\n"
   ]
  },
  {
   "cell_type": "code",
   "execution_count": 30,
   "metadata": {},
   "outputs": [
    {
     "name": "stdout",
     "output_type": "stream",
     "text": [
      "264692662390\n",
      "264692662390\n"
     ]
    }
   ],
   "source": [
    "import numpy as np\n",
    "\n",
    "nums = np.array([489710, 540509], dtype=object)\n",
    "product = np.prod(nums)\n",
    "print(product)  # 264540672590\n",
    "print(264692662390)\n"
   ]
  },
  {
   "cell_type": "code",
   "execution_count": null,
   "metadata": {},
   "outputs": [],
   "source": []
  }
 ],
 "metadata": {
  "kernelspec": {
   "display_name": "base",
   "language": "python",
   "name": "python3"
  },
  "language_info": {
   "codemirror_mode": {
    "name": "ipython",
    "version": 3
   },
   "file_extension": ".py",
   "mimetype": "text/x-python",
   "name": "python",
   "nbconvert_exporter": "python",
   "pygments_lexer": "ipython3",
   "version": "3.11.7"
  }
 },
 "nbformat": 4,
 "nbformat_minor": 4
}
