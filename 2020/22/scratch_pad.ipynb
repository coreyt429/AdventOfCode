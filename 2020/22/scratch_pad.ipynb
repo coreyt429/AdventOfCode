{
 "cells": [
  {
   "cell_type": "code",
   "execution_count": 1,
   "metadata": {},
   "outputs": [],
   "source": [
    "import os\n",
    "import sys\n",
    "sys.path.append(os.path.realpath('../..'))\n",
    "import aoc\n",
    "my_aoc = aoc.AdventOfCode(2020,22)"
   ]
  },
  {
   "cell_type": "code",
   "execution_count": 2,
   "metadata": {},
   "outputs": [],
   "source": [
    "input_text = \"\"\"Player 1:\n",
    "9\n",
    "2\n",
    "6\n",
    "3\n",
    "1\n",
    "\n",
    "Player 2:\n",
    "5\n",
    "8\n",
    "4\n",
    "7\n",
    "10\"\"\""
   ]
  },
  {
   "cell_type": "code",
   "execution_count": 80,
   "metadata": {},
   "outputs": [],
   "source": [
    "def parse_data(text):\n",
    "    \"\"\"function to parse input data\"\"\"\n",
    "    text_hands = text.split('\\n\\n')\n",
    "    hands = {}\n",
    "    for text_hand in text_hands:\n",
    "        name, *cards = text_hand.splitlines()\n",
    "        name = name.replace(':','')\n",
    "        cards = [int(card) for card in cards]\n",
    "        hands[name] = cards\n",
    "    return hands\n",
    "\n",
    "def play_cards(hands):\n",
    "    \"\"\"function to get next card from each player\"\"\"\n",
    "    table = {}\n",
    "    # both players draw their top card\n",
    "    for player in hands.keys():\n",
    "        table[player] = hands[player].pop(0)\n",
    "    return table\n",
    "\n",
    "def check_winner(table):\n",
    "    \"\"\"function to identify the hand winner\"\"\"\n",
    "    # the player with the higher-valued card wins the round.\n",
    "    high_card = 0\n",
    "    low_card = float('infinity')\n",
    "    winner = None\n",
    "    for player, card in table.items():\n",
    "        high_card = max(high_card, card)\n",
    "        low_card = min(low_card, card)\n",
    "        if card == high_card:\n",
    "            winner = player\n",
    "    return winner, high_card, low_card\n",
    "\n",
    "def is_winner(hands):\n",
    "    \"\"\"Function to check for end of game\"\"\"\n",
    "    for player, cards in hands.items():\n",
    "        if len(cards) == 0:\n",
    "            return False\n",
    "    return True\n",
    "    \n",
    "def score_hand(hand):\n",
    "    \"\"\"Funciton to score a hand\"\"\"\n",
    "    # Once the game ends, you can calculate the winning player's score.\n",
    "    # The bottom card in their deck is worth the value of the card multiplied by 1,\n",
    "    # the second-from-the-bottom card is worth the value of the card multiplied by 2,\n",
    "    # and so on. With 10 cards, the top card is worth the value on the card multiplied by 10.\n",
    "    # In this example, the winning player's score is:\n",
    "    multiplier = 1\n",
    "    score = 0\n",
    "    for card in hand[::-1]:\n",
    "        score += card * multiplier\n",
    "        multiplier += 1\n",
    "    return score\n",
    "\n",
    "def play_combat(hands):\n",
    "    \"\"\"function to play a game of combat\"\"\"\n",
    "    # Then, the game consists of a series of rounds:\n",
    "    game_on = True\n",
    "    table = {}\n",
    "    round = 0\n",
    "    while game_on:\n",
    "        round += 1\n",
    "        table = play_cards(hands)\n",
    "        winner, high_card, low_card = check_winner(table)\n",
    "        # The winner keeps both cards\n",
    "        # placing them on the bottom of their own deck so that the winner's card is above the other card.\n",
    "        hands[winner].append(high_card)\n",
    "        hands[winner].append(low_card)\n",
    "        \n",
    "        # If this causes a player to have all of the cards, they win, and the game ends.\n",
    "        game_on = is_winner(hands)\n",
    "    return winner, hands[winner]\n",
    "from copy import deepcopy\n",
    "\n",
    "def play_recursive_combat(start_hands, game_id=1):\n",
    "    # print(f\"play_recursive_combat({start_hands}, {game_id})\")\n",
    "    \"\"\"Function to play recursive combat\"\"\"\n",
    "    hands = deepcopy(start_hands)\n",
    "    seen = set()\n",
    "    game_on = True\n",
    "    table = {}\n",
    "    while game_on:\n",
    "        # Before either player deals a card, if there was a previous round in this game\n",
    "        # that had exactly the same cards in the same order in the same players' decks,\n",
    "        # the game instantly ends in a win for player 1. Previous rounds from other games\n",
    "        # are not considered. (This prevents infinite games of Recursive Combat, which\n",
    "        # everyone agrees is a bad idea.)\n",
    "        hands_tuple = tuple((tuple(cards) for cards in hands.values()))\n",
    "        if hands_tuple in seen:\n",
    "            return \"Player 1\", hands[\"Player 1\"]\n",
    "        seen.add(hands_tuple)\n",
    "        # Otherwise, this round's cards must be in a new configuration; the players begin\n",
    "        # the round by each drawing the top card of their deck as normal.\n",
    "        table = play_cards(hands)\n",
    "        # If both players have at least as many cards remaining in their deck as the value\n",
    "        # of the card they just drew, the winner of the round is determined by playing a\n",
    "        # new game of Recursive Combat (see below).\n",
    "        recurse = True\n",
    "        for player, hand in hands.items():\n",
    "            if len(hand) < table[player]:\n",
    "                recurse = False\n",
    "        \n",
    "        if recurse:\n",
    "            winner, hand = play_recursive_combat({key:value[:table[key]] for key, value in hands.items()}, game_id + 1)\n",
    "            hands[winner].append(table[winner])\n",
    "            for player, card in table.items():\n",
    "                if player != winner:\n",
    "                    hands[winner].append(card)\n",
    "        else:\n",
    "            # Otherwise, at least one player must not have enough cards left in their deck to recurse;\n",
    "            # the winner of the round is the player with the higher-value card.\n",
    "            winner, high_card, low_card = check_winner(table)\n",
    "            hands[winner].append(high_card)\n",
    "            hands[winner].append(low_card)\n",
    "            \n",
    "        # If this causes a player to have all of the cards, they win, and the game ends.\n",
    "        game_on = is_winner(hands)\n",
    "\n",
    "    return winner, hands[winner]"
   ]
  },
  {
   "cell_type": "code",
   "execution_count": 81,
   "metadata": {},
   "outputs": [
    {
     "name": "stdout",
     "output_type": "stream",
     "text": [
      "306\n"
     ]
    }
   ],
   "source": [
    "# Before the game starts, split the cards so each player has their own deck (your puzzle input).\n",
    "hands = parse_data(input_text)\n",
    "winner, hand = play_combat(hands)\n",
    "print(score_hand(hand))"
   ]
  },
  {
   "cell_type": "code",
   "execution_count": 82,
   "metadata": {},
   "outputs": [
    {
     "name": "stdout",
     "output_type": "stream",
     "text": [
      "291\n"
     ]
    }
   ],
   "source": [
    "hands = parse_data(input_text)\n",
    "winner, hand = play_recursive_combat(hands)\n",
    "print(score_hand(hand))"
   ]
  },
  {
   "cell_type": "code",
   "execution_count": 76,
   "metadata": {},
   "outputs": [
    {
     "data": {
      "text/plain": [
       "(('a', 1), ('b', 2))"
      ]
     },
     "execution_count": 76,
     "metadata": {},
     "output_type": "execute_result"
    }
   ],
   "source": [
    "a={\n",
    "    'a': 1,\n",
    "    'b': 2\n",
    "}\n",
    "\n",
    "tuple(a.items())"
   ]
  },
  {
   "cell_type": "code",
   "execution_count": null,
   "metadata": {},
   "outputs": [],
   "source": []
  }
 ],
 "metadata": {
  "kernelspec": {
   "display_name": "base",
   "language": "python",
   "name": "python3"
  },
  "language_info": {
   "codemirror_mode": {
    "name": "ipython",
    "version": 3
   },
   "file_extension": ".py",
   "mimetype": "text/x-python",
   "name": "python",
   "nbconvert_exporter": "python",
   "pygments_lexer": "ipython3",
   "version": "3.11.7"
  }
 },
 "nbformat": 4,
 "nbformat_minor": 4
}
