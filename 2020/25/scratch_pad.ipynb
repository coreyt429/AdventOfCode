{
 "cells": [
  {
   "cell_type": "code",
   "execution_count": 1,
   "metadata": {},
   "outputs": [],
   "source": [
    "import os\n",
    "import sys\n",
    "sys.path.append(os.path.realpath('../..'))\n",
    "import aoc\n",
    "my_aoc = aoc.AdventOfCode(2020,25)"
   ]
  },
  {
   "cell_type": "code",
   "execution_count": null,
   "metadata": {},
   "outputs": [],
   "source": [
    "def transform(value, subject_number=7):\n",
    "    \"\"\"function to transform a number\"\"\"\n",
    "    # Set the value to itself multiplied by the subject number.\n",
    "    value *= subject_number\n",
    "    # Set the value to the remainder after dividing the value by 20201227.\n",
    "    return value % 20201227\n",
    "\n",
    "def transform_loop(value, loops, subject_number=7):\n",
    "    \"\"\"function to transform in a loop\"\"\"\n",
    "    for _ in range(loops):\n",
    "        value = transform(value, subject_number)\n",
    "    return value\n",
    "\n",
    "def find_loop(target):\n",
    "    \"\"\"funciton to find loopsize for a public key\"\"\"\n",
    "    value = 1\n",
    "    counter = 0\n",
    "    while value != target:\n",
    "        value = transform(value)\n",
    "        counter += 1\n",
    "    return counter"
   ]
  },
  {
   "cell_type": "code",
   "execution_count": 17,
   "metadata": {},
   "outputs": [
    {
     "name": "stdout",
     "output_type": "stream",
     "text": [
      "14897079\n"
     ]
    }
   ],
   "source": [
    "loop_size = find_loop(5764801)\n",
    "encryption_key = transform_loop(1, loop_size, 17807724)\n",
    "print(encryption_key)"
   ]
  },
  {
   "cell_type": "code",
   "execution_count": 16,
   "metadata": {},
   "outputs": [
    {
     "name": "stdout",
     "output_type": "stream",
     "text": [
      "14897079\n"
     ]
    }
   ],
   "source": [
    "loop_size = find_loop(17807724)\n",
    "encryption_key = transform_loop(1, loop_size, 5764801)\n",
    "print(encryption_key)"
   ]
  },
  {
   "cell_type": "code",
   "execution_count": 20,
   "metadata": {},
   "outputs": [
    {
     "name": "stdout",
     "output_type": "stream",
     "text": [
      "{'door': 2232839, 'card': 529361}\n",
      "{'door': 11328376, 'card': 11328376}\n"
     ]
    }
   ],
   "source": [
    "public_keys = {\n",
    "    'door': 10705932,\n",
    "    'card': 12301431\n",
    "}\n",
    "loop_size = {}\n",
    "for key, public_key in public_keys.items():\n",
    "    loop_size[key] = find_loop(public_key)\n",
    "print(loop_size)\n",
    "\n",
    "encryption_key = {\n",
    "    'door': transform_loop(1, loop_size['door'], public_keys['card']),\n",
    "    'card': transform_loop(1, loop_size['card'], public_keys['door'])\n",
    "}\n",
    "print(encryption_key)"
   ]
  },
  {
   "cell_type": "code",
   "execution_count": null,
   "metadata": {},
   "outputs": [],
   "source": []
  }
 ],
 "metadata": {
  "kernelspec": {
   "display_name": "base",
   "language": "python",
   "name": "python3"
  },
  "language_info": {
   "codemirror_mode": {
    "name": "ipython",
    "version": 3
   },
   "file_extension": ".py",
   "mimetype": "text/x-python",
   "name": "python",
   "nbconvert_exporter": "python",
   "pygments_lexer": "ipython3",
   "version": "3.11.7"
  }
 },
 "nbformat": 4,
 "nbformat_minor": 4
}
