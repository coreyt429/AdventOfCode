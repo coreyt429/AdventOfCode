{
 "cells": [
  {
   "cell_type": "code",
   "execution_count": 1,
   "metadata": {},
   "outputs": [],
   "source": [
    "import os\n",
    "import sys\n",
    "sys.path.append(os.path.realpath('../..'))\n",
    "import aoc\n",
    "my_aoc = aoc.AdventOfCode(2020,21)"
   ]
  },
  {
   "cell_type": "code",
   "execution_count": 2,
   "metadata": {},
   "outputs": [],
   "source": [
    "input_text=\"\"\"mxmxvkd kfcds sqjhc nhms (contains dairy, fish)\n",
    "trh fvjkl sbzzf mxmxvkd (contains dairy)\n",
    "sqjhc fvjkl (contains soy)\n",
    "sqjhc mxmxvkd sbzzf (contains fish)\"\"\""
   ]
  },
  {
   "cell_type": "code",
   "execution_count": 64,
   "metadata": {},
   "outputs": [],
   "source": [
    "def parse_data(text_data):\n",
    "    food_data = []\n",
    "    for line in text_data.splitlines():\n",
    "        ingredient_str, allergen_str = line.split(' (contains ')\n",
    "        allergen_str = allergen_str.replace(')','')\n",
    "        ingredients = ingredient_str.split(' ')\n",
    "        allergens = allergen_str.split(', ')\n",
    "        # print(f\"{ingredients} <> {allergens}\")\n",
    "        food_data.append((tuple(ingredients), tuple(allergens)))\n",
    "    return tuple(food_data)\n",
    "\n",
    "def identify_ingredients_and_allergens(data):\n",
    "    \"\"\"Function to extract ingredient and allergen sets\"\"\"\n",
    "    allergen_set = set()\n",
    "    ingredient_set = set()\n",
    "    for ingredients, allergens in data:\n",
    "        for allergen in allergens:\n",
    "            for ingredient in ingredients:\n",
    "                allergen_set.add(allergen)\n",
    "                ingredient_set.add(ingredient)\n",
    "    return allergen_set, ingredient_set\n",
    "\n",
    "def identify_allergen_ingredients(data, allergen_set, ingredient_set):\n",
    "    \"\"\"Function to identify allergen ingredients\"\"\"\n",
    "    data_map = {}\n",
    "    for allergen in allergen_set:\n",
    "        data_map[allergen] = set(ingredient_set)\n",
    "\n",
    "    for ingredients, allergens in data:\n",
    "        for allergen, possible_ingredients in data_map.items():\n",
    "            if allergen in allergens:\n",
    "                deletes = set()\n",
    "                for ingredient in possible_ingredients:\n",
    "                    if ingredient not in ingredients:\n",
    "                        deletes.add(ingredient)\n",
    "                possible_ingredients.difference_update(deletes)\n",
    "\n",
    "    changed=True\n",
    "    while changed:\n",
    "        changed = False\n",
    "        for allergen, ingredients in data_map.items():\n",
    "            if len(ingredients) == 1:\n",
    "                ingredient = list(ingredients)[0]\n",
    "                for other, other_ingredients in data_map.items():\n",
    "                    if other != allergen and ingredient in other_ingredients:\n",
    "                        changed = True\n",
    "                        other_ingredients.remove(ingredient)\n",
    "    allergen_ingredients = set()\n",
    "    for ingredients in data_map.values():\n",
    "        allergen_ingredients.update(ingredients)\n",
    "    return allergen_ingredients, data_map"
   ]
  },
  {
   "cell_type": "code",
   "execution_count": null,
   "metadata": {},
   "outputs": [
    {
     "name": "stdout",
     "output_type": "stream",
     "text": [
      "mxmxvkd,sqjhc,fvjkl\n"
     ]
    }
   ],
   "source": [
    "data = parse_data(input_text)\n",
    "allergen_set, ingredient_set = identify_ingredients_and_allergens(data)\n",
    "allergen_ingredients, allergen_ingredient_map = identify_allergen_ingredients(data, allergen_set, ingredient_set)\n",
    "non_allergen_ingredients = ingredient_set.difference(allergen_ingredients)\n",
    "count = 0\n",
    "for ingredients, _ in data:\n",
    "    for ingredient in ingredients:\n",
    "        if ingredient in non_allergen_ingredients:\n",
    "            count += 1\n",
    "print(','.join([str(list(value)[0]) for key, value in sorted(allergen_ingredient_map.items(), key=lambda item: item[0])]))\n",
    "\n",
    "\n"
   ]
  },
  {
   "cell_type": "code",
   "execution_count": 37,
   "metadata": {},
   "outputs": [
    {
     "name": "stdout",
     "output_type": "stream",
     "text": [
      "{1, 2}\n",
      "{3, 4}\n"
     ]
    }
   ],
   "source": [
    "a = set([1,2,3])\n",
    "b = set([3,4,5])\n",
    "a.difference_update(b)\n",
    "b.remove(5)\n",
    "print(a)\n",
    "print(b)"
   ]
  },
  {
   "cell_type": "code",
   "execution_count": null,
   "metadata": {},
   "outputs": [],
   "source": []
  }
 ],
 "metadata": {
  "kernelspec": {
   "display_name": "base",
   "language": "python",
   "name": "python3"
  },
  "language_info": {
   "codemirror_mode": {
    "name": "ipython",
    "version": 3
   },
   "file_extension": ".py",
   "mimetype": "text/x-python",
   "name": "python",
   "nbconvert_exporter": "python",
   "pygments_lexer": "ipython3",
   "version": "3.11.7"
  }
 },
 "nbformat": 4,
 "nbformat_minor": 4
}
