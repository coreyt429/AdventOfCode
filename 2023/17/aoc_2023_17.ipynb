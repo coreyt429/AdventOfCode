{
 "cells": [
  {
   "cell_type": "code",
   "execution_count": 1,
   "id": "c26e3ebb-b3e4-42bd-8fd2-56a11836ce3c",
   "metadata": {},
   "outputs": [],
   "source": [
    "import sys\n",
    "import heapq\n",
    "import itertools\n",
    "\n",
    "# DIRECTION_MAP dict of possible directions based on ingress direction\n",
    "DIRECTION_MAP = {\n",
    "    'N': {'L': 'W', 'R': 'E', 'F': 'N'},\n",
    "    'S': {'L': 'E', 'R': 'W', 'F': 'S'},\n",
    "    'E': {'L': 'N', 'R': 'S', 'F': 'E'},\n",
    "    'W': {'L': 'S', 'R': 'N', 'F': 'W'}\n",
    "}\n"
   ]
  },
  {
   "cell_type": "code",
   "execution_count": 3,
   "id": "b353146a-7176-43d6-8eb6-8eb9ccd17664",
   "metadata": {},
   "outputs": [],
   "source": [
    "def position_iterator():\n",
    "    return itertools.product(range(len(CITY_MAP)), range(len(CITY_MAP[0])))"
   ]
  },
  {
   "cell_type": "code",
   "execution_count": 5,
   "id": "465acdc1-e6db-47fc-a4a7-71cde3039c8a",
   "metadata": {},
   "outputs": [],
   "source": [
    "def next_position(my_map, current_position, direction):\n",
    "    next_pos = None\n",
    "    # up\n",
    "    if direction == 'N':\n",
    "        if current_position[0] != 0:\n",
    "            next_pos = (current_position[0] - 1, current_position[1])\n",
    "    # down\n",
    "    elif direction == 'S':\n",
    "        if current_position[0] < len(my_map) - 1:\n",
    "            next_pos = (current_position[0] + 1, current_position[1])\n",
    "    # left\n",
    "    elif direction == 'W':\n",
    "        if current_position[1] != 0:\n",
    "            next_pos = (current_position[0], current_position[1] - 1)\n",
    "    # right\n",
    "    elif direction == 'E':\n",
    "        if current_position[1] < len(my_map[0]) - 1:\n",
    "            next_pos = (current_position[0], current_position[1] + 1)\n",
    "    return next_pos"
   ]
  },
  {
   "cell_type": "code",
   "execution_count": 7,
   "id": "d8bfe272-55a4-4c38-99bc-e2c8387386cc",
   "metadata": {},
   "outputs": [],
   "source": [
    "def reconstruct_path(previous_nodes, min_heat_loss_key):\n",
    "    #print(f\"reconstruct_path(previous_nodes, {min_heat_loss_key})\")\n",
    "    #print(f\"previous_nodes = {previous_nodes}\")\n",
    "    #print(f\"min_heat_loss_key ={min_heat_loss_key}\")\n",
    "    #print(f\"previous_nodes[min_heat_loss_key] = {previous_nodes.get(min_heat_loss_key)}\")\n",
    "\n",
    "    path = []\n",
    "    current_node = min_heat_loss_key\n",
    "    while current_node is not None:\n",
    "        path.append(current_node)\n",
    "        current_node = previous_nodes.get(current_node)\n",
    "        #print(f\"current_node: {current_node}\")\n",
    "\n",
    "    path.reverse()  # Reverse the path to get it from start to end\n",
    "    return path\n",
    "    "
   ]
  },
  {
   "cell_type": "code",
   "execution_count": 101,
   "id": "d1b22127-6efa-4e98-966e-7efd6854ba8c",
   "metadata": {},
   "outputs": [],
   "source": [
    "def dijkstra(heat_map, start, min_forward, max_forward):\n",
    "    #print(f\"dijkstra(heat_map, {start}, {min_forward}, {max_forward})\")\n",
    "    pq = [\n",
    "        (0, start, 0, 'S'),\n",
    "        (0, start, 0, 'E')\n",
    "    ]  # (cost, position, forward movements, ingress direction)\n",
    "\n",
    "    previous_blocks = {}\n",
    "    heat_loss = {}\n",
    "    heat_loss[(start, 0, 'S')] = 0\n",
    "    heat_loss[(start, 0, 'E')] = 0\n",
    "\n",
    "    while pq:\n",
    "        current_heat_loss, current_position, forward_movements, direction = heapq.heappop(pq)\n",
    "        current_position_key = (current_position, forward_movements, direction)\n",
    "        \n",
    "        if current_position_key not in previous_blocks:\n",
    "            previous_blocks[current_position_key] = None\n",
    "\n",
    "        # Early termination if we've reached the bottom-right corner\n",
    "        if current_position == (len(heat_map) - 1, len(heat_map[0]) - 1):\n",
    "            break\n",
    "\n",
    "        for movement in 'LRF':\n",
    "            new_direction = DIRECTION_MAP[direction][movement]\n",
    "            new_position = next_position(heat_map, current_position, new_direction)\n",
    "            new_forward_movements = forward_movements + 1 if movement == 'F' else 1\n",
    "\n",
    "            if new_position:\n",
    "                new_heat_loss = current_heat_loss + heat_map[new_position[0]][new_position[1]]\n",
    "                \n",
    "                # Check if this movement results in a lower heat loss\n",
    "                if new_heat_loss < heat_loss.get((new_position, new_forward_movements, new_direction), float('infinity')):\n",
    "                    # Skip forward movement if it exceeds max_forward\n",
    "                    if movement == 'F' and new_forward_movements > max_forward:\n",
    "                        continue\n",
    "                    # Skip non-forward movement if not enough forward moves\n",
    "                    if movement != 'F' and forward_movements < min_forward:\n",
    "                        continue\n",
    "                    \n",
    "                    heat_loss[(new_position, new_forward_movements, new_direction)] = new_heat_loss\n",
    "                    new_position_key = (new_position, new_forward_movements, new_direction)\n",
    "                    previous_blocks[new_position_key] = current_position_key\n",
    "                    #print(f\"heapq.heappush(pq, ({new_heat_loss}, {new_position}, {new_forward_movements}, {new_direction}))\")\n",
    "                    heapq.heappush(pq, (new_heat_loss, new_position, new_forward_movements, new_direction))\n",
    "\n",
    "    return heat_loss, previous_blocks"
   ]
  },
  {
   "cell_type": "code",
   "execution_count": 9,
   "id": "b5e0622c-ccb6-444c-8d6b-35d1177011ce",
   "metadata": {},
   "outputs": [],
   "source": [
    "def build_map_graph(city_map):\n",
    "    graph = {}\n",
    "    return graph"
   ]
  },
  {
   "cell_type": "code",
   "execution_count": 11,
   "id": "ea286c73-1162-4215-b72c-96ebb97134be",
   "metadata": {},
   "outputs": [],
   "source": [
    "def print_map(grid,path):\n",
    "    rows = len(grid)\n",
    "    cols = len(grid[0])\n",
    "    grid_with_path = [[' ' for _ in range(cols)] for _ in range(rows)]\n",
    "    symbol = {\n",
    "        'N': '^',\n",
    "        'S': 'v',\n",
    "        'E': '>',\n",
    "        'W': '<'\n",
    "\n",
    "    }\n",
    "    for r in range(rows):\n",
    "        for c in range(cols):\n",
    "            grid_with_path[r][c] = str(grid[r][c])\n",
    "    \n",
    "    for (r, c), moves, direction in path:\n",
    "        grid_with_path[r][c] = symbol[direction]\n",
    "    \n",
    "    for row in grid_with_path:\n",
    "        print(''.join(row)) \n",
    "    "
   ]
  },
  {
   "cell_type": "code",
   "execution_count": 111,
   "id": "4ba646fa-d1e1-469e-aa34-086055aef335",
   "metadata": {},
   "outputs": [],
   "source": [
    "# Load map as list of lists\n",
    "with open(\"/Users/corey/dev/dijkstra/input.txt\", 'r') as file:\n",
    "    CITY_MAP = [[int(char) for char in line] for line in file.read().splitlines()]\n",
    "# Start at top left\n",
    "start = (0, 0)\n",
    "# End at bottom right\n",
    "end = (len(CITY_MAP) - 1, len(CITY_MAP[0]) - 1)\n"
   ]
  },
  {
   "cell_type": "code",
   "execution_count": 119,
   "id": "6c1f367a-92cd-408d-bd5c-67de21b37296",
   "metadata": {},
   "outputs": [],
   "source": [
    "parts = {\n",
    "    'part1': (0,3),\n",
    "    'part2': (4,10)\n",
    "\n",
    "}"
   ]
  },
  {
   "cell_type": "code",
   "execution_count": 123,
   "id": "d03c1653-e2de-49e7-8cee-fd2bf48fcad5",
   "metadata": {},
   "outputs": [
    {
     "name": "stdout",
     "output_type": "stream",
     "text": [
      "part1: 0, 3\n",
      "Heat loss to (140, 140): 870\n",
      "part2: 4, 10\n",
      "Heat loss to (140, 140): 1063\n"
     ]
    }
   ],
   "source": [
    "for part, (min_moves, max_moves) in parts.items():\n",
    "    print(f\"{part}: {min_moves}, {max_moves}\")\n",
    "    heat_loss, previous_blocks = dijkstra(CITY_MAP, start, min_moves, max_moves)\n",
    "    min_heat_loss_key = None\n",
    "    for key, path_heat_loss in heat_loss.items():\n",
    "        #print(key,path_heat_loss)\n",
    "        (position, forward_movements, direction) = key    \n",
    "        if position == end:\n",
    "            if not min_heat_loss_key:\n",
    "                min_heat_loss_key = key\n",
    "            elif heat_loss[key] < heat_loss[min_heat_loss_key]:\n",
    "                min_heat_loss_key = key\n",
    "            #print(min_heat_loss_key, heat_loss[key])\n",
    "            \n",
    "    if min_heat_loss_key:\n",
    "        print(f\"Heat loss to {end}: {heat_loss[min_heat_loss_key]}\")\n",
    "    else:\n",
    "        print(f\"No path found to {end}\")\n",
    "    #print(f\"previous_blocks = {previous_blocks}\")\n",
    "    #my_path = reconstruct_path(previous_blocks, min_heat_loss_key)\n",
    "    #print(f\"Path: {my_path}\")\n",
    "    #print_map(CITY_MAP,my_path)"
   ]
  },
  {
   "cell_type": "code",
   "execution_count": null,
   "id": "105aa58a-83eb-4578-a8e8-0d9287c6902a",
   "metadata": {},
   "outputs": [],
   "source": []
  }
 ],
 "metadata": {
  "kernelspec": {
   "display_name": "Python 3 (ipykernel)",
   "language": "python",
   "name": "python3"
  },
  "language_info": {
   "codemirror_mode": {
    "name": "ipython",
    "version": 3
   },
   "file_extension": ".py",
   "mimetype": "text/x-python",
   "name": "python",
   "nbconvert_exporter": "python",
   "pygments_lexer": "ipython3",
   "version": "3.11.7"
  }
 },
 "nbformat": 4,
 "nbformat_minor": 5
}
