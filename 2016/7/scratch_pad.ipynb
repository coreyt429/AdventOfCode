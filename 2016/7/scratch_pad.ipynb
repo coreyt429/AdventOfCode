{
 "cells": [
  {
   "cell_type": "code",
   "execution_count": 1,
   "id": "5ce76864-ddba-4abf-ba0e-e29c82bea93c",
   "metadata": {},
   "outputs": [
    {
     "data": {
      "text/plain": [
       "\"\\nabba[mnop]qrst supports TLS (abba outside square brackets).\\nabcd[bddb]xyyx does not support TLS (bddb is within square brackets, even though xyyx is outside square brackets).\\naaaa[qwer]tyui does not support TLS (aaaa is invalid; the interior characters must be different).\\nioxxoj[asdfgh]zxcvbn supports TLS (oxxo is outside square brackets, even though it's within a larger string).\\n\""
      ]
     },
     "execution_count": 1,
     "metadata": {},
     "output_type": "execute_result"
    }
   ],
   "source": [
    "\"\"\"\n",
    "abba[mnop]qrst supports TLS (abba outside square brackets).\n",
    "abcd[bddb]xyyx does not support TLS (bddb is within square brackets, even though xyyx is outside square brackets).\n",
    "aaaa[qwer]tyui does not support TLS (aaaa is invalid; the interior characters must be different).\n",
    "ioxxoj[asdfgh]zxcvbn supports TLS (oxxo is outside square brackets, even though it's within a larger string).\n",
    "\"\"\""
   ]
  },
  {
   "cell_type": "code",
   "execution_count": 21,
   "id": "34be5296-916b-42ed-a1f5-1cd084b0e8ff",
   "metadata": {},
   "outputs": [],
   "source": [
    "lines = [\n",
    "    \"abba[mnop]qrst\",\n",
    "    \"abcd[bddb]xyyx\",\n",
    "    \"aaaa[qwer]tyui\",\n",
    "    \"ioxxoj[asdfgh]zxcvbn\",\n",
    "    \"pyxuijrepsmyiacl[rskpebsqdfctoqg]hbwageeiufvcmuk[wfvdhxyzmfgmcphpfnc]aotmbcnntmdltjxuusn\"\n",
    "]"
   ]
  },
  {
   "cell_type": "code",
   "execution_count": 31,
   "id": "7b1e6f71-c524-4f23-a98b-ca05e9706cac",
   "metadata": {},
   "outputs": [],
   "source": [
    "import re\n",
    "supernet_pattern = re.compile(r'(\\[\\w+\\])')\n",
    "pattern = re.compile(r'(\\w+)\\[(\\w+)\\](\\w+)')"
   ]
  },
  {
   "cell_type": "code",
   "execution_count": 47,
   "id": "f4d2f14d-c203-40d8-9395-40e26f1d9f47",
   "metadata": {},
   "outputs": [],
   "source": [
    "def contains_abba(my_string):\n",
    "    for idx in range(len(my_string)-4):\n",
    "        if my_string[idx] == my_string[idx+3] and my_string[idx+1] == my_string[idx+2] and my_string[idx] != my_string[idx+1]:\n",
    "            return True\n",
    "    return False"
   ]
  },
  {
   "cell_type": "code",
   "execution_count": 49,
   "id": "32c4cb1d-f8c6-4b9d-85dd-4ae6fbd20ff7",
   "metadata": {},
   "outputs": [
    {
     "name": "stdout",
     "output_type": "stream",
     "text": [
      "abba: abba[mnop]qrst\n",
      "abba: ioxxoj[asdfgh]zxcvbn\n"
     ]
    }
   ],
   "source": [
    "for line in lines:\n",
    "    valid = True\n",
    "    for my_str in supernet_pattern.findall(line):\n",
    "        if contains_abba(my_str):\n",
    "            valid = False\n",
    "    if valid:\n",
    "        if contains_abba(line):\n",
    "            print(\"abba:\",line)\n",
    "    "
   ]
  },
  {
   "cell_type": "code",
   "execution_count": 131,
   "id": "aee4b815-cb45-470c-a35b-62fa399396a7",
   "metadata": {},
   "outputs": [],
   "source": [
    "def contains_aba(my_string):\n",
    "    \"\"\"\n",
    "    checks for aba pattern\n",
    "    \"\"\"\n",
    "    abas = []\n",
    "    retval = False\n",
    "    for idx in range(len(my_string)-2):\n",
    "        if my_string[idx] == my_string[idx+2] and  my_string[idx] != my_string[idx+1]:\n",
    "            retval = True\n",
    "            abas.append(my_string[idx:idx+3])\n",
    "    return retval, abas\n",
    "\n",
    "def contains_bab(my_string, aba):\n",
    "    bab = aba[1]+aba[0]+aba[1]\n",
    "    return bab in my_string\n",
    "\n",
    "def supports_ssl(my_string):\n",
    "    \"\"\"\n",
    "    check for ssl suport ABA outside [] and BAB inside []\n",
    "    \"\"\"\n",
    "    supernets = supernet_pattern.findall(my_string)\n",
    "    for supernet in supernets:\n",
    "        my_string = my_string.replace(supernet,'-')\n",
    "\n",
    "    has_aba, my_abas = contains_aba(my_string)\n",
    "    if has_aba:\n",
    "        for aba in my_abas:\n",
    "            for supernet in supernets:\n",
    "                if contains_bab(supernet,aba):\n",
    "                    return True\n",
    "    return False"
   ]
  },
  {
   "cell_type": "code",
   "execution_count": 133,
   "id": "395aebef-c46a-4dde-8662-721ae5c098e7",
   "metadata": {},
   "outputs": [
    {
     "data": {
      "text/plain": [
       "True"
      ]
     },
     "execution_count": 133,
     "metadata": {},
     "output_type": "execute_result"
    }
   ],
   "source": [
    "supports_ssl('aba[bab]xyz')"
   ]
  },
  {
   "cell_type": "code",
   "execution_count": 137,
   "id": "684a62cb-a24e-446b-9e13-c149aa65fb8a",
   "metadata": {},
   "outputs": [
    {
     "data": {
      "text/plain": [
       "False"
      ]
     },
     "execution_count": 137,
     "metadata": {},
     "output_type": "execute_result"
    }
   ],
   "source": [
    "supports_ssl('xyx[xyx]xyx')"
   ]
  },
  {
   "cell_type": "code",
   "execution_count": 139,
   "id": "ae2a8476-ed45-4627-966b-7c403fa3085e",
   "metadata": {},
   "outputs": [
    {
     "data": {
      "text/plain": [
       "True"
      ]
     },
     "execution_count": 139,
     "metadata": {},
     "output_type": "execute_result"
    }
   ],
   "source": [
    "supports_ssl('aaa[kek]eke')"
   ]
  },
  {
   "cell_type": "code",
   "execution_count": 141,
   "id": "34cbc75a-3af0-484c-9b2f-6a76257ea3e5",
   "metadata": {},
   "outputs": [
    {
     "data": {
      "text/plain": [
       "True"
      ]
     },
     "execution_count": 141,
     "metadata": {},
     "output_type": "execute_result"
    }
   ],
   "source": [
    "supports_ssl('zazbz[bzb]cdb')"
   ]
  },
  {
   "cell_type": "code",
   "execution_count": null,
   "id": "47594354-9c73-40c3-9a9d-d645fd39d159",
   "metadata": {},
   "outputs": [],
   "source": []
  }
 ],
 "metadata": {
  "kernelspec": {
   "display_name": "Python 3 (ipykernel)",
   "language": "python",
   "name": "python3"
  },
  "language_info": {
   "codemirror_mode": {
    "name": "ipython",
    "version": 3
   },
   "file_extension": ".py",
   "mimetype": "text/x-python",
   "name": "python",
   "nbconvert_exporter": "python",
   "pygments_lexer": "ipython3",
   "version": "3.11.7"
  }
 },
 "nbformat": 4,
 "nbformat_minor": 5
}
