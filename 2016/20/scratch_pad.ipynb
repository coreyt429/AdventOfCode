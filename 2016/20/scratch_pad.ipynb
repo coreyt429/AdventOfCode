{
 "cells": [
  {
   "cell_type": "code",
   "execution_count": 2,
   "metadata": {},
   "outputs": [],
   "source": [
    "import os\n",
    "import sys\n",
    "sys.path.append(os.path.realpath('../..'))\n",
    "import aoc\n",
    "my_aoc = aoc.AdventOfCode(2016,20)"
   ]
  },
  {
   "cell_type": "code",
   "execution_count": 18,
   "metadata": {},
   "outputs": [
    {
     "name": "stdout",
     "output_type": "stream",
     "text": [
      "{0, 1, 2, 4, 5, 6, 7, 8}\n"
     ]
    }
   ],
   "source": [
    "import re\n",
    "input_lines = [\n",
    "    '5-8',\n",
    "    '0-2',\n",
    "    '4-7'\n",
    "]\n",
    "\n",
    "pattern_range = re.compile(r'(\\d+)-(\\d+)')\n",
    "blocked = set()\n",
    "for line in input_lines:\n",
    "    match = pattern_range.match(line)\n",
    "    if match:\n",
    "        start = int(match.group(1))\n",
    "        end = int(match.group(2))\n",
    "        for idx in range(start,end+1):\n",
    "            blocked.add(idx)\n",
    "return blocked\n",
    "    \n"
   ]
  },
  {
   "cell_type": "code",
   "execution_count": 58,
   "metadata": {},
   "outputs": [],
   "source": [
    "def solve(lines):\n",
    "    MAX=9\n",
    "    smallest = 0\n",
    "    last_smallest = -1\n",
    "    pattern_range = re.compile(r'(\\d+)-(\\d+)')\n",
    "    remaining = [line for line in lines]\n",
    "    allowed = set()\n",
    "    max_blocked = 0\n",
    "    while remaining:\n",
    "        if last_smallest == smallest:\n",
    "            allowed.add(smallest)\n",
    "            last_smallest = smallest\n",
    "            smallest += 1\n",
    "        else:\n",
    "            last_smallest = smallest\n",
    "        lines = [line for line in remaining]\n",
    "        remaining = []\n",
    "        for line in sorted(lines):\n",
    "            match = pattern_range.match(line)\n",
    "            if match:\n",
    "                start = int(match.group(1))\n",
    "                end = int(match.group(2))\n",
    "                if start <= smallest <= end:\n",
    "                    smallest = end +1\n",
    "                if smallest < end:\n",
    "                    remaining.append(line)\n",
    "                if end > max_blocked:\n",
    "                    max_blocked = end\n",
    "    [allowed.add(addr) for addr in range(max_blocked+1,MAX+1)]\n",
    "    return allowed\n"
   ]
  },
  {
   "cell_type": "code",
   "execution_count": 60,
   "metadata": {},
   "outputs": [
    {
     "data": {
      "text/plain": [
       "{3, 9}"
      ]
     },
     "execution_count": 60,
     "metadata": {},
     "output_type": "execute_result"
    }
   ],
   "source": [
    "solve(input_lines)"
   ]
  },
  {
   "cell_type": "code",
   "execution_count": null,
   "metadata": {},
   "outputs": [],
   "source": []
  }
 ],
 "metadata": {
  "kernelspec": {
   "display_name": "Python 3 (ipykernel)",
   "language": "python",
   "name": "python3"
  },
  "language_info": {
   "codemirror_mode": {
    "name": "ipython",
    "version": 3
   },
   "file_extension": ".py",
   "mimetype": "text/x-python",
   "name": "python",
   "nbconvert_exporter": "python",
   "pygments_lexer": "ipython3",
   "version": "3.11.7"
  }
 },
 "nbformat": 4,
 "nbformat_minor": 4
}
