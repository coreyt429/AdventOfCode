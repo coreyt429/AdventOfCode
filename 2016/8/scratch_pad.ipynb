{
 "cells": [
  {
   "cell_type": "code",
   "execution_count": 151,
   "id": "e3f3271a-4111-40b4-8bcb-45badb77b474",
   "metadata": {},
   "outputs": [],
   "source": [
    "class Display:\n",
    "    import re\n",
    "    \n",
    "    rect_pattern = re.compile(r'rect (\\d+)x(\\d+)') \n",
    "    rotate_pattern = re.compile(r'rotate (row|column) [xy]=(\\d+) by (\\d+)')\n",
    "    \n",
    "    def __init__(self, rows=6, cols=50):\n",
    "        self.display = []\n",
    "        for row in range(rows):\n",
    "            self.display.append([])\n",
    "            for col in range(cols):\n",
    "                self.display[row].append('.')\n",
    "\n",
    "    def __str__(self):\n",
    "        retval = ''\n",
    "        for row in self.display:\n",
    "            retval += ''.join(row) + '\\n'\n",
    "        retval += '\\n'\n",
    "        return retval\n",
    "\n",
    "    def rect(self,a,b):\n",
    "        for row in range(b):\n",
    "            for col in range(a):\n",
    "                self.display[row][col] = '#'\n",
    "\n",
    "    def rotate_col(self,col,pixels):\n",
    "        tmp_list = []\n",
    "        for row in range(len(self.display)):\n",
    "            tmp_list.append(self.display[row][col])\n",
    "        for _ in range(pixels):\n",
    "            tmp_var = tmp_list.pop()\n",
    "            tmp_list.insert(0,tmp_var)\n",
    "        for row in range(len(self.display)):\n",
    "            self.display[row][col] = tmp_list[row]\n",
    "\n",
    "    def rotate_row(self,row,pixels):\n",
    "        for _ in range(pixels):\n",
    "            tmp_var = self.display[row].pop()\n",
    "            self.display[row].insert(0,tmp_var)\n",
    "\n",
    "    def run_command(self,command):\n",
    "        matches = rect_pattern.match(command)\n",
    "        if matches:\n",
    "            self.rect(int(matches.group(1)), int(matches.group(2)))\n",
    "        else:\n",
    "            matches = rotate_pattern.match(command)\n",
    "            if matches:\n",
    "                if matches.group(1) == 'row':\n",
    "                    self.rotate_row(int(matches.group(2)),int(matches.group(3)))\n",
    "                else:\n",
    "                    self.rotate_col(int(matches.group(2)),int(matches.group(3)))\n",
    "            else:\n",
    "                print(f\"How did we get here? {command}\")\n",
    "                \n",
    "    def lit_pixels(self):\n",
    "        return f'{self}'.count('#')\n",
    "        \n"
   ]
  },
  {
   "cell_type": "code",
   "execution_count": 155,
   "id": "a265a5fb-6dcc-4492-842b-96a4adf3c17e",
   "metadata": {},
   "outputs": [
    {
     "name": "stdout",
     "output_type": "stream",
     "text": [
      "#.................................................\n",
      "#.................................................\n",
      "..................................................\n",
      "..................................................\n",
      "..................................................\n",
      "..................................................\n",
      "\n",
      "\n",
      "#.................................................\n",
      "..........#.......................................\n",
      "..................................................\n",
      "..................................................\n",
      "..................................................\n",
      "..................................................\n",
      "\n",
      "\n",
      "...#..............................................\n",
      "..........#.......................................\n",
      "..................................................\n",
      "..................................................\n",
      "..................................................\n",
      "..................................................\n",
      "\n",
      "\n",
      "##.#..............................................\n",
      "..........#.......................................\n",
      "..................................................\n",
      "..................................................\n",
      "..................................................\n",
      "..................................................\n",
      "\n",
      "\n",
      ".#.#..............................................\n",
      "#.........#.......................................\n",
      "..................................................\n",
      "..................................................\n",
      "..................................................\n",
      "..................................................\n",
      "\n",
      "\n",
      "4\n"
     ]
    }
   ],
   "source": [
    "my_text=\"\"\"rect 1x2\n",
    "rotate row y=1 by 10\n",
    "rotate row y=0 by 3\n",
    "rect 2x1\n",
    "rotate column x=0 by 1\n",
    "\"\"\"\n",
    "display = Display()\n",
    "for line in my_text.rstrip().split('\\n'):\n",
    "    display.run_command(line)\n",
    "    print(display)\n",
    "\n",
    "print(display.lit_pixels())"
   ]
  },
  {
   "cell_type": "code",
   "execution_count": 145,
   "id": "c18db552-fd09-4493-973e-ea6d7b44a05f",
   "metadata": {},
   "outputs": [
    {
     "name": "stdout",
     "output_type": "stream",
     "text": [
      "..................................................\n",
      "..................................................\n",
      "..................................................\n",
      "..................................................\n",
      "..................................................\n",
      "..................................................\n",
      "\n",
      "\n",
      "##########........................................\n",
      "##########........................................\n",
      "##########........................................\n",
      "..................................................\n",
      "..................................................\n",
      "..................................................\n",
      "\n",
      "\n",
      ".#########........................................\n",
      ".#########........................................\n",
      ".#########........................................\n",
      "#.................................................\n",
      "#.................................................\n",
      "#.................................................\n",
      "\n",
      "\n",
      "...........#########..............................\n",
      ".#########........................................\n",
      ".#########........................................\n",
      "#.................................................\n",
      "#.................................................\n",
      "#.................................................\n",
      "\n",
      "\n"
     ]
    }
   ],
   "source": [
    "display = Display()\n",
    "print(display)\n",
    "display.rect(10,3)\n",
    "print(display)\n",
    "display.rotate_col(0,3)\n",
    "print(display)\n",
    "display.rotate_row(0,10)\n",
    "print(display)\n"
   ]
  },
  {
   "cell_type": "code",
   "execution_count": 15,
   "id": "f8aaebd1-1a03-4db9-9ad4-7cd1da6d6cc0",
   "metadata": {},
   "outputs": [],
   "source": [
    "def print_display(display_state):\n",
    "    for row in display:\n",
    "        print(''.join(row))\n"
   ]
  },
  {
   "cell_type": "code",
   "execution_count": 115,
   "id": "109238fa-2f5d-41a0-a420-c6d111dfaff8",
   "metadata": {},
   "outputs": [],
   "source": [
    "import re\n",
    "\n",
    "def rect(display_state,a,b):\n",
    "    for row in range(b):\n",
    "        for col in range(a):\n",
    "            display_state[row][col] = '#'\n",
    "\n",
    "def rotate_col(display_state,col,pixels):\n",
    "    tmp_list = []\n",
    "    for row in range(len(display_state)):\n",
    "        tmp_list.append(display_state[row][col])\n",
    "    for _ in range(pixels):\n",
    "        tmp_var = tmp_list.pop()\n",
    "        tmp_list.insert(0,tmp_var)\n",
    "    for row in range(len(display_state)):\n",
    "        display_state[row][col] = tmp_list[row]\n",
    "\n",
    "def rotate_row(display_state,row,pixels):\n",
    "    for _ in range(pixels):\n",
    "        tmp_var = display_state[row].pop()\n",
    "        display_state[row].insert(0,tmp_var)\n",
    "\n",
    "rect_pattern = re.compile(r'rect (\\d+)x(\\d+)') \n",
    "rotate_pattern = re.compile(r'rotate (row|column) [xy]=(\\d+) by (\\d+)')\n",
    "\n",
    "def run_command(display_state,command):\n",
    "    matches = rect_pattern.match(command)\n",
    "    if matches:\n",
    "        rect(display_state,int(matches.group(1)), int(matches.group(2)))\n",
    "    else:\n",
    "        matches = rotate_pattern.match(command)\n",
    "        if matches:\n",
    "            if matches.group(1) == 'row':\n",
    "                rotate_row(display_state,int(matches.group(2)),int(matches.group(3)))\n",
    "            else:\n",
    "                rotate_col(display_state,int(matches.group(2)),int(matches.group(3)))\n",
    "        else:\n",
    "            print(f\"How did we get here? {command}\")\n",
    "    \n"
   ]
  },
  {
   "cell_type": "code",
   "execution_count": 119,
   "id": "f834cbab-3165-4768-85c7-d79ccf42c4b1",
   "metadata": {},
   "outputs": [
    {
     "name": "stdout",
     "output_type": "stream",
     "text": [
      "#.................................................\n",
      "#.................................................\n",
      "..................................................\n",
      "..................................................\n",
      "..................................................\n",
      "..................................................\n",
      "\n",
      "#.................................................\n",
      "..........#.......................................\n",
      "..................................................\n",
      "..................................................\n",
      "..................................................\n",
      "..................................................\n",
      "\n",
      "...#..............................................\n",
      "..........#.......................................\n",
      "..................................................\n",
      "..................................................\n",
      "..................................................\n",
      "..................................................\n",
      "\n",
      "##.#..............................................\n",
      "..........#.......................................\n",
      "..................................................\n",
      "..................................................\n",
      "..................................................\n",
      "..................................................\n",
      "\n",
      ".#.#..............................................\n",
      "#.........#.......................................\n",
      "..................................................\n",
      "..................................................\n",
      "..................................................\n",
      "..................................................\n",
      "\n"
     ]
    }
   ],
   "source": [
    "my_text=\"\"\"rect 1x2\n",
    "rotate row y=1 by 10\n",
    "rotate row y=0 by 3\n",
    "rect 2x1\n",
    "rotate column x=0 by 1\n",
    "\"\"\"\n",
    "display = init_display()\n",
    "for line in my_text.rstrip().split('\\n'):\n",
    "    run_command(display,line)\n",
    "    print_display(display)\n",
    "    print()\n",
    "    "
   ]
  },
  {
   "cell_type": "code",
   "execution_count": 85,
   "id": "81b7fe2c-1ba5-4ec3-a09b-2e6f019d3795",
   "metadata": {},
   "outputs": [
    {
     "name": "stdout",
     "output_type": "stream",
     "text": [
      ".......\n",
      ".......\n",
      ".......\n",
      "\n",
      "###....\n",
      "###....\n",
      ".......\n",
      "\n",
      "#.#....\n",
      "###....\n",
      ".#.....\n",
      "\n",
      "....#.#\n",
      "###....\n",
      ".#.....\n",
      "\n",
      ".#..#.#\n",
      "#.#....\n",
      ".#.....\n",
      "\n"
     ]
    }
   ],
   "source": [
    "display = init_display(3,7)\n",
    "print_display(display)\n",
    "print()\n",
    "rect(display,3,2)\n",
    "print_display(display)\n",
    "print()\n",
    "rotate_col(display,1,1)\n",
    "print_display(display)\n",
    "print()\n",
    "rotate_row(display,0,4)\n",
    "print_display(display)\n",
    "print()\n",
    "rotate_col(display,1,1)\n",
    "print_display(display)\n",
    "print()"
   ]
  },
  {
   "cell_type": "code",
   "execution_count": 67,
   "id": "fbc55fd3-f766-47b9-b645-d3519614952a",
   "metadata": {},
   "outputs": [
    {
     "name": "stdout",
     "output_type": "stream",
     "text": [
      "4\n",
      "[4, 1, 2, 3]\n"
     ]
    }
   ],
   "source": [
    "my_list = [1,2,3,4]\n",
    "\n",
    "tmp = my_list.pop()\n",
    "print(tmp)\n",
    "my_list.insert(0,tmp)\n",
    "print(my_list)"
   ]
  },
  {
   "cell_type": "code",
   "execution_count": 65,
   "id": "e4f2b2b9-6424-4be4-a244-d332529c59ec",
   "metadata": {},
   "outputs": [
    {
     "name": "stdout",
     "output_type": "stream",
     "text": [
      "Help on built-in function insert:\n",
      "\n",
      "insert(index, object, /) method of builtins.list instance\n",
      "    Insert object before index.\n",
      "\n"
     ]
    }
   ],
   "source": [
    "help(my_list.insert)"
   ]
  },
  {
   "cell_type": "code",
   "execution_count": 159,
   "id": "c7138434-5246-486e-a29e-422309cbbaa6",
   "metadata": {},
   "outputs": [
    {
     "name": "stdout",
     "output_type": "stream",
     "text": [
      "0 a\n",
      "1 b\n",
      "2 c\n"
     ]
    }
   ],
   "source": [
    "my_list = ['a','b','c']\n",
    "\n",
    "for idx, val in enumerate(my_list):\n",
    "    print(idx,val)"
   ]
  },
  {
   "cell_type": "code",
   "execution_count": null,
   "id": "acb29f77-ccf7-4815-9859-1b4177d470a6",
   "metadata": {},
   "outputs": [],
   "source": []
  }
 ],
 "metadata": {
  "kernelspec": {
   "display_name": "Python 3 (ipykernel)",
   "language": "python",
   "name": "python3"
  },
  "language_info": {
   "codemirror_mode": {
    "name": "ipython",
    "version": 3
   },
   "file_extension": ".py",
   "mimetype": "text/x-python",
   "name": "python",
   "nbconvert_exporter": "python",
   "pygments_lexer": "ipython3",
   "version": "3.11.7"
  }
 },
 "nbformat": 4,
 "nbformat_minor": 5
}
