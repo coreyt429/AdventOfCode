{
 "cells": [
  {
   "cell_type": "code",
   "execution_count": 1,
   "id": "9c3f9979-cd66-4d45-8ef6-f5d845162dad",
   "metadata": {},
   "outputs": [],
   "source": [
    "my_str = 'aaaaa-bbb-z-y-x'"
   ]
  },
  {
   "cell_type": "code",
   "execution_count": 11,
   "id": "5a4de7bc-c4ba-4039-9504-34f93601e5a9",
   "metadata": {},
   "outputs": [],
   "source": [
    "new_str = ''.join(sorted(my_str.replace('-','')))"
   ]
  },
  {
   "cell_type": "code",
   "execution_count": 13,
   "id": "540d8db9-8f56-405d-b64b-5cb048576dd4",
   "metadata": {},
   "outputs": [
    {
     "data": {
      "text/plain": [
       "{'a', 'b', 'x', 'y', 'z'}"
      ]
     },
     "execution_count": 13,
     "metadata": {},
     "output_type": "execute_result"
    }
   ],
   "source": [
    "set(new_str)"
   ]
  },
  {
   "cell_type": "code",
   "execution_count": 55,
   "id": "b19f0393-affa-44b0-a919-5d2df6ea2d5f",
   "metadata": {},
   "outputs": [],
   "source": [
    "\n",
    "def decrypt(message,cipher_key):\n",
    "    offset = cipher_key % 26\n",
    "    message.replace('-',' ')\n",
    "    decrypted = ''\n",
    "    for char in message:\n",
    "        if char == '-':\n",
    "            char = ' '\n",
    "        else:\n",
    "            char_num = ord(char)\n",
    "            char_num+=offset\n",
    "            if char_num > 122:\n",
    "                char_num -= 26\n",
    "            char=chr(char_num)\n",
    "        decrypted+=char\n",
    "    return decrypted\n"
   ]
  },
  {
   "cell_type": "code",
   "execution_count": 57,
   "id": "e433cac1-73c0-4753-b088-5504d0b6692a",
   "metadata": {},
   "outputs": [
    {
     "name": "stdout",
     "output_type": "stream",
     "text": [
      "very encrypted name\n"
     ]
    }
   ],
   "source": [
    "message='qzmt-zixmtkozy-ivhz'\n",
    "cipher_key=343\n",
    "print(decrypt(message,cipher_key))"
   ]
  },
  {
   "cell_type": "code",
   "execution_count": 45,
   "id": "008e3f53-0e55-403d-8ced-49c55e580892",
   "metadata": {},
   "outputs": [
    {
     "data": {
      "text/plain": [
       "122"
      ]
     },
     "execution_count": 45,
     "metadata": {},
     "output_type": "execute_result"
    }
   ],
   "source": [
    "ord('z')"
   ]
  },
  {
   "cell_type": "code",
   "execution_count": null,
   "id": "fcd8b966-b36c-4c48-86b1-9cb5a5278e21",
   "metadata": {},
   "outputs": [],
   "source": []
  }
 ],
 "metadata": {
  "kernelspec": {
   "display_name": "Python 3 (ipykernel)",
   "language": "python",
   "name": "python3"
  },
  "language_info": {
   "codemirror_mode": {
    "name": "ipython",
    "version": 3
   },
   "file_extension": ".py",
   "mimetype": "text/x-python",
   "name": "python",
   "nbconvert_exporter": "python",
   "pygments_lexer": "ipython3",
   "version": "3.11.7"
  }
 },
 "nbformat": 4,
 "nbformat_minor": 5
}
