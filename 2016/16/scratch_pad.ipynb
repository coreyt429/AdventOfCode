{
 "cells": [
  {
   "cell_type": "code",
   "execution_count": 1,
   "metadata": {},
   "outputs": [],
   "source": [
    "import os\n",
    "import sys\n",
    "sys.path.append(os.path.realpath('../..'))\n",
    "import aoc\n",
    "my_aoc = aoc.AdventOfCode(2016,16)"
   ]
  },
  {
   "cell_type": "code",
   "execution_count": 73,
   "metadata": {},
   "outputs": [],
   "source": [
    "def dragon_curve(a):\n",
    "    b = a[::-1].replace('1','2')\n",
    "    b=b.replace('0','1')\n",
    "    b=b.replace('2','0')\n",
    "    return f\"{a}0{b}\"\n",
    "\n",
    "def checksum(input_string):\n",
    "    my_checksum = ''\n",
    "    for idx in range(0,len(input_string),2):\n",
    "        if input_string[idx] == input_string[idx+1]:\n",
    "            my_checksum += '1'\n",
    "        else:\n",
    "            my_checksum += '0'\n",
    "    if len(my_checksum) % 2 == 1:\n",
    "        return my_checksum\n",
    "    else:\n",
    "        return checksum(my_checksum)"
   ]
  },
  {
   "cell_type": "code",
   "execution_count": 75,
   "metadata": {},
   "outputs": [
    {
     "name": "stdout",
     "output_type": "stream",
     "text": [
      "100\n",
      "001\n",
      "11111000000\n",
      "1111000010100101011110000\n"
     ]
    }
   ],
   "source": [
    "for test_data in ['1', '0', '11111', '111100001010']:\n",
    "    print(dragon_curve(test_data))"
   ]
  },
  {
   "cell_type": "code",
   "execution_count": 77,
   "metadata": {},
   "outputs": [
    {
     "data": {
      "text/plain": [
       "'100'"
      ]
     },
     "execution_count": 77,
     "metadata": {},
     "output_type": "execute_result"
    }
   ],
   "source": [
    "checksum('110010110100')"
   ]
  },
  {
   "cell_type": "code",
   "execution_count": 89,
   "metadata": {},
   "outputs": [
    {
     "name": "stdout",
     "output_type": "stream",
     "text": [
      "new_string: 10000011110010000111\n",
      "new_string_checksum: 01100\n"
     ]
    }
   ],
   "source": [
    "test_data = '10000'\n",
    "target_size = 20\n",
    "new_string = dragon_curve(test_data)\n",
    "while len(new_string) < target_size:\n",
    "    new_string = dragon_curve(new_string)\n",
    "new_string = new_string[:target_size]\n",
    "print(f\"new_string: {new_string}\")\n",
    "new_string_checksum = checksum(new_string)\n",
    "print(f\"new_string_checksum: {new_string_checksum}\")\n"
   ]
  },
  {
   "cell_type": "code",
   "execution_count": 91,
   "metadata": {},
   "outputs": [
    {
     "name": "stdout",
     "output_type": "stream",
     "text": [
      "new_string: 10111011111001111000001100000100010010111011111001111100001100000100010010111011111001111000001100000100010110111011111001111100001100000100010010111011111001111000001100000100010010111011111001111100001100000100010110111011111001111000001100000100010110111011111001111100\n",
      "new_string_checksum: 11101010111100010\n"
     ]
    }
   ],
   "source": [
    "# part 1\n",
    "input_data = '10111011111001111'\n",
    "target_size = 272\n",
    "new_string = dragon_curve(input_data)\n",
    "while len(new_string) < target_size:\n",
    "    new_string = dragon_curve(new_string)\n",
    "new_string = new_string[:target_size]\n",
    "print(f\"new_string: {new_string}\")\n",
    "new_string_checksum = checksum(new_string)\n",
    "print(f\"new_string_checksum: {new_string_checksum}\")"
   ]
  },
  {
   "cell_type": "code",
   "execution_count": 93,
   "metadata": {},
   "outputs": [
    {
     "name": "stderr",
     "output_type": "stream",
     "text": [
      "IOPub data rate exceeded.\n",
      "The Jupyter server will temporarily stop sending output\n",
      "to the client in order to avoid crashing it.\n",
      "To change this limit, set the config variable\n",
      "`--ServerApp.iopub_data_rate_limit`.\n",
      "\n",
      "Current values:\n",
      "ServerApp.iopub_data_rate_limit=1000000.0 (bytes/sec)\n",
      "ServerApp.rate_limit_window=3.0 (secs)\n",
      "\n"
     ]
    },
    {
     "name": "stdout",
     "output_type": "stream",
     "text": [
      "new_string_checksum: 01001101001000101\n"
     ]
    }
   ],
   "source": [
    "# part 2\n",
    "input_data = '10111011111001111'\n",
    "target_size = 35651584\n",
    "new_string = dragon_curve(input_data)\n",
    "while len(new_string) < target_size:\n",
    "    new_string = dragon_curve(new_string)\n",
    "new_string = new_string[:target_size]\n",
    "print(f\"new_string: {new_string}\")\n",
    "new_string_checksum = checksum(new_string)\n",
    "print(f\"new_string_checksum: {new_string_checksum}\")"
   ]
  },
  {
   "cell_type": "code",
   "execution_count": null,
   "metadata": {},
   "outputs": [],
   "source": []
  }
 ],
 "metadata": {
  "kernelspec": {
   "display_name": "Python 3 (ipykernel)",
   "language": "python",
   "name": "python3"
  },
  "language_info": {
   "codemirror_mode": {
    "name": "ipython",
    "version": 3
   },
   "file_extension": ".py",
   "mimetype": "text/x-python",
   "name": "python",
   "nbconvert_exporter": "python",
   "pygments_lexer": "ipython3",
   "version": "3.11.7"
  }
 },
 "nbformat": 4,
 "nbformat_minor": 4
}
