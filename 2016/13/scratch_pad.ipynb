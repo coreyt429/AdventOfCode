{
 "cells": [
  {
   "cell_type": "code",
   "execution_count": 1,
   "metadata": {},
   "outputs": [],
   "source": [
    "import os\n",
    "import sys\n",
    "sys.path.append(os.path.realpath('../..'))\n",
    "import aoc\n",
    "my_aoc = aoc.AdventOfCode(2016,13)"
   ]
  },
  {
   "cell_type": "code",
   "execution_count": 103,
   "metadata": {},
   "outputs": [],
   "source": [
    "def is_wall(point,seed):\n",
    "    \"\"\"\n",
    "    Function to determine if a point is a wall or open space\n",
    "    Find x*x + 3*x + 2*x*y + y + y*y.\n",
    "    Add the office designer's favorite number (seed).\n",
    "    Find the binary representation of that sum; count the number of bits that are 1.\n",
    "    If the number of bits that are 1 is even, it's an open space.\n",
    "    If the number of bits that are 1 is odd, it's a wall.\n",
    "    \"\"\"\n",
    "    point_x,point_y = point\n",
    "    int_value = point_x**2 + 3*point_x + 2*point_x*point_y + point_y + point_y**2\n",
    "    int_value +=seed\n",
    "    one_count = bin(int_value)[2:].count('1')\n",
    "    return one_count % 2 == 1\n",
    "    "
   ]
  },
  {
   "cell_type": "code",
   "execution_count": 77,
   "metadata": {},
   "outputs": [
    {
     "name": "stdout",
     "output_type": "stream",
     "text": [
      "10\n",
      "(9,9) = 370\n",
      "0b101110010\n",
      "5 True\n"
     ]
    },
    {
     "data": {
      "text/plain": [
       "True"
      ]
     },
     "execution_count": 77,
     "metadata": {},
     "output_type": "execute_result"
    }
   ],
   "source": [
    "favorite_number = 10\n",
    "\n",
    "is_wall(9,9,favorite_number)\n"
   ]
  },
  {
   "cell_type": "code",
   "execution_count": 83,
   "metadata": {},
   "outputs": [
    {
     "name": "stdout",
     "output_type": "stream",
     "text": [
      ".#.####.##\n",
      "..#..#...#\n",
      "#....##...\n",
      "###.#.###.\n",
      ".##..#..#.\n",
      "..##....#.\n",
      "#...##.###\n"
     ]
    }
   ],
   "source": [
    "map = [\n",
    "    ['.','.','.','.','.','.','.','.','.','.'],\n",
    "    ['.','.','.','.','.','.','.','.','.','.'],\n",
    "    ['.','.','.','.','.','.','.','.','.','.'],\n",
    "    ['.','.','.','.','.','.','.','.','.','.'],\n",
    "    ['.','.','.','.','.','.','.','.','.','.'],\n",
    "    ['.','.','.','.','.','.','.','.','.','.'],\n",
    "    ['.','.','.','.','.','.','.','.','.','.']\n",
    "]\n",
    "for p_x in range(10):\n",
    "    for p_y in range(7):\n",
    "        if is_wall(p_x,p_y,favorite_number):\n",
    "            map[p_y][p_x] = '#'\n",
    "        else:\n",
    "            map[p_y][p_x] = '.'\n",
    "\n",
    "for row in map:\n",
    "    print(''.join(row))"
   ]
  },
  {
   "cell_type": "code",
   "execution_count": 85,
   "metadata": {},
   "outputs": [],
   "source": [
    "start=(1,1)"
   ]
  },
  {
   "cell_type": "code",
   "execution_count": 131,
   "metadata": {},
   "outputs": [],
   "source": [
    "from heapq import heappop, heappush\n",
    "\n",
    "def neighbors(point,seed):\n",
    "    set_neighbors = set()\n",
    "    \n",
    "    for p_x in [point[0]+1,point[0]-1]:\n",
    "        if p_x >= 0:\n",
    "            if not is_wall((p_x,point[1]),seed):\n",
    "                set_neighbors.add((p_x,point[1]))\n",
    "                \n",
    "        for p_y in [point[1]+1,point[1]-1]:\n",
    "            if p_y >= 0:\n",
    "                if not is_wall((point[0],p_y),seed):\n",
    "                    set_neighbors.add((point[0],p_y))\n",
    "    return set_neighbors\n",
    "                        \n",
    "def solve(start=(1,1), seed=10, target=(7,4)):\n",
    "    visited = set()\n",
    "    heap = []\n",
    "    heappush(heap,(0,start,()))\n",
    "    min_steps = float('infinity')\n",
    "    min_path = []\n",
    "    while heap:\n",
    "        steps, point, path = heappop(heap)\n",
    "        visited.add(point)\n",
    "        if point == target:\n",
    "            if steps < min_steps:\n",
    "                min_steps = steps\n",
    "                min_path = path\n",
    "        else:\n",
    "            new_path = tuple(list(path) + [point])\n",
    "            for neighbor in neighbors(point, seed):\n",
    "                if neighbor not in visited:\n",
    "                    heappush(heap,(steps+1, neighbor, new_path))\n",
    "    return min_steps\n",
    "    \n",
    "        \n",
    "    "
   ]
  },
  {
   "cell_type": "code",
   "execution_count": 135,
   "metadata": {},
   "outputs": [
    {
     "data": {
      "text/plain": [
       "96"
      ]
     },
     "execution_count": 135,
     "metadata": {},
     "output_type": "execute_result"
    }
   ],
   "source": [
    "solve((1,1),1358,(31,39))"
   ]
  },
  {
   "cell_type": "code",
   "execution_count": 193,
   "metadata": {},
   "outputs": [],
   "source": [
    "#How many locations (distinct x,y coordinates, including your starting location) can you reach in at most 50 steps?\n",
    "def solve2(start=(1,1), seed=10):\n",
    "    visited = set()\n",
    "    heap = []\n",
    "    heappush(heap,(0,start))\n",
    "    while heap:\n",
    "        steps, point = heappop(heap)\n",
    "        if steps > 50:\n",
    "            continue\n",
    "        visited.add(point)\n",
    "        for neighbor in neighbors(point, seed):\n",
    "            if neighbor not in visited:\n",
    "                heappush(heap,(steps+1, neighbor))\n",
    "    return len(visited)"
   ]
  },
  {
   "cell_type": "code",
   "execution_count": 195,
   "metadata": {},
   "outputs": [
    {
     "data": {
      "text/plain": [
       "141"
      ]
     },
     "execution_count": 195,
     "metadata": {},
     "output_type": "execute_result"
    }
   ],
   "source": [
    "solve2((1,1),1358)"
   ]
  },
  {
   "cell_type": "code",
   "execution_count": null,
   "metadata": {},
   "outputs": [],
   "source": []
  }
 ],
 "metadata": {
  "kernelspec": {
   "display_name": "Python 3 (ipykernel)",
   "language": "python",
   "name": "python3"
  },
  "language_info": {
   "codemirror_mode": {
    "name": "ipython",
    "version": 3
   },
   "file_extension": ".py",
   "mimetype": "text/x-python",
   "name": "python",
   "nbconvert_exporter": "python",
   "pygments_lexer": "ipython3",
   "version": "3.11.7"
  }
 },
 "nbformat": 4,
 "nbformat_minor": 4
}
