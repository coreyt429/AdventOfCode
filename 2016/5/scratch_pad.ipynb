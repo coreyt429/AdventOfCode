{
 "cells": [
  {
   "cell_type": "code",
   "execution_count": 1,
   "id": "b5c6c8a0-54a7-4972-a8cf-ea49595cbc81",
   "metadata": {},
   "outputs": [],
   "source": [
    "import hashlib"
   ]
  },
  {
   "cell_type": "code",
   "execution_count": 40,
   "id": "4915634b-b64e-45ce-b34d-848416cbff08",
   "metadata": {},
   "outputs": [],
   "source": [
    "door_id='abc'\n",
    "door_id = 'abbhdwsy'"
   ]
  },
  {
   "cell_type": "code",
   "execution_count": 9,
   "id": "3dca6277-1cc8-4a6f-9020-e04726bc2d83",
   "metadata": {},
   "outputs": [],
   "source": [
    "def md5_checksum(input_string):\n",
    "    md5_hash = hashlib.md5()\n",
    "    md5_hash.update(input_string.encode('utf-8'))\n",
    "    return md5_hash.hexdigest()\n"
   ]
  },
  {
   "cell_type": "code",
   "execution_count": 42,
   "id": "7704eca0-1982-4124-aa4a-e6c00b968474",
   "metadata": {
    "scrolled": true
   },
   "outputs": [
    {
     "name": "stdout",
     "output_type": "stream",
     "text": [
      "1739529 000008bfb72caf77542c32b53a73439b\n",
      "1910966 0000004ed0ede071d293b5f33de2dc2f\n",
      "1997199 0000012be6057b2554c26bfddab18b08\n",
      "2854555 00000bf3f1ca8d1f229aa50b3093b2be\n",
      "2963716 00000512874cc40b764728993dd71ffb\n",
      "3237361 0000069710beec5f9a1943a610be52d8\n",
      "4063427 00000a8da36ee9b7e193f956cf701911\n",
      "7777889 00000776b6ff41a7e30ed2d4b6663351\n",
      "801b56a7\n"
     ]
    }
   ],
   "source": [
    "counter = 0\n",
    "''.startswith\n",
    "password = ''\n",
    "for _ in range(8):\n",
    "    if counter != 0:\n",
    "        counter +=1\n",
    "    md5_hash = md5_checksum(door_id + str(counter))\n",
    "    while not md5_hash.startswith('00000'):\n",
    "        counter+=1\n",
    "        md5_hash = md5_checksum(door_id + str(counter))\n",
    "    print(counter,md5_hash)\n",
    "    password += md5_hash[5]\n",
    "\n",
    "print(password)"
   ]
  },
  {
   "cell_type": "code",
   "execution_count": 28,
   "id": "8a10fbcf-92cb-491b-94fa-6325563486ad",
   "metadata": {},
   "outputs": [
    {
     "name": "stdout",
     "output_type": "stream",
     "text": [
      "3231929\n",
      "3231930\n"
     ]
    }
   ],
   "source": [
    "counter = 3231929\n",
    "print(counter)\n",
    "counter+=1\n",
    "print(counter)"
   ]
  },
  {
   "cell_type": "code",
   "execution_count": 52,
   "id": "2fe42e8e-59d2-415b-9ecc-91f3486a4a8c",
   "metadata": {},
   "outputs": [],
   "source": [
    "password_list = ['-']*8"
   ]
  },
  {
   "cell_type": "code",
   "execution_count": 54,
   "id": "b4f81c11-83bc-48ae-9ec3-96f4ea68cd3c",
   "metadata": {},
   "outputs": [
    {
     "data": {
      "text/plain": [
       "['-', '-', '-', '-', '-', '-', '-', '-']"
      ]
     },
     "execution_count": 54,
     "metadata": {},
     "output_type": "execute_result"
    }
   ],
   "source": [
    "password_list"
   ]
  },
  {
   "cell_type": "code",
   "execution_count": null,
   "id": "d102cd92-e8b5-405c-a3b6-e24e7de2d645",
   "metadata": {},
   "outputs": [],
   "source": []
  }
 ],
 "metadata": {
  "kernelspec": {
   "display_name": "Python 3 (ipykernel)",
   "language": "python",
   "name": "python3"
  },
  "language_info": {
   "codemirror_mode": {
    "name": "ipython",
    "version": 3
   },
   "file_extension": ".py",
   "mimetype": "text/x-python",
   "name": "python",
   "nbconvert_exporter": "python",
   "pygments_lexer": "ipython3",
   "version": "3.11.7"
  }
 },
 "nbformat": 4,
 "nbformat_minor": 5
}
