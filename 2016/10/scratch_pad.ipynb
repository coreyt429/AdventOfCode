{
 "cells": [
  {
   "cell_type": "code",
   "execution_count": 23,
   "metadata": {},
   "outputs": [],
   "source": [
    "import os\n",
    "import sys\n",
    "import re\n",
    "sys.path.append(os.path.realpath('../..'))\n",
    "import aoc\n",
    "my_aoc = aoc.AdventOfCode(2016,10)"
   ]
  },
  {
   "cell_type": "code",
   "execution_count": 117,
   "metadata": {},
   "outputs": [],
   "source": [
    "instructions = [\n",
    "\"value 5 goes to bot 2\",\n",
    "\"bot 2 gives low to bot 1 and high to bot 0\",\n",
    "\"value 3 goes to bot 1\",\n",
    "\"bot 1 gives low to output 1 and high to bot 0\",\n",
    "\"bot 0 gives low to output 2 and high to output 0\",\n",
    "\"value 2 goes to bot 2\"\n",
    "]"
   ]
  },
  {
   "cell_type": "code",
   "execution_count": 59,
   "metadata": {},
   "outputs": [],
   "source": [
    "# Initially, bot 1 starts with a value-3 chip, and bot 2 starts with a value-2 chip and a value-5 chip\n",
    "state = {\n",
    "    \"bot\" :{\n",
    "        \"1\" : [3],\n",
    "        \"2\" : [2,5],\n",
    "        \"10\" : [9]\n",
    "    },\n",
    "    \"output\":{\n",
    "        \n",
    "    }\n",
    "    \n",
    "}"
   ]
  },
  {
   "cell_type": "code",
   "execution_count": 129,
   "metadata": {},
   "outputs": [],
   "source": [
    "def new_bot():\n",
    "    \"\"\"\n",
    "    simple function to initialize a new bot\n",
    "    \"\"\"\n",
    "    return {\n",
    "                \"chips\": [],\n",
    "                \"high\": None,\n",
    "                \"low\": None\n",
    "            }\n",
    "    \n",
    "# regular expressions to match instructions\n",
    "value_pattern = re.compile(r'value (\\d+) goes to bot (\\d+)')\n",
    "gives_pattern = re.compile(r'bot (\\d+) gives (low|high) to (\\w+) (\\d+)( and (low|high) to (\\w+) (\\d+))?')\n",
    "def process_instruction(instruction):\n",
    "    \"\"\"\n",
    "    Function to process instruction string\n",
    "\n",
    "    parameters:\n",
    "      - instruction: string\n",
    "\n",
    "    returns:\n",
    "      - None\n",
    "      \n",
    "    This function does not return a value, it updates the global state data structure\n",
    "    \"\"\"\n",
    "    # is it a value instruction?\n",
    "    match = value_pattern.match(instruction)\n",
    "    if match:\n",
    "        # initialize bot if it doesn't exist yet\n",
    "        if not match.group(2) in state['bot']:\n",
    "            state['bot'][match.group(2)] = new_bot()\n",
    "        # give bot the new chip\n",
    "        state['bot'][match.group(2)]['chips'].append(int(match.group(1)))\n",
    "    else:\n",
    "        # is it a give instruction\n",
    "        match = gives_pattern.match(instruction)\n",
    "        if match:\n",
    "            #                  1-bot 2-chip 3-t1     4-t1idx                    6-chip   7-t2  8-t2idx \n",
    "            #match.groups() = ('1', 'low', 'output', '1', ' and high to bot 0', 'high', 'bot', '0')\n",
    "            groups = match.groups()\n",
    "            # give first chip\n",
    "            give_chip(*groups[:4]) # ('1', 'low', 'output', '1')\n",
    "            # is there a second chip?\n",
    "            if not groups[6] is None:\n",
    "                # give second chip\n",
    "                give_chip(groups[0],*groups[5:]) # ('1','high', 'bot', '0')\n",
    "        else:\n",
    "            # we shouldn't get here, but who knows what is in the input\n",
    "            print(f\"Unhandled instruction: {instruction}\")\n",
    "\n",
    "def give_chip(source,highlow,target,target_idx):\n",
    "    \"\"\"\n",
    "    Function to pass a chip from a bot to another bot or output bin\n",
    "\n",
    "    parameters:\n",
    "      - source: string, index of bot giving chip\n",
    "      - highlow: string \"high\" or \"low\"\n",
    "      - target: string, target type \"bot\" or \"output\"\n",
    "      - target_idx: string, target index\n",
    "\n",
    "    returns:\n",
    "      - None\n",
    "      \n",
    "    This function does not return a value, it updates the global state data structure\n",
    "    \"\"\"\n",
    "    # assigning bot to make this easier to read\n",
    "    bot = state['bot'][source]\n",
    "    # check high/low\n",
    "    if highlow == 'high':\n",
    "        # high, set chip to maximum value in bot, and remove that chip from bot\n",
    "        chip = bot.pop(bot.index(max(bot)))\n",
    "    else:\n",
    "        # high, set chip to minumum value in bot, and remove that chip from bot\n",
    "        chip = bot.pop(bot.index(min(bot)))\n",
    "    # initialize target instance if it does not exist\n",
    "    if target_idx not in state[target]:\n",
    "        state[target][target_idx] = []\n",
    "    # append chip to target\n",
    "    state[target][target_idx].append(chip)\n",
    "    \n",
    "        "
   ]
  },
  {
   "cell_type": "code",
   "execution_count": 131,
   "metadata": {},
   "outputs": [
    {
     "name": "stdout",
     "output_type": "stream",
     "text": [
      "instruction = value 5 goes to bot 2\n",
      "state = {'bot': {'1': [3], '2': [2, 5, 5], '10': [9]}, 'output': {}}\n",
      "instruction = bot 2 gives low to bot 1 and high to bot 0\n",
      "state = {'bot': {'1': [3, 2], '2': [5], '10': [9], '0': [5]}, 'output': {}}\n",
      "instruction = value 3 goes to bot 1\n",
      "state = {'bot': {'1': [3, 2, 3], '2': [5], '10': [9], '0': [5]}, 'output': {}}\n",
      "instruction = bot 1 gives low to output 1 and high to bot 0\n",
      "state = {'bot': {'1': [3], '2': [5], '10': [9], '0': [5, 3]}, 'output': {'1': [2]}}\n",
      "instruction = bot 0 gives low to output 2 and high to output 0\n",
      "state = {'bot': {'1': [3], '2': [5], '10': [9], '0': []}, 'output': {'1': [2], '2': [3], '0': [5]}}\n",
      "instruction = value 2 goes to bot 2\n",
      "state = {'bot': {'1': [3], '2': [5, 2], '10': [9], '0': []}, 'output': {'1': [2], '2': [3], '0': [5]}}\n"
     ]
    }
   ],
   "source": [
    "# Initially, bot 1 starts with a value-3 chip, and bot 2 starts with a value-2 chip and a value-5 chip\n",
    "state = {\n",
    "    \"bot\" :{\n",
    "        \"1\" : [3],\n",
    "        \"2\" : [2,5],\n",
    "        \"10\" : [9]\n",
    "    },\n",
    "    \"output\":{\n",
    "        \n",
    "    }\n",
    "    \n",
    "}\n",
    "for instruction in instructions:\n",
    "    print(f\"instruction = {instruction}\")\n",
    "    process_instruction(instruction)\n",
    "    print(f\"state = {state}\")"
   ]
  },
  {
   "cell_type": "code",
   "execution_count": 101,
   "metadata": {},
   "outputs": [],
   "source": [
    "my_list = [4,5,5]"
   ]
  },
  {
   "cell_type": "code",
   "execution_count": 35,
   "metadata": {},
   "outputs": [
    {
     "data": {
      "text/plain": [
       "5"
      ]
     },
     "execution_count": 35,
     "metadata": {},
     "output_type": "execute_result"
    }
   ],
   "source": [
    "max(my_list)"
   ]
  },
  {
   "cell_type": "code",
   "execution_count": 37,
   "metadata": {},
   "outputs": [
    {
     "data": {
      "text/plain": [
       "4"
      ]
     },
     "execution_count": 37,
     "metadata": {},
     "output_type": "execute_result"
    }
   ],
   "source": [
    "min(my_list)"
   ]
  },
  {
   "cell_type": "code",
   "execution_count": 103,
   "metadata": {},
   "outputs": [
    {
     "name": "stdout",
     "output_type": "stream",
     "text": [
      "tmp = 5\n",
      "my_list = [4, 5]\n"
     ]
    }
   ],
   "source": [
    "tmp = my_list.pop(my_list.index(max(my_list)))\n",
    "print(f\"tmp = {tmp}\")\n",
    "print(f\"my_list = {my_list}\")\n"
   ]
  },
  {
   "cell_type": "code",
   "execution_count": 85,
   "metadata": {},
   "outputs": [],
   "source": [
    "groups = ('1', 'low', 'output', '1', ' and high to bot 0', 'high', 'bot', '0')"
   ]
  },
  {
   "cell_type": "code",
   "execution_count": 89,
   "metadata": {},
   "outputs": [
    {
     "data": {
      "text/plain": [
       "('1', 'low', 'output', '1')"
      ]
     },
     "execution_count": 89,
     "metadata": {},
     "output_type": "execute_result"
    }
   ],
   "source": [
    "groups[:4]"
   ]
  },
  {
   "cell_type": "code",
   "execution_count": 95,
   "metadata": {},
   "outputs": [
    {
     "data": {
      "text/plain": [
       "('high', 'bot', '0')"
      ]
     },
     "execution_count": 95,
     "metadata": {},
     "output_type": "execute_result"
    }
   ],
   "source": [
    "groups[5:]"
   ]
  },
  {
   "cell_type": "code",
   "execution_count": 237,
   "metadata": {},
   "outputs": [],
   "source": [
    "class Bin:\n",
    "    \"\"\"\n",
    "    Simple class for output bins\n",
    "    \"\"\"\n",
    "    def __init__(self,idx):\n",
    "        \"\"\"\n",
    "        init Bin object\n",
    "        \"\"\"\n",
    "        self.idx = idx\n",
    "        self.type = 'output'\n",
    "        # start empty\n",
    "        self.chips = []\n",
    "\n",
    "    def __str__(self):\n",
    "        \"\"\"\n",
    "        String representation of bin\n",
    "        \"\"\"\n",
    "        return f\"output bin {self.idx} contains {self.chips}\"\n",
    "\n",
    "    def receive(self,chip):\n",
    "        \"\"\"\n",
    "        Receive a chip from a bot\n",
    "        \"\"\"\n",
    "        # add chip to chips, no other actions for output bins\n",
    "        self.chips.append(chip)\n",
    "\n",
    "class Bot:\n",
    "    \"\"\"\n",
    "    class for bots\n",
    "    \"\"\"\n",
    "    def __init__(self,idx):\n",
    "        self.idx = idx\n",
    "        self.type = 'bot'\n",
    "        # chips empty\n",
    "        self.chips = []\n",
    "        self.comparisons = set()\n",
    "        # placeholders for high and low targets\n",
    "        self.targets = {\n",
    "            \"high\": None,\n",
    "            \"low\": None\n",
    "        }\n",
    "\n",
    "    def __str__(self):\n",
    "        \"\"\"\n",
    "        String representation of bot\n",
    "        \"\"\"\n",
    "        targets = {\n",
    "            \"high\": None,\n",
    "            \"low\": None\n",
    "        }\n",
    "        for high_low in [\"high\",\"low\"]:\n",
    "            if not self.targets[high_low] is None:\n",
    "                targets[high_low] = f\"{self.targets[high_low].type} {self.targets[high_low].idx}\"\n",
    "        retval =  f\"\"\"\n",
    "        bot {self.idx} has chips {self.chips}\n",
    "          sends high to {targets['high']}\n",
    "          sends low to {targets['low']}\n",
    "        \"\"\"\n",
    "        retval = f\"bot {self.idx} {self.chips} comparisons: {self.comparisons}\"\n",
    "        return retval\n",
    "    \n",
    "    def receive(self,chip):\n",
    "        \"\"\"\n",
    "        Receive a chip from a bot or input bin\n",
    "        \"\"\"\n",
    "        # add chip to chips\n",
    "        self.chips.append(chip)\n",
    "        #print(f\"bot {self.idx} received chip {chip}: [{self.chips}]\")\n",
    "        # need a trigger here for too many chips\n",
    "        if len(self.chips) >= 2:\n",
    "            print(f\"{self.idx} comparing {self.chips}\")\n",
    "            self.comparisons.add(tuple(sorted(self.chips)))\n",
    "            # distribute chips\n",
    "            for high_low in ['high','low']:\n",
    "                if not self.targets[high_low] is None:\n",
    "                    self.give(self.targets[high_low],high_low)          \n",
    "\n",
    "    def give(self,target,highlow):\n",
    "        # give away a chip\n",
    "        if highlow == 'high':\n",
    "            # high, set chip to maximum value in bot, and remove that chip from bot\n",
    "            chip = self.chips.pop(self.chips.index(max(self.chips)))\n",
    "        else:\n",
    "            # high, set chip to minumum value in bot, and remove that chip from bot\n",
    "            chip = self.chips.pop(self.chips.index(min(self.chips)))\n",
    "        target.receive(chip)\n",
    "        \n",
    "# regular expressions to match instructions\n",
    "value_pattern = re.compile(r'value (\\d+) goes to bot (\\d+)')\n",
    "gives_pattern = re.compile(r'bot (\\d+) gives (low|high) to (\\w+) (\\d+)( and (low|high) to (\\w+) (\\d+))?')\n",
    "def parse_instruction(instruction):\n",
    "    \"\"\"\n",
    "    Function to parse instruction string, and update bots and bins\n",
    "\n",
    "    parameters:\n",
    "      - instruction: string\n",
    "\n",
    "    returns:\n",
    "      - None\n",
    "      \n",
    "    This function does not return a value, it updates the global state data structure\n",
    "    \"\"\"\n",
    "    # is it a value instruction?\n",
    "    match = value_pattern.match(instruction)\n",
    "    if match:\n",
    "        # initialize bot if it doesn't exist yet\n",
    "        chip, idx = match.groups()\n",
    "        if not idx in state['bot']:\n",
    "            state['bot'][idx] = Bot(idx)\n",
    "        # give bot the new chip\n",
    "        state['bot'][idx].receive(int(chip))\n",
    "    else:\n",
    "        # is it a give instruction\n",
    "        match = gives_pattern.match(instruction)\n",
    "        if match:\n",
    "            #                  1-bot 2-chip 3-t1     4-t1idx                    6-chip   7-t2  8-t2idx \n",
    "            #match.groups() = ('1', 'low', 'output', '1', ' and high to bot 0', 'high', 'bot', '0')\n",
    "            groups = match.groups()\n",
    "            # first chip rule\n",
    "            idx = groups[0]\n",
    "            \n",
    "            # initialize bot if it doesn't exist\n",
    "            if not idx in state['bot']:\n",
    "                state['bot'][idx] = Bot(idx)\n",
    "            bot = state['bot'][idx]\n",
    "            for high_low,target_type, target_idx in (groups[1:4], groups[5:]): # ('1', 'low', 'output', '1')\n",
    "                if high_low is None:\n",
    "                    continue\n",
    "                # initialize target if it doesn't exist\n",
    "                if not target_idx in state[target_type]:\n",
    "                    if target_type == 'bot':\n",
    "                        state[target_type][target_idx] = Bot(target_idx)\n",
    "                    else:\n",
    "                        state[target_type][target_idx] = Bin(target_idx)\n",
    "                # set target\n",
    "                bot.targets[high_low] = state[target_type][target_idx]\n",
    "        else:\n",
    "            # we shouldn't get here, but who knows what is in the input\n",
    "            print(f\"Unhandled instruction: {instruction}\")"
   ]
  },
  {
   "cell_type": "code",
   "execution_count": 239,
   "metadata": {},
   "outputs": [
    {
     "name": "stdout",
     "output_type": "stream",
     "text": [
      "2 comparing [2, 5]\n",
      "1 comparing [3, 2]\n",
      "0 comparing [5, 3]\n"
     ]
    }
   ],
   "source": [
    "state = {\n",
    "    \"bot\": {},\n",
    "    \"output\": {}\n",
    "}\n",
    "\n",
    "for instruction in sorted(instructions):\n",
    "    #print(instruction)\n",
    "    parse_instruction(instruction)\n"
   ]
  },
  {
   "cell_type": "code",
   "execution_count": 241,
   "metadata": {},
   "outputs": [
    {
     "name": "stdout",
     "output_type": "stream",
     "text": [
      "bot 0 [] comparisons: {(3, 5)}\n",
      "bot 1 [] comparisons: {(2, 3)}\n",
      "bot 2 [] comparisons: {(2, 5)}\n",
      "output bin 2 contains [3]\n",
      "output bin 0 contains [5]\n",
      "output bin 1 contains [2]\n"
     ]
    }
   ],
   "source": [
    "for group in ['bot','output']:\n",
    "    for idx, inst in  state[group].items():\n",
    "        print(inst)\n"
   ]
  },
  {
   "cell_type": "code",
   "execution_count": null,
   "metadata": {},
   "outputs": [],
   "source": []
  }
 ],
 "metadata": {
  "kernelspec": {
   "display_name": "Python 3 (ipykernel)",
   "language": "python",
   "name": "python3"
  },
  "language_info": {
   "codemirror_mode": {
    "name": "ipython",
    "version": 3
   },
   "file_extension": ".py",
   "mimetype": "text/x-python",
   "name": "python",
   "nbconvert_exporter": "python",
   "pygments_lexer": "ipython3",
   "version": "3.11.7"
  }
 },
 "nbformat": 4,
 "nbformat_minor": 4
}
