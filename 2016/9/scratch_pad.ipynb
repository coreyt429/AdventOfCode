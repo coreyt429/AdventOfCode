{
 "cells": [
  {
   "cell_type": "code",
   "execution_count": 17,
   "metadata": {},
   "outputs": [
    {
     "ename": "AttributeError",
     "evalue": "module 'aoc' has no attribute 'set_date'",
     "output_type": "error",
     "traceback": [
      "\u001b[1;31m---------------------------------------------------------------------------\u001b[0m",
      "\u001b[1;31mAttributeError\u001b[0m                            Traceback (most recent call last)",
      "Cell \u001b[1;32mIn[17], line 5\u001b[0m\n\u001b[0;32m      3\u001b[0m sys\u001b[38;5;241m.\u001b[39mpath\u001b[38;5;241m.\u001b[39mappend(os\u001b[38;5;241m.\u001b[39mpath\u001b[38;5;241m.\u001b[39mrealpath(\u001b[38;5;124m'\u001b[39m\u001b[38;5;124m../..\u001b[39m\u001b[38;5;124m'\u001b[39m))\n\u001b[0;32m      4\u001b[0m \u001b[38;5;28;01mimport\u001b[39;00m \u001b[38;5;21;01maoc\u001b[39;00m\n\u001b[1;32m----> 5\u001b[0m aoc\u001b[38;5;241m.\u001b[39mset_date(\u001b[38;5;241m2016\u001b[39m,\u001b[38;5;241m9\u001b[39m)\n",
      "\u001b[1;31mAttributeError\u001b[0m: module 'aoc' has no attribute 'set_date'"
     ]
    }
   ],
   "source": [
    "import os\n",
    "import sys\n",
    "sys.path.append(os.path.realpath('../..'))\n",
    "import aoc\n",
    "aoc.set_date(2016,9)"
   ]
  },
  {
   "cell_type": "markdown",
   "metadata": {},
   "source": [
    "#Part 1\n",
    "- ADVENT contains no markers and decompresses to itself with no changes, resulting in a decompressed length of 6.\n",
    "- A(1x5)BC repeats only the B a total of 5 times, becoming ABBBBBC for a decompressed length of 7.\n",
    "- (3x3)XYZ becomes XYZXYZXYZ for a decompressed length of 9.\n",
    "- A(2x2)BCD(2x2)EFG doubles the BC and EF, becoming ABCBCDEFEFG for a decompressed length of 11.\n",
    "- (6x1)(1x3)A simply becomes (1x3)A - the (1x3) looks like a marker, but because it's within a data section of another marker, it is not treated any differently from the A that comes after it. It has a decompressed length of 6.\n",
    "- X(8x2)(3x3)ABCY becomes X(3x3)ABC(3x3)ABCY (for a decompressed length of 18), because the decompressed data from the (8x2) marker (the (3x3)ABC) is skipped and not processed further.\n",
    "- (4x5othertext(4x5)ABCD  I added this case in anticipation of what might be in the input file\n"
   ]
  },
  {
   "cell_type": "code",
   "execution_count": null,
   "metadata": {},
   "outputs": [],
   "source": [
    "import re\n",
    "\n",
    "pattern_marker = re.compile(r'\\((\\d+)x(\\d+)\\)')\n",
    "\n",
    "def decompress_string(input_string):\n",
    "    \"\"\"\n",
    "    Function to decompress a string\n",
    "    \"\"\"\n",
    "    # convert to a list so we can work with it \n",
    "    input_list = list(input_string)\n",
    "    # initialize new list for decompressed data\n",
    "    new_list = []\n",
    "    # idx will be a pointer to our location in the string, start at 0\n",
    "    idx = 0\n",
    "    # walk the string. note: we may increment idx within the loop, so not using enumerate\n",
    "    while idx < len(input_list):\n",
    "        # check to see if we might be at the start of a marker\n",
    "        if input_list[idx] == '(':\n",
    "            marker = '(';\n",
    "            idx+=1\n",
    "            # add to marker until we reach ')'\n",
    "            while input_list[idx] != ')':\n",
    "                marker += input_list[idx]\n",
    "                idx+=1\n",
    "            marker += ')'\n",
    "            # regex to see if we have really found a marker or just a '('\n",
    "            # note, there could be something really evil in the data like:\n",
    "            #  (4x5othertext)\n",
    "            # hopefully not really, really evil like:\n",
    "            #  (4x5othertext(4x5), if so we will miss a marker, wait I think I can fix that\n",
    "            match = pattern_marker.search(marker)\n",
    "            if match:\n",
    "                # fix for (4x5othertext(4x5) case\n",
    "                if match.span()[0] != 0:\n",
    "                    # add non-matching portion of marker back to new_list\n",
    "                    new_list = new_list + list(f'{marker[0:match.span()[0]]}')\n",
    "                char_count = int(match.group(1))\n",
    "                multiplier = int(match.group(2))\n",
    "                tmp_string = ''\n",
    "                # get next char_count characters\n",
    "                for _ in range(char_count):\n",
    "                    idx+=1\n",
    "                    tmp_string += input_list[idx]\n",
    "                # add to newlist multiplier times\n",
    "                new_list = new_list + list(tmp_string)*multiplier\n",
    "                idx+=1\n",
    "            else: # not a marker lets just stick it on the string\n",
    "                new_list = new_list + list(f'({marker})')\n",
    "        else:\n",
    "            new_list.append(input_list[idx])\n",
    "            idx += 1\n",
    "    return ''.join(new_list)"
   ]
  },
  {
   "cell_type": "code",
   "execution_count": null,
   "metadata": {},
   "outputs": [],
   "source": [
    "test_data = [\n",
    "    'ADVENT',\n",
    "    'A(1x5)BC',\n",
    "    '(3x3)XYZ',\n",
    "    'A(2x2)BCD(2x2)EFG',\n",
    "    '(6x1)(1x3)A',\n",
    "    'X(8x2)(3x3)ABCY',\n",
    "    '(4x5othertext(4x5)ABCD'\n",
    "]"
   ]
  },
  {
   "cell_type": "code",
   "execution_count": 100,
   "metadata": {},
   "outputs": [
    {
     "name": "stdout",
     "output_type": "stream",
     "text": [
      "ADVENT 6\n",
      "ABBBBBC 7\n",
      "XYZXYZXYZ 9\n",
      "ABCBCDEFEFG 11\n",
      "(1x3)A 6\n",
      "X(3x3)ABC(3x3)ABCY 18\n",
      "(4x5othertextABCDABCDABCDABCDABCD 33\n"
     ]
    }
   ],
   "source": [
    "for original_string in test_data:\n",
    "    new_string = decompress_string(original_string)\n",
    "    print(new_string,len(new_string))"
   ]
  },
  {
   "cell_type": "code",
   "execution_count": 32,
   "metadata": {},
   "outputs": [
    {
     "name": "stdout",
     "output_type": "stream",
     "text": [
      "<re.Match object; span=(8, 13), match='(1x5)'>\n",
      "sometext\n"
     ]
    }
   ],
   "source": [
    "pattern_marker = re.compile(r'\\((\\d+)x(\\d+)\\)')\n",
    "marker = 'sometext(1x5)'\n",
    "match = pattern_marker.search(marker)\n",
    "print(match)\n",
    "print(marker[0:match.span()[0]])"
   ]
  },
  {
   "cell_type": "code",
   "execution_count": null,
   "metadata": {},
   "outputs": [],
   "source": [
    "match.groups()\n",
    "match.span()"
   ]
  },
  {
   "cell_type": "code",
   "execution_count": null,
   "metadata": {},
   "outputs": [],
   "source": [
    "tmp_string = 'B'\n",
    "multiplier=5\n",
    "list(tmp_string)*multiplier"
   ]
  },
  {
   "cell_type": "code",
   "execution_count": null,
   "metadata": {},
   "outputs": [],
   "source": [
    "from datetime import datetime\n"
   ]
  },
  {
   "cell_type": "code",
   "execution_count": null,
   "metadata": {},
   "outputs": [],
   "source": [
    "datetime.today()"
   ]
  },
  {
   "cell_type": "markdown",
   "metadata": {},
   "source": [
    "# Part 2\n",
    "Apparently, the file actually uses version two of the format.\r\n",
    "\r\n",
    "In version two, the only difference is that markers within decompressed data are decompressed. This, the documentation explains, provides much more substantial compression capabilities, allowing many-gigabyte files to be stored in only a few kilobyte\n",
    "se:\r\n",
    "\r\n",
    "(3x3)XYZ still becomes XYZXYZXYZ, as the decompressed section contains no mar\n",
    "kers.\r\n",
    "X(8x2)(3x3)ABCY becomes XABCABCABCABCABCABCY, because the decompressed data from the (8x2) marker is then further decompressed, thus triggering the (3x3) marker twice for a total of six ABC sequ\n",
    "ences.\r\n",
    "(27x12)(20x12)(13x14)(7x10)(1x12)A decompresses into a string of A repeated 241920\n",
    " times.\r\n",
    "(25x3)(3x3)ABC(2x3)XY(5x2)PQRSTX(18x9)(3x2)TWO(5x7)SEVEN becomes 445 characte\n",
    "rs long.\r\n",
    "Unfortunately, the computer you brought probably doesn't have enough memory to actually decompress the file; you'll have to come up with another way to get its decompresseoved format?"
   ]
  },
  {
   "cell_type": "code",
   "execution_count": null,
   "metadata": {},
   "outputs": [],
   "source": [
    "my_string='(27x12)(20x12)(13x14)(7x10)(1x12)A'"
   ]
  },
  {
   "cell_type": "code",
   "execution_count": null,
   "metadata": {},
   "outputs": [],
   "source": [
    "new_string = decompress_string(new_string)\n",
    "print(new_string)"
   ]
  },
  {
   "cell_type": "code",
   "execution_count": null,
   "metadata": {},
   "outputs": [],
   "source": [
    "len(new_string)"
   ]
  },
  {
   "cell_type": "code",
   "execution_count": 135,
   "metadata": {},
   "outputs": [],
   "source": [
    "# borrowed algorithm. rewritten from my notes\n",
    "def decompress(input_string,v2=False):\n",
    "    \"\"\"\n",
    "    recursive decompress function\n",
    "\toriginal algorithm credit: u/blockingthesky\n",
    "\n",
    "    for this version I stripped out the code leaving my comments for guidance and rewrote the function\n",
    "\n",
    "    Note, this does fail my super evil case: '(4x5othertext(4x5)ABCD', fortunately that doesn't seem\n",
    "    to exist in the puzzle input.\n",
    "    \n",
    "    parameters:\n",
    "      - input_string: string to decompress\n",
    "      - v2: bool flag to use v2 recursion default False\n",
    "    \n",
    "    returns:\n",
    "      - decompressed_length: integer length of decompressed data\n",
    "    \"\"\"\n",
    "    # simple case input string does not have any markers, return its length\n",
    "    if '(' not in input_string:\n",
    "        return len(input_string)\n",
    "    # initialize decompressed_length\n",
    "    decompressed_length = 0\n",
    "    match = pattern_marker.search(input_string)\n",
    "    while match:\n",
    "        #<re.Match object; span=(1, 6), match='(1x5)'>\n",
    "        # add characters up to next marker\n",
    "        decompressed_length += int(match.span()[0])\n",
    "        # extract marker\n",
    "        span=int(match.group(1))\n",
    "        multiplier=int(match.group(2))\n",
    "        next_span = input_string[int(match.span()[1]):match.span()[1]+span]\n",
    "        # for part 2, lets get recursive\n",
    "        if v2:\n",
    "            # decompress next span characters multiplied by multiplier\n",
    "            decompressed_length += decompress(next_span,v2)*multiplier\n",
    "        else:\n",
    "            # add length of span characters multiplied by multiplier\n",
    "            decompressed_length += len(next_span)*multiplier\n",
    "        # remove processed string portion\n",
    "        input_string = input_string[match.span()[1]+span:]\n",
    "        # reprocess match (leave commented for now to avoid infinite loop)\n",
    "        match = pattern_marker.search(input_string)\n",
    "    # add length of remaining string\n",
    "    decompressed_length += len(input_string)\n",
    "    \n",
    "    return decompressed_length"
   ]
  },
  {
   "cell_type": "code",
   "execution_count": 36,
   "metadata": {},
   "outputs": [
    {
     "name": "stdout",
     "output_type": "stream",
     "text": [
      "0\n"
     ]
    }
   ],
   "source": [
    "print(decompress('(27x12)(20x12)(13x14)(7x10)(1x12)A'))"
   ]
  },
  {
   "cell_type": "code",
   "execution_count": 24,
   "metadata": {},
   "outputs": [
    {
     "data": {
      "text/plain": [
       "['ADVENT',\n",
       " 'A(1x5)BC',\n",
       " '(3x3)XYZ',\n",
       " 'A(2x2)BCD(2x2)EFG',\n",
       " '(6x1)(1x3)A',\n",
       " 'X(8x2)(3x3)ABCY',\n",
       " '(4x5othertext(4x5)ABCD']"
      ]
     },
     "execution_count": 24,
     "metadata": {},
     "output_type": "execute_result"
    }
   ],
   "source": [
    "test_data"
   ]
  },
  {
   "cell_type": "code",
   "execution_count": 42,
   "metadata": {},
   "outputs": [
    {
     "name": "stdout",
     "output_type": "stream",
     "text": [
      "ADVENT 6\n",
      "<re.Match object; span=(1, 6), match='(1x5)'>\n",
      "A(1x5)BC 0\n",
      "<re.Match object; span=(0, 5), match='(3x3)'>\n",
      "(3x3)XYZ 0\n",
      "<re.Match object; span=(1, 6), match='(2x2)'>\n",
      "A(2x2)BCD(2x2)EFG 0\n",
      "<re.Match object; span=(0, 5), match='(6x1)'>\n",
      "(6x1)(1x3)A 0\n",
      "<re.Match object; span=(1, 6), match='(8x2)'>\n",
      "X(8x2)(3x3)ABCY 0\n",
      "<re.Match object; span=(13, 18), match='(4x5)'>\n",
      "(4x5othertext(4x5)ABCD 0\n"
     ]
    }
   ],
   "source": [
    "for original_string in test_data:\n",
    "    decompressed_size = decompress(original_string)\n",
    "    print(original_string,decompressed_size)"
   ]
  },
  {
   "cell_type": "code",
   "execution_count": 86,
   "metadata": {},
   "outputs": [
    {
     "name": "stdout",
     "output_type": "stream",
     "text": [
      "adding before match: 1\n"
     ]
    }
   ],
   "source": [
    "input_string='A(1x5)BC'\n",
    "match = pattern_marker.search(input_string)\n",
    "print(f\"adding before match: {int(match.span()[0])}\")\n",
    "\n"
   ]
  },
  {
   "cell_type": "code",
   "execution_count": 56,
   "metadata": {},
   "outputs": [
    {
     "data": {
      "text/plain": [
       "'1'"
      ]
     },
     "execution_count": 56,
     "metadata": {},
     "output_type": "execute_result"
    }
   ],
   "source": [
    "match.group(1)"
   ]
  },
  {
   "cell_type": "code",
   "execution_count": 80,
   "metadata": {},
   "outputs": [
    {
     "data": {
      "text/plain": [
       "'BC'"
      ]
     },
     "execution_count": 80,
     "metadata": {},
     "output_type": "execute_result"
    }
   ],
   "source": [
    "input_string[6:8]"
   ]
  },
  {
   "cell_type": "code",
   "execution_count": 106,
   "metadata": {},
   "outputs": [
    {
     "name": "stdout",
     "output_type": "stream",
     "text": [
      "ADVENT\n",
      "6\n",
      "A(1x5)BC\n",
      "next_span = B\n",
      "input_string = C\n",
      "7\n",
      "(3x3)XYZ\n",
      "next_span = XYZ\n",
      "input_string = \n",
      "9\n",
      "A(2x2)BCD(2x2)EFG\n",
      "next_span = BC\n",
      "input_string = D(2x2)EFG\n",
      "next_span = EF\n",
      "input_string = G\n",
      "11\n",
      "(6x1)(1x3)A\n",
      "next_span = (1x3)A\n",
      "input_string = \n",
      "6\n",
      "X(8x2)(3x3)ABCY\n",
      "next_span = (3x3)ABC\n",
      "input_string = Y\n",
      "18\n",
      "(4x5othertext(4x5)ABCD\n",
      "next_span = ABCD\n",
      "input_string = \n",
      "33\n"
     ]
    }
   ],
   "source": [
    "for input_string in test_data:\n",
    "    print(input_string)\n",
    "    print(decompress(input_string))\n"
   ]
  },
  {
   "cell_type": "code",
   "execution_count": 127,
   "metadata": {},
   "outputs": [],
   "source": [
    "test_data2 = [\n",
    "    '(3x3)XYZ',\n",
    "    'X(8x2)(3x3)ABCY',\n",
    "    '(27x12)(20x12)(13x14)(7x10)(1x12)A',\n",
    "    '(25x3)(3x3)ABC(2x3)XY(5x2)PQRSTX(18x9)(3x2)TWO(5x7)SEVEN'\n",
    "]"
   ]
  },
  {
   "cell_type": "code",
   "execution_count": 133,
   "metadata": {},
   "outputs": [
    {
     "name": "stdout",
     "output_type": "stream",
     "text": [
      "(3x3)XYZ\n",
      "9\n",
      "X(8x2)(3x3)ABCY\n",
      "20\n",
      "(27x12)(20x12)(13x14)(7x10)(1x12)A\n",
      "241920\n",
      "(25x3)(3x3)ABC(2x3)XY(5x2)PQRSTX(18x9)(3x2)TWO(5x7)SEVEN\n",
      "445\n"
     ]
    }
   ],
   "source": [
    "for input_string in test_data2:\n",
    "    print(input_string)\n",
    "    print(decompress(input_string,True))"
   ]
  },
  {
   "cell_type": "code",
   "execution_count": null,
   "metadata": {},
   "outputs": [],
   "source": []
  }
 ],
 "metadata": {
  "kernelspec": {
   "display_name": "Python 3 (ipykernel)",
   "language": "python",
   "name": "python3"
  },
  "language_info": {
   "codemirror_mode": {
    "name": "ipython",
    "version": 3
   },
   "file_extension": ".py",
   "mimetype": "text/x-python",
   "name": "python",
   "nbconvert_exporter": "python",
   "pygments_lexer": "ipython3",
   "version": "3.11.7"
  }
 },
 "nbformat": 4,
 "nbformat_minor": 4
}
