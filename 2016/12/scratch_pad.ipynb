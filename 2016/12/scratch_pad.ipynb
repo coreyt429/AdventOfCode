{
 "cells": [
  {
   "cell_type": "code",
   "execution_count": 10,
   "metadata": {},
   "outputs": [],
   "source": [
    "import os\n",
    "import sys\n",
    "import re\n",
    "sys.path.append(os.path.realpath('../..'))\n",
    "import aoc\n",
    "my_aoc = aoc.AdventOfCode(2016,12)"
   ]
  },
  {
   "cell_type": "code",
   "execution_count": 86,
   "metadata": {},
   "outputs": [],
   "source": [
    "test_data =\"\"\"cpy 41 a\n",
    "inc a\n",
    "inc a\n",
    "dec a\n",
    "jnz a 2\n",
    "dec a\n",
    "\"\"\""
   ]
  },
  {
   "cell_type": "code",
   "execution_count": 14,
   "metadata": {},
   "outputs": [
    {
     "data": {
      "text/plain": [
       "'cpy 41 a\\ninc a\\ninc a\\ndec a\\njnz a 2\\ndec a\\n'"
      ]
     },
     "execution_count": 14,
     "metadata": {},
     "output_type": "execute_result"
    }
   ],
   "source": [
    "test_data"
   ]
  },
  {
   "cell_type": "code",
   "execution_count": 88,
   "metadata": {},
   "outputs": [],
   "source": [
    "registers = {\n",
    "    'a': 0,\n",
    "    'b': 0,\n",
    "    'c': 0,\n",
    "    'd': 0\n",
    "}\n",
    "\n",
    "instructions = []\n",
    "instructions.append('inc')\n",
    "instructions.append('dec')\n",
    "instructions.append('cpy')\n",
    "instructions.append('jnz')\n",
    "\n",
    "pattern_instruction = re.compile(r'(\\w+) (\\S+) *(\\S+)?')\n",
    "pattern_jump_value = re.compile(r'([+-])?(\\d+)')"
   ]
  },
  {
   "cell_type": "code",
   "execution_count": 124,
   "metadata": {},
   "outputs": [],
   "source": [
    "def decode_program(input_text):\n",
    "    \"\"\"\n",
    "    Function to parse text block the program instructions\n",
    "\n",
    "    parameters:\n",
    "        uinput_text: string name of data\n",
    "\n",
    "    returns:\n",
    "        program: list of dict, program instructions\n",
    "    \"\"\"\n",
    "    program = []\n",
    "    # split text into lines\n",
    "    lines = input_text.split('\\n')\n",
    "\n",
    "    for line in lines:\n",
    "        matches = pattern_instruction.match(line)\n",
    "        if matches:\n",
    "            instruction = matches.group(1)\n",
    "            if instruction in ['inc','dec']:\n",
    "                register = matches.group(2)\n",
    "                program.append({\n",
    "                    'instruction': instruction,\n",
    "                    'register': register\n",
    "                })\n",
    "            elif instruction in ['cpy']:\n",
    "                source = matches.group(2)\n",
    "                if source.isdigit():\n",
    "                    source = int(source)\n",
    "                register = matches.group(3)\n",
    "                program.append({\n",
    "                    'instruction': instruction,\n",
    "                    'source': source,\n",
    "                    'register': register\n",
    "                })\n",
    "            elif instruction in ['jnz']:\n",
    "                val_x = matches.group(2)\n",
    "                if val_x.isdigit():\n",
    "                    val_x = int(val_x)\n",
    "                val_y = matches.group(3)\n",
    "                matches2 = pattern_jump_value.match(val_y)\n",
    "                direction = matches2.group(1) or '+'\n",
    "                val_y = int(matches2.group(2))\n",
    "                if direction == '-':\n",
    "                    val_y*=-1\n",
    "                program.append({\n",
    "                    'instruction': instruction,\n",
    "                    'x': val_x,\n",
    "                    'y': val_y\n",
    "                })\n",
    "\n",
    "    return program"
   ]
  },
  {
   "cell_type": "code",
   "execution_count": 140,
   "metadata": {},
   "outputs": [],
   "source": [
    "def run_program(program):\n",
    "    \"\"\"\n",
    "    Executes the program instructions in PROGRAM\n",
    "    \"\"\"\n",
    "    pointer = 0\n",
    "    sentinel = 0\n",
    "    threshold = 100000\n",
    "    while 0 <= pointer < len(program):\n",
    "        sentinel+=1\n",
    "        # don't forget to take this out before a full run, \n",
    "        # I submitted the wrong answer and spent 30 minutes tracing output\n",
    "        # to debug, then noticed that the end of my output file had \"runaway?\"\n",
    "        if sentinel > threshold:\n",
    "            print(\"runaway?\")\n",
    "            break\n",
    "        current_line = program[pointer]\n",
    "        if current_line['instruction'] == 'inc':\n",
    "            registers[current_line['register']]+=1\n",
    "            pointer+=1\n",
    "        elif current_line['instruction'] == 'dec':\n",
    "            registers[current_line['register']]-=1\n",
    "            pointer+=1\n",
    "        elif current_line['instruction'] == 'cpy':\n",
    "            if isinstance(current_line['source'],int):\n",
    "                registers[current_line['register']] = current_line['source']\n",
    "            elif current_line['source'] in registers:\n",
    "                registers[current_line['register']] = registers[current_line['source']]\n",
    "            pointer+=1\n",
    "        elif current_line['instruction'] == 'jnz':\n",
    "            x_value = current_line['x']\n",
    "            if not isinstance(current_line['x'],int):\n",
    "                x_value = registers[current_line['x']]\n",
    "            if x_value != 0:\n",
    "                pointer+=current_line['y']\n",
    "            else:\n",
    "                pointer+=1\n",
    "        \n",
    "        print(f\"After: ({current_line}): pointer: {pointer}, registers: {registers}\")"
   ]
  },
  {
   "cell_type": "code",
   "execution_count": 142,
   "metadata": {},
   "outputs": [
    {
     "name": "stdout",
     "output_type": "stream",
     "text": [
      "{'a': 42, 'b': 0, 'c': 0, 'd': 0}\n",
      "After: ({'instruction': 'cpy', 'source': 41, 'register': 'a'}): pointer: 1, registers: {'a': 41, 'b': 0, 'c': 0, 'd': 0}\n",
      "After: ({'instruction': 'inc', 'register': 'a'}): pointer: 2, registers: {'a': 42, 'b': 0, 'c': 0, 'd': 0}\n",
      "After: ({'instruction': 'inc', 'register': 'a'}): pointer: 3, registers: {'a': 43, 'b': 0, 'c': 0, 'd': 0}\n",
      "After: ({'instruction': 'dec', 'register': 'a'}): pointer: 4, registers: {'a': 42, 'b': 0, 'c': 0, 'd': 0}\n",
      "After: ({'instruction': 'jnz', 'x': 'a', 'y': 2}): pointer: 6, registers: {'a': 42, 'b': 0, 'c': 0, 'd': 0}\n",
      "{'a': 42, 'b': 0, 'c': 0, 'd': 0}\n"
     ]
    }
   ],
   "source": [
    "my_program = decode_program(test_data)\n",
    "print(registers)\n",
    "run_program(my_program)\n",
    "print(registers)"
   ]
  },
  {
   "cell_type": "code",
   "execution_count": null,
   "metadata": {},
   "outputs": [],
   "source": []
  }
 ],
 "metadata": {
  "kernelspec": {
   "display_name": "Python 3 (ipykernel)",
   "language": "python",
   "name": "python3"
  },
  "language_info": {
   "codemirror_mode": {
    "name": "ipython",
    "version": 3
   },
   "file_extension": ".py",
   "mimetype": "text/x-python",
   "name": "python",
   "nbconvert_exporter": "python",
   "pygments_lexer": "ipython3",
   "version": "3.11.7"
  }
 },
 "nbformat": 4,
 "nbformat_minor": 4
}
