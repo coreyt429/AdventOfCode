{
 "cells": [
  {
   "cell_type": "code",
   "execution_count": 1,
   "id": "2b405b29-d6c9-434e-ac17-bc2e1e6db3f2",
   "metadata": {},
   "outputs": [],
   "source": [
    "import re\n",
    "number_pattern = re.compile(r'\\d+')"
   ]
  },
  {
   "cell_type": "code",
   "execution_count": 3,
   "id": "c7f5a776-ca19-47bc-a17d-93d56c8b6906",
   "metadata": {},
   "outputs": [],
   "source": [
    "line = '10 2 4'"
   ]
  },
  {
   "cell_type": "code",
   "execution_count": 11,
   "id": "18e1254b-8ab0-413c-b1ad-02ea6a60f1fc",
   "metadata": {},
   "outputs": [],
   "source": [
    "numbers = sorted([int(num) for num in number_pattern.findall(line)])"
   ]
  },
  {
   "cell_type": "code",
   "execution_count": 13,
   "id": "0acdf3a6-7f7d-4f01-83e1-f4447acbf0b3",
   "metadata": {},
   "outputs": [
    {
     "data": {
      "text/plain": [
       "[2, 4, 10]"
      ]
     },
     "execution_count": 13,
     "metadata": {},
     "output_type": "execute_result"
    }
   ],
   "source": [
    "numbers"
   ]
  },
  {
   "cell_type": "code",
   "execution_count": null,
   "id": "a1407456-9753-4c20-b506-00b5779f0ecc",
   "metadata": {},
   "outputs": [],
   "source": []
  }
 ],
 "metadata": {
  "kernelspec": {
   "display_name": "Python 3 (ipykernel)",
   "language": "python",
   "name": "python3"
  },
  "language_info": {
   "codemirror_mode": {
    "name": "ipython",
    "version": 3
   },
   "file_extension": ".py",
   "mimetype": "text/x-python",
   "name": "python",
   "nbconvert_exporter": "python",
   "pygments_lexer": "ipython3",
   "version": "3.11.7"
  }
 },
 "nbformat": 4,
 "nbformat_minor": 5
}
