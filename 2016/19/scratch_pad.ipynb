{
 "cells": [
  {
   "cell_type": "code",
   "execution_count": 2,
   "metadata": {},
   "outputs": [],
   "source": [
    "import os\n",
    "import sys\n",
    "sys.path.append(os.path.realpath('../..'))\n",
    "import aoc\n",
    "my_aoc = aoc.AdventOfCode(2016,19)"
   ]
  },
  {
   "cell_type": "code",
   "execution_count": 3,
   "metadata": {},
   "outputs": [],
   "source": [
    "elves = {}"
   ]
  },
  {
   "cell_type": "code",
   "execution_count": 32,
   "metadata": {},
   "outputs": [],
   "source": [
    "for idx in range(1,6):\n",
    "    elves[idx]=1"
   ]
  },
  {
   "cell_type": "code",
   "execution_count": 9,
   "metadata": {},
   "outputs": [
    {
     "name": "stdout",
     "output_type": "stream",
     "text": [
      "{1834471: 3014387}\n"
     ]
    }
   ],
   "source": [
    "input=3014387\n",
    "elves = {}\n",
    "for idx in range(1,input+1):\n",
    "    elves[idx]=1\n",
    "    \n",
    "while len(elves) > 1:\n",
    "    remaining = sorted(elves.keys())\n",
    "    for idx, elf in enumerate(remaining):\n",
    "        if idx < len(remaining)-1:\n",
    "            elf2 = remaining[idx+1]\n",
    "        else:\n",
    "            elf2 = remaining[0]\n",
    "        if elf in elves:\n",
    "            #print(f\"Elf {elf} has {elves[elf]} presents, Elf {elf2} has {elves[elf2]} presents\")\n",
    "            elves[elf] += elves[elf2]\n",
    "            elves.pop(elf2)\n",
    "            #print(f\"Elf {elf} has {elves[elf]} presents\")\n",
    "print(elves)\n",
    "# 1834469 answer too low\n",
    "# part 1: 1834471"
   ]
  },
  {
   "cell_type": "markdown",
   "metadata": {},
   "source": [
    "elves"
   ]
  },
  {
   "cell_type": "code",
   "execution_count": 30,
   "metadata": {},
   "outputs": [
    {
     "name": "stdout",
     "output_type": "stream",
     "text": [
      "{1834469: 3014386}\n"
     ]
    }
   ],
   "source": [
    "print(elves)"
   ]
  },
  {
   "cell_type": "code",
   "execution_count": 1,
   "metadata": {},
   "outputs": [
    {
     "name": "stdout",
     "output_type": "stream",
     "text": [
      "1 4\n",
      "2 3\n",
      "4 2\n",
      "2 1\n",
      "[2]\n"
     ]
    }
   ],
   "source": [
    "input=3014387\n",
    "#input=5\n",
    "elves = {}\n",
    "for idx in range(1,input+1):\n",
    "    elves[idx]=1\n",
    "queue = sorted(elves.keys())\n",
    "while len(queue) > 1:\n",
    "    # pop elf2 first so we don't change the length of queue before calculating elf2\n",
    "    elf2 =queue.pop(int(len(queue)/2))\n",
    "    # elf one is always 0\n",
    "    elf1 = queue.pop(0)\n",
    "    # put elf1 on the end\n",
    "    queue.append(elf1)\n",
    "    print(elf1, len(queue))\n",
    "print(queue)"
   ]
  },
  {
   "cell_type": "code",
   "execution_count": 13,
   "metadata": {},
   "outputs": [
    {
     "data": {
      "text/plain": [
       "2"
      ]
     },
     "execution_count": 13,
     "metadata": {},
     "output_type": "execute_result"
    }
   ],
   "source": [
    "int(5/2)"
   ]
  },
  {
   "cell_type": "code",
   "execution_count": 13,
   "metadata": {},
   "outputs": [
    {
     "name": "stdout",
     "output_type": "stream",
     "text": [
      "[1, 2, 3, 4, 5]\n",
      "[2, 3, 5, 1]\n"
     ]
    }
   ],
   "source": [
    "\n",
    "queue = []\n",
    "for idx in range(1,6):\n",
    "    queue.append(idx)\n",
    "print(queue)\n",
    "elf = queue.pop(0)\n",
    "elf2 =queue.pop(int(len(queue)/2))\n",
    "queue.append(elf)\n",
    "print(queue)"
   ]
  },
  {
   "cell_type": "code",
   "execution_count": null,
   "metadata": {},
   "outputs": [],
   "source": [
    "import collections\n",
    "\n",
    "input_value = 3014387\n",
    "#input_value = 5\n",
    "\n",
    "# Initialize deque with elf indices\n",
    "queue = collections.deque(range(1, input_value + 1))\n",
    "\n",
    "while len(queue) > 1:\n",
    "    #print(queue)\n",
    "    # Pop elf2 at the middle index\n",
    "    mid_index = len(queue) // 2\n",
    "    queue.rotate(-mid_index)\n",
    "    elf2 = queue.popleft()\n",
    "    queue.rotate(mid_index)\n",
    "    \n",
    "    # Pop elf1 at the start\n",
    "    elf1 = queue.popleft()\n",
    "    #print(elf1,elf2)\n",
    "    \n",
    "    # Put elf1 back at the end\n",
    "    queue.append(elf1)\n",
    "    \n",
    "    #print(elf1, len(queue))\n",
    "\n",
    "print(queue)\n"
   ]
  },
  {
   "cell_type": "code",
   "execution_count": 5,
   "metadata": {},
   "outputs": [
    {
     "name": "stdout",
     "output_type": "stream",
     "text": [
      "deque([1, 2]) deque([5, 4, 3])\n",
      "deque([2, 4]) deque([1, 5])\n",
      "deque([4, 1]) deque([2])\n",
      "deque([2]) deque([4])\n"
     ]
    },
    {
     "data": {
      "text/plain": [
       "2"
      ]
     },
     "execution_count": 5,
     "metadata": {},
     "output_type": "execute_result"
    }
   ],
   "source": [
    "#!/bin/python3\n",
    "import collections\n",
    "def solve_parttwo(ELF_COUNT):\n",
    "    left = collections.deque()\n",
    "    right = collections.deque()\n",
    "    for i in range(1, ELF_COUNT+1):\n",
    "        if i < (ELF_COUNT // 2) + 1:\n",
    "            left.append(i)\n",
    "        else:\n",
    "            right.appendleft(i)\n",
    "\n",
    "    while left and right:\n",
    "        print(left,right)\n",
    "        if len(left) > len(right):\n",
    "            left.pop()\n",
    "        else:\n",
    "            right.pop()\n",
    "\n",
    "        # rotate\n",
    "        right.appendleft(left.popleft())\n",
    "        left.append(right.pop())\n",
    "    return left[0] or right[0]\n",
    "\n",
    "solve_parttwo(5)"
   ]
  },
  {
   "cell_type": "code",
   "execution_count": 31,
   "metadata": {},
   "outputs": [
    {
     "data": {
      "text/plain": [
       "1420064"
      ]
     },
     "execution_count": 31,
     "metadata": {},
     "output_type": "execute_result"
    }
   ],
   "source": [
    "# part two solution:  thanks to u/aceshades for the idea to split the queue\n",
    "# the split queue lets us \"rotate\" the queue by using pop and popleft instead\n",
    "# of rotate\n",
    "\n",
    "def solve_part2(input_value):\n",
    "    # populate left with the first half of the elves\n",
    "    left = collections.deque(range(1,input_value // 2 + 1))\n",
    "    # populate right with the second half reversed\n",
    "    right = collections.deque(range(input_value, input_value // 2, -1))\n",
    "    # loop until one side is empty\n",
    "    while left and right:\n",
    "        # pop from the longer half\n",
    "        if len(left) > len(right):\n",
    "            left.pop()\n",
    "        else:\n",
    "            right.pop()\n",
    "\n",
    "        # rotate, moving from the front of the logical queue (front of left)\n",
    "        # to the end of the logical queue (beginning of right)\n",
    "        right.appendleft(left.popleft())\n",
    "        # moving from middle right  of logical queue (end of right) to \n",
    "        # middle left of logical queue (beginning of left) \n",
    "        left.append(right.pop())\n",
    "    # return whichever remains\n",
    "    return left[0] or right[0]\n",
    "                                \n",
    "input_value = 3014387\n",
    "#input_value = 5\n",
    "solve_part2(input_value)"
   ]
  },
  {
   "cell_type": "code",
   "execution_count": null,
   "metadata": {},
   "outputs": [],
   "source": []
  }
 ],
 "metadata": {
  "kernelspec": {
   "display_name": "Python 3 (ipykernel)",
   "language": "python",
   "name": "python3"
  },
  "language_info": {
   "codemirror_mode": {
    "name": "ipython",
    "version": 3
   },
   "file_extension": ".py",
   "mimetype": "text/x-python",
   "name": "python",
   "nbconvert_exporter": "python",
   "pygments_lexer": "ipython3",
   "version": "3.11.7"
  }
 },
 "nbformat": 4,
 "nbformat_minor": 4
}
