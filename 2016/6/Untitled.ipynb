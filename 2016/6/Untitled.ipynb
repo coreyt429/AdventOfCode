{
 "cells": [
  {
   "cell_type": "code",
   "execution_count": 3,
   "id": "b6d05592-0b7d-437e-aadf-2c962b1d41e2",
   "metadata": {},
   "outputs": [],
   "source": [
    "data=\"\"\"eedadn\n",
    "drvtee\n",
    "eandsr\n",
    "raavrd\n",
    "atevrs\n",
    "tsrnev\n",
    "sdttsa\n",
    "rasrtv\n",
    "nssdts\n",
    "ntnada\n",
    "svetve\n",
    "tesnvt\n",
    "vntsnd\n",
    "vrdear\n",
    "dvrsen\n",
    "enarar\"\"\""
   ]
  },
  {
   "cell_type": "code",
   "execution_count": 7,
   "id": "da1e17b8-5e7b-4395-82b0-af28859c40e2",
   "metadata": {},
   "outputs": [],
   "source": [
    "lines = data.split('\\n')"
   ]
  },
  {
   "cell_type": "code",
   "execution_count": 9,
   "id": "fe3d9976-d3c0-4235-bedd-b314acb62189",
   "metadata": {},
   "outputs": [
    {
     "data": {
      "text/plain": [
       "['eedadn',\n",
       " 'drvtee',\n",
       " 'eandsr',\n",
       " 'raavrd',\n",
       " 'atevrs',\n",
       " 'tsrnev',\n",
       " 'sdttsa',\n",
       " 'rasrtv',\n",
       " 'nssdts',\n",
       " 'ntnada',\n",
       " 'svetve',\n",
       " 'tesnvt',\n",
       " 'vntsnd',\n",
       " 'vrdear',\n",
       " 'dvrsen',\n",
       " 'enarar']"
      ]
     },
     "execution_count": 9,
     "metadata": {},
     "output_type": "execute_result"
    }
   ],
   "source": [
    "lines"
   ]
  },
  {
   "cell_type": "code",
   "execution_count": 21,
   "id": "fbdd7d5e-2fcf-4878-bc0c-071d1fcf2d62",
   "metadata": {},
   "outputs": [
    {
     "name": "stdout",
     "output_type": "stream",
     "text": [
      "easter\n"
     ]
    }
   ],
   "source": [
    "from heapq import heappush, heappop\n",
    "message = ''\n",
    "for pos in range(len(lines[0])):\n",
    "    tmp_str = ''\n",
    "    for line in lines:\n",
    "        tmp_str += line[pos]\n",
    "    letters = set(tmp_str)\n",
    "    heap = []\n",
    "    for letter in letters:\n",
    "        heappush(heap,(-1*tmp_str.count(letter),letter))\n",
    "    count,letter = heappop(heap)\n",
    "    message += letter\n",
    "\n",
    "print(message)\n",
    "        "
   ]
  },
  {
   "cell_type": "code",
   "execution_count": null,
   "id": "5cf199ff-f9c6-479e-a01d-d07999ad2927",
   "metadata": {},
   "outputs": [],
   "source": []
  }
 ],
 "metadata": {
  "kernelspec": {
   "display_name": "Python 3 (ipykernel)",
   "language": "python",
   "name": "python3"
  },
  "language_info": {
   "codemirror_mode": {
    "name": "ipython",
    "version": 3
   },
   "file_extension": ".py",
   "mimetype": "text/x-python",
   "name": "python",
   "nbconvert_exporter": "python",
   "pygments_lexer": "ipython3",
   "version": "3.11.7"
  }
 },
 "nbformat": 4,
 "nbformat_minor": 5
}
