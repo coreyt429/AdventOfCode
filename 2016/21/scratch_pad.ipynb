{
 "cells": [
  {
   "cell_type": "code",
   "execution_count": 1,
   "metadata": {},
   "outputs": [],
   "source": [
    "import os\n",
    "import sys\n",
    "sys.path.append(os.path.realpath('../..'))\n",
    "import aoc\n",
    "my_aoc = aoc.AdventOfCode(2016,21)"
   ]
  },
  {
   "cell_type": "markdown",
   "metadata": {},
   "source": [
    "- swap position X with position Y means that the letters at indexes X and Y (counting from 0) should be swapped.\n",
    "- swap letter X with letter Y means that the letters X and Y should be swapped (regardless of where they appear in the string).\n",
    "- rotate left/right X steps means that the whole string should be rotated; for example, one right rotation would turn abcd into dabc.\n",
    "- rotate based on position of letter X means that the whole string should be rotated to the right based on the index of letter X (counting from 0) as - determined before this instruction does any rotations. Once the index is determined, rotate the string to the right one time, plus a number of times equal to that index, plus one additional time if the index was at least 4.\n",
    "- reverse positions X through Y means that the span of letters at indexes X through Y (including the letters at X and Y) should be reversed in order.\n",
    "move position X to position Y means that the letter which is at index X should be removed from the string, then inserted such that it ends up at index Y."
   ]
  },
  {
   "cell_type": "code",
   "execution_count": 99,
   "metadata": {},
   "outputs": [],
   "source": [
    "import re\n",
    "import collections\n",
    "\n",
    "patterns = {\n",
    "    'swap_position': re.compile(r'swap position (\\d+) with position (\\d+)'),\n",
    "    'swap_letter': re.compile(r'swap letter (\\w+) with letter (\\w+)'),\n",
    "    'rotate_steps': re.compile(r'rotate (\\w+) ([\\d]+) steps*'),\n",
    "    'rotate_letter': re.compile(r'rotate based on position of letter (\\w)'),\n",
    "    'move': re.compile(r'move position (\\d+) to position (\\d)'),\n",
    "    'reverse': re.compile(r'reverse positions (\\d+) through (\\d+)')\n",
    "}\n"
   ]
  },
  {
   "cell_type": "code",
   "execution_count": 9,
   "metadata": {},
   "outputs": [],
   "source": [
    "input_lines = [\n",
    "    'swap position 4 with position 0',\n",
    "    'swap letter d with letter b',\n",
    "    'reverse positions 0 through 4',\n",
    "    'rotate left 1 step',\n",
    "    'move position 1 to position 4',\n",
    "    'move position 3 to position 0',\n",
    "    'rotate based on position of letter b',\n",
    "    'rotate based on position of letter d'\n",
    "]"
   ]
  },
  {
   "cell_type": "code",
   "execution_count": 139,
   "metadata": {},
   "outputs": [],
   "source": [
    "def swap_position(chars, positions):\n",
    "    i, j = [int(position) for position in positions]\n",
    "    chars = list(chars)\n",
    "    chars[i], chars[j] = chars[j], chars[i]\n",
    "    return ''.join(chars)\n",
    "    \n",
    "def swap_letter(chars, letters):\n",
    "    return swap_position(chars,(chars.find(letters[0]),chars.find(letters[1])))\n",
    "    \n",
    "def rotate_steps(chars, steps):\n",
    "    l_r, count = steps\n",
    "    if l_r == 'right':\n",
    "        count = int(count)\n",
    "    else:\n",
    "        count = int(count) * -1\n",
    "    chars = collections.deque(chars)\n",
    "    chars.rotate(count)\n",
    "    return ''.join(chars)\n",
    "    \n",
    "def rotate_letter(chars, letters):\n",
    "    \"\"\"\n",
    "    rotate based on position of letter X means that the whole string should be rotated\n",
    "    to the right based on the index of letter X (counting from 0) as - determined before\n",
    "    this instruction does any rotations. Once the index is determined, rotate the string\n",
    "    to the right one time, plus a number of times equal to that index, plus one additional\n",
    "    time if the index was at least 4.\n",
    "    \"\"\"\n",
    "    letter = letters[0]\n",
    "    pos = chars.find(letter)\n",
    "    steps = pos + 1\n",
    "    if pos >= 4:\n",
    "        steps += 1\n",
    "    print(f\"rotate_letter({chars}, {letter}) - {pos} - {steps}\")\n",
    "    return rotate_steps(chars, ('right', steps))\n",
    "    \n",
    "def move(chars, positions):\n",
    "    print(f\"move({chars}, {positions})\")\n",
    "    from_idx, to_idx = [int(position) for position in positions]\n",
    "    chars = list(chars)\n",
    "    chars.insert(to_idx, chars.pop(from_idx))\n",
    "    return ''.join(chars)\n",
    "    \n",
    "def reverse_substring(chars, positions):\n",
    "    i, j = [int(position) for position in positions]\n",
    "    return chars[:i] + chars[i:j+1][::-1] + chars[j+1:]\n",
    "    \n",
    "handlers = {\n",
    "    'swap_position': swap_position,\n",
    "    'swap_letter': swap_letter,\n",
    "    'rotate_steps': rotate_steps,\n",
    "    'rotate_letter': rotate_letter,\n",
    "    'move': move,\n",
    "    'reverse': reverse_substring\n",
    "}\n",
    "\n",
    "def scramble(input_string,instruction):\n",
    "    print(input_string, instruction)\n",
    "    for key, pattern in patterns.items():\n",
    "        match = pattern.match(instruction)\n",
    "        if match:\n",
    "            new_string = handlers[key](input_string, match.groups())\n",
    "            break\n",
    "    return new_string\n",
    "    "
   ]
  },
  {
   "cell_type": "code",
   "execution_count": 141,
   "metadata": {},
   "outputs": [
    {
     "name": "stdout",
     "output_type": "stream",
     "text": [
      "abcde swap position 4 with position 0\n",
      "Got: ebcda\n",
      "ebcda swap letter d with letter b\n",
      "Got: edcba\n",
      "edcba reverse positions 0 through 4\n",
      "Got: abcde\n",
      "abcde rotate left 1 step\n",
      "Got: bcdea\n",
      "bcdea move position 1 to position 4\n",
      "move(bcdea, ('1', '4'))\n",
      "Got: bdeac\n",
      "bdeac move position 3 to position 0\n",
      "move(bdeac, ('3', '0'))\n",
      "Got: abdec\n",
      "abdec rotate based on position of letter b\n",
      "rotate_letter(abdec, b) - 1 - 2\n",
      "Got: ecabd\n",
      "ecabd rotate based on position of letter d\n",
      "rotate_letter(ecabd, d) - 4 - 6\n",
      "Got: decab\n"
     ]
    }
   ],
   "source": [
    "my_string = 'abcde'\n",
    "for line in input_lines:\n",
    "    my_string = scramble(my_string, line)\n",
    "    print(f\"Got: {my_string}\")\n"
   ]
  },
  {
   "cell_type": "code",
   "execution_count": 143,
   "metadata": {},
   "outputs": [
    {
     "data": {
      "text/plain": [
       "['e', 'b', 'd', 'c', 'a']"
      ]
     },
     "execution_count": 143,
     "metadata": {},
     "output_type": "execute_result"
    }
   ],
   "source": [
    "my_str = 'abcde'\n",
    "from_idx=1\n",
    "to_idx=3\n",
    "chars = list(my_str)\n",
    "chars.insert(to_idx, chars.pop(from_idx))\n",
    "chars\n",
    "chars[::-1]"
   ]
  },
  {
   "cell_type": "code",
   "execution_count": null,
   "metadata": {},
   "outputs": [],
   "source": []
  }
 ],
 "metadata": {
  "kernelspec": {
   "display_name": "Python 3 (ipykernel)",
   "language": "python",
   "name": "python3"
  },
  "language_info": {
   "codemirror_mode": {
    "name": "ipython",
    "version": 3
   },
   "file_extension": ".py",
   "mimetype": "text/x-python",
   "name": "python",
   "nbconvert_exporter": "python",
   "pygments_lexer": "ipython3",
   "version": "3.11.7"
  }
 },
 "nbformat": 4,
 "nbformat_minor": 4
}
