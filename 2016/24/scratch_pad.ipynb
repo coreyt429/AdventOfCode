{
 "cells": [
  {
   "cell_type": "code",
   "execution_count": 1,
   "metadata": {},
   "outputs": [],
   "source": [
    "import os\n",
    "import sys\n",
    "sys.path.append(os.path.realpath('../..'))\n",
    "import aoc\n",
    "my_aoc = aoc.AdventOfCode(2016,24)"
   ]
  },
  {
   "cell_type": "code",
   "execution_count": 5,
   "metadata": {},
   "outputs": [],
   "source": [
    "X=0\n",
    "Y=1\n",
    "\n",
    "def neighbors(duct_map, pos):\n",
    "    x, y = pos\n",
    "    offsets = {\n",
    "        'u': ( 0, -1),\n",
    "        'd': ( 0,  1),\n",
    "        'l': (-1,  0),\n",
    "        'r': ( 1,  0)\n",
    "    }\n",
    "    found_neighbors = set()\n",
    "    for direction, offset in offsets.items():\n",
    "        x2 = x + offset[X]\n",
    "        y2 = y + offset[Y]\n",
    "        if duct_map[x2][y2] != '#':\n",
    "            found_neighbors.add((x2, y2))\n",
    "    return found_neighbors\n",
    "        \n",
    "def shortest_path(duct_map, pos, targets):\n",
    "    \"\"\"\n",
    "    Function to find shortest path that hits all numbers\n",
    "    \"\"\"\n",
    "    # Init variables\n",
    "    targets = set(targets)\n",
    "    min_steps = float('infinity')\n",
    "    min_path = ''\n",
    "    heap = []\n",
    "    # heap structure (steps, position, visited, path)\n",
    "    heappush(heap, (0, pos, tuple(['0']), ''))\n",
    "    # process heap\n",
    "    while heap:\n",
    "        # get next step\n",
    "        steps, pos, visited, path = heappop(heap)\n",
    "        # if too many steps, end this path\n",
    "        if steps > min_steps:\n",
    "            continue\n",
    "        # convet visited to set\n",
    "        visited = set(visited)\n",
    "        #print(steps, pos, visited, path)\n",
    "        # if we have reached a digit\n",
    "        if duct_map[pos[X]][pos[Y]].isdigit():\n",
    "            #print(f\"found {duct_map[pos[X]][pos[Y]]}\")\n",
    "            #print(f\"Before: {visited}, {path}\")\n",
    "            # add to visited\n",
    "            visited.add(duct_map[pos[X]][pos[Y]])\n",
    "            # add to path\n",
    "            path += duct_map[pos[X]][pos[Y]]\n",
    "            #print(f\"After: {visited}, {path}\")\n",
    "        # have we visited all numbers?\n",
    "        if sorted(visited) == sorted(targets):\n",
    "            #print(f\"{steps}: visited == targets: {visited} == {targets} - {path}\")\n",
    "            # is this the shortest path to all numbers so far?\n",
    "            if steps < min_steps:\n",
    "                # update min_steps and path\n",
    "                min_steps = steps\n",
    "                min_path = path\n",
    "            continue\n",
    "        # step to neighbors\n",
    "        for neighbor in neighbors(duct_map, pos):\n",
    "            heappush(heap, (steps + 1, neighbor, tuple(visited), path))\n",
    "    # return min_steps and path\n",
    "    return min_steps, min_path\n"
   ]
  },
  {
   "cell_type": "code",
   "execution_count": 7,
   "metadata": {},
   "outputs": [
    {
     "data": {
      "text/plain": [
       "(14, '040123')"
      ]
     },
     "execution_count": 7,
     "metadata": {},
     "output_type": "execute_result"
    }
   ],
   "source": [
    "import re\n",
    "from heapq import heappush, heappop\n",
    "\n",
    "input_text = \"\"\"###########\n",
    "#0.1.....2#\n",
    "#.#######.#\n",
    "#4.......3#\n",
    "###########\"\"\"\n",
    "input_lines = input_text.split('\\n')\n",
    "\n",
    "numbers = re.findall(r'\\d', '\\n'.join(input_lines))\n",
    "\n",
    "for idx, line in enumerate(input_lines):\n",
    "    zero = line.find('0')\n",
    "    if zero >= 0 :\n",
    "        start_pos = (idx, zero)\n",
    "shortest_path(input_lines, start_pos, numbers)"
   ]
  },
  {
   "cell_type": "code",
   "execution_count": 9,
   "metadata": {},
   "outputs": [
    {
     "name": "stdout",
     "output_type": "stream",
     "text": [
      "(1, 1) ['0', '1', '2', '4', '3']\n"
     ]
    },
    {
     "data": {
      "text/plain": [
       "{(1, 2), (2, 1)}"
      ]
     },
     "execution_count": 9,
     "metadata": {},
     "output_type": "execute_result"
    }
   ],
   "source": [
    "\n",
    "print(start_pos, numbers)\n",
    "neighbors(input_lines, start_pos)"
   ]
  },
  {
   "cell_type": "code",
   "execution_count": 11,
   "metadata": {},
   "outputs": [
    {
     "data": {
      "text/plain": [
       "[2, 3]"
      ]
     },
     "execution_count": 11,
     "metadata": {},
     "output_type": "execute_result"
    }
   ],
   "source": [
    "list = [1,2,3]\n",
    "list[1:]\n"
   ]
  },
  {
   "cell_type": "code",
   "execution_count": 13,
   "metadata": {},
   "outputs": [
    {
     "data": {
      "text/plain": [
       "3"
      ]
     },
     "execution_count": 13,
     "metadata": {},
     "output_type": "execute_result"
    }
   ],
   "source": [
    "list[-1]\n"
   ]
  },
  {
   "cell_type": "code",
   "execution_count": null,
   "metadata": {},
   "outputs": [],
   "source": []
  }
 ],
 "metadata": {
  "kernelspec": {
   "display_name": "Python 3 (ipykernel)",
   "language": "python",
   "name": "python3"
  },
  "language_info": {
   "codemirror_mode": {
    "name": "ipython",
    "version": 3
   },
   "file_extension": ".py",
   "mimetype": "text/x-python",
   "name": "python",
   "nbconvert_exporter": "python",
   "pygments_lexer": "ipython3",
   "version": "3.11.7"
  }
 },
 "nbformat": 4,
 "nbformat_minor": 4
}
