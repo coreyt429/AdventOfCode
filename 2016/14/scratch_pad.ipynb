{
 "cells": [
  {
   "cell_type": "code",
   "execution_count": 1,
   "metadata": {},
   "outputs": [],
   "source": [
    "import os\n",
    "import sys\n",
    "sys.path.append(os.path.realpath('../..'))\n",
    "import aoc\n",
    "my_aoc = aoc.AdventOfCode(2016,14)"
   ]
  },
  {
   "cell_type": "code",
   "execution_count": 2,
   "metadata": {},
   "outputs": [],
   "source": [
    "import hashlib\n",
    "import re\n",
    "\n",
    "# patterns for matching 3 and 5 chars in a row\n",
    "pattern_chars ={\n",
    "    3: re.compile(r'(.)\\1\\1'),\n",
    "    5: re.compile(r'(.)\\1\\1\\1\\1')\n",
    "}\n",
    "check_sums = {\n",
    "}\n",
    "def checksum(number,seed):\n",
    "    check_string = f\"{seed}{number}\"\n",
    "    if check_string in check_sums:\n",
    "        return check_sums[check_string]\n",
    "    # Get the hexadecimal representation of the digest\n",
    "    return hashlib.md5(check_string.encode('utf-8')).hexdigest()\n",
    "\n",
    "def expanded_checksum(number,seed):\n",
    "    tmp_checksum = checksum(number,seed)\n",
    "    for _ in range(2016):\n",
    "        if tmp_checksum in check_sums:\n",
    "            tmp_checksum = check_sums[tmp_checksum]\n",
    "        else:\n",
    "            tmp_checksum = hashlib.md5(tmp_checksum.encode('utf-8')).hexdigest()\n",
    "    return tmp_checksum\n",
    "\n",
    "\n",
    "def find_chars(input_string, count):\n",
    "    # Define the regex pattern for exactly count consecutive identical characters\n",
    "    if count not in pattern_chars:\n",
    "        return None\n",
    "    pattern = pattern_chars[count]\n",
    "    matched_chars =[]\n",
    "    for match in pattern.finditer(input_string):\n",
    "        isolated = True\n",
    "        #Test character before (this shouldn't really happen, but checking anyway)\n",
    "        span = match.span()\n",
    "        # short circuit 5's\n",
    "        if count == 3:\n",
    "            if span[0] > 0:\n",
    "                if input_string[span[0]-1] == match.group(1):\n",
    "                    isolated = False\n",
    "            # check character after\n",
    "            if span[1] < len(input_string):\n",
    "                if input_string[span[0]+count] == match.group(1):\n",
    "                    isolated = False\n",
    "            #if isolated:\n",
    "            matched_chars.append(match.group(1))\n",
    "            break\n",
    "        else:\n",
    "            matched_chars.append(match.group(1))\n",
    "    return matched_chars\n"
   ]
  },
  {
   "cell_type": "code",
   "execution_count": 7,
   "metadata": {
    "scrolled": true
   },
   "outputs": [
    {
     "name": "stdout",
     "output_type": "stream",
     "text": [
      "Part 1:  18626, took 0.2671530246734619 seconds\n",
      "Part 2:  20092, took 190.40072655677795 seconds\n"
     ]
    }
   ],
   "source": [
    "from collections import deque\n",
    "def find_key(seed,protocol):\n",
    "    # my_keys: list of tuple(idx,char,checksum)\n",
    "    my_keys = set()\n",
    "    \n",
    "    # potentials: set of tuple(idx,char,checksum)\n",
    "    potentials = deque(maxlen=1001)\n",
    "    \n",
    "    #initialize idx\n",
    "    idx = 0\n",
    "    # okay, just a bit frustrated here, I was stopping at 64, and you need to go a bit beyond then sort the results\n",
    "    while len(my_keys) < 72:\n",
    "        # get md5sum\n",
    "        if protocol == 1:\n",
    "            my_checksum = checksum(idx,seed)\n",
    "        else:\n",
    "            my_checksum = expanded_checksum(idx,seed)\n",
    "        # get all matching 5 char set\n",
    "        my_chars = find_chars(my_checksum,5)\n",
    "        # did we match?\n",
    "        if my_chars:\n",
    "            # walk potentials to see if there is a match\n",
    "            for potential in potentials:\n",
    "                # is it stale?\n",
    "                if potential[0] < idx <= potential[0]+ 1001 and potential[1] in my_chars:\n",
    "                    # yes, add it to my_keys\n",
    "                    #my_keys.add((potential,(idx,tuple(my_chars),my_checksum)))\n",
    "                    my_keys.add(potential)\n",
    "        # get first matching 3 char set\n",
    "        my_chars = find_chars(my_checksum,3)\n",
    "        # did we match?\n",
    "        if my_chars:\n",
    "            # yes, add it to potentials\n",
    "            potentials.append((idx,my_chars[0],my_checksum))\n",
    "        idx+=1\n",
    "    return sorted(list(my_keys))[63][0]\n",
    "\n",
    "\n",
    "# set seed\n",
    "seed = {\n",
    "    1: 'ngcjuoqr',\n",
    "    2: 'ngcjuoqr'\n",
    "}\n",
    "import time\n",
    "\n",
    "for part in [1, 2]:\n",
    "    start = time.time()\n",
    "    print(f\"Part {part}:  {find_key(seed[part],part)}, took {time.time() - start} seconds\")\n",
    "\n",
    "\n",
    "    "
   ]
  },
  {
   "cell_type": "code",
   "execution_count": 9,
   "metadata": {},
   "outputs": [
    {
     "data": {
      "text/plain": [
       "'577571be4de9dcce85a041ba0410f29f'"
      ]
     },
     "execution_count": 9,
     "metadata": {},
     "output_type": "execute_result"
    }
   ],
   "source": [
    "checksum(0,'abc')"
   ]
  },
  {
   "cell_type": "code",
   "execution_count": 11,
   "metadata": {},
   "outputs": [
    {
     "data": {
      "text/plain": [
       "'a107ff634856bb300138cac6568c0f24'"
      ]
     },
     "execution_count": 11,
     "metadata": {},
     "output_type": "execute_result"
    }
   ],
   "source": [
    "expanded_checksum(0,'abc')"
   ]
  },
  {
   "cell_type": "code",
   "execution_count": null,
   "metadata": {},
   "outputs": [],
   "source": []
  }
 ],
 "metadata": {
  "kernelspec": {
   "display_name": "Python 3 (ipykernel)",
   "language": "python",
   "name": "python3"
  },
  "language_info": {
   "codemirror_mode": {
    "name": "ipython",
    "version": 3
   },
   "file_extension": ".py",
   "mimetype": "text/x-python",
   "name": "python",
   "nbconvert_exporter": "python",
   "pygments_lexer": "ipython3",
   "version": "3.11.7"
  }
 },
 "nbformat": 4,
 "nbformat_minor": 4
}
