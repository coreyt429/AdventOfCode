{
 "cells": [
  {
   "cell_type": "markdown",
   "metadata": {},
   "source": [
    "###Notes\n",
    "\n",
    "Below is a combination of tests for my final solution, and my over designed object oriented solution that worked great for the test data, and miserably slow for the input"
   ]
  },
  {
   "cell_type": "code",
   "execution_count": 1,
   "metadata": {},
   "outputs": [],
   "source": [
    "def is_valid(floor):\n",
    "    generators = set()\n",
    "    micro_chips = set()\n",
    "    for item in floor:\n",
    "        if item[-1] == 'G':\n",
    "            generators.add(item[:-1])\n",
    "        else:\n",
    "            micro_chips.add(item[:-1])\n",
    "    if len(generators) > 0:\n",
    "        for micro_chip in micro_chips:\n",
    "            if not micro_chip in generators:\n",
    "                return False\n",
    "    return True"
   ]
  },
  {
   "cell_type": "code",
   "execution_count": 24,
   "metadata": {},
   "outputs": [
    {
     "data": {
      "text/plain": [
       "True"
      ]
     },
     "execution_count": 24,
     "metadata": {},
     "output_type": "execute_result"
    }
   ],
   "source": [
    "floor = []\n",
    "is_valid(floor)"
   ]
  },
  {
   "cell_type": "code",
   "execution_count": 42,
   "metadata": {},
   "outputs": [
    {
     "data": {
      "text/plain": [
       "False"
      ]
     },
     "execution_count": 42,
     "metadata": {},
     "output_type": "execute_result"
    }
   ],
   "source": [
    "floors = [\n",
    "    set('HM'),\n",
    "    set(),\n",
    "    set(),\n",
    "    set('HG')\n",
    "]\n",
    "current_floor = 2\n",
    "empty = True\n",
    "for floor in range(current_floor-1,-1,-1):\n",
    "    if len(floors[floor]) > 0:\n",
    "        empty = False\n",
    "        break\n",
    "empty"
   ]
  },
  {
   "cell_type": "code",
   "execution_count": 3,
   "metadata": {},
   "outputs": [],
   "source": [
    "import os\n",
    "import sys\n",
    "import logging\n",
    "sys.path.append(os.path.realpath('../..'))\n",
    "import aoc\n",
    "for handler in logging.root.handlers[:]:\n",
    "    logging.root.removeHandler(handler)\n",
    "logging.basicConfig(level=logging.WARNING)\n",
    "my_aoc = aoc.AdventOfCode(2016,11)"
   ]
  },
  {
   "cell_type": "code",
   "execution_count": 4,
   "metadata": {},
   "outputs": [],
   "source": [
    "# overkill for the puzzle, but chatGPT was more than happy to generate this, \n",
    "# and it was faster than me looking up a few elements I didn't know\n",
    "elements = {\n",
    "    'hydrogen': 'H',\n",
    "    'helium': 'He',\n",
    "    'lithium': 'Li',\n",
    "    'beryllium': 'Be',\n",
    "    'boron': 'B',\n",
    "    'carbon': 'C',\n",
    "    'nitrogen': 'N',\n",
    "    'oxygen': 'O',\n",
    "    'fluorine': 'F',\n",
    "    'neon': 'Ne',\n",
    "    'sodium': 'Na',\n",
    "    'magnesium': 'Mg',\n",
    "    'aluminum': 'Al',\n",
    "    'silicon': 'Si',\n",
    "    'phosphorus': 'P',\n",
    "    'sulfur': 'S',\n",
    "    'chlorine': 'Cl',\n",
    "    'argon': 'Ar',\n",
    "    'potassium': 'K',\n",
    "    'calcium': 'Ca',\n",
    "    'scandium': 'Sc',\n",
    "    'titanium': 'Ti',\n",
    "    'vanadium': 'V',\n",
    "    'chromium': 'Cr',\n",
    "    'manganese': 'Mn',\n",
    "    'iron': 'Fe',\n",
    "    'cobalt': 'Co',\n",
    "    'nickel': 'Ni',\n",
    "    'copper': 'Cu',\n",
    "    'zinc': 'Zn',\n",
    "    'gallium': 'Ga',\n",
    "    'germanium': 'Ge',\n",
    "    'arsenic': 'As',\n",
    "    'selenium': 'Se',\n",
    "    'bromine': 'Br',\n",
    "    'krypton': 'Kr',\n",
    "    'rubidium': 'Rb',\n",
    "    'strontium': 'Sr',\n",
    "    'yttrium': 'Y',\n",
    "    'zirconium': 'Zr',\n",
    "    'niobium': 'Nb',\n",
    "    'molybdenum': 'Mo',\n",
    "    'technetium': 'Tc',\n",
    "    'ruthenium': 'Ru',\n",
    "    'rhodium': 'Rh',\n",
    "    'palladium': 'Pd',\n",
    "    'silver': 'Ag',\n",
    "    'cadmium': 'Cd',\n",
    "    'indium': 'In',\n",
    "    'tin': 'Sn',\n",
    "    'antimony': 'Sb',\n",
    "    'tellurium': 'Te',\n",
    "    'iodine': 'I',\n",
    "    'xenon': 'Xe',\n",
    "    'cesium': 'Cs',\n",
    "    'barium': 'Ba',\n",
    "    'lanthanum': 'La',\n",
    "    'cerium': 'Ce',\n",
    "    'praseodymium': 'Pr',\n",
    "    'neodymium': 'Nd',\n",
    "    'promethium': 'Pm',\n",
    "    'samarium': 'Sm',\n",
    "    'europium': 'Eu',\n",
    "    'gadolinium': 'Gd',\n",
    "    'terbium': 'Tb',\n",
    "    'dysprosium': 'Dy',\n",
    "    'holmium': 'Ho',\n",
    "    'erbium': 'Er',\n",
    "    'thulium': 'Tm',\n",
    "    'ytterbium': 'Yb',\n",
    "    'lutetium': 'Lu',\n",
    "    'hafnium': 'Hf',\n",
    "    'tantalum': 'Ta',\n",
    "    'tungsten': 'W',\n",
    "    'rhenium': 'Re',\n",
    "    'osmium': 'Os',\n",
    "    'iridium': 'Ir',\n",
    "    'platinum': 'Pt',\n",
    "    'gold': 'Au',\n",
    "    'mercury': 'Hg',\n",
    "    'thallium': 'Tl',\n",
    "    'lead': 'Pb',\n",
    "    'bismuth': 'Bi',\n",
    "    'polonium': 'Po',\n",
    "    'astatine': 'At',\n",
    "    'radon': 'Rn',\n",
    "    'francium': 'Fr',\n",
    "    'radium': 'Ra',\n",
    "    'actinium': 'Ac',\n",
    "    'thorium': 'Th',\n",
    "    'protactinium': 'Pa',\n",
    "    'uranium': 'U',\n",
    "    'neptunium': 'Np',\n",
    "    'plutonium': 'Pu',\n",
    "    'americium': 'Am',\n",
    "    'curium': 'Cm',\n",
    "    'berkelium': 'Bk',\n",
    "    'californium': 'Cf',\n",
    "    'einsteinium': 'Es',\n",
    "    'fermium': 'Fm',\n",
    "    'mendelevium': 'Md',\n",
    "    'nobelium': 'No',\n",
    "    'lawrencium': 'Lr',\n",
    "    'rutherfordium': 'Rf',\n",
    "    'dubnium': 'Db',\n",
    "    'seaborgium': 'Sg',\n",
    "    'bohrium': 'Bh',\n",
    "    'hassium': 'Hs',\n",
    "    'meitnerium': 'Mt',\n",
    "    'darmstadtium': 'Ds',\n",
    "    'roentgenium': 'Rg',\n",
    "    'copernicium': 'Cn',\n",
    "    'nihonium': 'Nh',\n",
    "    'flerovium': 'Fl',\n",
    "    'moscovium': 'Mc',\n",
    "    'livermorium': 'Lv',\n",
    "    'tennessine': 'Ts',\n",
    "    'oganesson': 'Og'\n",
    "}\n"
   ]
  },
  {
   "cell_type": "code",
   "execution_count": 5,
   "metadata": {},
   "outputs": [],
   "source": [
    "test_data = [\n",
    "    \"The first floor contains a hydrogen-compatible microchip and a lithium-compatible microchip.\",\n",
    "    \"The second floor contains a hydrogen generator.\",\n",
    "    \"The third floor contains a lithium generator.\",\n",
    "    \"The fourth floor contains nothing relevant.\",\n",
    "]"
   ]
  },
  {
   "cell_type": "code",
   "execution_count": 77,
   "metadata": {},
   "outputs": [],
   "source": [
    "class Building:\n",
    "    \"\"\"\n",
    "    Class to define our building structure\n",
    "    \"\"\"\n",
    "    def __init__(self, floors=4):\n",
    "        \"\"\"\n",
    "        Class initialization\n",
    "        \"\"\"\n",
    "        # self.floors holds objects that exist on each floor\n",
    "        self.floors = {}\n",
    "        # add floor list for each floor\n",
    "        for idx in range(floors):\n",
    "            self.floors[idx+1] = Floor(self,idx+1)\n",
    "        #When you enter the containment area, you and the elevator will start on the first floor.\n",
    "        # add elevator object to floor 1 - \n",
    "        self.elevator = Elevator(self)\n",
    "\n",
    "    def state(self):\n",
    "        \"\"\"\n",
    "        Function to generate a comparable state of the building.\n",
    "        The theory here is that symmetrical states don't matter,\n",
    "        so we replace the elements with the number of the order they appear in the buliding top down\n",
    "        \"\"\"\n",
    "        elements = []\n",
    "        for floor_num in range(4,0,-1):\n",
    "            floor = self.floors[floor_num]\n",
    "            for member in floor.members:\n",
    "                if not member.element in elements:\n",
    "                    elements.append(member.element)\n",
    "        state = str(self)\n",
    "        for idx, element in enumerate(elements):\n",
    "            state = state.replace(element,str(idx))\n",
    "        return state\n",
    "        \n",
    "    def __str__(self):\n",
    "        \"\"\"\n",
    "        String representation of the building\n",
    "        \"\"\"\n",
    "        retval = ''\n",
    "        for floor in reversed(self.floors):\n",
    "            retval += f\"{self.floors[floor]}\\n\"\n",
    "        return retval\n",
    "\n",
    "    def __eq__(self, other):\n",
    "        \"\"\"\n",
    "        equal case.  I don't think this ended up gettign used\n",
    "        \"\"\"\n",
    "        if not isinstance(other, Building):\n",
    "            return False\n",
    "        return self.elevator.stops == other.elevator.stops\n",
    "\n",
    "    def __lt__(self, other):\n",
    "        if not isinstance(other, Building):\n",
    "            return False\n",
    "        return self.elevator.stops < other.elevator.stops\n",
    "\n",
    "class Container:\n",
    "    \"\"\"\n",
    "    Base class for Floor and Elevator\n",
    "    \"\"\"\n",
    "    def __init__(self, parent):\n",
    "        self.members = []\n",
    "        self.parent = parent\n",
    "\n",
    "    def member_by_name(self,name):\n",
    "        for member in self.members:\n",
    "            if str(member) == name:\n",
    "                return member\n",
    "        return None\n",
    "        \n",
    "    def join(self,new_member):\n",
    "        logging.debug(\"join(%s, %s)\",self,new_member)\n",
    "        if type(new_member) == list:\n",
    "            logging.debug(\"list %s\", new_member)\n",
    "            logging.debug(\"members before: %s\", self.members)\n",
    "            tmp_member = [member for member in new_member]\n",
    "            for member in tmp_member:\n",
    "                logging.debug(\"#\"*25)\n",
    "                logging.debug(\"%s adding member %s\", self, member)\n",
    "                self.members.append(member)\n",
    "                logging.debug(\"members interim: %s\", self.members)\n",
    "                previous_parent = member.parent\n",
    "                logging.debug(\"previous_parent %s\", previous_parent)\n",
    "                if previous_parent:\n",
    "                    logging.debug(\"removing from previous_parent %s\", previous_parent)\n",
    "                    previous_parent.remove(member)\n",
    "                member.parent = self\n",
    "                logging.debug(\"member.parent = %s\", member.parent)\n",
    "            logging.debug(\"members after: %s\", self.members)\n",
    "        else:\n",
    "            logging.debug(\"single %s\", new_member)\n",
    "            logging.debug(\"members before: %s\", self.members)\n",
    "            previous_parent = new_member.parent\n",
    "            self.members.append(new_member)\n",
    "            logging.debug(\"members after: %s\", self.members)\n",
    "            if previous_parent:\n",
    "                logging.debug(\"removing %s from %s\", new_member, previous_parent)\n",
    "                previous_parent.remove(new_member)\n",
    "            new_member.parent = self\n",
    "        safe_move = True\n",
    "        for member in self.members:\n",
    "            logging.debug(\"Checking %s\", member)\n",
    "            if not member.check():\n",
    "                logging.debug(\"%s not safe in %s\", member, type(self).__name__)\n",
    "                safe_move=False\n",
    "        if not safe_move:\n",
    "            logging.debug(\"%s could not join %s: %s\", new_member, self, [str(member) for member in self.members])\n",
    "            logging.debug(\"Moving back to \", previous_parent)\n",
    "            if previous_parent:\n",
    "                previous_parent.join(new_member)     \n",
    "        return safe_move\n",
    "\n",
    "    def remove(self,remove_member):\n",
    "        \"\"\"\n",
    "        Remove a member from self.members\n",
    "        \"\"\"\n",
    "        idx = self.members.index(remove_member)\n",
    "        #print(idx)\n",
    "        self.members.pop(idx)\n",
    "        \n",
    "\n",
    "class Floor(Container):\n",
    "    \"\"\"\n",
    "    Class to define floor\n",
    "    \"\"\"\n",
    "    def __init__(self,parent,number):\n",
    "        super().__init__(parent)\n",
    "        self.number = number\n",
    "\n",
    "    def full(self):\n",
    "        return False\n",
    "\n",
    "    def __str__(self):\n",
    "        \"\"\"\n",
    "        String representation\n",
    "        \"\"\"\n",
    "        items = []\n",
    "        elevator = \".\"\n",
    "        if self.number == self.parent.elevator.floor:\n",
    "            elevator = 'E'\n",
    "        for member in self.members:\n",
    "            items.append(f\"{member}\")\n",
    "        while len(items) < 10:\n",
    "            items.append('.  ')\n",
    "        for item in items:\n",
    "            while len(item) < 3:\n",
    "                item+=' '\n",
    "        return f\"F{self.number} {elevator} {' '.join(sorted(items))}\"\n",
    "    \n",
    "class Elevator(Container):\n",
    "    \"\"\"\n",
    "    Class to define Elevator\n",
    "    \"\"\"\n",
    "    def __init__(self, parent):\n",
    "        \"\"\"\n",
    "        Initialize Elevator object\n",
    "        \"\"\"\n",
    "        super().__init__(parent)\n",
    "        #self.charging = False\n",
    "        self.stops = 0\n",
    "        self.floor = 1\n",
    "\n",
    "    def full(self):\n",
    "        # full if 2 members exist\n",
    "        return len(self.members) == 2\n",
    "\n",
    "    def move_to_floor(self,new_floor):\n",
    "        logging.debug(\"move_to_floor(%s, %s)\", self, new_floor)\n",
    "        if len(self.members) < 1:\n",
    "            #print(f\"Cannot move empty elevator\")\n",
    "            return False\n",
    "        if new_floor in self.parent.floors:\n",
    "            logging.debug(\"%s is valid, joining:\", new_floor)\n",
    "            old_floor = self.floor\n",
    "            self.floor = new_floor\n",
    "            logging.debug(\"%s -> %s\", old_floor, self.floor)\n",
    "            floor = self.get_floor()\n",
    "            logging.debug(\"floor = %s\", floor)\n",
    "            logging.debug(\"%s.join(%s)\", floor, self.members)\n",
    "            if floor.join(self.members):\n",
    "                logging.debug(\"True\")\n",
    "                self.stops+=1\n",
    "                return True\n",
    "            else:\n",
    "                logging.debug(\"False\")\n",
    "                self.floor = old_floor\n",
    "                return False \n",
    "        else:\n",
    "            logging.debug(\"floor %s is not valid\", new_floor)\n",
    "            return False\n",
    "\n",
    "    def get_floor(self,offset=0):\n",
    "        target = self.floor+offset\n",
    "        if target not in self.parent.floors:\n",
    "            return None\n",
    "        return self.parent.floors[self.floor+offset]\n",
    "        \n",
    "    def up(self):\n",
    "        logging.debug(\"up(%s)\", self)\n",
    "        return self.move_to_floor(self.floor + 1)\n",
    "\n",
    "    def down(self):\n",
    "        # adding conditions to limit search space\n",
    "        # if we are on floor 2 and floor 1 is empty, lets not go down\n",
    "        if self.floor == 2:\n",
    "            if len(self.parent.floors[1].members) == 0:\n",
    "                # put items back on the floor since we failed\n",
    "                self.get_floor().join(self.members)\n",
    "                return False\n",
    "        # if we are on floor 3 and floors 1 and 2 are empty, lets not go down\n",
    "        if self.floor == 3:\n",
    "            if len(self.parent.floors[1].members) == 0 and len(self.parent.floors[2].members):\n",
    "                # put items back on the floor since we failed\n",
    "                self.get_floor().join(self.members)\n",
    "                return False\n",
    "        return self.move_to_floor(self.floor - 1)\n",
    "\n",
    "    def check(self):\n",
    "        return True\n",
    "\n",
    "    def __str__(self):\n",
    "        #if self.charging:\n",
    "        #    return f\"{type(self).__name__} (C) {self.stops} - {self.parent.number}\"\n",
    "        return f\"{type(self).__name__}, stops: {self.stops} - floor: {self.floor} - holding: {[str(member) for member in self.members]}\"\n",
    "        \n",
    "            \n",
    "class Item():\n",
    "    \"\"\"\n",
    "    Superclass for items\n",
    "    \"\"\"\n",
    "    def __init__(self, element):\n",
    "        \"\"\"\n",
    "        initialize Item\n",
    "        \"\"\"\n",
    "        self.element = element\n",
    "        self.parent = None\n",
    "\n",
    "    def siblings(self):\n",
    "        # add the current container members to siblings\n",
    "        siblings = [*self.parent.members]\n",
    "        # if parent is a charging elevator, we need to include the other items on the floor\n",
    "        if type(self.parent) == Elevator:\n",
    "            elevator = self.parent\n",
    "            building = elevator.parent\n",
    "            floor = elevator.get_floor()\n",
    "            # add the elevators parent members to siblings\n",
    "            siblings = [*siblings,*floor.members]\n",
    "        return siblings\n",
    "\n",
    "class MicroChip(Item):\n",
    "    \"\"\"\n",
    "    MicroChip Class\n",
    "    \"\"\"\n",
    "\n",
    "    def __init__(self,element):\n",
    "        \"\"\"\n",
    "        Initialize microchip\n",
    "        \"\"\"\n",
    "        super().__init__(element)\n",
    "\n",
    "    def check(self):\n",
    "        \"\"\"\n",
    "        Self check to be sure we aren't getting irratiated\n",
    "        \"\"\"\n",
    "        #print(f\"{self}.check - self.parent = {self.parent}\")\n",
    "        #If we are in a charged elevator, we are safe:\n",
    "        if type(self.parent) == Elevator: # and not self.parent.charging:\n",
    "            return True\n",
    "        \n",
    "        irratiated = False\n",
    "        protected = False\n",
    "\n",
    "        # first pass, are there any \n",
    "        for sibling in self.siblings():\n",
    "            logging.debug(\"self = %s;  sibling = %s\", self, sibling)\n",
    "            if type(sibling) == Generator:\n",
    "                irratiated = True\n",
    "                logging.debug(\"% is a Generator\", sibling)\n",
    "                logging.debug(\"sibling.element == self.element = %s == %s \", sibling.element, self.element)\n",
    "                if sibling.element == self.element:\n",
    "                    logging.debug(\"%s protects $s\", sibling, self)\n",
    "                    protected = True\n",
    "        logging.debug(\"%s.check, protected = %s, irratiated = %s, return %s\", self, protected, irratiated, protected or not irratiated)\n",
    "        return protected or not irratiated\n",
    "\n",
    "    def __str__(self):\n",
    "        \"\"\"\n",
    "        String representation\n",
    "        \"\"\"\n",
    "        return f\"{self.element}M\"\n",
    "        \n",
    "class Generator(Item):\n",
    "    \"\"\"\n",
    "    MicroChip Class\n",
    "    \"\"\"\n",
    "\n",
    "    def __init__(self,element):\n",
    "        \"\"\"\n",
    "        Initialize microchip\n",
    "        \"\"\"\n",
    "        super().__init__(element)\n",
    "\n",
    "    def check(self):\n",
    "        \"\"\"\n",
    "        Self check function\n",
    "        Generators are always safe\n",
    "        \"\"\"\n",
    "        return True\n",
    "\n",
    "    def __str__(self):\n",
    "        \"\"\"\n",
    "        String representation\n",
    "        \"\"\"\n",
    "        return f\"{self.element}G\""
   ]
  },
  {
   "cell_type": "code",
   "execution_count": 7,
   "metadata": {},
   "outputs": [],
   "source": [
    "import re\n",
    "pattern_floor = re.compile(r'The (\\w+) floor contains (.*)')\n",
    "pattern_split = re.compile(r', and | and |, ')\n",
    "\n",
    "pattern_microchip = re.compile(r'a (\\w+)-compatible microchip.*')\n",
    "pattern_generator = re.compile(r'a (\\w+) generator.*')\n",
    "def parse_notes(input_string):\n",
    "    floors = {\n",
    "        'first': 1,\n",
    "        'second': 2,\n",
    "        'third': 3,\n",
    "        'fourth': 4\n",
    "    }\n",
    "    match = pattern_floor.match(input_string)\n",
    "    floor = floors[match.group(1)]\n",
    "    items = pattern_split.split(match.group(2))\n",
    "    for item in items:\n",
    "        match = pattern_microchip.match(item)\n",
    "        if match:\n",
    "            building.floors[floor].join(MicroChip(elements[match.group(1)]))\n",
    "        else:\n",
    "            match = pattern_generator.match(item)\n",
    "            if match:\n",
    "                building.floors[floor].join(Generator(elements[match.group(1)]))\n",
    "            else:\n",
    "                pass\n",
    "    \n",
    "\n"
   ]
  },
  {
   "cell_type": "code",
   "execution_count": 85,
   "metadata": {},
   "outputs": [],
   "source": [
    "import copy\n",
    "from heapq import heappop, heappush\n",
    "\n",
    "def is_solved(building):\n",
    "    # check all floors except 4, if any have any objects, then return False\n",
    "    for floor in range(1,len(building.floors)):\n",
    "        if len(building.floors[floor].members):\n",
    "            return False\n",
    "    return True\n",
    "\n",
    "def solve_orig(start_building):\n",
    "    \"\"\"\n",
    "    function to solve and return shortest solution\n",
    "    \"\"\"\n",
    "    # initialize heap with start_building\n",
    "    heap = []\n",
    "    heappush(heap,(start_building, tuple([str(start_building)])))\n",
    "    # Initialize control variables\n",
    "    min_solved_stops = float('infinity')\n",
    "    min_building = None\n",
    "    min_path = None\n",
    "    while heap:\n",
    "        logging.debug(\"Heap size: %s\", len(heap))\n",
    "        # get current_building\n",
    "        current_building, current_path = heappop(heap)\n",
    "        current_elevator = current_building.elevator\n",
    "        logging.debug(\"Stops: %s > min_solve_stops: ?\", current_elevator.stops)\n",
    "        logging.debug(f\"Trying %s,  %s\", current_building, current_path)\n",
    "        # safety valve for test data, will likely need to increment for live input\n",
    "        if current_elevator.stops > min_solved_stops:\n",
    "            continue\n",
    "        \n",
    "        if is_solved(current_building):\n",
    "            logging.debug(\"solution found %s\", current_building)\n",
    "            if current_building.elevator.stops < min_solved_stops:\n",
    "                logging.debug(\"new shortest solution: %s\", current_building.elevator.stops)\n",
    "                min_solved_stops = current_building.elevator.stops\n",
    "                min_building = current_building\n",
    "                min_path = current_path\n",
    "        else:\n",
    "            already = False\n",
    "            c_str = str(current_building)\n",
    "            if current_path.count(str(current_building)) > 1:\n",
    "                logging.debug(\"Loop detected: %s\", current_path)\n",
    "                continue\n",
    "            if not already:\n",
    "                current_elevator = current_building.elevator\n",
    "                current_floor = current_elevator.get_floor()\n",
    "                f_str = str(current_floor)\n",
    "                members = [member for member in current_floor.members]\n",
    "                for item_1 in [ None ] + members:\n",
    "                    for item_2 in [ None ] + members:\n",
    "                        if item_1 == item_2: # we can't put the same item in twice\n",
    "                            continue\n",
    "                        #print(f\"Trying: {[item_1, item_2]}\")\n",
    "                        # empty elevator:\n",
    "                        current_floor.join(current_elevator.members)\n",
    "                        for item in [item_1, item_2]:\n",
    "                            #print(f\"Debug: item = {item}; type(item) = {type(item)}; is Elevator? {not type(item) != Elevator}; None {item is None}\")\n",
    "                            if not item is None:\n",
    "                                if type(item) != Elevator:\n",
    "                                    #print(f\"putting {item} in elevator\")\n",
    "                                    if not current_elevator.join(item):\n",
    "                                        print(f\"could not put {item} in elevator\")\n",
    "                        logging.debug(\"Trying up_or_down for %s\", f_str)\n",
    "                        for up_or_down in [True, False]:\n",
    "                            new_building = copy.deepcopy(current_building)\n",
    "                            new_path = list(current_path)\n",
    "                            new_elevator = new_building.elevator\n",
    "                            new_floor = new_elevator.get_floor()\n",
    "                            success = False\n",
    "                            if up_or_down:\n",
    "                                e_str = str(new_elevator)\n",
    "                                logging.debug(\"%s\",new_elevator.get_floor(1))\n",
    "                                logging.debug(\"%s\",new_floor)\n",
    "                                success = new_elevator.up()\n",
    "                                logging.debug(\"up: %s (%s)\", success, e_str)\n",
    "                            else:\n",
    "                                e_str = str(new_elevator)\n",
    "                                logging.debug(\"%s\",new_floor)\n",
    "                                logging.debug(\"%s\",new_elevator.get_floor(-1))\n",
    "                                success = new_elevator.down()\n",
    "                                logging.debug(\"down: %s (%s)\", success, e_str)\n",
    "                            if success:\n",
    "                                if len(new_elevator.members) > 0:\n",
    "                                    logging.debug(\"Elevator has too many items: %s\", new_elevator)\n",
    "                                    logging.debug(\"Floor: %s\", new_floor)\n",
    "                                new_path.append(str(new_building))\n",
    "                                heappush(heap,(new_building, tuple(new_path)))\n",
    "    return min_solved_stops, min_building, min_path\n",
    "\n",
    "\"\"\"\n",
    "This version implemented chatGPT recommendations for optimizing my function\n",
    "It still didn't work, but it didn't work faster :)  back to testing\n",
    "\"\"\"\n",
    "def solve(start_building):\n",
    "    \"\"\"\n",
    "    Function to solve and return shortest solution\n",
    "    \"\"\"\n",
    "    # Initialize heap with start_building\n",
    "    heap = []\n",
    "    heappush(heap, (0, start_building, tuple([str(start_building)])))\n",
    "    \n",
    "    # Initialize control variables\n",
    "    min_solved_stops = float('infinity')\n",
    "    min_building = None\n",
    "    min_path = None\n",
    "    visited = set()\n",
    "\n",
    "    while heap:\n",
    "        logging.debug(\"Heap size: %s\", len(heap))\n",
    "        \n",
    "        # Get current_building\n",
    "        current_stops, current_building, current_path = heappop(heap)\n",
    "        current_elevator = current_building.elevator\n",
    "        current_elevator = current_building.elevator\n",
    "        current_floor = current_elevator.get_floor()\n",
    "        \n",
    "        # Skip if this state has already been visited\n",
    "        state_str = current_building.state()\n",
    "        if state_str in visited:\n",
    "            continue\n",
    "        visited.add(state_str)\n",
    "        logging.debug(\"States visited %s\", len(visited))\n",
    "\n",
    "        logging.debug(\"Stops: %s > min_solve_stops: ?\", current_elevator.stops)\n",
    "        logging.debug(f\"Trying {current_building},  {current_path}\")\n",
    "\n",
    "        if current_elevator.stops > min_solved_stops:\n",
    "            continue\n",
    "\n",
    "        if is_solved(current_building):\n",
    "            logging.debug(\"Solution found %s\", current_building)\n",
    "            if current_elevator.stops < min_solved_stops:\n",
    "                logging.debug(\"New shortest solution: %s\", current_elevator.stops)\n",
    "                min_solved_stops = current_elevator.stops\n",
    "                min_building = current_building\n",
    "                min_path = current_path\n",
    "        else:\n",
    "            # use list comprehension to build new list\n",
    "            # members = current_floor.members causes problems because\n",
    "            #   we modify current_floor.members\n",
    "            members = [member for member in current_floor.members]\n",
    "            # allow for empty elevator slot\n",
    "            members.append(None)\n",
    "            logging.debug(\"members = %s\", members)\n",
    "            for item_1 in members:\n",
    "                logging.debug(\"members = %s\", members)\n",
    "                for item_2 in members:\n",
    "                    # if we don't empty the elevator, items stay in it on failure\n",
    "                    current_floor.join(current_elevator.members)\n",
    "                    logging.debug(\"members = %s\", members)\n",
    "                    if item_1 == item_2:\n",
    "                        continue\n",
    "\n",
    "                    # Move items to elevator\n",
    "                    logging.debug(\"Trying %s, %s\", item_1, item_2)\n",
    "                    if item_1:\n",
    "                        current_elevator.join(item_1)\n",
    "                    if item_2:\n",
    "                        current_elevator.join(item_2)\n",
    "                    logging.debug(\"Elevator %s\", current_elevator)\n",
    "\n",
    "                    for up_or_down in [True, False]:\n",
    "                        # Create new state, this needs to be in this loop, because up() and down() modify the building\n",
    "                        new_building = copy.deepcopy(current_building)\n",
    "                        new_path = list(current_path)\n",
    "                        new_elevator = new_building.elevator\n",
    "                        new_floor = new_elevator.get_floor()\n",
    "                        success = False\n",
    "                        logging.debug(\"##### up_or_down? %s\", up_or_down)\n",
    "                        if up_or_down:\n",
    "                            e_str = str(new_elevator)\n",
    "                            logging.debug(\"%s\",new_elevator.get_floor(1))\n",
    "                            logging.debug(\"%s\",new_floor)\n",
    "                            success = new_elevator.up()\n",
    "                            logging.debug(\"up: %s (%s)\", success, e_str)\n",
    "                        else:\n",
    "                            e_str = str(new_elevator)\n",
    "                            logging.debug(\"%s\",new_floor)\n",
    "                            logging.debug(\"%s\",new_elevator.get_floor(-1))\n",
    "                            success = new_elevator.down()\n",
    "                            logging.debug(\"down: %s (%s)\", success, e_str)\n",
    "\n",
    "                        if success:\n",
    "                            new_path.append(str(new_building))\n",
    "                            heappush(heap, (current_stops + 1, new_building, tuple(new_path)))\n",
    "    \n",
    "    return min_solved_stops, min_building, min_path\n"
   ]
  },
  {
   "cell_type": "code",
   "execution_count": 89,
   "metadata": {},
   "outputs": [],
   "source": [
    "test_data = [\n",
    "    \"The first floor contains a polonium generator, a thulium generator, a thulium-compatible microchip, a promethium generator, a ruthenium generator, a ruthenium-compatible microchip, a cobalt generator, and a cobalt-compatible microchip.\",\n",
    "    \"The second floor contains a polonium-compatible microchip and a promethium-compatible microchip.\",\n",
    "    \"The third floor contains nothing relevant.\",\n",
    "    \"The fourth floor contains nothing relevant.\"\n",
    "]"
   ]
  },
  {
   "cell_type": "code",
   "execution_count": null,
   "metadata": {},
   "outputs": [
    {
     "name": "stdout",
     "output_type": "stream",
     "text": [
      "F4 . .   .   .   .   .   .   .   .   .   .  \n",
      "F3 . .   .   .   .   .   .   .   .   .   .  \n",
      "F2 . .   .   .   .   .   .   .   .   PmM PoM\n",
      "F1 E .   .   CoG CoM PmG PoG RuG RuM TmG TmM\n",
      "\n"
     ]
    }
   ],
   "source": [
    "building = Building()\n",
    "for note in test_data:\n",
    "    parse_notes(note)\n",
    "print(building)\n",
    "stops, building, path = solve(building)\n",
    "print(f\"stops = {stops}\")\n",
    "print(building)\n",
    "print(\"Steps taken:\")\n",
    "step = 0\n",
    "if path:\n",
    "    for my_state in path:\n",
    "        print(f\"Step {step}:\\n{my_state}\\n\\n\")\n",
    "        step+=1"
   ]
  },
  {
   "cell_type": "code",
   "execution_count": 11,
   "metadata": {},
   "outputs": [
    {
     "data": {
      "text/plain": [
       "11"
      ]
     },
     "execution_count": 11,
     "metadata": {},
     "output_type": "execute_result"
    }
   ],
   "source": [
    "stops"
   ]
  },
  {
   "cell_type": "code",
   "execution_count": 12,
   "metadata": {},
   "outputs": [
    {
     "name": "stdout",
     "output_type": "stream",
     "text": [
      "F4 . .   .   .   .   .   .   .   .   .   .  \n",
      "F3 . .   .   .   .   .   .   .   .   .   LiG\n",
      "F2 . .   .   .   .   .   .   .   .   .   HG\n",
      "F1 E .   .   .   .   .   .   .   .   HM LiM\n",
      "\n",
      "floor [<__main__.MicroChip object at 0x000001E95625AA90>, <__main__.MicroChip object at 0x000001E9562520D0>]\n",
      "elevator []\n"
     ]
    }
   ],
   "source": [
    "building = Building()\n",
    "for note in test_data:\n",
    "    parse_notes(note)\n",
    "print(building)\n",
    "elevator = building.elevator\n",
    "floor = elevator.get_floor()\n",
    "print(f\"floor {floor.members}\")\n",
    "print(f\"elevator {elevator.members}\")\n"
   ]
  },
  {
   "cell_type": "code",
   "execution_count": 13,
   "metadata": {},
   "outputs": [
    {
     "name": "stdout",
     "output_type": "stream",
     "text": [
      "F4 . .   .   .   .   .   .   .   .   .   .  \n",
      "F3 . .   .   .   .   .   .   .   .   .   LiG\n",
      "F2 E .   .   .   .   .   .   .   .   HG HM\n",
      "F1 . .   .   .   .   .   .   .   .   .   LiM\n",
      "\n",
      "floor [<__main__.Generator object at 0x000001E9562523D0>, <__main__.MicroChip object at 0x000001E95625AA90>]\n",
      "elevator []\n"
     ]
    }
   ],
   "source": [
    "elevator.join(floor.member_by_name('HM'))\n",
    "elevator.up()\n",
    "print(building)\n",
    "floor = elevator.get_floor()\n",
    "print(f\"floor {floor.members}\")\n",
    "print(f\"elevator {elevator.members}\")"
   ]
  },
  {
   "cell_type": "code",
   "execution_count": 14,
   "metadata": {},
   "outputs": [
    {
     "name": "stdout",
     "output_type": "stream",
     "text": [
      "F4 . .   .   .   .   .   .   .   .   .   .  \n",
      "F3 E .   .   .   .   .   .   .   HG HM LiG\n",
      "F2 . .   .   .   .   .   .   .   .   .   .  \n",
      "F1 . .   .   .   .   .   .   .   .   .   LiM\n",
      "\n",
      "floor [<__main__.Generator object at 0x000001E956253E90>, <__main__.MicroChip object at 0x000001E95625AA90>, <__main__.Generator object at 0x000001E9562523D0>]\n",
      "elevator []\n"
     ]
    }
   ],
   "source": [
    "floor = elevator.get_floor()\n",
    "elevator.join(floor.member_by_name('HM'))\n",
    "elevator.join(floor.member_by_name('HG'))\n",
    "elevator.up()\n",
    "print(building)\n",
    "floor = elevator.get_floor()\n",
    "print(f\"floor {floor.members}\")\n",
    "print(f\"elevator {elevator.members}\")"
   ]
  },
  {
   "cell_type": "code",
   "execution_count": 15,
   "metadata": {},
   "outputs": [
    {
     "name": "stdout",
     "output_type": "stream",
     "text": [
      "F4 . .   .   .   .   .   .   .   .   .   .  \n",
      "F3 . .   .   .   .   .   .   .   .   HG LiG\n",
      "F2 E .   .   .   .   .   .   .   .   .   HM\n",
      "F1 . .   .   .   .   .   .   .   .   .   LiM\n",
      "\n",
      "floor [<__main__.MicroChip object at 0x000001E95625AA90>]\n",
      "elevator []\n"
     ]
    }
   ],
   "source": [
    "floor = elevator.get_floor()\n",
    "elevator.join(floor.member_by_name('HM'))\n",
    "elevator.down()\n",
    "print(building)\n",
    "floor = elevator.get_floor()\n",
    "print(f\"floor {floor.members}\")\n",
    "print(f\"elevator {elevator.members}\")"
   ]
  },
  {
   "cell_type": "code",
   "execution_count": 16,
   "metadata": {},
   "outputs": [
    {
     "name": "stdout",
     "output_type": "stream",
     "text": [
      "F4 . .   .   .   .   .   .   .   .   .   .  \n",
      "F3 . .   .   .   .   .   .   .   .   HG LiG\n",
      "F2 . .   .   .   .   .   .   .   .   .   .  \n",
      "F1 E .   .   .   .   .   .   .   .   HM LiM\n",
      "\n",
      "floor [<__main__.MicroChip object at 0x000001E9562520D0>, <__main__.MicroChip object at 0x000001E95625AA90>]\n",
      "elevator []\n"
     ]
    }
   ],
   "source": [
    "floor = elevator.get_floor()\n",
    "elevator.join(floor.member_by_name('HM'))\n",
    "elevator.down()\n",
    "print(building)\n",
    "floor = elevator.get_floor()\n",
    "print(f\"floor {floor.members}\")\n",
    "print(f\"elevator {elevator.members}\")"
   ]
  },
  {
   "cell_type": "code",
   "execution_count": 17,
   "metadata": {},
   "outputs": [
    {
     "name": "stdout",
     "output_type": "stream",
     "text": [
      "F4 . .   .   .   .   .   .   .   .   .   .  \n",
      "F3 . .   .   .   .   .   .   .   .   HG LiG\n",
      "F2 E .   .   .   .   .   .   .   .   HM LiM\n",
      "F1 . .   .   .   .   .   .   .   .   .   .  \n",
      "\n",
      "floor [<__main__.MicroChip object at 0x000001E95625AA90>, <__main__.MicroChip object at 0x000001E9562520D0>]\n",
      "elevator []\n"
     ]
    }
   ],
   "source": [
    "floor = elevator.get_floor()\n",
    "elevator.join(floor.member_by_name('HM'))\n",
    "elevator.join(floor.member_by_name('LiM'))\n",
    "elevator.up()\n",
    "print(building)\n",
    "floor = elevator.get_floor()\n",
    "print(f\"floor {floor.members}\")\n",
    "print(f\"elevator {elevator.members}\")"
   ]
  },
  {
   "cell_type": "code",
   "execution_count": 18,
   "metadata": {},
   "outputs": [
    {
     "name": "stdout",
     "output_type": "stream",
     "text": [
      "F4 . .   .   .   .   .   .   .   .   .   .  \n",
      "F3 E .   .   .   .   .   .   HG HM LiG LiM\n",
      "F2 . .   .   .   .   .   .   .   .   .   .  \n",
      "F1 . .   .   .   .   .   .   .   .   .   .  \n",
      "\n",
      "floor [<__main__.Generator object at 0x000001E956253E90>, <__main__.Generator object at 0x000001E9562523D0>, <__main__.MicroChip object at 0x000001E95625AA90>, <__main__.MicroChip object at 0x000001E9562520D0>]\n",
      "elevator []\n"
     ]
    }
   ],
   "source": [
    "floor = elevator.get_floor()\n",
    "elevator.join(floor.member_by_name('HM'))\n",
    "elevator.join(floor.member_by_name('LiM'))\n",
    "elevator.up()\n",
    "print(building)\n",
    "floor = elevator.get_floor()\n",
    "print(f\"floor {floor.members}\")\n",
    "print(f\"elevator {elevator.members}\")"
   ]
  },
  {
   "cell_type": "code",
   "execution_count": 19,
   "metadata": {},
   "outputs": [
    {
     "name": "stdout",
     "output_type": "stream",
     "text": [
      "F4 E .   .   .   .   .   .   .   .   HM LiM\n",
      "F3 . .   .   .   .   .   .   .   .   HG LiG\n",
      "F2 . .   .   .   .   .   .   .   .   .   .  \n",
      "F1 . .   .   .   .   .   .   .   .   .   .  \n",
      "\n",
      "floor [<__main__.MicroChip object at 0x000001E95625AA90>, <__main__.MicroChip object at 0x000001E9562520D0>]\n",
      "elevator []\n"
     ]
    }
   ],
   "source": [
    "floor = elevator.get_floor()\n",
    "elevator.join(floor.member_by_name('HM'))\n",
    "elevator.join(floor.member_by_name('LiM'))\n",
    "elevator.up()\n",
    "print(building)\n",
    "floor = elevator.get_floor()\n",
    "print(f\"floor {floor.members}\")\n",
    "print(f\"elevator {elevator.members}\")"
   ]
  },
  {
   "cell_type": "code",
   "execution_count": 20,
   "metadata": {},
   "outputs": [
    {
     "name": "stdout",
     "output_type": "stream",
     "text": [
      "F4 . .   .   .   .   .   .   .   .   .   LiM\n",
      "F3 E .   .   .   .   .   .   .   HG HM LiG\n",
      "F2 . .   .   .   .   .   .   .   .   .   .  \n",
      "F1 . .   .   .   .   .   .   .   .   .   .  \n",
      "\n",
      "floor [<__main__.Generator object at 0x000001E956253E90>, <__main__.Generator object at 0x000001E9562523D0>, <__main__.MicroChip object at 0x000001E95625AA90>]\n",
      "elevator []\n"
     ]
    }
   ],
   "source": [
    "floor = elevator.get_floor()\n",
    "elevator.join(floor.member_by_name('HM'))\n",
    "elevator.down()\n",
    "print(building)\n",
    "floor = elevator.get_floor()\n",
    "print(f\"floor {floor.members}\")\n",
    "print(f\"elevator {elevator.members}\")"
   ]
  },
  {
   "cell_type": "code",
   "execution_count": 21,
   "metadata": {},
   "outputs": [
    {
     "name": "stdout",
     "output_type": "stream",
     "text": [
      "F4 E .   .   .   .   .   .   .   HG LiG LiM\n",
      "F3 . .   .   .   .   .   .   .   .   .   HM\n",
      "F2 . .   .   .   .   .   .   .   .   .   .  \n",
      "F1 . .   .   .   .   .   .   .   .   .   .  \n",
      "\n",
      "floor [<__main__.MicroChip object at 0x000001E9562520D0>, <__main__.Generator object at 0x000001E9562523D0>, <__main__.Generator object at 0x000001E956253E90>]\n",
      "elevator []\n"
     ]
    }
   ],
   "source": [
    "floor = elevator.get_floor()\n",
    "elevator.join(floor.member_by_name('HG'))\n",
    "elevator.join(floor.member_by_name('LiG'))\n",
    "elevator.up()\n",
    "print(building)\n",
    "floor = elevator.get_floor()\n",
    "print(f\"floor {floor.members}\")\n",
    "print(f\"elevator {elevator.members}\")"
   ]
  },
  {
   "cell_type": "code",
   "execution_count": 22,
   "metadata": {},
   "outputs": [
    {
     "name": "stdout",
     "output_type": "stream",
     "text": [
      "F4 . .   .   .   .   .   .   .   .   LiG LiM\n",
      "F3 E .   .   .   .   .   .   .   .   HG HM\n",
      "F2 . .   .   .   .   .   .   .   .   .   .  \n",
      "F1 . .   .   .   .   .   .   .   .   .   .  \n",
      "\n",
      "floor [<__main__.MicroChip object at 0x000001E95625AA90>, <__main__.Generator object at 0x000001E9562523D0>]\n",
      "elevator []\n"
     ]
    }
   ],
   "source": [
    "floor = elevator.get_floor()\n",
    "elevator.join(floor.member_by_name('HG'))\n",
    "elevator.down()\n",
    "print(building)\n",
    "floor = elevator.get_floor()\n",
    "print(f\"floor {floor.members}\")\n",
    "print(f\"elevator {elevator.members}\")"
   ]
  },
  {
   "cell_type": "code",
   "execution_count": 23,
   "metadata": {},
   "outputs": [
    {
     "name": "stdout",
     "output_type": "stream",
     "text": [
      "F4 E .   .   .   .   .   .   HG HM LiG LiM\n",
      "F3 . .   .   .   .   .   .   .   .   .   .  \n",
      "F2 . .   .   .   .   .   .   .   .   .   .  \n",
      "F1 . .   .   .   .   .   .   .   .   .   .  \n",
      "\n",
      "floor [<__main__.MicroChip object at 0x000001E9562520D0>, <__main__.Generator object at 0x000001E956253E90>, <__main__.Generator object at 0x000001E9562523D0>, <__main__.MicroChip object at 0x000001E95625AA90>]\n",
      "elevator []\n"
     ]
    }
   ],
   "source": [
    "floor = elevator.get_floor()\n",
    "elevator.join(floor.member_by_name('HG'))\n",
    "elevator.join(floor.member_by_name('HM'))\n",
    "\n",
    "elevator.up()\n",
    "print(building)\n",
    "floor = elevator.get_floor()\n",
    "print(f\"floor {floor.members}\")\n",
    "print(f\"elevator {elevator.members}\")"
   ]
  },
  {
   "cell_type": "code",
   "execution_count": 24,
   "metadata": {},
   "outputs": [
    {
     "name": "stdout",
     "output_type": "stream",
     "text": [
      "['LiM', 'LiG', 'HG', 'HM']\n",
      "11\n"
     ]
    }
   ],
   "source": [
    "#HERE\n",
    "floor = elevator.get_floor()\n",
    "print([str(member) for member in floor.members])\n",
    "print(elevator.stops)"
   ]
  },
  {
   "cell_type": "code",
   "execution_count": 25,
   "metadata": {},
   "outputs": [
    {
     "name": "stdout",
     "output_type": "stream",
     "text": [
      "F4 . .   .   .   .   .   .   .   .   .   .  \n",
      "F3 . .   .   .   .   .   .   .   .   .   LiG\n",
      "F2 . .   .   .   .   .   .   .   .   .   HG\n",
      "F1 E .   .   .   .   .   .   .   .   HM LiM\n",
      "\n",
      "floor [<__main__.MicroChip object at 0x000001E9560C4DD0>, <__main__.MicroChip object at 0x000001E9560C59D0>]\n",
      "elevator []\n"
     ]
    }
   ],
   "source": [
    "building = Building()\n",
    "for note in test_data:\n",
    "    parse_notes(note)\n",
    "print(building)\n",
    "elevator = building.elevator\n",
    "floor = elevator.get_floor()\n",
    "print(f\"floor {floor.members}\")\n",
    "print(f\"elevator {elevator.members}\")"
   ]
  },
  {
   "cell_type": "code",
   "execution_count": 26,
   "metadata": {},
   "outputs": [
    {
     "name": "stdout",
     "output_type": "stream",
     "text": [
      "F4 . .   .   .   .   .   .   .   .   .   .  \n",
      "F3 . .   .   .   .   .   .   .   .   .   LiG\n",
      "F2 . .   .   .   .   .   .   .   .   .   HG\n",
      "F1 E .   .   .   .   .   .   .   .   HM LiM\n",
      "\n",
      "F4 . .   .   .   .   .   .   .   .   .   .  \n",
      "F3 . .   .   .   .   .   .   .   .   .   LiG\n",
      "F2 E .   .   .   .   .   .   .   .   HG HM\n",
      "F1 . .   .   .   .   .   .   .   .   .   LiM\n",
      "\n",
      "F4 . .   .   .   .   .   .   .   .   .   .  \n",
      "F3 E .   .   .   .   .   .   .   HG HM LiG\n",
      "F2 . .   .   .   .   .   .   .   .   .   .  \n",
      "F1 . .   .   .   .   .   .   .   .   .   LiM\n",
      "\n",
      "F4 E .   .   .   .   .   .   .   .   HG LiG\n",
      "F3 . .   .   .   .   .   .   .   .   .   HM\n",
      "F2 . .   .   .   .   .   .   .   .   .   .  \n",
      "F1 . .   .   .   .   .   .   .   .   .   LiM\n",
      "\n",
      "F4 E .   .   .   .   .   .   .   .   .   LiG\n",
      "F3 . .   .   .   .   .   .   .   .   .   HM\n",
      "F2 . .   .   .   .   .   .   .   .   .   .  \n",
      "F1 . .   .   .   .   .   .   .   .   .   LiM\n",
      "\n",
      "F4 . .   .   .   .   .   .   .   .   .   LiG\n",
      "F3 E .   .   .   .   .   .   .   .   HG HM\n",
      "F2 . .   .   .   .   .   .   .   .   .   .  \n",
      "F1 . .   .   .   .   .   .   .   .   .   LiM\n",
      "\n",
      "floor [<__main__.MicroChip object at 0x000001E956280F50>, <__main__.Generator object at 0x000001E956281110>]\n",
      "elevator []\n"
     ]
    }
   ],
   "source": [
    "building = Building()\n",
    "for note in test_data:\n",
    "    parse_notes(note)\n",
    "print(building)\n",
    "elevator = building.elevator\n",
    "# move HM to floor 2\n",
    "floor = elevator.get_floor()\n",
    "elevator.join(floor.member_by_name('HM'))\n",
    "elevator.up()\n",
    "print(building)\n",
    "# move HM AND HG to floor 3\n",
    "floor = elevator.get_floor()\n",
    "elevator.join(floor.member_by_name('HM'))\n",
    "elevator.join(floor.member_by_name('HG'))\n",
    "elevator.up()\n",
    "print(building)\n",
    "\n",
    "# move LG AND HG to floor 4\n",
    "floor = elevator.get_floor()\n",
    "elevator.join(floor.member_by_name('LiG'))\n",
    "elevator.join(floor.member_by_name('HG'))\n",
    "elevator.up()\n",
    "print(building)\n",
    "# try to move HG up, should fail\n",
    "floor = elevator.get_floor()\n",
    "elevator.join(floor.member_by_name('HG'))\n",
    "elevator.up()\n",
    "print(building)\n",
    "\n",
    "elevator.down()\n",
    "\n",
    "print(building)\n",
    "floor = elevator.get_floor()\n",
    "print(f\"floor {floor.members}\")\n",
    "print(f\"elevator {elevator.members}\")"
   ]
  },
  {
   "cell_type": "code",
   "execution_count": 73,
   "metadata": {},
   "outputs": [],
   "source": [
    "def state(self):\n",
    "    elements = []\n",
    "    for floor_num in range(4,0,-1):\n",
    "        floor = self.floors[floor_num]\n",
    "        print(floor)\n",
    "        for member in floor.members:\n",
    "            if not member.element in elements:\n",
    "                elements.append(member.element)\n",
    "    state = str(self)\n",
    "    for idx, element in enumerate(elements):\n",
    "        state = state.replace(element,str(idx))\n",
    "    print(state)\n",
    "            \n",
    "    "
   ]
  },
  {
   "cell_type": "code",
   "execution_count": 75,
   "metadata": {},
   "outputs": [
    {
     "name": "stdout",
     "output_type": "stream",
     "text": [
      "F4 . .   .   .   .   .   .   .   .   .   LiG\n",
      "F3 E .   .   .   .   .   .   .   .   HG HM\n",
      "F2 . .   .   .   .   .   .   .   .   .   .  \n",
      "F1 . .   .   .   .   .   .   .   .   .   LiM\n",
      "F4 . .   .   .   .   .   .   .   .   .   0G\n",
      "F3 E .   .   .   .   .   .   .   .   1G 1M\n",
      "F2 . .   .   .   .   .   .   .   .   .   .  \n",
      "F1 . .   .   .   .   .   .   .   .   .   0M\n",
      "\n"
     ]
    }
   ],
   "source": [
    "state(building)"
   ]
  },
  {
   "cell_type": "code",
   "execution_count": 71,
   "metadata": {},
   "outputs": [
    {
     "name": "stdout",
     "output_type": "stream",
     "text": [
      "F4 . .   .   .   .   .   .   .   .   .   .  \n",
      "F3 . .   .   .   .   .   .   .   .   .   LiG\n",
      "F2 E .   .   .   .   .   .   .   .   HG HM\n",
      "F1 . .   .   .   .   .   .   .   .   .   LiM\n",
      "\n",
      "floor [<__main__.MicroChip object at 0x000001BF44936490>]\n",
      "elevator []\n"
     ]
    }
   ],
   "source": [
    "building = Building()\n",
    "for note in test_data:\n",
    "    parse_notes(note)\n",
    "elevator = building.elevator\n",
    "floor = elevator.get_floor()\n",
    "elevator.join(floor.member_by_name('HM'))\n",
    "elevator.up()\n",
    "print(building)\n",
    "\n",
    "print(f\"floor {floor.members}\")\n",
    "print(f\"elevator {elevator.members}\")"
   ]
  },
  {
   "cell_type": "code",
   "execution_count": 39,
   "metadata": {},
   "outputs": [
    {
     "name": "stdout",
     "output_type": "stream",
     "text": [
      "4\n",
      "3\n",
      "2\n",
      "1\n"
     ]
    }
   ],
   "source": [
    "state(building)"
   ]
  },
  {
   "cell_type": "code",
   "execution_count": 81,
   "metadata": {},
   "outputs": [
    {
     "name": "stdout",
     "output_type": "stream",
     "text": [
      "F4 . .   .   .   .   .   .   .   .   .   .  \n",
      "F3 . .   .   .   .   .   .   .   .   .   LiG\n",
      "F2 . .   .   .   .   .   .   .   .   HG LiM\n",
      "F1 E .   .   .   .   .   .   .   .   .   HM\n",
      "\n"
     ]
    }
   ],
   "source": [
    "print(building)"
   ]
  },
  {
   "cell_type": "code",
   "execution_count": 83,
   "metadata": {},
   "outputs": [
    {
     "name": "stdout",
     "output_type": "stream",
     "text": [
      "F4 . .   .   .   .   .   .   .   .   .   .  \n",
      "F3 . .   .   .   .   .   .   .   .   .   LiG\n",
      "F2 . .   .   .   .   .   .   .   .   .   HG\n",
      "F1 E .   .   .   .   .   .   .   .   HM LiM\n",
      "\n",
      "F4 . .   .   .   .   .   .   .   .   .   .  \n",
      "F3 . .   .   .   .   .   .   .   .   .   0G\n",
      "F2 . .   .   .   .   .   .   .   .   .   1G\n",
      "F1 E .   .   .   .   .   .   .   .   1M 0M\n",
      "\n"
     ]
    }
   ],
   "source": [
    "building = Building()\n",
    "for note in test_data:\n",
    "    parse_notes(note)\n",
    "elevator = building.elevator\n",
    "floor = elevator.get_floor()\n",
    "print(building)\n",
    "print(building.state())"
   ]
  },
  {
   "cell_type": "code",
   "execution_count": 85,
   "metadata": {},
   "outputs": [
    {
     "name": "stdout",
     "output_type": "stream",
     "text": [
      "F4 . .   .   .   .   .   .   .   .   .   .  \n",
      "F3 . .   .   .   .   .   .   .   .   .   LiG\n",
      "F2 . .   .   .   .   .   .   .   .   .   HG\n",
      "F1 E .   .   .   .   .   .   .   .   HM LiM\n",
      "\n"
     ]
    }
   ],
   "source": [
    "print(building)"
   ]
  },
  {
   "cell_type": "code",
   "execution_count": 105,
   "metadata": {},
   "outputs": [
    {
     "name": "stdout",
     "output_type": "stream",
     "text": [
      "F4 . .   .   .   .   .   .   .   .   .   .  \n",
      "F3 E .   .   .   .   .   .   .   HG HM LiG\n",
      "F2 . .   .   .   .   .   .   .   .   .   .  \n",
      "F1 . .   .   .   .   .   .   .   .   .   LiM\n",
      "\n",
      "False\n",
      "F4 . .   .   .   .   .   .   .   .   .   .  \n",
      "F3 . .   .   .   .   .   .   .   .   HG HM\n",
      "F2 E .   .   .   .   .   .   .   .   LiG LiM\n",
      "F1 . .   .   .   .   .   .   .   .   .   .  \n",
      "\n",
      "Elevator, stops: 5 - floor: 2 - holding: []\n"
     ]
    }
   ],
   "source": [
    "building = Building()\n",
    "for note in test_data:\n",
    "    parse_notes(note)\n",
    "elevator = building.elevator\n",
    "elevator.join(elevator.get_floor().member_by_name('HM'))\n",
    "elevator.up()\n",
    "elevator.join(elevator.get_floor().member_by_name('HM'))\n",
    "elevator.join(elevator.get_floor().member_by_name('HG'))\n",
    "elevator.up()\n",
    "print(building)\n",
    "elevator.join(elevator.get_floor().member_by_name('LiG'))\n",
    "elevator.down()\n",
    "elevator.join(elevator.get_floor().member_by_name('LiG'))\n",
    "elevator.down()\n",
    "elevator.join(elevator.get_floor().member_by_name('LiG'))\n",
    "elevator.join(elevator.get_floor().member_by_name('LiM'))\n",
    "elevator.up()\n",
    "elevator.join(elevator.get_floor().member_by_name('LiG'))\n",
    "print(elevator.down())\n",
    "print(building)\n",
    "print(elevator)"
   ]
  },
  {
   "cell_type": "code",
   "execution_count": null,
   "metadata": {},
   "outputs": [],
   "source": []
  }
 ],
 "metadata": {
  "kernelspec": {
   "display_name": "Python 3 (ipykernel)",
   "language": "python",
   "name": "python3"
  },
  "language_info": {
   "codemirror_mode": {
    "name": "ipython",
    "version": 3
   },
   "file_extension": ".py",
   "mimetype": "text/x-python",
   "name": "python",
   "nbconvert_exporter": "python",
   "pygments_lexer": "ipython3",
   "version": "3.11.7"
  }
 },
 "nbformat": 4,
 "nbformat_minor": 4
}
