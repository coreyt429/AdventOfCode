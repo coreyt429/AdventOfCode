{
 "cells": [
  {
   "cell_type": "code",
   "execution_count": 1,
   "metadata": {},
   "outputs": [],
   "source": [
    "import os\n",
    "import sys\n",
    "sys.path.append(os.path.realpath('../..'))\n",
    "import aoc\n",
    "my_aoc = aoc.AdventOfCode(2021,5)"
   ]
  },
  {
   "cell_type": "code",
   "execution_count": 2,
   "metadata": {},
   "outputs": [],
   "source": [
    "input_text = \"\"\"0,9 -> 5,9\n",
    "8,0 -> 0,8\n",
    "9,4 -> 3,4\n",
    "2,2 -> 2,1\n",
    "7,0 -> 7,4\n",
    "6,4 -> 2,0\n",
    "0,9 -> 2,9\n",
    "3,4 -> 1,4\n",
    "0,0 -> 8,8\n",
    "5,5 -> 8,2\"\"\""
   ]
  },
  {
   "cell_type": "code",
   "execution_count": 17,
   "metadata": {},
   "outputs": [
    {
     "name": "stdout",
     "output_type": "stream",
     "text": [
      "5\n"
     ]
    }
   ],
   "source": [
    "from collections import defaultdict\n",
    "\n",
    "def part_1(lines):\n",
    "    points = defaultdict(int)\n",
    "    x = {}\n",
    "    y = {}\n",
    "    p = {}\n",
    "    for line in lines:\n",
    "        p['a'], p['b'] = line.split(' -> ')\n",
    "        for label, value in p.items():\n",
    "            x[label], y[label] = (int(num) for num in value.split(','))\n",
    "        if not any([len(set(x.values())) == 1, len(set(y.values())) == 1]):\n",
    "            continue\n",
    "        for x_val in range(min(x.values()), max(x.values()) + 1):\n",
    "            for y_val in range(min(y.values()), max(y.values()) + 1):\n",
    "                points[(x_val, y_val)] += 1\n",
    "    counter = 0\n",
    "    for point, count in points.items():\n",
    "        if count > 1:\n",
    "            counter += 1\n",
    "    return counter\n",
    "\n",
    "result = part_1(input_text.splitlines())\n",
    "print(result)\n",
    "\n",
    "\n"
   ]
  },
  {
   "cell_type": "code",
   "execution_count": null,
   "metadata": {},
   "outputs": [
    {
     "name": "stdout",
     "output_type": "stream",
     "text": [
      "(0, 9)\n",
      "(1, 9)\n",
      "(2, 9)\n",
      "(3, 4)\n",
      "(7, 4)\n"
     ]
    }
   ],
   "source": []
  },
  {
   "cell_type": "code",
   "execution_count": null,
   "metadata": {},
   "outputs": [],
   "source": []
  }
 ],
 "metadata": {
  "kernelspec": {
   "display_name": "base",
   "language": "python",
   "name": "python3"
  },
  "language_info": {
   "codemirror_mode": {
    "name": "ipython",
    "version": 3
   },
   "file_extension": ".py",
   "mimetype": "text/x-python",
   "name": "python",
   "nbconvert_exporter": "python",
   "pygments_lexer": "ipython3",
   "version": "3.11.7"
  }
 },
 "nbformat": 4,
 "nbformat_minor": 4
}
