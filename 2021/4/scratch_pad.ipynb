{
 "cells": [
  {
   "cell_type": "code",
   "execution_count": 1,
   "metadata": {},
   "outputs": [],
   "source": [
    "import os\n",
    "import sys\n",
    "sys.path.append(os.path.realpath('../..'))\n",
    "import aoc\n",
    "my_aoc = aoc.AdventOfCode(2021,4)\n",
    "from solution import Bingo, BingoCard"
   ]
  },
  {
   "cell_type": "code",
   "execution_count": 2,
   "metadata": {},
   "outputs": [],
   "source": [
    "input_text = \"\"\"7,4,9,5,11,17,23,2,0,14,21,24,10,16,13,6,15,25,12,22,18,20,8,19,3,26,1\n",
    "\n",
    "22 13 17 11  0\n",
    " 8  2 23  4 24\n",
    "21  9 14 16  7\n",
    " 6 10  3 18  5\n",
    " 1 12 20 15 19\n",
    "\n",
    " 3 15  0  2 22\n",
    " 9 18 13 17  5\n",
    "19  8  7 25 23\n",
    "20 11 10 24  4\n",
    "14 21 16 12  6\n",
    "\n",
    "14 21 17 24  4\n",
    "10 16 15  9 19\n",
    "18  8 23 26 20\n",
    "22 11 13  6  5\n",
    " 2  0 12  3  7\"\"\""
   ]
  },
  {
   "cell_type": "code",
   "execution_count": null,
   "metadata": {},
   "outputs": [],
   "source": []
  },
  {
   "cell_type": "code",
   "execution_count": 3,
   "metadata": {},
   "outputs": [
    {
     "name": "stdout",
     "output_type": "stream",
     "text": [
      " 3 15  0  2 \u001b[32m22\u001b[39m \n",
      " 9 18 13 17 \u001b[32m 5\u001b[39m \n",
      "19  8  7 25 \u001b[32m23\u001b[39m \n",
      "20 11 10 24 \u001b[32m 4\u001b[39m \n",
      "14 21 16 12 \u001b[32m 6\u001b[39m \n",
      "\n",
      "Winner! 5808 22\n",
      "\n",
      "\n"
     ]
    }
   ],
   "source": [
    "test = \"\"\" 3 15  0  2 22\n",
    " 9 18 13 17  5\n",
    "19  8  7 25 23\n",
    "20 11 10 24  4\n",
    "14 21 16 12  6\"\"\"\n",
    "\n",
    "card = BingoCard(test)\n",
    "for num in [6, 4, 23, 5, 22]:\n",
    "    card.mark(num)\n",
    "print(card)\n"
   ]
  },
  {
   "cell_type": "code",
   "execution_count": 4,
   "metadata": {},
   "outputs": [
    {
     "name": "stdout",
     "output_type": "stream",
     "text": [
      "\u001b[32m14\u001b[39m \u001b[32m21\u001b[39m \u001b[32m17\u001b[39m \u001b[32m24\u001b[39m \u001b[32m 4\u001b[39m \n",
      "10 16 15 \u001b[32m 9\u001b[39m 19 \n",
      "18  8 \u001b[32m23\u001b[39m 26 20 \n",
      "22 \u001b[32m11\u001b[39m 13  6 \u001b[32m 5\u001b[39m \n",
      "\u001b[32m 2\u001b[39m \u001b[32m 0\u001b[39m 12  3 \u001b[32m 7\u001b[39m \n",
      "\n",
      "\n",
      "22 13 \u001b[32m17\u001b[39m \u001b[32m11\u001b[39m \u001b[32m 0\u001b[39m \n",
      " 8 \u001b[32m 2\u001b[39m \u001b[32m23\u001b[39m \u001b[32m 4\u001b[39m \u001b[32m24\u001b[39m \n",
      "\u001b[32m21\u001b[39m \u001b[32m 9\u001b[39m \u001b[32m14\u001b[39m \u001b[32m16\u001b[39m \u001b[32m 7\u001b[39m \n",
      " 6 \u001b[32m10\u001b[39m  3 18 \u001b[32m 5\u001b[39m \n",
      " 1 12 20 15 19 \n",
      "\n",
      "\n"
     ]
    },
    {
     "data": {
      "text/plain": [
       "1924"
      ]
     },
     "execution_count": 4,
     "metadata": {},
     "output_type": "execute_result"
    }
   ],
   "source": [
    "game = Bingo(input_text)\n",
    "game.play(mode=2)"
   ]
  },
  {
   "cell_type": "code",
   "execution_count": 5,
   "metadata": {},
   "outputs": [
    {
     "name": "stdout",
     "output_type": "stream",
     "text": [
      "[7, 4, 9, 5, 11, 17, 23, 2, 0, 14, 21, 24, 10, 16, 13, 6, 15, 25, 12, 22, 18, 20, 8, 19, 3, 26, 1]\n"
     ]
    }
   ],
   "source": [
    "print(game.numbers)"
   ]
  },
  {
   "cell_type": "code",
   "execution_count": 6,
   "metadata": {},
   "outputs": [
    {
     "name": "stdout",
     "output_type": "stream",
     "text": [
      "22 13 \u001b[32m17\u001b[39m \u001b[32m11\u001b[39m \u001b[32m 0\u001b[39m \n",
      " 8 \u001b[32m 2\u001b[39m \u001b[32m23\u001b[39m \u001b[32m 4\u001b[39m \u001b[32m24\u001b[39m \n",
      "\u001b[32m21\u001b[39m \u001b[32m 9\u001b[39m \u001b[32m14\u001b[39m \u001b[32m16\u001b[39m \u001b[32m 7\u001b[39m \n",
      " 6 \u001b[32m10\u001b[39m  3 18 \u001b[32m 5\u001b[39m \n",
      " 1 12 20 15 19 \n",
      "\n",
      "Winner! 2192 16\n",
      "\n",
      "\n",
      " 3 15 \u001b[32m 0\u001b[39m \u001b[32m 2\u001b[39m 22 \n",
      "\u001b[32m 9\u001b[39m 18 \u001b[32m13\u001b[39m \u001b[32m17\u001b[39m \u001b[32m 5\u001b[39m \n",
      "19  8 \u001b[32m 7\u001b[39m 25 \u001b[32m23\u001b[39m \n",
      "20 \u001b[32m11\u001b[39m \u001b[32m10\u001b[39m \u001b[32m24\u001b[39m \u001b[32m 4\u001b[39m \n",
      "\u001b[32m14\u001b[39m \u001b[32m21\u001b[39m \u001b[32m16\u001b[39m 12  6 \n",
      "\n",
      "Winner! 1924 13\n",
      "\n",
      "\n",
      "\u001b[32m14\u001b[39m \u001b[32m21\u001b[39m \u001b[32m17\u001b[39m \u001b[32m24\u001b[39m \u001b[32m 4\u001b[39m \n",
      "10 16 15 \u001b[32m 9\u001b[39m 19 \n",
      "18  8 \u001b[32m23\u001b[39m 26 20 \n",
      "22 \u001b[32m11\u001b[39m 13  6 \u001b[32m 5\u001b[39m \n",
      "\u001b[32m 2\u001b[39m \u001b[32m 0\u001b[39m 12  3 \u001b[32m 7\u001b[39m \n",
      "\n",
      "Winner! 4512 24\n",
      "\n",
      "\n"
     ]
    }
   ],
   "source": [
    "for card in game.cards:\n",
    "    print(card)"
   ]
  },
  {
   "cell_type": "code",
   "execution_count": null,
   "metadata": {},
   "outputs": [],
   "source": []
  }
 ],
 "metadata": {
  "kernelspec": {
   "display_name": "base",
   "language": "python",
   "name": "python3"
  },
  "language_info": {
   "codemirror_mode": {
    "name": "ipython",
    "version": 3
   },
   "file_extension": ".py",
   "mimetype": "text/x-python",
   "name": "python",
   "nbconvert_exporter": "python",
   "pygments_lexer": "ipython3",
   "version": "3.11.7"
  }
 },
 "nbformat": 4,
 "nbformat_minor": 4
}
