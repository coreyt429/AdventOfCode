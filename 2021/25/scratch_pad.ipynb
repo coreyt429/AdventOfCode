{
 "cells": [
  {
   "cell_type": "code",
   "execution_count": 10,
   "metadata": {},
   "outputs": [],
   "source": [
    "import os\n",
    "import sys\n",
    "sys.path.append(os.path.realpath('../..'))\n",
    "import aoc\n",
    "my_aoc = aoc.AdventOfCode(2021,25)"
   ]
  },
  {
   "cell_type": "code",
   "execution_count": 11,
   "metadata": {},
   "outputs": [],
   "source": [
    "input_text = \"\"\"v...>>.vv>\n",
    ".vv>>.vv..\n",
    ">>.>v>...v\n",
    ">>v>>.>.v.\n",
    "v>v.vv.v..\n",
    ">.>>..v...\n",
    ".vv..>.>v.\n",
    "v.v..>>v.v\n",
    "....v..v.>\"\"\""
   ]
  },
  {
   "cell_type": "code",
   "execution_count": null,
   "metadata": {},
   "outputs": [],
   "source": []
  },
  {
   "cell_type": "code",
   "execution_count": 32,
   "metadata": {},
   "outputs": [],
   "source": [
    "def move_sea_cucumbers(in_map):\n",
    "    \"\"\"Function to move sea cucumbers one step\"\"\"\n",
    "    # Every step, the sea cucumbers in the east-facing herd attempt to move forward one location,\n",
    "    # then the sea cucumbers in the south-facing herd attempt to move forward one location. When\n",
    "    # a herd moves forward, every sea cucumber in the herd first simultaneously considers whether\n",
    "    # there is a sea cucumber in the adjacent location it's facing (even another sea cucumber\n",
    "    # facing the same direction), and then every sea cucumber facing an empty location\n",
    "    # simultaneously moves into that location.\n",
    "    out_map = [['.']*len(line) for line in in_map]\n",
    "    row_count = len(in_map)\n",
    "    col_count = len(in_map[0])\n",
    "    move_count = 0\n",
    "    # move east\n",
    "    for row, line in enumerate(in_map):\n",
    "        for col, char in enumerate(line):\n",
    "            if char == '>':\n",
    "                if line[(col + 1) % col_count] == '.':\n",
    "                    out_map[row][(col + 1) % col_count] = '>'\n",
    "                    out_map[row][col] = '.'\n",
    "                    move_count += 1\n",
    "                else:\n",
    "                    out_map[row][col] = '>'\n",
    "    # move south\n",
    "    for row, line in enumerate(in_map):\n",
    "        for col, char in enumerate(line):\n",
    "            if char == 'v':\n",
    "                # if slot is open in the current map, and not already occupied in the new map\n",
    "                if in_map[(row + 1) % row_count][col] != 'v' and out_map[(row + 1) % row_count][col] == '.':\n",
    "                    out_map[(row + 1) % row_count][col] = 'v'\n",
    "                    out_map[row][col] = '.'\n",
    "                    move_count += 1\n",
    "                else:\n",
    "                    out_map[row][col] = 'v'\n",
    "    return move_count, out_map\n",
    "\n",
    "def print_map(in_map, title):\n",
    "    print(f\"{title}:\")\n",
    "    for line in in_map:\n",
    "        print(''.join(line))\n",
    "    print()"
   ]
  },
  {
   "cell_type": "code",
   "execution_count": 33,
   "metadata": {},
   "outputs": [
    {
     "name": "stdout",
     "output_type": "stream",
     "text": [
      "No movement at 58\n"
     ]
    }
   ],
   "source": [
    "current_map = [list(line) for line in input_text.splitlines()]\n",
    "# print_map(current_map, \"Initial state\")\n",
    "idx = 0\n",
    "while True:\n",
    "    idx += 1\n",
    "    moves, current_map = move_sea_cucumbers(current_map)\n",
    "    if moves == 0:\n",
    "        print(f\"No movement at {idx}\")\n",
    "        break\n",
    "    ess = 's'\n",
    "    if idx == 1:\n",
    "        ess = ''\n",
    "    # print_map(current_map, f\"After {idx} step{ess}\")"
   ]
  },
  {
   "cell_type": "code",
   "execution_count": null,
   "metadata": {},
   "outputs": [
    {
     "data": {
      "text/plain": [
       "0"
      ]
     },
     "execution_count": 8,
     "metadata": {},
     "output_type": "execute_result"
    }
   ],
   "source": [
    "10 % 10"
   ]
  },
  {
   "cell_type": "code",
   "execution_count": null,
   "metadata": {},
   "outputs": [],
   "source": []
  },
  {
   "cell_type": "code",
   "execution_count": null,
   "metadata": {},
   "outputs": [],
   "source": []
  }
 ],
 "metadata": {
  "kernelspec": {
   "display_name": "base",
   "language": "python",
   "name": "python3"
  },
  "language_info": {
   "codemirror_mode": {
    "name": "ipython",
    "version": 3
   },
   "file_extension": ".py",
   "mimetype": "text/x-python",
   "name": "python",
   "nbconvert_exporter": "python",
   "pygments_lexer": "ipython3",
   "version": "3.11.7"
  }
 },
 "nbformat": 4,
 "nbformat_minor": 4
}
