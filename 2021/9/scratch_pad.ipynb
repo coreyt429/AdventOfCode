{
 "cells": [
  {
   "cell_type": "code",
   "execution_count": 1,
   "metadata": {},
   "outputs": [],
   "source": [
    "import os\n",
    "import sys\n",
    "sys.path.append(os.path.realpath('../..'))\n",
    "import aoc\n",
    "my_aoc = aoc.AdventOfCode(2021,9)\n",
    "from grid import Grid\n",
    "from solution import is_low_point, convert_to_ints, calculate_basin_size"
   ]
  },
  {
   "cell_type": "code",
   "execution_count": 2,
   "metadata": {},
   "outputs": [],
   "source": [
    "input_text = \"\"\"2199943210\n",
    "3987894921\n",
    "9856789892\n",
    "8767896789\n",
    "9899965678\"\"\""
   ]
  },
  {
   "cell_type": "code",
   "execution_count": 3,
   "metadata": {},
   "outputs": [],
   "source": [
    "from heapq import heappop, heappush\n",
    "\n",
    "\n",
    "\n",
    "    "
   ]
  },
  {
   "cell_type": "code",
   "execution_count": 4,
   "metadata": {},
   "outputs": [
    {
     "name": "stdout",
     "output_type": "stream",
     "text": [
      "15\n",
      "{(1, 0): 3, (9, 0): 9, (2, 2): 14, (6, 4): 9}\n",
      "[14, 9, 9]\n",
      "1134\n"
     ]
    }
   ],
   "source": [
    "import math\n",
    "grid = Grid(input_text)\n",
    "convert_to_ints(grid)\n",
    "total = 0\n",
    "basins = {}\n",
    "for point in grid:\n",
    "    if is_low_point(point, grid):\n",
    "        risk_level = int(grid.get_point(point)) + 1\n",
    "        basins[point] = calculate_basin_size(point, grid)\n",
    "        total += risk_level\n",
    "print(total)\n",
    "print(basins)\n",
    "basin_sizes = list(reversed(sorted(basins.values())))\n",
    "print(basin_sizes[:3])\n",
    "print(math.prod(basin_sizes[:3]))"
   ]
  },
  {
   "cell_type": "code",
   "execution_count": null,
   "metadata": {},
   "outputs": [],
   "source": []
  }
 ],
 "metadata": {
  "kernelspec": {
   "display_name": "base",
   "language": "python",
   "name": "python3"
  },
  "language_info": {
   "codemirror_mode": {
    "name": "ipython",
    "version": 3
   },
   "file_extension": ".py",
   "mimetype": "text/x-python",
   "name": "python",
   "nbconvert_exporter": "python",
   "pygments_lexer": "ipython3",
   "version": "3.11.7"
  }
 },
 "nbformat": 4,
 "nbformat_minor": 4
}
