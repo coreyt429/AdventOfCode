{
 "cells": [
  {
   "cell_type": "code",
   "execution_count": 1,
   "metadata": {},
   "outputs": [],
   "source": [
    "import os\n",
    "import sys\n",
    "sys.path.append(os.path.realpath('../..'))\n",
    "import aoc\n",
    "my_aoc = aoc.AdventOfCode(2021,20)\n",
    "from grid import Grid\n",
    "from solution import Image"
   ]
  },
  {
   "cell_type": "code",
   "execution_count": 2,
   "metadata": {},
   "outputs": [],
   "source": [
    "input_text = \"\"\"..#.#..#####.#.#.#.###.##.....###.##.#..###.####..#####..#....#..#..##..###..######.###...####..#..#####..##..#.#####...##.#.#..#.##..#.#......#.###.######.###.####...#.##.##..#..#..#####.....#.#....###..#.##......#.....#..#..#..##..#...##.######.####.####.#.#...#.......#..#.#.#...####.##.#......#..#...##.#.##..#...##.#.##..###.#......#.#.......#.#.#.####.###.##...#.....####.#..#..#.##.#....##..#.####....##...##..#...#......#.#.......#.......##..####..#...#.#.#...##..#.#..###..#####........#..####......#..#\n",
    "\n",
    "#..#.\n",
    "#....\n",
    "##..#\n",
    "..#..\n",
    "..###\"\"\""
   ]
  },
  {
   "cell_type": "code",
   "execution_count": 3,
   "metadata": {},
   "outputs": [
    {
     "name": "stdout",
     "output_type": "stream",
     "text": [
      "input_image:\n",
      "...............\n",
      "...............\n",
      "...............\n",
      "...............\n",
      "...............\n",
      ".....#..#......\n",
      ".....#.........\n",
      ".....##..#.....\n",
      ".......#.......\n",
      ".......###.....\n",
      "...............\n",
      "...............\n",
      "...............\n",
      "...............\n",
      "...............\n",
      "\n",
      "enhanced_image:\n",
      "...............\n",
      "...............\n",
      "...............\n",
      "...............\n",
      ".....##.##.....\n",
      "....#..#.#.....\n",
      "....##.#..#....\n",
      "....####..#....\n",
      ".....#..##.....\n",
      "......##..#....\n",
      ".......#.#.....\n",
      "...............\n",
      "...............\n",
      "...............\n",
      "...............\n",
      "\n",
      "final_image:\n",
      "...............\n",
      "...............\n",
      "...............\n",
      "..........#....\n",
      "....#..#.#.....\n",
      "...#.#...###...\n",
      "...#...##.#....\n",
      "...#.....#.#...\n",
      "....#.#####....\n",
      ".....#.#####...\n",
      "......##.##....\n",
      ".......###.....\n",
      "...............\n",
      "...............\n",
      "...............\n",
      "\n",
      "35\n"
     ]
    }
   ],
   "source": [
    "\n",
    "lines = input_text.splitlines()\n",
    "enhancement_filter = lines.pop(0)\n",
    "lines.pop(0)\n",
    "image_data = []\n",
    "filler = '.'*(len(lines[0])+10)\n",
    "for _ in range(5):\n",
    "    image_data.append(filler)\n",
    "for line in lines:\n",
    "    image_data.append('.....'+line+'.....')\n",
    "for _ in range(5):\n",
    "    image_data.append(filler)\n",
    "input_image = Image(image_data, enhancement_filter)\n",
    "print(f\"input_image:\\n{input_image}\\n\")\n",
    "enhanced_image = input_image.enhance()\n",
    "print(f\"enhanced_image:\\n{enhanced_image}\\n\")\n",
    "final_image = enhanced_image.enhance()\n",
    "print(f\"final_image:\\n{final_image}\\n\")\n",
    "print(str(final_image).count('#'))"
   ]
  },
  {
   "cell_type": "code",
   "execution_count": null,
   "metadata": {},
   "outputs": [],
   "source": []
  }
 ],
 "metadata": {
  "kernelspec": {
   "display_name": "base",
   "language": "python",
   "name": "python3"
  },
  "language_info": {
   "codemirror_mode": {
    "name": "ipython",
    "version": 3
   },
   "file_extension": ".py",
   "mimetype": "text/x-python",
   "name": "python",
   "nbconvert_exporter": "python",
   "pygments_lexer": "ipython3",
   "version": "3.11.7"
  }
 },
 "nbformat": 4,
 "nbformat_minor": 4
}
