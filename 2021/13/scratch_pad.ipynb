{
 "cells": [
  {
   "cell_type": "code",
   "execution_count": 16,
   "metadata": {},
   "outputs": [],
   "source": [
    "import os\n",
    "import sys\n",
    "sys.path.append(os.path.realpath('../..'))\n",
    "import aoc\n",
    "my_aoc = aoc.AdventOfCode(2021,13)\n",
    "from grid import Grid"
   ]
  },
  {
   "cell_type": "code",
   "execution_count": 17,
   "metadata": {},
   "outputs": [],
   "source": [
    "input_text = \"\"\"6,10\n",
    "0,14\n",
    "9,10\n",
    "0,3\n",
    "10,4\n",
    "4,11\n",
    "6,0\n",
    "6,12\n",
    "4,1\n",
    "0,13\n",
    "10,12\n",
    "3,4\n",
    "3,0\n",
    "8,4\n",
    "1,10\n",
    "2,14\n",
    "8,10\n",
    "9,0\n",
    "\n",
    "fold along y=7\n",
    "fold along x=5\"\"\""
   ]
  },
  {
   "cell_type": "code",
   "execution_count": 24,
   "metadata": {},
   "outputs": [],
   "source": [
    "def parse_input(text):\n",
    "    \"\"\"Function to parse input returning dots and folds\"\"\"\n",
    "    dots_text, folds_text = text.split('\\n\\n')\n",
    "    dots = set()\n",
    "    for line in dots_text.splitlines():\n",
    "        x_val, y_val = line.split(',')\n",
    "        dots.add((int(x_val), int(y_val)))\n",
    "    folds = []\n",
    "    for line in folds_text.splitlines():\n",
    "        fold = line.split(' ')[-1]\n",
    "        axis, value = fold.split('=')\n",
    "        folds.append((axis, int(value)))\n",
    "    return dots, folds\n",
    "\n",
    "def fold_paper(dots, fold):\n",
    "    \"\"\"Function to fold paper and return new dot set\"\"\"\n",
    "    new_dots = set()\n",
    "    axis, value = fold\n",
    "    val = {}\n",
    "    for dot in dots:\n",
    "        val['x'], val['y'] = dot\n",
    "        if val[axis] > value:\n",
    "            val[axis] = value - abs(val[axis] - value)\n",
    "        new_dots.add((val['x'], val['y']))\n",
    "    return new_dots"
   ]
  },
  {
   "cell_type": "code",
   "execution_count": 26,
   "metadata": {},
   "outputs": [
    {
     "name": "stdout",
     "output_type": "stream",
     "text": [
      "16\n",
      "#####\n",
      "#   #\n",
      "#   #\n",
      "#   #\n",
      "#####\n"
     ]
    }
   ],
   "source": [
    "dots, folds = parse_input(input_text)\n",
    "for fold in folds:\n",
    "    dots = fold_paper(dots, fold)\n",
    "\n",
    "print(len(dots))\n",
    "grid = Grid(' ', use_overrides=False)\n",
    "for dot in dots:\n",
    "    grid.set_point(dot, '#')\n",
    "grid.update()\n",
    "print(grid)"
   ]
  },
  {
   "cell_type": "code",
   "execution_count": null,
   "metadata": {},
   "outputs": [],
   "source": []
  },
  {
   "cell_type": "code",
   "execution_count": null,
   "metadata": {},
   "outputs": [],
   "source": []
  }
 ],
 "metadata": {
  "kernelspec": {
   "display_name": "base",
   "language": "python",
   "name": "python3"
  },
  "language_info": {
   "codemirror_mode": {
    "name": "ipython",
    "version": 3
   },
   "file_extension": ".py",
   "mimetype": "text/x-python",
   "name": "python",
   "nbconvert_exporter": "python",
   "pygments_lexer": "ipython3",
   "version": "3.11.7"
  }
 },
 "nbformat": 4,
 "nbformat_minor": 4
}
