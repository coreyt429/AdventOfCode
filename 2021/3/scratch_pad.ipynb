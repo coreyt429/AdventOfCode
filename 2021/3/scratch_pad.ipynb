{
 "cells": [
  {
   "cell_type": "code",
   "execution_count": 1,
   "metadata": {},
   "outputs": [],
   "source": [
    "import os\n",
    "import sys\n",
    "sys.path.append(os.path.realpath('../..'))\n",
    "import aoc\n",
    "my_aoc = aoc.AdventOfCode(2021,3)\n",
    "\n",
    "from solution import *"
   ]
  },
  {
   "cell_type": "code",
   "execution_count": 2,
   "metadata": {},
   "outputs": [
    {
     "name": "stdout",
     "output_type": "stream",
     "text": [
      "(('0', '0', '1', '0', '0'), ('1', '1', '1', '1', '0'), ('1', '0', '1', '1', '0'), ('1', '0', '1', '1', '1'), ('1', '0', '1', '0', '1'), ('0', '1', '1', '1', '1'), ('0', '0', '1', '1', '1'), ('1', '1', '1', '0', '0'), ('1', '0', '0', '0', '0'), ('1', '1', '0', '0', '1'), ('0', '0', '0', '1', '0'), ('0', '1', '0', '1', '0'))\n",
      "gamma_rate: 22\n",
      "epsilon_rate: 9\n",
      "power_consumption: 198\n"
     ]
    }
   ],
   "source": [
    "input_text = \"\"\"00100\n",
    "11110\n",
    "10110\n",
    "10111\n",
    "10101\n",
    "01111\n",
    "00111\n",
    "11100\n",
    "10000\n",
    "11001\n",
    "00010\n",
    "01010\"\"\"\n",
    "\n",
    "diagnostic_report = parse_input(input_text.splitlines())\n",
    "print(diagnostic_report)\n",
    "gamma_rate = calc_gamma_rate(diagnostic_report)\n",
    "print(f\"gamma_rate: {gamma_rate}\")\n",
    "epsilon_rate = calc_epsilon_rate(diagnostic_report)\n",
    "print(f\"epsilon_rate: {epsilon_rate}\")\n",
    "print(f\"power_consumption: {epsilon_rate * gamma_rate}\")"
   ]
  },
  {
   "cell_type": "code",
   "execution_count": 3,
   "metadata": {},
   "outputs": [
    {
     "name": "stdout",
     "output_type": "stream",
     "text": [
      "230\n"
     ]
    }
   ],
   "source": [
    "print(calc_life_support_rating(input_text.splitlines()))"
   ]
  },
  {
   "cell_type": "code",
   "execution_count": 4,
   "metadata": {},
   "outputs": [
    {
     "data": {
      "text/plain": [
       "'0'"
      ]
     },
     "execution_count": 4,
     "metadata": {},
     "output_type": "execute_result"
    }
   ],
   "source": [
    "# this seems to work:\n",
    "common_element(['0', '1'], 1, mode='least')"
   ]
  },
  {
   "cell_type": "code",
   "execution_count": null,
   "metadata": {},
   "outputs": [],
   "source": []
  }
 ],
 "metadata": {
  "kernelspec": {
   "display_name": "base",
   "language": "python",
   "name": "python3"
  },
  "language_info": {
   "codemirror_mode": {
    "name": "ipython",
    "version": 3
   },
   "file_extension": ".py",
   "mimetype": "text/x-python",
   "name": "python",
   "nbconvert_exporter": "python",
   "pygments_lexer": "ipython3",
   "version": "3.11.7"
  }
 },
 "nbformat": 4,
 "nbformat_minor": 4
}
