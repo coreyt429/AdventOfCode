{
 "cells": [
  {
   "cell_type": "code",
   "execution_count": null,
   "metadata": {},
   "outputs": [],
   "source": [
    "import os\n",
    "import sys\n",
    "sys.path.append(os.path.realpath('../..'))\n",
    "import aoc\n",
    "my_aoc = aoc.AdventOfCode(2021,8)\n",
    "from solution import parse_input"
   ]
  },
  {
   "cell_type": "code",
   "execution_count": null,
   "metadata": {},
   "outputs": [],
   "source": [
    "digits = {\n",
    "    0: 'abcefg',\n",
    "    1: 'cf',\n",
    "    2: 'acdeg',\n",
    "    3: 'acdfg',\n",
    "    4: 'bcdf',\n",
    "    5: 'abdfg',\n",
    "    6: 'abdefg',\n",
    "    7: 'acf',\n",
    "    8: 'abcdefg',\n",
    "    9: 'abcdfg'\n",
    "}\n",
    "\n",
    "input_text = \"\"\"be cfbegad cbdgef fgaecd cgeb fdcge agebfd fecdb fabcd edb | fdgacbe cefdb cefbgd gcbe\n",
    "edbfga begcd cbg gc gcadebf fbgde acbgfd abcde gfcbed gfec | fcgedb cgb dgebacf gc\n",
    "fgaebd cg bdaec gdafb agbcfd gdcbef bgcad gfac gcb cdgabef | cg cg fdcagb cbg\n",
    "fbegcd cbd adcefb dageb afcb bc aefdc ecdab fgdeca fcdbega | efabcd cedba gadfec cb\n",
    "aecbfdg fbg gf bafeg dbefa fcge gcbea fcaegb dgceab fcbdga | gecf egdcabf bgf bfgea\n",
    "fgeab ca afcebg bdacfeg cfaedg gcfdb baec bfadeg bafgc acf | gebdcfa ecba ca fadegcb\n",
    "dbcfg fgd bdegcaf fgec aegbdf ecdfab fbedc dacgb gdcebf gf | cefg dcbef fcge gbcadfe\n",
    "bdfegc cbegaf gecbf dfcage bdacg ed bedf ced adcbefg gebcd | ed bcgafe cdgba cbgef\n",
    "egadfb cdbfeg cegd fecab cgb gbdefca cg fgcdab egfdb bfceg | gbdfcae bgc cg cgb\n",
    "gcafb gcf dcaebfg ecagb gf abcdeg gaef cafbge fdbac fegbdc | fgae cfgab fg bagce\"\"\""
   ]
  },
  {
   "cell_type": "code",
   "execution_count": null,
   "metadata": {},
   "outputs": [],
   "source": [
    "from heapq import heappop, heappush\n",
    "\n",
    "def matching_segments(pattern_a, pattern_b):\n",
    "    \"\"\"Count the matching characters in two strings\"\"\"\n",
    "    set_a = set(pattern_a)\n",
    "    set_b = set(pattern_b)\n",
    "    return len(set_a.intersection(set_b))\n",
    "\n",
    "def map_wires(signal_patterns):\n",
    "    \"\"\" Function to map wire signals to values\"\"\"\n",
    "    heap = []\n",
    "    for pattern in signal_patterns:\n",
    "        heappush(heap, (0, len(pattern), pattern))\n",
    "    \n",
    "    unique_lengths = {2:1, 3:7, 4:4, 7:8}\n",
    "\n",
    "    wire_map = {}\n",
    "    while heap:\n",
    "        turn, length, pattern = heappop(heap)\n",
    "        debug = False\n",
    "        if pattern == 'cbdgef':\n",
    "            debug = True\n",
    "        # map unique_length sequences\n",
    "        if length in unique_lengths:\n",
    "            wire_map[unique_lengths[length]] = pattern\n",
    "            continue\n",
    "\n",
    "        # finish turn 0 before attempting the others\n",
    "        # this ensures 1, 4,7, and 8 are set first\n",
    "        if turn < 1:\n",
    "            heappush(heap, (turn + 1, length, pattern))\n",
    "            continue\n",
    "        if debug:\n",
    "            print(turn, length, pattern)\n",
    "        # how well does it match 1?\n",
    "        if matching_segments(pattern, wire_map[1]) == 1:\n",
    "            if debug:\n",
    "                print(f\"{pattern} matches 1 character in {wire_map[1]}\")\n",
    "            # how well does it match 4?\n",
    "            if matching_segments(pattern, wire_map[4]) == 2:\n",
    "                if debug:\n",
    "                    print(f\"{pattern} matches 2 character in {wire_map[4]}\")\n",
    "                # 2: 1=1, 4=2, 7=2, 8=5,\n",
    "                wire_map[2] = pattern\n",
    "                continue\n",
    "            # how well does it match 8?\n",
    "            if matching_segments(pattern, wire_map[8]) == 5:\n",
    "                if debug:\n",
    "                    print(f\"{pattern} matches 5 character in {wire_map[8]}\")\n",
    "                # 5: 1=1, 4=3, 7=2, 8=5,\n",
    "                wire_map[5] = pattern\n",
    "                continue\n",
    "            if debug:\n",
    "                print(f\"{pattern} matches 6 character in {wire_map[8]}\")\n",
    "            # 6: 1=1, 4=3, 7=2, 8=6, \n",
    "            wire_map[6] = pattern\n",
    "            continue\n",
    "        else:\n",
    "            if debug:\n",
    "                print(f\"{pattern} matches 2 character in {wire_map[1]}\")\n",
    "            # how well does it match 4?\n",
    "            if matching_segments(pattern, wire_map[4]) == 4:\n",
    "                if debug:\n",
    "                    print(f\"{pattern} matches 4 character in {wire_map[4]}\")\n",
    "                # 9: 1=2, 4=4, 7=3, 8=6,\n",
    "                wire_map[9] = pattern\n",
    "                continue\n",
    "            # how well does it match 8?\n",
    "            if matching_segments(pattern, wire_map[8]) == 5:\n",
    "                if debug:\n",
    "                    print(f\"{pattern} matches 5 character in {wire_map[8]}\")\n",
    "                # 3: 1=2, 4=3, 7=3, 8=5,\n",
    "                wire_map[3] = pattern\n",
    "                continue\n",
    "            if debug:\n",
    "                print(f\"{pattern} matches 6 character in {wire_map[8]}\")\n",
    "            # 0: 1=2, 4=3, 7=3, 8=6, \n",
    "            wire_map[0] = pattern\n",
    "            continue\n",
    "        \n",
    "    # add reverse map\n",
    "    for key, value in list(wire_map.items()):\n",
    "        wire_map[''.join(sorted(value))] = key\n",
    "    \n",
    "    return wire_map\n",
    "             \n",
    "            \n",
    "\n",
    "        \n",
    "\n",
    "\n",
    "\n",
    "\n"
   ]
  },
  {
   "cell_type": "code",
   "execution_count": 61,
   "metadata": {},
   "outputs": [
    {
     "name": "stdout",
     "output_type": "stream",
     "text": [
      "26\n"
     ]
    }
   ],
   "source": [
    "data = parse_input(input_text.splitlines())\n",
    "target_lengths = [2, 3, 4, 7]\n",
    "counter = 0\n",
    "for datum in data:\n",
    "    for value in datum['output_value']:\n",
    "        if len(value) in target_lengths:\n",
    "            counter += 1\n",
    "print(counter)\n"
   ]
  },
  {
   "cell_type": "code",
   "execution_count": null,
   "metadata": {},
   "outputs": [
    {
     "name": "stdout",
     "output_type": "stream",
     "text": [
      "1 6 cbdgef\n",
      "cbdgef matches 2 character in be\n",
      "cbdgef matches 4 character in cgeb\n",
      "61229\n"
     ]
    }
   ],
   "source": [
    "data = parse_input(input_text.splitlines())\n",
    "total = 0\n",
    "for datum in data:\n",
    "     wire_map = map_wires(datum['signal_patterns'])\n",
    "     result_list = [wire_map[''.join(sorted(pattern))] for pattern in datum['output_value']]\n",
    "     result = 1000 * result_list[0] + 100 * result_list[1] + 10 * result_list[2] + result_list[3]\n",
    "     total += result\n",
    "print(total)\n",
    "\n"
   ]
  },
  {
   "cell_type": "code",
   "execution_count": 59,
   "metadata": {},
   "outputs": [
    {
     "name": "stdout",
     "output_type": "stream",
     "text": [
      "0: 1=2, 4=3, 7=3, 8=6, \n",
      "2: 1=1, 4=2, 7=2, 8=5, \n",
      "3: 1=2, 4=3, 7=3, 8=5, \n",
      "5: 1=1, 4=3, 7=2, 8=5, \n",
      "6: 1=1, 4=3, 7=2, 8=6, \n",
      "9: 1=2, 4=4, 7=3, 8=6, \n"
     ]
    }
   ],
   "source": [
    "for digit, sequence in digits.items():\n",
    "    if digit in [1, 4, 7, 8]:\n",
    "            continue\n",
    "    print(f\"{digit}: \", end='')\n",
    "    for digit_2 in [1, 4, 7, 8]:  \n",
    "        counter = 0\n",
    "        sequence_2 = digits[digit_2]\n",
    "        for char in sequence:\n",
    "            if char in sequence_2:\n",
    "                counter += 1\n",
    "        print(f\"{digit_2}={counter}, \", end='')\n",
    "    print()"
   ]
  },
  {
   "cell_type": "code",
   "execution_count": 34,
   "metadata": {},
   "outputs": [
    {
     "name": "stdout",
     "output_type": "stream",
     "text": [
      "1\n"
     ]
    }
   ],
   "source": [
    "a = 'abc'\n",
    "b = 'cde'\n",
    "a = set(a)\n",
    "b = set(b)\n",
    "print(len(a.intersection(b)))"
   ]
  },
  {
   "cell_type": "code",
   "execution_count": 46,
   "metadata": {},
   "outputs": [
    {
     "data": {
      "text/plain": [
       "'abcdefg'"
      ]
     },
     "execution_count": 46,
     "metadata": {},
     "output_type": "execute_result"
    }
   ],
   "source": [
    "''.join(sorted('dgebacf'))"
   ]
  },
  {
   "cell_type": "code",
   "execution_count": null,
   "metadata": {},
   "outputs": [],
   "source": []
  }
 ],
 "metadata": {
  "kernelspec": {
   "display_name": "base",
   "language": "python",
   "name": "python3"
  },
  "language_info": {
   "codemirror_mode": {
    "name": "ipython",
    "version": 3
   },
   "file_extension": ".py",
   "mimetype": "text/x-python",
   "name": "python",
   "nbconvert_exporter": "python",
   "pygments_lexer": "ipython3",
   "version": "3.11.7"
  }
 },
 "nbformat": 4,
 "nbformat_minor": 4
}
