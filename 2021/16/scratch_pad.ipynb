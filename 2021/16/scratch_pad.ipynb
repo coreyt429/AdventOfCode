{
 "cells": [
  {
   "cell_type": "code",
   "execution_count": 1,
   "metadata": {},
   "outputs": [],
   "source": [
    "import os\n",
    "import sys\n",
    "sys.path.append(os.path.realpath('../..'))\n",
    "import aoc\n",
    "my_aoc = aoc.AdventOfCode(2021,16)\n",
    "from solution import *"
   ]
  },
  {
   "cell_type": "code",
   "execution_count": 2,
   "metadata": {},
   "outputs": [],
   "source": [
    "test_cases = [\n",
    "    {\n",
    "        \"hex\": \"8A004A801A8002F478\",\n",
    "        \"version_sum\": 16\n",
    "    },\n",
    "    {\n",
    "        \"hex\": \"620080001611562C8802118E34\",\n",
    "        \"version_sum\": 12\n",
    "    },\n",
    "    {\n",
    "        \"hex\": \"C0015000016115A2E0802F182340\",\n",
    "        \"version_sum\": 23\n",
    "    },\n",
    "    {\n",
    "        \"hex\": \"A0016C880162017C3686B18A3D4780\",\n",
    "        \"version_sum\": 31\n",
    "    },\n",
    "]"
   ]
  },
  {
   "cell_type": "code",
   "execution_count": null,
   "metadata": {},
   "outputs": [],
   "source": []
  },
  {
   "cell_type": "code",
   "execution_count": 3,
   "metadata": {},
   "outputs": [
    {
     "name": "stdout",
     "output_type": "stream",
     "text": [
      "{'packet_version': 6, 'packet_type': 4, 'value': 2021} 000\n",
      "{'packet_version': 1, 'packet_type': 6, 'length_type': '0', 'payload_length': 27, 'payload': '110100010100101001000100100', 'packets': [{'packet_version': 6, 'packet_type': 4, 'value': 10}, {'packet_version': 2, 'packet_type': 4, 'value': 20}]} 0000000\n"
     ]
    }
   ],
   "source": [
    "\n",
    "packet, remainder_string = parse_packet('D2FE28')\n",
    "print(packet, remainder_string)\n",
    "hex_string = '38006F45291200'\n",
    "packet, remainder_string = parse_packet(hex_string)\n",
    "print(packet, remainder_string)\n",
    "#                       110100010100101001000100100\n",
    "# 00111000000000000110111101000101001010010001001000000000\n",
    "# VVVTTTILLLLLLLLLLLLLLLAAAAAAAAAAABBBBBBBBBBBBBBBB"
   ]
  },
  {
   "cell_type": "code",
   "execution_count": 4,
   "metadata": {},
   "outputs": [
    {
     "name": "stdout",
     "output_type": "stream",
     "text": [
      "test_case: 0, version_sum: 16, success: True\n",
      "test_case: 1, version_sum: 12, success: True\n",
      "test_case: 2, version_sum: 23, success: True\n",
      "test_case: 3, version_sum: 31, success: True\n"
     ]
    }
   ],
   "source": [
    "for idx, test_case in enumerate(test_cases):\n",
    "    # print(test_case)\n",
    "    packets = []\n",
    "    remainder_string = test_case['hex']\n",
    "    while '1' in remainder_string:\n",
    "        packet, remainder_string = parse_packet(remainder_string)\n",
    "        packets.append(packet)\n",
    "    # print(packets)\n",
    "    versions = get_packet_versions(packets)\n",
    "    # print(versions)\n",
    "    print(f\"test_case: {idx}, version_sum: {sum(versions)}, success: {sum(versions) == test_case['version_sum']}\")"
   ]
  },
  {
   "cell_type": "code",
   "execution_count": 5,
   "metadata": {},
   "outputs": [],
   "source": [
    "test_cases_2 = [\n",
    "    {\n",
    "        \"hex\": \"C200B40A82\",\n",
    "        \"result\": 3\n",
    "    },\n",
    "    {\n",
    "        \"hex\": \"04005AC33890\",\n",
    "        \"result\": 54\n",
    "    },\n",
    "    {\n",
    "        \"hex\": \"880086C3E88112\",\n",
    "        \"result\": 7\n",
    "    },\n",
    "    {\n",
    "        \"hex\": \"CE00C43D881120\",\n",
    "        \"result\": 9\n",
    "    },\n",
    "    {\n",
    "        \"hex\": \"D8005AC2A8F0\",\n",
    "        \"result\": 1\n",
    "    },\n",
    "    {\n",
    "        \"hex\": \"F600BC2D8F\",\n",
    "        \"result\": 0\n",
    "    },\n",
    "    {\n",
    "        \"hex\": \"9C005AC2F8F0\",\n",
    "        \"result\": 0\n",
    "    },\n",
    "    {\n",
    "        \"hex\": \"9C0141080250320F1802104A08\",\n",
    "        \"result\": 1\n",
    "    }\n",
    "]"
   ]
  },
  {
   "cell_type": "code",
   "execution_count": 6,
   "metadata": {},
   "outputs": [
    {
     "name": "stdout",
     "output_type": "stream",
     "text": [
      "0: C200B40A82 value 3, True\n",
      "1: 04005AC33890 value 54, True\n",
      "2: 880086C3E88112 value 7, True\n",
      "3: CE00C43D881120 value 9, True\n",
      "4: D8005AC2A8F0 value 1, True\n",
      "5: F600BC2D8F value 0, True\n",
      "6: 9C005AC2F8F0 value 0, True\n",
      "7: 9C0141080250320F1802104A08 value 1, True\n"
     ]
    }
   ],
   "source": [
    "for idx, test_case in enumerate(test_cases_2):\n",
    "    hex_string = test_case['hex']\n",
    "    packet, _ = parse_packet(hex_string)\n",
    "    result = execute_packet(packet)\n",
    "    print(f\"{idx}: {hex_string} value {result}, {result == test_case['result']}\")"
   ]
  },
  {
   "cell_type": "code",
   "execution_count": null,
   "metadata": {},
   "outputs": [],
   "source": []
  }
 ],
 "metadata": {
  "kernelspec": {
   "display_name": "base",
   "language": "python",
   "name": "python3"
  },
  "language_info": {
   "codemirror_mode": {
    "name": "ipython",
    "version": 3
   },
   "file_extension": ".py",
   "mimetype": "text/x-python",
   "name": "python",
   "nbconvert_exporter": "python",
   "pygments_lexer": "ipython3",
   "version": "3.11.7"
  }
 },
 "nbformat": 4,
 "nbformat_minor": 4
}
