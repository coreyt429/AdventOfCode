{
 "cells": [
  {
   "cell_type": "code",
   "execution_count": 1,
   "metadata": {},
   "outputs": [],
   "source": [
    "import os\n",
    "import sys\n",
    "sys.path.append(os.path.realpath('../..'))\n",
    "import aoc\n",
    "my_aoc = aoc.AdventOfCode(2021,12)\n",
    "from solution import build_cave_map, find_paths"
   ]
  },
  {
   "cell_type": "code",
   "execution_count": 2,
   "metadata": {},
   "outputs": [],
   "source": [
    "test_cases = [\n",
    "    {\n",
    "        \"text\": \"\"\"start-A\n",
    "start-b\n",
    "A-c\n",
    "A-b\n",
    "b-d\n",
    "A-end\n",
    "b-end\"\"\",\n",
    "        \"paths\": 10,\n",
    "        \"paths_2\": 36\n",
    "    },\n",
    "    {\n",
    "        \"text\": \"\"\"dc-end\n",
    "HN-start\n",
    "start-kj\n",
    "dc-start\n",
    "dc-HN\n",
    "LN-dc\n",
    "HN-end\n",
    "kj-sa\n",
    "kj-HN\n",
    "kj-dc\"\"\",\n",
    "        \"paths\": 19,\n",
    "        \"paths_2\": 103\n",
    "    },\n",
    "    {\n",
    "        \"text\": \"\"\"fs-end\n",
    "he-DX\n",
    "fs-he\n",
    "start-DX\n",
    "pj-DX\n",
    "end-zg\n",
    "zg-sl\n",
    "zg-pj\n",
    "pj-he\n",
    "RW-he\n",
    "fs-DX\n",
    "pj-RW\n",
    "zg-RW\n",
    "start-pj\n",
    "he-WI\n",
    "zg-he\n",
    "pj-fs\n",
    "start-RW\"\"\",\n",
    "        \"paths\": 226,\n",
    "        \"paths_2\": 3509\n",
    "    },\n",
    "]"
   ]
  },
  {
   "cell_type": "code",
   "execution_count": null,
   "metadata": {},
   "outputs": [],
   "source": []
  },
  {
   "cell_type": "code",
   "execution_count": 3,
   "metadata": {},
   "outputs": [
    {
     "name": "stdout",
     "output_type": "stream",
     "text": [
      "10 == 10: True\n",
      "19 == 19: True\n",
      "226 == 226: True\n"
     ]
    }
   ],
   "source": [
    "for test_case in test_cases:\n",
    "    cave_map = build_cave_map(test_case['text'].splitlines())\n",
    "    # print(cave_map)\n",
    "    paths = find_paths(cave_map)\n",
    "    path_count = len(paths)\n",
    "    print(f\"{path_count} == {test_case['paths']}: {path_count == test_case['paths']}\")\n",
    "    # print(f\"{len(paths)}:\")\n",
    "    # for path in paths:\n",
    "    #     print(f\"  {path}\")\n",
    "    "
   ]
  },
  {
   "cell_type": "code",
   "execution_count": 6,
   "metadata": {},
   "outputs": [
    {
     "name": "stdout",
     "output_type": "stream",
     "text": [
      "36 == 36: True\n",
      "103 == 103: True\n",
      "3509 == 3509: True\n"
     ]
    }
   ],
   "source": [
    "for test_case in test_cases:\n",
    "    cave_map = build_cave_map(test_case['text'].splitlines())\n",
    "    # print(cave_map)\n",
    "    paths = find_paths(cave_map, mode=2)\n",
    "    path_count = len(paths)\n",
    "    print(f\"{path_count} == {test_case['paths_2']}: {path_count == test_case['paths_2']}\")"
   ]
  },
  {
   "cell_type": "code",
   "execution_count": 5,
   "metadata": {},
   "outputs": [
    {
     "name": "stdout",
     "output_type": "stream",
     "text": [
      "Counter({'A': 4, 'b': 2, 'start': 1, 'c': 1, 'end': 1})\n"
     ]
    }
   ],
   "source": [
    "from collections import Counter\n",
    "\n",
    "\n",
    "counts = Counter('start,A,b,A,c,A,b,A,end'.split(','))\n",
    "print(counts)"
   ]
  },
  {
   "cell_type": "code",
   "execution_count": null,
   "metadata": {},
   "outputs": [],
   "source": []
  }
 ],
 "metadata": {
  "kernelspec": {
   "display_name": "base",
   "language": "python",
   "name": "python3"
  },
  "language_info": {
   "codemirror_mode": {
    "name": "ipython",
    "version": 3
   },
   "file_extension": ".py",
   "mimetype": "text/x-python",
   "name": "python",
   "nbconvert_exporter": "python",
   "pygments_lexer": "ipython3",
   "version": "3.11.7"
  }
 },
 "nbformat": 4,
 "nbformat_minor": 4
}
