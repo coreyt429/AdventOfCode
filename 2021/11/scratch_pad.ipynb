{
 "cells": [
  {
   "cell_type": "code",
   "execution_count": 1,
   "metadata": {},
   "outputs": [],
   "source": [
    "import os\n",
    "import sys\n",
    "sys.path.append(os.path.realpath('../..'))\n",
    "import aoc\n",
    "my_aoc = aoc.AdventOfCode(2021,11)\n",
    "from grid import Grid"
   ]
  },
  {
   "cell_type": "code",
   "execution_count": 2,
   "metadata": {},
   "outputs": [],
   "source": [
    "input_text = \"\"\"5483143223\n",
    "2745854711\n",
    "5264556173\n",
    "6141336146\n",
    "6357385478\n",
    "4167524645\n",
    "2176841721\n",
    "6882881134\n",
    "4846848554\n",
    "5283751526\"\"\""
   ]
  },
  {
   "cell_type": "code",
   "execution_count": 12,
   "metadata": {},
   "outputs": [],
   "source": [
    "def convert_to_ints(grid):\n",
    "    \"\"\"convert char to int\"\"\"\n",
    "    for point in grid:\n",
    "        grid.set_point(point, int(grid.get_point(point)))\n",
    "\n",
    "def run_step(grid):\n",
    "    \"\"\"calculate octopus energy for a step\"\"\"\n",
    "    flashed = set()\n",
    "    can_flash = []\n",
    "    # First, the energy level of each octopus increases by 1\n",
    "    for point in grid:\n",
    "        grid.set_point(point, grid.get_point(point) + 1)\n",
    "    \n",
    "    for point in grid:\n",
    "        if grid.get_point(point) > 9:\n",
    "            can_flash.append(point)\n",
    "    \n",
    "    # This process continues as long as new octopuses keep having their energy level increased beyond 9. \n",
    "    while can_flash:\n",
    "        point = can_flash.pop(0)\n",
    "        # (An octopus can only flash at most once per step.)\n",
    "        if point in flashed:\n",
    "            continue\n",
    "        # Then, any octopus with an energy level greater than 9 flashes.\n",
    "        # This increases the energy level of all adjacent octopuses by 1,\n",
    "        # including octopuses that are diagonally adjacent.\n",
    "        # If this causes an octopus to have an energy level greater than 9, it also flashes.\n",
    "        # This process continues as long as new octopuses keep having their energy level increased beyond 9. \n",
    "        neighbors = grid.get_neighbors(point=point)\n",
    "        # print(f\"flashing: {point}, neighbors: {neighbors}\")\n",
    "        for neighbor in neighbors.values():\n",
    "            grid.set_point(neighbor, grid.get_point(neighbor) + 1)\n",
    "            # If this causes an octopus to have an energy level greater than 9, it also flashes.\n",
    "            if grid.get_point(neighbor) > 9:\n",
    "                can_flash.append(neighbor)\n",
    "        flashed.add(point)\n",
    "    # Finally, any octopus that flashed during this step has its energy level set to 0,\n",
    "    #  as it used all of its energy to flash.\n",
    "    for point in flashed:\n",
    "        grid.set_point(point, 0)\n",
    "\n",
    "    return len(flashed)\n",
    "\n",
    "    "
   ]
  },
  {
   "cell_type": "code",
   "execution_count": 14,
   "metadata": {},
   "outputs": [
    {
     "name": "stdout",
     "output_type": "stream",
     "text": [
      "1656\n"
     ]
    }
   ],
   "source": [
    "grid = Grid(input_text, use_overrides=False)\n",
    "convert_to_ints(grid)\n",
    "# print(f\"Before any steps:\\n{grid}\\n\")\n",
    "flashes = 0\n",
    "for step in range(1, 100 + 1):\n",
    "    flashes += run_step(grid)\n",
    "    # print(f\"After step {step}:\\n{grid}\\n\")\n",
    "print(flashes)\n",
    "\n"
   ]
  },
  {
   "cell_type": "code",
   "execution_count": 5,
   "metadata": {},
   "outputs": [
    {
     "data": {
      "text/plain": [
       "{'e': (5, 1)}"
      ]
     },
     "execution_count": 5,
     "metadata": {},
     "output_type": "execute_result"
    }
   ],
   "source": [
    "grid.get_neighbors(point=(4,1), directions='e')"
   ]
  },
  {
   "cell_type": "code",
   "execution_count": 6,
   "metadata": {},
   "outputs": [
    {
     "name": "stdout",
     "output_type": "stream",
     "text": [
      "8807476555\n",
      "5089087054\n",
      "8597889608\n",
      "8485769600\n",
      "8700908800\n",
      "6600088989\n",
      "6800005943\n",
      "0000007456\n",
      "9000000876\n",
      "8700006848\n"
     ]
    }
   ],
   "source": [
    "print(grid)"
   ]
  },
  {
   "cell_type": "code",
   "execution_count": 7,
   "metadata": {},
   "outputs": [
    {
     "data": {
      "text/plain": [
       "{'coordinate_system': 'screen',\n",
       " 'datastore': 'dict',\n",
       " 'type': 'bounded',\n",
       " 'default_value': ' ',\n",
       " 'ob_default_value': '%',\n",
       " 'pos_type': 'tuple',\n",
       " 'use_overrides': False,\n",
       " 'pos_token': '*',\n",
       " 'min': [0, 0],\n",
       " 'max': [9, 9]}"
      ]
     },
     "execution_count": 7,
     "metadata": {},
     "output_type": "execute_result"
    }
   ],
   "source": [
    "grid.cfg"
   ]
  },
  {
   "cell_type": "code",
   "execution_count": null,
   "metadata": {},
   "outputs": [],
   "source": []
  }
 ],
 "metadata": {
  "kernelspec": {
   "display_name": "base",
   "language": "python",
   "name": "python3"
  },
  "language_info": {
   "codemirror_mode": {
    "name": "ipython",
    "version": 3
   },
   "file_extension": ".py",
   "mimetype": "text/x-python",
   "name": "python",
   "nbconvert_exporter": "python",
   "pygments_lexer": "ipython3",
   "version": "3.11.7"
  }
 },
 "nbformat": 4,
 "nbformat_minor": 4
}
