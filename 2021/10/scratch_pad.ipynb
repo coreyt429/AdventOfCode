{
 "cells": [
  {
   "cell_type": "code",
   "execution_count": 1,
   "metadata": {},
   "outputs": [],
   "source": [
    "import os\n",
    "import sys\n",
    "sys.path.append(os.path.realpath('../..'))\n",
    "import aoc\n",
    "my_aoc = aoc.AdventOfCode(2021,10)\n",
    "from solution import is_corrupted, auto_complete"
   ]
  },
  {
   "cell_type": "code",
   "execution_count": 2,
   "metadata": {},
   "outputs": [],
   "source": [
    "input_text = \"\"\"[({(<(())[]>[[{[]{<()<>>\n",
    "[(()[<>])]({[<{<<[]>>(\n",
    "{([(<{}[<>[]}>{[]{[(<()>\n",
    "(((({<>}<{<{<>}{[]{[]{}\n",
    "[[<[([]))<([[{}[[()]]]\n",
    "[{[{({}]{}}([{[{{{}}([]\n",
    "{<[[]]>}<{[{[{[]{()[[[]\n",
    "[<(<(<(<{}))><([]([]()\n",
    "<{([([[(<>()){}]>(<<{{\n",
    "<{([{{}}[<[[[<>{}]]]>[]]\"\"\""
   ]
  },
  {
   "cell_type": "code",
   "execution_count": 3,
   "metadata": {},
   "outputs": [
    {
     "name": "stdout",
     "output_type": "stream",
     "text": [
      "[({(<(())[]>[[{[]{<()<>> False\n",
      "[(()[<>])]({[<{<<[]>>( False\n",
      "{([(<{}[<>[]}>{[]{[(<()> False\n",
      "(((({<>}<{<{<>}{[]{[]{} False\n",
      "[[<[([]))<([[{}[[()]]] False\n",
      "[{[{({}]{}}([{[{{{}}([] False\n",
      "{<[[]]>}<{[{[{[]{()[[[] False\n",
      "[<(<(<(<{}))><([]([]() False\n",
      "<{([([[(<>()){}]>(<<{{ False\n",
      "<{([{{}}[<[[[<>{}]]]>[]] False\n"
     ]
    }
   ],
   "source": [
    "counts = {}\n",
    "pairs = ['()', '[]', '{}', '<>']\n",
    "for char in '()[]{}<>':\n",
    "    counts[char] = 0\n",
    "\n",
    "for line in input_text.splitlines():\n",
    "    valid = True\n",
    "    for char in counts:\n",
    "        counts[char] = line.count(char)\n",
    "    for pair in pairs:\n",
    "        if counts[pair[0]] != counts[pair[1]]:\n",
    "            valid = False\n",
    "    print(line, valid)\n",
    "\n",
    "# this method fails to find corrupted lines because it also matches incomplete lines"
   ]
  },
  {
   "cell_type": "code",
   "execution_count": 4,
   "metadata": {},
   "outputs": [
    {
     "name": "stdout",
     "output_type": "stream",
     "text": [
      "26397\n"
     ]
    }
   ],
   "source": [
    "\n",
    "points = {\n",
    "    ')': 3,\n",
    "    ']': 57,\n",
    "    '}': 1197,\n",
    "    '>': 25137\n",
    "}\n",
    "score = 0\n",
    "for line in input_text.splitlines():\n",
    "    corrupted, bad_char = is_corrupted(line)\n",
    "    if corrupted:\n",
    "        score += points[bad_char]\n",
    "print(score)\n",
    "        \n",
    "\n"
   ]
  },
  {
   "cell_type": "code",
   "execution_count": 12,
   "metadata": {},
   "outputs": [
    {
     "name": "stdout",
     "output_type": "stream",
     "text": [
      "[294, 5566, 288957, 995444, 1480781]\n",
      "288957\n"
     ]
    }
   ],
   "source": [
    "\n",
    "scores = []\n",
    "for line in input_text.splitlines():\n",
    "    corrupted, bad_char = is_corrupted(line)\n",
    "    if not corrupted:\n",
    "        auto_complete_ending, score = auto_complete(line)\n",
    "        scores.append(score)\n",
    "\n",
    "scores.sort()\n",
    "print(scores)\n",
    "print(scores[len(scores) // 2])"
   ]
  },
  {
   "cell_type": "code",
   "execution_count": null,
   "metadata": {},
   "outputs": [],
   "source": []
  }
 ],
 "metadata": {
  "kernelspec": {
   "display_name": "base",
   "language": "python",
   "name": "python3"
  },
  "language_info": {
   "codemirror_mode": {
    "name": "ipython",
    "version": 3
   },
   "file_extension": ".py",
   "mimetype": "text/x-python",
   "name": "python",
   "nbconvert_exporter": "python",
   "pygments_lexer": "ipython3",
   "version": "3.11.7"
  }
 },
 "nbformat": 4,
 "nbformat_minor": 4
}
