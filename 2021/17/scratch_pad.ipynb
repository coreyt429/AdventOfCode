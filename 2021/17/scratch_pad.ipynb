{
 "cells": [
  {
   "cell_type": "code",
   "execution_count": 1,
   "metadata": {},
   "outputs": [],
   "source": [
    "import os\n",
    "import sys\n",
    "sys.path.append(os.path.realpath('../..'))\n",
    "import aoc\n",
    "my_aoc = aoc.AdventOfCode(2021,17)\n",
    "from solution import *"
   ]
  },
  {
   "cell_type": "code",
   "execution_count": 2,
   "metadata": {},
   "outputs": [],
   "source": [
    "input_text = \"\"\"target area: x=20..30, y=-10..-5\"\"\""
   ]
  },
  {
   "cell_type": "code",
   "execution_count": null,
   "metadata": {},
   "outputs": [],
   "source": []
  },
  {
   "cell_type": "code",
   "execution_count": null,
   "metadata": {},
   "outputs": [
    {
     "name": "stdout",
     "output_type": "stream",
     "text": [
      "target: {'x': [20, 30], 'y': [-10, -5]}\n",
      "start_x: 6, stop_x: 30\n",
      "start_y: -10, stop_y: 10\n",
      "Max y value: 45\n",
      "Successes: 112\n",
      "coordinates: 112\n",
      "missing: set()\n",
      "(7, -1) (True, 0, -10, (22, -10), {(7, -1), (0, 0), (13, -3), (18, -6), (22, -10)})\n",
      "(6, 0) (True, 0, -10, (20, -10), {(0, 0), (18, -6), (15, -3), (20, -10), (6, 0), (11, -1)})\n"
     ]
    }
   ],
   "source": [
    "target = parse_data(input_text)\n",
    "print(f\"target: {target}\")\n",
    "start_x = find_min_x(target)\n",
    "stop_x = target['x'][1]\n",
    "start_y = min(target['y'])\n",
    "stop_y = abs(min(target['y']))\n",
    "print(f\"start_x: {start_x}, stop_x: {stop_x}\")\n",
    "print(f\"start_y: {start_y}, stop_y: {stop_y}\")\n",
    "\n",
    "# List of tuples provided by the user\n",
    "coordinates = set([\n",
    "    (23, -10), (25, -9), (27, -5), (29, -6), (22, -6), (21, -7), (9, 0), (27, -7), (24, -5),\n",
    "    (25, -7), (26, -6), (25, -5), (6, 8), (11, -2), (20, -5), (29, -10), (6, 3), (28, -7),\n",
    "    (8, 0), (30, -6), (29, -8), (20, -10), (6, 7), (6, 4), (6, 1), (14, -4), (21, -6),\n",
    "    (26, -10), (7, -1), (7, 7), (8, -1), (21, -9), (6, 2), (20, -7), (30, -10), (14, -3),\n",
    "    (20, -8), (13, -2), (7, 3), (28, -8), (29, -9), (15, -3), (22, -5), (26, -8), (25, -8),\n",
    "    (25, -6), (15, -4), (9, -2), (15, -2), (12, -2), (28, -9), (12, -3), (24, -6), (23, -7),\n",
    "    (25, -10), (7, 8), (11, -3), (26, -7), (7, 1), (23, -9), (6, 0), (22, -10), (27, -6),\n",
    "    (8, 1), (22, -8), (13, -4), (7, 6), (28, -6), (11, -4), (12, -4), (26, -9), (7, 4),\n",
    "    (24, -10), (23, -8), (30, -8), (7, 0), (9, -1), (10, -1), (26, -5), (22, -9), (6, 5),\n",
    "    (7, 5), (23, -6), (28, -10), (10, -2), (11, -1), (20, -9), (14, -2), (29, -7), (13, -3),\n",
    "    (23, -5), (24, -8), (27, -9), (30, -7), (28, -5), (21, -10), (7, 9), (6, 6), (21, -5),\n",
    "    (27, -10), (7, 2), (30, -9), (21, -8), (22, -7), (24, -9), (20, -6), (6, 9), (29, -5),\n",
    "    (8, -2), (27, -8), (30, -5), (24, -7)\n",
    "])\n",
    "\n",
    "\n",
    "goal = 0\n",
    "successes = set()\n",
    "for x_val in range(start_x, stop_x + 1):\n",
    "    for y_val in range(start_y, stop_y + 1):\n",
    "        velocity = (x_val, y_val)\n",
    "        success, max_y, min_y, point = trace_path(velocity, target)\n",
    "        # print(velocity, success, max_y, min_y, point)\n",
    "        if success:\n",
    "            successes.add((x_val, y_val))\n",
    "            goal = max(max_y, goal)\n",
    "print(f\"Max y value: {goal}\")\n",
    "print(f\"Successes: {len(successes)}\")\n",
    "print(f\"coordinates: {len(coordinates)}\")\n",
    "print(f\"missing: {coordinates.difference(successes)}\")\n",
    "\n",
    "print((7,-1), trace_path((7,-1), target))\n",
    "print((6,0), trace_path((6,0), target))\n"
   ]
  },
  {
   "cell_type": "code",
   "execution_count": null,
   "metadata": {},
   "outputs": [],
   "source": []
  }
 ],
 "metadata": {
  "kernelspec": {
   "display_name": "base",
   "language": "python",
   "name": "python3"
  },
  "language_info": {
   "codemirror_mode": {
    "name": "ipython",
    "version": 3
   },
   "file_extension": ".py",
   "mimetype": "text/x-python",
   "name": "python",
   "nbconvert_exporter": "python",
   "pygments_lexer": "ipython3",
   "version": "3.11.7"
  }
 },
 "nbformat": 4,
 "nbformat_minor": 4
}
