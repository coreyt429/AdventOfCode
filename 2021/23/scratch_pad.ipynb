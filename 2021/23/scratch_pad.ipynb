{
 "cells": [
  {
   "cell_type": "code",
   "execution_count": 1,
   "metadata": {},
   "outputs": [],
   "source": [
    "import os\n",
    "import sys\n",
    "sys.path.append(os.path.realpath('../..'))\n",
    "import aoc\n",
    "my_aoc = aoc.AdventOfCode(2021,23)\n",
    "from solution import *"
   ]
  },
  {
   "cell_type": "code",
   "execution_count": 2,
   "metadata": {},
   "outputs": [],
   "source": [
    "test_cases = [\n",
    "    {\n",
    "        \"init_state\": \"\"\"#############\n",
    "#...........#\n",
    "###B#C#B#D###\n",
    "  #A#D#C#A#\n",
    "  #########\"\"\",\n",
    "    \"min_energy\": 12521\n",
    "    },\n",
    "    {\n",
    "        \"init_state\": \"\"\"#############\n",
    "#...........#\n",
    "###B#B#D#A###\n",
    "  #D#C#A#C#\n",
    "  #########\"\"\",\n",
    "    \"min_energy\": 0\n",
    "    }\n",
    "]"
   ]
  },
  {
   "cell_type": "code",
   "execution_count": null,
   "metadata": {},
   "outputs": [],
   "source": [
    "\n"
   ]
  },
  {
   "cell_type": "code",
   "execution_count": null,
   "metadata": {},
   "outputs": [],
   "source": [
    "\n"
   ]
  },
  {
   "cell_type": "code",
   "execution_count": 3,
   "metadata": {},
   "outputs": [
    {
     "name": "stdout",
     "output_type": "stream",
     "text": [
      "min_energy_spent: 12521\n",
      "min_energy_spent 2: 44169\n"
     ]
    }
   ],
   "source": [
    "\n",
    "\n",
    "for test_case in test_cases[:1]:\n",
    "    hallway, rooms = parse_input(test_case['init_state'].splitlines())\n",
    "    min_energy_spent = find_min_energy(hallway, rooms)\n",
    "    print(f\"min_energy_spent: {min_energy_spent}\")\n",
    "    min_energy_spent = find_min_energy(hallway, rooms, 2)\n",
    "    print(f\"min_energy_spent 2: {min_energy_spent}\")\n",
    "\n",
    "\n",
    "\n",
    "\n",
    "\n",
    "\n",
    "\n",
    "\n"
   ]
  },
  {
   "cell_type": "code",
   "execution_count": 4,
   "metadata": {},
   "outputs": [
    {
     "name": "stdout",
     "output_type": "stream",
     "text": [
      "[['B', 'A'], ['C', 'D'], ['B', 'C'], ['D', 'A']]\n",
      "(('B', 'A'), ('C', 'D'), ('B', 'C'), ('D', 'A'))\n"
     ]
    }
   ],
   "source": [
    "rooms = (('B', 'A'), ('C', 'D'), ('B', 'C'), ('D', 'A'))\n",
    "tmp_rooms = [list(room) for room in rooms]\n",
    "print(tmp_rooms)\n",
    "new_rooms = tuple(tuple(room) for room in tmp_rooms)\n",
    "print(new_rooms)"
   ]
  },
  {
   "cell_type": "code",
   "execution_count": 5,
   "metadata": {},
   "outputs": [
    {
     "name": "stdout",
     "output_type": "stream",
     "text": [
      "(1, 2, 3)\n"
     ]
    }
   ],
   "source": [
    "a = (1,2)\n",
    "b = (*a,3)\n",
    "print(b)"
   ]
  },
  {
   "cell_type": "code",
   "execution_count": 6,
   "metadata": {},
   "outputs": [
    {
     "data": {
      "text/plain": [
       "('.', '.')"
      ]
     },
     "execution_count": 6,
     "metadata": {},
     "output_type": "execute_result"
    }
   ],
   "source": [
    "('.',)*2"
   ]
  },
  {
   "cell_type": "code",
   "execution_count": 7,
   "metadata": {},
   "outputs": [
    {
     "name": "stdout",
     "output_type": "stream",
     "text": [
      "[('.', '.'), ('.', 'A'), ('A', '.'), ('A', 'A')]\n"
     ]
    }
   ],
   "source": [
    "import itertools\n",
    "\n",
    "occupant = 'A'\n",
    "max_slot = 1\n",
    "room_clear = itertools.combinations_with_replacement((occupant, '.'), max_slot + 1)\n",
    "\n",
    "# Generate permutations of each combination to get all orderings\n",
    "all_permutations = set(itertools.permutations(item) for item in room_clear)\n",
    "\n",
    "# Flatten and print the results\n",
    "print(sorted(set(itertools.chain.from_iterable(all_permutations))))\n"
   ]
  },
  {
   "cell_type": "code",
   "execution_count": 8,
   "metadata": {},
   "outputs": [
    {
     "name": "stdout",
     "output_type": "stream",
     "text": [
      "(('A', 'A'), ('B', 'B'), ('C', 'C'), ('D', 'D'))\n",
      "(('A', 'A', 'A', 'A'), ('B', 'B', 'B', 'B'), ('C', 'C', 'C', 'C'), ('D', 'D', 'D', 'D'))\n"
     ]
    }
   ],
   "source": [
    "for max_slot in (1,3):\n",
    "    print((('A',)*(max_slot+1), ('B',)*(max_slot+1), ('C',)*(max_slot+1), ('D',)*(max_slot+1)))"
   ]
  },
  {
   "cell_type": "code",
   "execution_count": 9,
   "metadata": {},
   "outputs": [
    {
     "name": "stdout",
     "output_type": "stream",
     "text": [
      "(('A', 'A'), ('B', 'B'), ('C', 'C'), ('D', 'D'))\n",
      "(('A', 'A'), ('B', 'B'), ('C', 'C'), ('D', 'D'))\n",
      "(('A', 'A', 'A', 'A'), ('B', 'B', 'B', 'B'), ('C', 'C', 'C', 'C'), ('D', 'D', 'D', 'D'))\n",
      "(('A', 'A', 'A', 'A'), ('B', 'B', 'B', 'B'), ('C', 'C', 'C', 'C'), ('D', 'D', 'D', 'D'))\n"
     ]
    }
   ],
   "source": [
    "for max_slot in (1,3):\n",
    "    win = tuple((char,)*(max_slot+1) for char in 'ABCD')\n",
    "    print(win)\n",
    "    print((('A',)*(max_slot+1), ('B',)*(max_slot+1), ('C',)*(max_slot+1), ('D',)*(max_slot+1)))"
   ]
  },
  {
   "cell_type": "code",
   "execution_count": null,
   "metadata": {},
   "outputs": [],
   "source": []
  }
 ],
 "metadata": {
  "kernelspec": {
   "display_name": "base",
   "language": "python",
   "name": "python3"
  },
  "language_info": {
   "codemirror_mode": {
    "name": "ipython",
    "version": 3
   },
   "file_extension": ".py",
   "mimetype": "text/x-python",
   "name": "python",
   "nbconvert_exporter": "python",
   "pygments_lexer": "ipython3",
   "version": "3.11.7"
  }
 },
 "nbformat": 4,
 "nbformat_minor": 4
}
