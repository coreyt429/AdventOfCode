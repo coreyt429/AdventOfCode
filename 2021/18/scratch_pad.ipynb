{
 "cells": [
  {
   "cell_type": "code",
   "execution_count": null,
   "metadata": {},
   "outputs": [],
   "source": [
    "import os\n",
    "import sys\n",
    "sys.path.append(os.path.realpath('../..'))\n",
    "import aoc\n",
    "my_aoc = aoc.AdventOfCode(2021,18)\n",
    "\n",
    "from solution import *"
   ]
  },
  {
   "cell_type": "code",
   "execution_count": null,
   "metadata": {},
   "outputs": [],
   "source": []
  },
  {
   "cell_type": "code",
   "execution_count": 144,
   "metadata": {},
   "outputs": [
    {
     "name": "stdout",
     "output_type": "stream",
     "text": [
      "1384\n"
     ]
    }
   ],
   "source": [
    "new_string = \"[[[[0,7],4],[[7,8],[6,0]]],[8,1]]\"\n",
    "magnitude = calc_magnitude(new_string)\n",
    "\n",
    "\n",
    "print(magnitude)"
   ]
  },
  {
   "cell_type": "code",
   "execution_count": 148,
   "metadata": {},
   "outputs": [
    {
     "name": "stdout",
     "output_type": "stream",
     "text": [
      "[[1,2],[[3,4],5]] 143 True\n",
      "[[[[0,7],4],[[7,8],[6,0]]],[8,1]] 1384 True\n",
      "[[[[1,1],[2,2]],[3,3]],[4,4]] 445 True\n",
      "[[[[3,0],[5,3]],[4,4]],[5,5]] 791 True\n",
      "[[[[5,0],[7,4]],[5,5]],[6,6]] 1137 True\n",
      "[[[[8,7],[7,7]],[[8,6],[7,7]]],[[[0,7],[6,6]],[8,7]]] 3488 True\n"
     ]
    }
   ],
   "source": [
    "test_cases = {\n",
    "        \"[[1,2],[[3,4],5]]\": 143,\n",
    "        \"[[[[0,7],4],[[7,8],[6,0]]],[8,1]]\": 1384,\n",
    "        \"[[[[1,1],[2,2]],[3,3]],[4,4]]\": 445,\n",
    "        \"[[[[3,0],[5,3]],[4,4]],[5,5]]\": 791,\n",
    "        \"[[[[5,0],[7,4]],[5,5]],[6,6]]\": 1137,\n",
    "        \"[[[[8,7],[7,7]],[[8,6],[7,7]]],[[[0,7],[6,6]],[8,7]]]\": 3488\n",
    "    }\n",
    "for new_string, answer in test_cases.items():\n",
    "    magnitude = calc_magnitude(new_string)\n",
    "    print(new_string, magnitude, magnitude == answer)\n"
   ]
  },
  {
   "cell_type": "code",
   "execution_count": 107,
   "metadata": {},
   "outputs": [
    {
     "name": "stdout",
     "output_type": "stream",
     "text": [
      "[[[[8,7],[7,7]],[[8,6],[7,7]]],[[[0,7],[6,6]],[8,7]]]\n"
     ]
    }
   ],
   "source": [
    "input_text = \"\"\"[[[0,[4,5]],[0,0]],[[[4,5],[2,6]],[9,5]]]\n",
    "[7,[[[3,7],[4,3]],[[6,3],[8,8]]]]\n",
    "[[2,[[0,8],[3,4]]],[[[6,7],1],[7,[1,6]]]]\n",
    "[[[[2,4],7],[6,[0,5]]],[[[6,8],[2,8]],[[2,1],[4,5]]]]\n",
    "[7,[5,[[3,8],[1,4]]]]\n",
    "[[2,[2,2]],[8,[8,1]]]\n",
    "[2,9]\n",
    "[1,[[[9,3],9],[[9,0],[0,7]]]]\n",
    "[[[5,[7,4]],7],1]\n",
    "[[[[4,2],2],6],[8,7]]\"\"\"\n",
    "\n",
    "snail_numbers = input_text.splitlines()\n",
    "working_number = snail_numbers.pop(0)\n",
    "while snail_numbers:\n",
    "    new_number = snail_numbers.pop(0)\n",
    "    working_number = add_snail_numbers(working_number, new_number)\n",
    "    working_number = reduce_snail_number(working_number)\n",
    "print(working_number)\n"
   ]
  },
  {
   "cell_type": "code",
   "execution_count": 149,
   "metadata": {},
   "outputs": [
    {
     "name": "stdout",
     "output_type": "stream",
     "text": [
      "[[[[6,6],[7,6]],[[7,7],[7,0]]],[[[7,7],[7,7]],[[7,8],[9,9]]]]\n",
      "4140\n"
     ]
    }
   ],
   "source": [
    "input_text = \"\"\"[[[0,[5,8]],[[1,7],[9,6]]],[[4,[1,2]],[[1,4],2]]]\n",
    "[[[5,[2,8]],4],[5,[[9,9],0]]]\n",
    "[6,[[[6,2],[5,6]],[[7,6],[4,7]]]]\n",
    "[[[6,[0,7]],[0,9]],[4,[9,[9,0]]]]\n",
    "[[[7,[6,4]],[3,[1,3]]],[[[5,5],1],9]]\n",
    "[[6,[[7,3],[3,2]]],[[[3,8],[5,7]],4]]\n",
    "[[[[5,4],[7,7]],8],[[8,3],8]]\n",
    "[[9,3],[[9,9],[6,[4,9]]]]\n",
    "[[2,[[7,7],7]],[[5,8],[[9,3],[0,2]]]]\n",
    "[[[[5,2],5],[8,[3,7]]],[[5,[7,5]],[4,4]]]\"\"\"\n",
    "\n",
    "snail_numbers = input_text.splitlines()\n",
    "working_number = snail_numbers.pop(0)\n",
    "while snail_numbers:\n",
    "    new_number = snail_numbers.pop(0)\n",
    "    working_number = add_snail_numbers(working_number, new_number)\n",
    "    working_number = reduce_snail_number(working_number)\n",
    "magnitude = calc_magnitude(working_number)\n",
    "print(working_number)\n",
    "print(magnitude)"
   ]
  },
  {
   "cell_type": "code",
   "execution_count": 150,
   "metadata": {},
   "outputs": [
    {
     "name": "stdout",
     "output_type": "stream",
     "text": [
      "3993\n"
     ]
    }
   ],
   "source": [
    "snail_numbers = input_text.splitlines()\n",
    "max_magnitude = 0\n",
    "for num_1 in snail_numbers:\n",
    "    for num_2 in snail_numbers:\n",
    "        if num_1 == num_2:\n",
    "            continue\n",
    "        working_number = add_snail_numbers(num_1, num_2)\n",
    "        working_number = reduce_snail_number(working_number)\n",
    "        max_magnitude = max(calc_magnitude(working_number), max_magnitude)\n",
    "print(max_magnitude)\n"
   ]
  },
  {
   "cell_type": "code",
   "execution_count": null,
   "metadata": {},
   "outputs": [],
   "source": []
  }
 ],
 "metadata": {
  "kernelspec": {
   "display_name": "base",
   "language": "python",
   "name": "python3"
  },
  "language_info": {
   "codemirror_mode": {
    "name": "ipython",
    "version": 3
   },
   "file_extension": ".py",
   "mimetype": "text/x-python",
   "name": "python",
   "nbconvert_exporter": "python",
   "pygments_lexer": "ipython3",
   "version": "3.11.7"
  }
 },
 "nbformat": 4,
 "nbformat_minor": 4
}
