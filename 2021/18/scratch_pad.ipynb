{
 "cells": [
  {
   "cell_type": "code",
   "execution_count": 104,
   "metadata": {},
   "outputs": [],
   "source": [
    "import os\n",
    "import sys\n",
    "sys.path.append(os.path.realpath('../..'))\n",
    "import aoc\n",
    "my_aoc = aoc.AdventOfCode(2021,18)"
   ]
  },
  {
   "cell_type": "code",
   "execution_count": null,
   "metadata": {},
   "outputs": [],
   "source": [
    "import re\n",
    "\n",
    "pattern_digit = re.compile(r'(\\d+)')\n",
    "\n",
    "def add_snail_numbers(left, right):\n",
    "    \"\"\"Function to add two snail numbers\"\"\"\n",
    "    return f\"[{left},{right}]\"\n",
    "\n",
    "def can_explode(string):\n",
    "    \"\"\"Function to identify the exploding pair if any\"\"\"\n",
    "    max_depth = 0\n",
    "    depth = 0\n",
    "    for idx, char in enumerate(string):\n",
    "        if char == '[':\n",
    "            depth += 1\n",
    "            max_depth = max(depth, max_depth)\n",
    "            if max_depth > 4:\n",
    "                return True, idx\n",
    "            continue\n",
    "        if char == ']':\n",
    "            depth -= 1\n",
    "    return False, 0\n",
    "\n",
    "def add_explode_num(string, num, left=False):\n",
    "    \"\"\"Function to replace the first digit\"\"\"\n",
    "    nums = pattern_digit.findall(string)\n",
    "    if not nums:\n",
    "        return string\n",
    "    target_num = nums[0]\n",
    "    if left:\n",
    "        target_num = nums[-1]\n",
    "    new_num = str(int(target_num) + int(num))\n",
    "    new_string = string.replace(target_num, new_num, 1)\n",
    "    if left:\n",
    "        last_index = string.rfind(target_num)\n",
    "        if last_index != -1:\n",
    "            new_string = string[:last_index] + new_num + string[last_index + len(target_num):]\n",
    "    return new_string\n",
    "\n",
    "def explode_snail_number(string, idx):\n",
    "    \"\"\"Function to exlode a pair\"\"\"\n",
    "    left = string[:idx]\n",
    "    right = string[idx:]\n",
    "    exp_pair = right[:right.index(']') + 1]\n",
    "    right = right[len(exp_pair):]\n",
    "    exp_pair = [int(num) for num in pattern_digit.findall(exp_pair)]\n",
    "    # the pair's left value is added to the first regular number to the\n",
    "    # left of the exploding pair (if any)\n",
    "    left = add_explode_num(left, exp_pair[0], True)\n",
    "    right = add_explode_num(right, exp_pair[1])\n",
    "    return(left+'0'+right)\n",
    "\n",
    "def can_split(string):\n",
    "    \"\"\"Function to determine if a snail number can be split\"\"\"\n",
    "    # If any regular number is 10 or greater, the leftmost such regular number splits.\n",
    "    nums = [int(num) for num in pattern_digit.findall(string)]\n",
    "    for num in nums:\n",
    "        if num > 9:\n",
    "            return True, str(num)\n",
    "    return False, -1\n",
    "    \n",
    "\n",
    "def split_snail_number(string, num):\n",
    "    \"\"\"Function to split a snail number\"\"\"\n",
    "    # To split a regular number, replace it with a pair; the left element of\n",
    "    # the pair should be the regular number divided by two and rounded down,\n",
    "    # while the right element of the pair should be the regular number divided\n",
    "    # by two and rounded up. For example, 10 becomes [5,5], 11 becomes [5,6],\n",
    "    # 12 becomes [6,6], and so on.\n",
    "    idx = string.index(num)\n",
    "    left = string[:idx]\n",
    "    right = string[idx + len(num):]\n",
    "    num = int(num)\n",
    "    middle = f\"[{num//2},{num - (num //2)}]\"\n",
    "    return left + middle + right\n",
    "\n",
    "def reduce_snail_number(string):\n",
    "    working_string = string\n",
    "    changed = True\n",
    "    while changed:\n",
    "        changed = False\n",
    "        do_explode, idx = can_explode(working_string)\n",
    "        if do_explode:\n",
    "            working_string = explode_snail_number(working_string, idx)\n",
    "            changed = True\n",
    "            continue\n",
    "        do_split, num = can_split(working_string)\n",
    "        if do_split:\n",
    "            working_string = split_snail_number(working_string, num)\n",
    "            changed = True\n",
    "            continue\n",
    "    return working_string\n",
    "\n",
    "pattern_pair = re.compile(r'\\[(\\d+),(\\d+)\\]')\n",
    "def calc_magnitude(string):\n",
    "    working_string = string\n",
    "    match = pattern_pair.search(working_string)\n",
    "    magnitude = 0\n",
    "    while match:\n",
    "        span = match.span()\n",
    "        left = working_string[:span[0]]\n",
    "        right = working_string[span[1]:]\n",
    "        pair = [int(num) for num in match.groups()]\n",
    "        magnitude = pair[0]*3 + pair[1]*2\n",
    "        working_string = left + str(magnitude) + right\n",
    "        match = pattern_pair.search(working_string)\n",
    "    print(working_string)\n",
    "    return int(working_string)\n"
   ]
  },
  {
   "cell_type": "code",
   "execution_count": null,
   "metadata": {},
   "outputs": [
    {
     "name": "stdout",
     "output_type": "stream",
     "text": [
      "[[[ 14 ,4],[[7,8],[6,0]]],[8,1]]\n"
     ]
    }
   ],
   "source": [
    "new_string = \"[[[[0,7],4],[[7,8],[6,0]]],[8,1]]\"\n",
    "match = calc_magnitude(new_string)\n",
    "\n",
    "\n",
    "print(left,magnitude, right)"
   ]
  },
  {
   "cell_type": "code",
   "execution_count": 120,
   "metadata": {},
   "outputs": [
    {
     "name": "stdout",
     "output_type": "stream",
     "text": [
      "<re.Match object; span=(3, 8), match='[0,7]'>\n",
      "[[[[0,7],4],[[7,8],[6,0]]],[8,1]] None\n"
     ]
    }
   ],
   "source": [
    "new_string = add_snail_numbers(\"[[[[4,3],4],4],[7,[[8,4],9]]]\",\"[1,1]\")\n",
    "new_string = reduce_snail_number(new_string)\n",
    "magnitude = calc_magnitude(new_string)\n",
    "print(new_string, magnitude)\n"
   ]
  },
  {
   "cell_type": "code",
   "execution_count": 107,
   "metadata": {},
   "outputs": [
    {
     "name": "stdout",
     "output_type": "stream",
     "text": [
      "[[[[8,7],[7,7]],[[8,6],[7,7]]],[[[0,7],[6,6]],[8,7]]]\n"
     ]
    }
   ],
   "source": [
    "input_text = \"\"\"[[[0,[4,5]],[0,0]],[[[4,5],[2,6]],[9,5]]]\n",
    "[7,[[[3,7],[4,3]],[[6,3],[8,8]]]]\n",
    "[[2,[[0,8],[3,4]]],[[[6,7],1],[7,[1,6]]]]\n",
    "[[[[2,4],7],[6,[0,5]]],[[[6,8],[2,8]],[[2,1],[4,5]]]]\n",
    "[7,[5,[[3,8],[1,4]]]]\n",
    "[[2,[2,2]],[8,[8,1]]]\n",
    "[2,9]\n",
    "[1,[[[9,3],9],[[9,0],[0,7]]]]\n",
    "[[[5,[7,4]],7],1]\n",
    "[[[[4,2],2],6],[8,7]]\"\"\"\n",
    "\n",
    "snail_numbers = input_text.splitlines()\n",
    "working_number = snail_numbers.pop(0)\n",
    "while snail_numbers:\n",
    "    new_number = snail_numbers.pop(0)\n",
    "    working_number = add_snail_numbers(working_number, new_number)\n",
    "    working_number = reduce_snail_number(working_number)\n",
    "print(working_number)\n"
   ]
  },
  {
   "cell_type": "code",
   "execution_count": 108,
   "metadata": {},
   "outputs": [
    {
     "name": "stdout",
     "output_type": "stream",
     "text": [
      "15 [1,2,15,314,57,57,314,51,2,1]\n",
      "314 [1,2,15,314,57,57,413,15,2,1]\n",
      "57 [1,2,15,314,57,75,314,15,2,1]\n"
     ]
    }
   ],
   "source": [
    "\n",
    "for num in ('15', '314', '57'):\n",
    "    s = '[1,2,15,314,57,57,314,15,2,1]'\n",
    "    replace = num[::-1]\n",
    "    last_index = s.rfind(num)  # Find the last occurrence of '1'\n",
    "    if last_index != -1:\n",
    "        s = s[:last_index] + replace + s[last_index + len(num):]\n",
    "    print(num, s)  # Output: '1,1,1,1,2'"
   ]
  },
  {
   "cell_type": "code",
   "execution_count": null,
   "metadata": {},
   "outputs": [],
   "source": []
  }
 ],
 "metadata": {
  "kernelspec": {
   "display_name": "base",
   "language": "python",
   "name": "python3"
  },
  "language_info": {
   "codemirror_mode": {
    "name": "ipython",
    "version": 3
   },
   "file_extension": ".py",
   "mimetype": "text/x-python",
   "name": "python",
   "nbconvert_exporter": "python",
   "pygments_lexer": "ipython3",
   "version": "3.11.7"
  }
 },
 "nbformat": 4,
 "nbformat_minor": 4
}
